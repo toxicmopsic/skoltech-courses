{
  "cells": [
    {
      "cell_type": "code",
      "source": [
        "# polara\n",
        "!pip install --upgrade git+https://github.com/evfro/polara.git@develop#egg=polara\n",
        "\n",
        "# ipypb:\n",
        "!pip install ipypb\n",
        "\n",
        "!pip install lightfm"
      ],
      "metadata": {
        "colab": {
          "base_uri": "https://localhost:8080/"
        },
        "id": "oABMQkX6N91l",
        "outputId": "f4aae4f3-b684-4cdc-b6be-98a796ba5c2e"
      },
      "execution_count": 1,
      "outputs": [
        {
          "output_type": "stream",
          "name": "stdout",
          "text": [
            "Looking in indexes: https://pypi.org/simple, https://us-python.pkg.dev/colab-wheels/public/simple/\n",
            "Collecting polara\n",
            "  Cloning https://github.com/evfro/polara.git (to revision develop) to /tmp/pip-install-85ubg6u1/polara_c6639f48279246cdb23ae790ad705c63\n",
            "  Running command git clone --filter=blob:none --quiet https://github.com/evfro/polara.git /tmp/pip-install-85ubg6u1/polara_c6639f48279246cdb23ae790ad705c63\n",
            "  Running command git checkout -b develop --track origin/develop\n",
            "  Switched to a new branch 'develop'\n",
            "  Branch 'develop' set up to track remote branch 'develop' from 'origin'.\n",
            "  Resolved https://github.com/evfro/polara.git to commit 8e48cfd88e616ca53f8bbda1702a3e2c8abaf38e\n",
            "  Preparing metadata (setup.py) ... \u001b[?25l\u001b[?25hdone\n",
            "Building wheels for collected packages: polara\n",
            "  Building wheel for polara (setup.py) ... \u001b[?25l\u001b[?25hdone\n",
            "  Created wheel for polara: filename=polara-0.7.2.dev0-py3-none-any.whl size=89455 sha256=6e31ef6bee1f32ff8c9b1966b298c37be03c923dc4466f43f4b81cdd28eaeec8\n",
            "  Stored in directory: /tmp/pip-ephem-wheel-cache-cd34sg3_/wheels/d2/cf/bf/e1a3e49c4a733261d717fa4732eadf0303dabcc48ba694ad7a\n",
            "Successfully built polara\n",
            "Installing collected packages: polara\n",
            "Successfully installed polara-0.7.2.dev0\n",
            "Looking in indexes: https://pypi.org/simple, https://us-python.pkg.dev/colab-wheels/public/simple/\n",
            "Collecting ipypb\n",
            "  Downloading ipypb-0.5.2-py3-none-any.whl (8.6 kB)\n",
            "Installing collected packages: ipypb\n",
            "Successfully installed ipypb-0.5.2\n",
            "Looking in indexes: https://pypi.org/simple, https://us-python.pkg.dev/colab-wheels/public/simple/\n",
            "Collecting lightfm\n",
            "  Downloading lightfm-1.17.tar.gz (316 kB)\n",
            "\u001b[2K     \u001b[90m━━━━━━━━━━━━━━━━━━━━━━━━━━━━━━━━━━━━━━━\u001b[0m \u001b[32m316.4/316.4 KB\u001b[0m \u001b[31m2.9 MB/s\u001b[0m eta \u001b[36m0:00:00\u001b[0m\n",
            "\u001b[?25h  Preparing metadata (setup.py) ... \u001b[?25l\u001b[?25hdone\n",
            "Requirement already satisfied: numpy in /usr/local/lib/python3.9/dist-packages (from lightfm) (1.22.4)\n",
            "Requirement already satisfied: scipy>=0.17.0 in /usr/local/lib/python3.9/dist-packages (from lightfm) (1.10.1)\n",
            "Requirement already satisfied: requests in /usr/local/lib/python3.9/dist-packages (from lightfm) (2.27.1)\n",
            "Requirement already satisfied: scikit-learn in /usr/local/lib/python3.9/dist-packages (from lightfm) (1.2.2)\n",
            "Requirement already satisfied: idna<4,>=2.5 in /usr/local/lib/python3.9/dist-packages (from requests->lightfm) (3.4)\n",
            "Requirement already satisfied: urllib3<1.27,>=1.21.1 in /usr/local/lib/python3.9/dist-packages (from requests->lightfm) (1.26.15)\n",
            "Requirement already satisfied: certifi>=2017.4.17 in /usr/local/lib/python3.9/dist-packages (from requests->lightfm) (2022.12.7)\n",
            "Requirement already satisfied: charset-normalizer~=2.0.0 in /usr/local/lib/python3.9/dist-packages (from requests->lightfm) (2.0.12)\n",
            "Requirement already satisfied: threadpoolctl>=2.0.0 in /usr/local/lib/python3.9/dist-packages (from scikit-learn->lightfm) (3.1.0)\n",
            "Requirement already satisfied: joblib>=1.1.1 in /usr/local/lib/python3.9/dist-packages (from scikit-learn->lightfm) (1.1.1)\n",
            "Building wheels for collected packages: lightfm\n",
            "  Building wheel for lightfm (setup.py) ... \u001b[?25l\u001b[?25hdone\n",
            "  Created wheel for lightfm: filename=lightfm-1.17-cp39-cp39-linux_x86_64.whl size=889534 sha256=e9ff6659a340b72382c573b85eacc468ffeb7f3e1f7db2363ab59bf3d19fcdd1\n",
            "  Stored in directory: /root/.cache/pip/wheels/d8/65/93/6ac8180274dc2e8f86ff326be62da1dfa55dc158fd45faba7d\n",
            "Successfully built lightfm\n",
            "Installing collected packages: lightfm\n",
            "Successfully installed lightfm-1.17\n"
          ]
        }
      ]
    },
    {
      "cell_type": "code",
      "source": [
        "from google.colab import drive\n",
        "drive.mount('/content/drive')\n",
        "\n",
        "%cd /content/drive/MyDrive/Skoltech/RecSys/Assignment 2"
      ],
      "metadata": {
        "colab": {
          "base_uri": "https://localhost:8080/"
        },
        "id": "Qij35T-bON8S",
        "outputId": "3436e5fe-983b-419a-c01c-fd7a18e320c8"
      },
      "execution_count": 2,
      "outputs": [
        {
          "output_type": "stream",
          "name": "stdout",
          "text": [
            "Mounted at /content/drive\n",
            "/content/drive/MyDrive/Skoltech/RecSys/Assignment 2\n"
          ]
        }
      ]
    },
    {
      "cell_type": "code",
      "execution_count": 3,
      "metadata": {
        "id": "gdDOGZZ7zZK9"
      },
      "outputs": [],
      "source": [
        "import zipfile\n",
        "\n",
        "import numpy as np\n",
        "import pandas as pd\n",
        "\n",
        "from scipy.sparse import csr_matrix\n",
        "from scipy.sparse import hstack as sp_hstack\n",
        "from scipy.sparse import diags as spdiags\n",
        "from scipy.sparse import eye as speye\n",
        "\n",
        "from tqdm import tqdm\n",
        "from polara.preprocessing.dataframes import matrix_from_observations\n",
        "\n",
        "from lfm import build_lfm_model, encode_virus_features\n",
        "from evaluation import topn_recommendations"
      ]
    },
    {
      "cell_type": "markdown",
      "metadata": {
        "id": "1Fn7RcpOzZLA"
      },
      "source": [
        "# Setting up Kaggle"
      ]
    },
    {
      "cell_type": "markdown",
      "metadata": {
        "id": "Hlyim7sHzZLW"
      },
      "source": [
        "For your convenience, we've setup Kaggle leaderboard for this home assignment. This will help you to immediately get an understanding of whether you're on the right way. If you submission gets you 0 score, something is wrong with your implementation.\n",
        "\n",
        "To submit your solutions automatically, you need to \n",
        "1. Register at the competition page. Use [this link](https://www.kaggle.com/t/4c8fd62231ce4308806b642ac6002c07) for registering.\n",
        "2. Setup Kaggle API client via `pip install kaggle` into your environment.\n",
        "3. Store your Kaggle API credentials locally. See [this instruction](https://github.com/Kaggle/kaggle-api#api-credentials) for details.\n",
        "\n",
        "Before uploading the solution, convert it into the proper format and save it locally, using the following function:"
      ]
    },
    {
      "cell_type": "code",
      "execution_count": 4,
      "metadata": {
        "id": "cIyryBTZzZLY"
      },
      "outputs": [],
      "source": [
        "def save_submission(recs, test_user_index, item_index, name='kaggle_submission.csv'):\n",
        "    \"\"\"\n",
        "    Saves the recommendations for test users in a CSV file in a proper format,\n",
        "    ready for upload as a Kaggle submission.\n",
        "    It also converts internal indices into their original external representation.\n",
        "\n",
        "    Parameters\n",
        "    ----------\n",
        "    recs : numpy.ndarray\n",
        "        An array of shape (num_test_users, num_recommendations) containing the\n",
        "        indices of the recommended items.\n",
        "    test_user_index : pd.Index\n",
        "        Pandas Index containing the external test user indices.\n",
        "    item_index : pd.Index\n",
        "        Pandas Index containing the index mapping for the item indices.\n",
        "    name : str, optional\n",
        "        Name of the output file. Defaults to 'kaggle_submission.csv'.\n",
        "\n",
        "    Returns:\n",
        "        None \n",
        "    \"\"\"\n",
        "    submission = pd.Series(\n",
        "        data = list(item_index.take(recs).values),\n",
        "        index = test_user_index,\n",
        "        name = 'compound_id'\n",
        "    ).apply(lambda x: ' '.join([str(i) for i in x])).reset_index()\n",
        "    submission.to_csv(name, index=False)"
      ]
    },
    {
      "cell_type": "code",
      "source": [
        "! pip install -q kaggle\n",
        "from google.colab import files\n",
        "files.upload()\n",
        "! mkdir ~/.kaggle\n",
        "! cp kaggle.json ~/.kaggle/\n",
        "! chmod 600 ~/.kaggle/kaggle.json\n",
        "! kaggle datasets list"
      ],
      "metadata": {
        "colab": {
          "base_uri": "https://localhost:8080/",
          "height": 487
        },
        "id": "77viDum6PdBa",
        "outputId": "861631fd-11b1-4d9f-b6a3-a11cb66537d2"
      },
      "execution_count": 5,
      "outputs": [
        {
          "output_type": "display_data",
          "data": {
            "text/plain": [
              "<IPython.core.display.HTML object>"
            ],
            "text/html": [
              "\n",
              "     <input type=\"file\" id=\"files-18b867ab-1e3d-41ca-b306-570597e77e15\" name=\"files[]\" multiple disabled\n",
              "        style=\"border:none\" />\n",
              "     <output id=\"result-18b867ab-1e3d-41ca-b306-570597e77e15\">\n",
              "      Upload widget is only available when the cell has been executed in the\n",
              "      current browser session. Please rerun this cell to enable.\n",
              "      </output>\n",
              "      <script>// Copyright 2017 Google LLC\n",
              "//\n",
              "// Licensed under the Apache License, Version 2.0 (the \"License\");\n",
              "// you may not use this file except in compliance with the License.\n",
              "// You may obtain a copy of the License at\n",
              "//\n",
              "//      http://www.apache.org/licenses/LICENSE-2.0\n",
              "//\n",
              "// Unless required by applicable law or agreed to in writing, software\n",
              "// distributed under the License is distributed on an \"AS IS\" BASIS,\n",
              "// WITHOUT WARRANTIES OR CONDITIONS OF ANY KIND, either express or implied.\n",
              "// See the License for the specific language governing permissions and\n",
              "// limitations under the License.\n",
              "\n",
              "/**\n",
              " * @fileoverview Helpers for google.colab Python module.\n",
              " */\n",
              "(function(scope) {\n",
              "function span(text, styleAttributes = {}) {\n",
              "  const element = document.createElement('span');\n",
              "  element.textContent = text;\n",
              "  for (const key of Object.keys(styleAttributes)) {\n",
              "    element.style[key] = styleAttributes[key];\n",
              "  }\n",
              "  return element;\n",
              "}\n",
              "\n",
              "// Max number of bytes which will be uploaded at a time.\n",
              "const MAX_PAYLOAD_SIZE = 100 * 1024;\n",
              "\n",
              "function _uploadFiles(inputId, outputId) {\n",
              "  const steps = uploadFilesStep(inputId, outputId);\n",
              "  const outputElement = document.getElementById(outputId);\n",
              "  // Cache steps on the outputElement to make it available for the next call\n",
              "  // to uploadFilesContinue from Python.\n",
              "  outputElement.steps = steps;\n",
              "\n",
              "  return _uploadFilesContinue(outputId);\n",
              "}\n",
              "\n",
              "// This is roughly an async generator (not supported in the browser yet),\n",
              "// where there are multiple asynchronous steps and the Python side is going\n",
              "// to poll for completion of each step.\n",
              "// This uses a Promise to block the python side on completion of each step,\n",
              "// then passes the result of the previous step as the input to the next step.\n",
              "function _uploadFilesContinue(outputId) {\n",
              "  const outputElement = document.getElementById(outputId);\n",
              "  const steps = outputElement.steps;\n",
              "\n",
              "  const next = steps.next(outputElement.lastPromiseValue);\n",
              "  return Promise.resolve(next.value.promise).then((value) => {\n",
              "    // Cache the last promise value to make it available to the next\n",
              "    // step of the generator.\n",
              "    outputElement.lastPromiseValue = value;\n",
              "    return next.value.response;\n",
              "  });\n",
              "}\n",
              "\n",
              "/**\n",
              " * Generator function which is called between each async step of the upload\n",
              " * process.\n",
              " * @param {string} inputId Element ID of the input file picker element.\n",
              " * @param {string} outputId Element ID of the output display.\n",
              " * @return {!Iterable<!Object>} Iterable of next steps.\n",
              " */\n",
              "function* uploadFilesStep(inputId, outputId) {\n",
              "  const inputElement = document.getElementById(inputId);\n",
              "  inputElement.disabled = false;\n",
              "\n",
              "  const outputElement = document.getElementById(outputId);\n",
              "  outputElement.innerHTML = '';\n",
              "\n",
              "  const pickedPromise = new Promise((resolve) => {\n",
              "    inputElement.addEventListener('change', (e) => {\n",
              "      resolve(e.target.files);\n",
              "    });\n",
              "  });\n",
              "\n",
              "  const cancel = document.createElement('button');\n",
              "  inputElement.parentElement.appendChild(cancel);\n",
              "  cancel.textContent = 'Cancel upload';\n",
              "  const cancelPromise = new Promise((resolve) => {\n",
              "    cancel.onclick = () => {\n",
              "      resolve(null);\n",
              "    };\n",
              "  });\n",
              "\n",
              "  // Wait for the user to pick the files.\n",
              "  const files = yield {\n",
              "    promise: Promise.race([pickedPromise, cancelPromise]),\n",
              "    response: {\n",
              "      action: 'starting',\n",
              "    }\n",
              "  };\n",
              "\n",
              "  cancel.remove();\n",
              "\n",
              "  // Disable the input element since further picks are not allowed.\n",
              "  inputElement.disabled = true;\n",
              "\n",
              "  if (!files) {\n",
              "    return {\n",
              "      response: {\n",
              "        action: 'complete',\n",
              "      }\n",
              "    };\n",
              "  }\n",
              "\n",
              "  for (const file of files) {\n",
              "    const li = document.createElement('li');\n",
              "    li.append(span(file.name, {fontWeight: 'bold'}));\n",
              "    li.append(span(\n",
              "        `(${file.type || 'n/a'}) - ${file.size} bytes, ` +\n",
              "        `last modified: ${\n",
              "            file.lastModifiedDate ? file.lastModifiedDate.toLocaleDateString() :\n",
              "                                    'n/a'} - `));\n",
              "    const percent = span('0% done');\n",
              "    li.appendChild(percent);\n",
              "\n",
              "    outputElement.appendChild(li);\n",
              "\n",
              "    const fileDataPromise = new Promise((resolve) => {\n",
              "      const reader = new FileReader();\n",
              "      reader.onload = (e) => {\n",
              "        resolve(e.target.result);\n",
              "      };\n",
              "      reader.readAsArrayBuffer(file);\n",
              "    });\n",
              "    // Wait for the data to be ready.\n",
              "    let fileData = yield {\n",
              "      promise: fileDataPromise,\n",
              "      response: {\n",
              "        action: 'continue',\n",
              "      }\n",
              "    };\n",
              "\n",
              "    // Use a chunked sending to avoid message size limits. See b/62115660.\n",
              "    let position = 0;\n",
              "    do {\n",
              "      const length = Math.min(fileData.byteLength - position, MAX_PAYLOAD_SIZE);\n",
              "      const chunk = new Uint8Array(fileData, position, length);\n",
              "      position += length;\n",
              "\n",
              "      const base64 = btoa(String.fromCharCode.apply(null, chunk));\n",
              "      yield {\n",
              "        response: {\n",
              "          action: 'append',\n",
              "          file: file.name,\n",
              "          data: base64,\n",
              "        },\n",
              "      };\n",
              "\n",
              "      let percentDone = fileData.byteLength === 0 ?\n",
              "          100 :\n",
              "          Math.round((position / fileData.byteLength) * 100);\n",
              "      percent.textContent = `${percentDone}% done`;\n",
              "\n",
              "    } while (position < fileData.byteLength);\n",
              "  }\n",
              "\n",
              "  // All done.\n",
              "  yield {\n",
              "    response: {\n",
              "      action: 'complete',\n",
              "    }\n",
              "  };\n",
              "}\n",
              "\n",
              "scope.google = scope.google || {};\n",
              "scope.google.colab = scope.google.colab || {};\n",
              "scope.google.colab._files = {\n",
              "  _uploadFiles,\n",
              "  _uploadFilesContinue,\n",
              "};\n",
              "})(self);\n",
              "</script> "
            ]
          },
          "metadata": {}
        },
        {
          "output_type": "stream",
          "name": "stdout",
          "text": [
            "Saving kaggle.json to kaggle (1).json\n",
            "ref                                                                title                                                size  lastUpdated          downloadCount  voteCount  usabilityRating  \n",
            "-----------------------------------------------------------------  --------------------------------------------------  -----  -------------------  -------------  ---------  ---------------  \n",
            "zusmani/pakistan-toshakhana-files                                  Pakistan ToshaKhana Files                             1MB  2023-03-15 16:25:43           2381        111  1.0              \n",
            "ramkrijal/tomato-daily-prices                                      Tomato Daily Prices                                  10KB  2023-03-10 15:39:14           1437         46  1.0              \n",
            "themrityunjaypathak/covid-cases-and-deaths-worldwide               Covid Cases and Deaths WorldWide                      8KB  2023-02-01 12:22:51          14799        478  1.0              \n",
            "datascientistanna/customers-dataset                                Shop Customer Data                                   23KB  2023-02-07 18:42:21          13471        301  1.0              \n",
            "priyankkhanna/flipkart-product-dataset-by-priyank-khanna           Flipkart Product Dataset                              2MB  2023-03-03 13:44:42           1222         29  1.0              \n",
            "amaanansari09/most-streamed-songs-all-time                         Most Streamed Songs (All Time)                        8KB  2023-03-08 10:56:24           2506         65  1.0              \n",
            "utsh0dey/25k-movie-dataset                                         25k IMDb Movie Dataset                                5MB  2023-02-27 18:11:44            978         29  1.0              \n",
            "nidzsharma/covid-19-variant-data                                   COVID-19 Variant Data                                67KB  2023-03-12 14:07:53            713         30  1.0              \n",
            "rkiattisak/student-performance-in-mathematics                      Student performance prediction                        9KB  2023-03-12 04:32:56           2470         59  1.0              \n",
            "ashpalsingh1525/netflix                                            Netflix Cleaned Dataset                              86KB  2023-02-25 12:48:42           1107         37  1.0              \n",
            "imrulhasanrobi/world-population-all-countries-different-parameter  World Population all countries different parameter    8KB  2023-03-16 01:24:18            790         32  1.0              \n",
            "rayhan32/la-liga-player-status-season-2022-2023                    La Liga Player Status  Season 2022-2023              14KB  2023-03-15 19:52:19            583         30  1.0              \n",
            "thedevastator/airbnb-prices-in-european-cities                     Airbnb Prices in European Cities                      4MB  2023-02-20 09:48:04           5175         95  1.0              \n",
            "mirzahasnine/loan-data-set                                         Loan Data Set                                        11KB  2023-03-12 05:02:43           1154         35  0.9411765        \n",
            "mehmettahiraslan/customer-shopping-dataset                         Customer Shopping Dataset - Retail Sales Data         2MB  2023-03-09 07:44:35           1630         58  1.0              \n",
            "ulrikthygepedersen/shark-tank-companies                            Shark Tank Companies                                 70KB  2023-03-02 12:05:27            755         34  1.0              \n",
            "tarique7/airline-incidents-safety-data                             Airline Incidents Safety Data                         7MB  2023-03-08 09:28:38            645         29  1.0              \n",
            "rkiattisak/traveler-trip-data                                      Traveler Trip Dataset                                 4KB  2023-03-06 07:11:05           1395         39  1.0              \n",
            "rkiattisak/salaly-prediction-for-beginer                           Salary Prediction dataset                             3KB  2023-03-07 02:45:11           1395         40  1.0              \n",
            "abdullahshahzad12345/ref-tk-data-02-to-22                          Gift Received by Pak Officials 2002-22 Tosha Khana  120KB  2023-03-14 15:49:14            166         24  1.0              \n"
          ]
        }
      ]
    },
    {
      "cell_type": "markdown",
      "metadata": {
        "id": "_9um_4yVzZMI"
      },
      "source": [
        "After the solution is saved, you can upload it using the command in the following format:\n",
        "\n",
        "```\n",
        "!kaggle competitions submit -c {competition_name} -f {submission_file} -m 'my submision name'\n",
        "```"
      ]
    },
    {
      "cell_type": "markdown",
      "metadata": {
        "id": "7TpFUxQkzZMI"
      },
      "source": [
        "The competition name is provided below. Do not change it."
      ]
    },
    {
      "cell_type": "code",
      "execution_count": 6,
      "metadata": {
        "id": "nYdDTHJhzZMJ"
      },
      "outputs": [],
      "source": [
        "competition_name = 'anti-viral-drug-discovery-skoltech-recsys-course'"
      ]
    },
    {
      "cell_type": "code",
      "source": [
        "!kaggle competitions download -c {competition_name}"
      ],
      "metadata": {
        "colab": {
          "base_uri": "https://localhost:8080/"
        },
        "id": "oGJbiSQ4QDFu",
        "outputId": "d3c5f956-bdbd-4f5c-d282-504d324e18c4"
      },
      "execution_count": 7,
      "outputs": [
        {
          "output_type": "stream",
          "name": "stdout",
          "text": [
            "anti-viral-drug-discovery-skoltech-recsys-course.zip: Skipping, found more recently modified local copy (use --force to force download)\n"
          ]
        }
      ]
    },
    {
      "cell_type": "code",
      "source": [
        "with zipfile.ZipFile(\"anti-viral-drug-discovery-skoltech-recsys-course.zip\",\"r\") as z:\n",
        "    z.extractall(\".\")"
      ],
      "metadata": {
        "id": "KqYzdTOkQG-w"
      },
      "execution_count": 8,
      "outputs": []
    },
    {
      "cell_type": "markdown",
      "metadata": {
        "id": "MusbVnmIzZMK"
      },
      "source": [
        "**NOTE #1:** Kaggle only allows up to 20 submissions per day. Try to use the submissions budget wisely.  \n",
        "\n",
        "**NOTE #2:** If you find it more convenient, you can still submit solutions manually without using the code provided above."
      ]
    },
    {
      "cell_type": "markdown",
      "metadata": {
        "id": "QRvUAeAezZMK"
      },
      "source": [
        "# Preparing Data"
      ]
    },
    {
      "cell_type": "markdown",
      "metadata": {
        "id": "buP-HHWOzZML"
      },
      "source": [
        "You will work with two sources of data:  \n",
        "- activation data (`virus_chem_activation.csv`)\n",
        "  - describes if there is a positive (+1) or negative (-1) response from a virus to a chemical compound\n",
        "    - positive activation means that the compound is likely to be effective against the virus\n",
        "    - negative activation means the the virus is chemically resistant to the compound\n",
        "- virus family data (`virus_features.csv`)\n",
        "  - describes which viral family class each virus belongs to\n",
        "\n",
        "\n",
        "Your target viruses are listed below by their `virus_id`:"
      ]
    },
    {
      "cell_type": "code",
      "execution_count": 9,
      "metadata": {
        "id": "j_KDwmGwzZMM"
      },
      "outputs": [],
      "source": [
        "cold_start_viruses = pd.Index([599, 757, 1076, 1200, 1421, 1970, 2170, 2724], name='virus_id')"
      ]
    },
    {
      "cell_type": "markdown",
      "metadata": {
        "id": "o59IH79bzZMM"
      },
      "source": [
        "\n",
        "Your global task:\n",
        " - for each target virus, identify top-5 compounds that might have positive activation on them.\n",
        " \n",
        " Note that unlike typical scenario, in this case, the target viruses must maximally dislike the recommendations. :)"
      ]
    },
    {
      "cell_type": "markdown",
      "metadata": {
        "id": "jZvLXUp0zZMN"
      },
      "source": [
        "## Data for binary classification? (5 pts)"
      ]
    },
    {
      "cell_type": "markdown",
      "metadata": {
        "id": "k7VHYY1HzZMN"
      },
      "source": [
        "Would it be possible to simply formulate the task in terms of a binary classification with  `[+1.0, -1.0]` labels ? Describe the pros and cons of such an approach? Is it applicable in the current task?\n",
        "\n",
        "**Hint:** How many types of \"feedback\" do we actually have? Is it just two?"
      ]
    },
    {
      "cell_type": "markdown",
      "metadata": {
        "id": "9cUJB0XPzZMO"
      },
      "source": [
        "#your answer here  \n",
        "In this task we have three targets (1, -1, 0). 0 - when not 1 and -1, blank entries.  So binary classification is not effective."
      ]
    },
    {
      "cell_type": "markdown",
      "metadata": {
        "id": "w09h15iYzZMO"
      },
      "source": [
        "## Load data"
      ]
    },
    {
      "cell_type": "code",
      "execution_count": 10,
      "metadata": {
        "id": "_f0tIjHTzZMP",
        "colab": {
          "base_uri": "https://localhost:8080/",
          "height": 206
        },
        "outputId": "34388dcf-94a4-4ded-d7d6-fad7c39b206e"
      },
      "outputs": [
        {
          "output_type": "execute_result",
          "data": {
            "text/plain": [
              "       compound_id  virus_id  activated\n",
              "40472       516059      3174       -1.0\n",
              "40473       516063      3174        1.0\n",
              "40474       573139      3174       -1.0\n",
              "40475       615133      3174       -1.0\n",
              "40476      1303637      3174        1.0"
            ],
            "text/html": [
              "\n",
              "  <div id=\"df-71e87e5f-c12d-4c7c-aaaa-f7d9a8869d16\">\n",
              "    <div class=\"colab-df-container\">\n",
              "      <div>\n",
              "<style scoped>\n",
              "    .dataframe tbody tr th:only-of-type {\n",
              "        vertical-align: middle;\n",
              "    }\n",
              "\n",
              "    .dataframe tbody tr th {\n",
              "        vertical-align: top;\n",
              "    }\n",
              "\n",
              "    .dataframe thead th {\n",
              "        text-align: right;\n",
              "    }\n",
              "</style>\n",
              "<table border=\"1\" class=\"dataframe\">\n",
              "  <thead>\n",
              "    <tr style=\"text-align: right;\">\n",
              "      <th></th>\n",
              "      <th>compound_id</th>\n",
              "      <th>virus_id</th>\n",
              "      <th>activated</th>\n",
              "    </tr>\n",
              "  </thead>\n",
              "  <tbody>\n",
              "    <tr>\n",
              "      <th>40472</th>\n",
              "      <td>516059</td>\n",
              "      <td>3174</td>\n",
              "      <td>-1.0</td>\n",
              "    </tr>\n",
              "    <tr>\n",
              "      <th>40473</th>\n",
              "      <td>516063</td>\n",
              "      <td>3174</td>\n",
              "      <td>1.0</td>\n",
              "    </tr>\n",
              "    <tr>\n",
              "      <th>40474</th>\n",
              "      <td>573139</td>\n",
              "      <td>3174</td>\n",
              "      <td>-1.0</td>\n",
              "    </tr>\n",
              "    <tr>\n",
              "      <th>40475</th>\n",
              "      <td>615133</td>\n",
              "      <td>3174</td>\n",
              "      <td>-1.0</td>\n",
              "    </tr>\n",
              "    <tr>\n",
              "      <th>40476</th>\n",
              "      <td>1303637</td>\n",
              "      <td>3174</td>\n",
              "      <td>1.0</td>\n",
              "    </tr>\n",
              "  </tbody>\n",
              "</table>\n",
              "</div>\n",
              "      <button class=\"colab-df-convert\" onclick=\"convertToInteractive('df-71e87e5f-c12d-4c7c-aaaa-f7d9a8869d16')\"\n",
              "              title=\"Convert this dataframe to an interactive table.\"\n",
              "              style=\"display:none;\">\n",
              "        \n",
              "  <svg xmlns=\"http://www.w3.org/2000/svg\" height=\"24px\"viewBox=\"0 0 24 24\"\n",
              "       width=\"24px\">\n",
              "    <path d=\"M0 0h24v24H0V0z\" fill=\"none\"/>\n",
              "    <path d=\"M18.56 5.44l.94 2.06.94-2.06 2.06-.94-2.06-.94-.94-2.06-.94 2.06-2.06.94zm-11 1L8.5 8.5l.94-2.06 2.06-.94-2.06-.94L8.5 2.5l-.94 2.06-2.06.94zm10 10l.94 2.06.94-2.06 2.06-.94-2.06-.94-.94-2.06-.94 2.06-2.06.94z\"/><path d=\"M17.41 7.96l-1.37-1.37c-.4-.4-.92-.59-1.43-.59-.52 0-1.04.2-1.43.59L10.3 9.45l-7.72 7.72c-.78.78-.78 2.05 0 2.83L4 21.41c.39.39.9.59 1.41.59.51 0 1.02-.2 1.41-.59l7.78-7.78 2.81-2.81c.8-.78.8-2.07 0-2.86zM5.41 20L4 18.59l7.72-7.72 1.47 1.35L5.41 20z\"/>\n",
              "  </svg>\n",
              "      </button>\n",
              "      \n",
              "  <style>\n",
              "    .colab-df-container {\n",
              "      display:flex;\n",
              "      flex-wrap:wrap;\n",
              "      gap: 12px;\n",
              "    }\n",
              "\n",
              "    .colab-df-convert {\n",
              "      background-color: #E8F0FE;\n",
              "      border: none;\n",
              "      border-radius: 50%;\n",
              "      cursor: pointer;\n",
              "      display: none;\n",
              "      fill: #1967D2;\n",
              "      height: 32px;\n",
              "      padding: 0 0 0 0;\n",
              "      width: 32px;\n",
              "    }\n",
              "\n",
              "    .colab-df-convert:hover {\n",
              "      background-color: #E2EBFA;\n",
              "      box-shadow: 0px 1px 2px rgba(60, 64, 67, 0.3), 0px 1px 3px 1px rgba(60, 64, 67, 0.15);\n",
              "      fill: #174EA6;\n",
              "    }\n",
              "\n",
              "    [theme=dark] .colab-df-convert {\n",
              "      background-color: #3B4455;\n",
              "      fill: #D2E3FC;\n",
              "    }\n",
              "\n",
              "    [theme=dark] .colab-df-convert:hover {\n",
              "      background-color: #434B5C;\n",
              "      box-shadow: 0px 1px 3px 1px rgba(0, 0, 0, 0.15);\n",
              "      filter: drop-shadow(0px 1px 2px rgba(0, 0, 0, 0.3));\n",
              "      fill: #FFFFFF;\n",
              "    }\n",
              "  </style>\n",
              "\n",
              "      <script>\n",
              "        const buttonEl =\n",
              "          document.querySelector('#df-71e87e5f-c12d-4c7c-aaaa-f7d9a8869d16 button.colab-df-convert');\n",
              "        buttonEl.style.display =\n",
              "          google.colab.kernel.accessAllowed ? 'block' : 'none';\n",
              "\n",
              "        async function convertToInteractive(key) {\n",
              "          const element = document.querySelector('#df-71e87e5f-c12d-4c7c-aaaa-f7d9a8869d16');\n",
              "          const dataTable =\n",
              "            await google.colab.kernel.invokeFunction('convertToInteractive',\n",
              "                                                     [key], {});\n",
              "          if (!dataTable) return;\n",
              "\n",
              "          const docLinkHtml = 'Like what you see? Visit the ' +\n",
              "            '<a target=\"_blank\" href=https://colab.research.google.com/notebooks/data_table.ipynb>data table notebook</a>'\n",
              "            + ' to learn more about interactive tables.';\n",
              "          element.innerHTML = '';\n",
              "          dataTable['output_type'] = 'display_data';\n",
              "          await google.colab.output.renderOutput(dataTable, element);\n",
              "          const docLink = document.createElement('div');\n",
              "          docLink.innerHTML = docLinkHtml;\n",
              "          element.appendChild(docLink);\n",
              "        }\n",
              "      </script>\n",
              "    </div>\n",
              "  </div>\n",
              "  "
            ]
          },
          "metadata": {},
          "execution_count": 10
        }
      ],
      "source": [
        "data = pd.read_csv('virus_chem_activation.csv')\n",
        "data.tail()"
      ]
    },
    {
      "cell_type": "code",
      "execution_count": 11,
      "metadata": {
        "id": "HYlddl0BzZMP",
        "colab": {
          "base_uri": "https://localhost:8080/",
          "height": 143
        },
        "outputId": "7489ab52-32bb-4660-a111-3aed5e56fa66"
      },
      "outputs": [
        {
          "output_type": "execute_result",
          "data": {
            "text/plain": [
              "           compound_id  virus_id\n",
              "activated                       \n",
              "-1.0              4344        88\n",
              " 1.0              3791       100"
            ],
            "text/html": [
              "\n",
              "  <div id=\"df-f4f38c55-e3f6-49b1-86de-9c02d92154a9\">\n",
              "    <div class=\"colab-df-container\">\n",
              "      <div>\n",
              "<style scoped>\n",
              "    .dataframe tbody tr th:only-of-type {\n",
              "        vertical-align: middle;\n",
              "    }\n",
              "\n",
              "    .dataframe tbody tr th {\n",
              "        vertical-align: top;\n",
              "    }\n",
              "\n",
              "    .dataframe thead th {\n",
              "        text-align: right;\n",
              "    }\n",
              "</style>\n",
              "<table border=\"1\" class=\"dataframe\">\n",
              "  <thead>\n",
              "    <tr style=\"text-align: right;\">\n",
              "      <th></th>\n",
              "      <th>compound_id</th>\n",
              "      <th>virus_id</th>\n",
              "    </tr>\n",
              "    <tr>\n",
              "      <th>activated</th>\n",
              "      <th></th>\n",
              "      <th></th>\n",
              "    </tr>\n",
              "  </thead>\n",
              "  <tbody>\n",
              "    <tr>\n",
              "      <th>-1.0</th>\n",
              "      <td>4344</td>\n",
              "      <td>88</td>\n",
              "    </tr>\n",
              "    <tr>\n",
              "      <th>1.0</th>\n",
              "      <td>3791</td>\n",
              "      <td>100</td>\n",
              "    </tr>\n",
              "  </tbody>\n",
              "</table>\n",
              "</div>\n",
              "      <button class=\"colab-df-convert\" onclick=\"convertToInteractive('df-f4f38c55-e3f6-49b1-86de-9c02d92154a9')\"\n",
              "              title=\"Convert this dataframe to an interactive table.\"\n",
              "              style=\"display:none;\">\n",
              "        \n",
              "  <svg xmlns=\"http://www.w3.org/2000/svg\" height=\"24px\"viewBox=\"0 0 24 24\"\n",
              "       width=\"24px\">\n",
              "    <path d=\"M0 0h24v24H0V0z\" fill=\"none\"/>\n",
              "    <path d=\"M18.56 5.44l.94 2.06.94-2.06 2.06-.94-2.06-.94-.94-2.06-.94 2.06-2.06.94zm-11 1L8.5 8.5l.94-2.06 2.06-.94-2.06-.94L8.5 2.5l-.94 2.06-2.06.94zm10 10l.94 2.06.94-2.06 2.06-.94-2.06-.94-.94-2.06-.94 2.06-2.06.94z\"/><path d=\"M17.41 7.96l-1.37-1.37c-.4-.4-.92-.59-1.43-.59-.52 0-1.04.2-1.43.59L10.3 9.45l-7.72 7.72c-.78.78-.78 2.05 0 2.83L4 21.41c.39.39.9.59 1.41.59.51 0 1.02-.2 1.41-.59l7.78-7.78 2.81-2.81c.8-.78.8-2.07 0-2.86zM5.41 20L4 18.59l7.72-7.72 1.47 1.35L5.41 20z\"/>\n",
              "  </svg>\n",
              "      </button>\n",
              "      \n",
              "  <style>\n",
              "    .colab-df-container {\n",
              "      display:flex;\n",
              "      flex-wrap:wrap;\n",
              "      gap: 12px;\n",
              "    }\n",
              "\n",
              "    .colab-df-convert {\n",
              "      background-color: #E8F0FE;\n",
              "      border: none;\n",
              "      border-radius: 50%;\n",
              "      cursor: pointer;\n",
              "      display: none;\n",
              "      fill: #1967D2;\n",
              "      height: 32px;\n",
              "      padding: 0 0 0 0;\n",
              "      width: 32px;\n",
              "    }\n",
              "\n",
              "    .colab-df-convert:hover {\n",
              "      background-color: #E2EBFA;\n",
              "      box-shadow: 0px 1px 2px rgba(60, 64, 67, 0.3), 0px 1px 3px 1px rgba(60, 64, 67, 0.15);\n",
              "      fill: #174EA6;\n",
              "    }\n",
              "\n",
              "    [theme=dark] .colab-df-convert {\n",
              "      background-color: #3B4455;\n",
              "      fill: #D2E3FC;\n",
              "    }\n",
              "\n",
              "    [theme=dark] .colab-df-convert:hover {\n",
              "      background-color: #434B5C;\n",
              "      box-shadow: 0px 1px 3px 1px rgba(0, 0, 0, 0.15);\n",
              "      filter: drop-shadow(0px 1px 2px rgba(0, 0, 0, 0.3));\n",
              "      fill: #FFFFFF;\n",
              "    }\n",
              "  </style>\n",
              "\n",
              "      <script>\n",
              "        const buttonEl =\n",
              "          document.querySelector('#df-f4f38c55-e3f6-49b1-86de-9c02d92154a9 button.colab-df-convert');\n",
              "        buttonEl.style.display =\n",
              "          google.colab.kernel.accessAllowed ? 'block' : 'none';\n",
              "\n",
              "        async function convertToInteractive(key) {\n",
              "          const element = document.querySelector('#df-f4f38c55-e3f6-49b1-86de-9c02d92154a9');\n",
              "          const dataTable =\n",
              "            await google.colab.kernel.invokeFunction('convertToInteractive',\n",
              "                                                     [key], {});\n",
              "          if (!dataTable) return;\n",
              "\n",
              "          const docLinkHtml = 'Like what you see? Visit the ' +\n",
              "            '<a target=\"_blank\" href=https://colab.research.google.com/notebooks/data_table.ipynb>data table notebook</a>'\n",
              "            + ' to learn more about interactive tables.';\n",
              "          element.innerHTML = '';\n",
              "          dataTable['output_type'] = 'display_data';\n",
              "          await google.colab.output.renderOutput(dataTable, element);\n",
              "          const docLink = document.createElement('div');\n",
              "          docLink.innerHTML = docLinkHtml;\n",
              "          element.appendChild(docLink);\n",
              "        }\n",
              "      </script>\n",
              "    </div>\n",
              "  </div>\n",
              "  "
            ]
          },
          "metadata": {},
          "execution_count": 11
        }
      ],
      "source": [
        "data.groupby('activated').nunique()"
      ]
    },
    {
      "cell_type": "code",
      "execution_count": 12,
      "metadata": {
        "id": "p_QM4FdyzZMQ",
        "colab": {
          "base_uri": "https://localhost:8080/",
          "height": 206
        },
        "outputId": "9ae602fe-678e-45ea-8516-e5a3e4c2b553"
      },
      "outputs": [
        {
          "output_type": "execute_result",
          "data": {
            "text/plain": [
              "   virus_id  family\n",
              "0       103    1814\n",
              "1       480    1882\n",
              "2       481    1882\n",
              "3       483    1882\n",
              "4       502    1884"
            ],
            "text/html": [
              "\n",
              "  <div id=\"df-fb9775df-d042-4430-88a4-59b5b6a6fbfc\">\n",
              "    <div class=\"colab-df-container\">\n",
              "      <div>\n",
              "<style scoped>\n",
              "    .dataframe tbody tr th:only-of-type {\n",
              "        vertical-align: middle;\n",
              "    }\n",
              "\n",
              "    .dataframe tbody tr th {\n",
              "        vertical-align: top;\n",
              "    }\n",
              "\n",
              "    .dataframe thead th {\n",
              "        text-align: right;\n",
              "    }\n",
              "</style>\n",
              "<table border=\"1\" class=\"dataframe\">\n",
              "  <thead>\n",
              "    <tr style=\"text-align: right;\">\n",
              "      <th></th>\n",
              "      <th>virus_id</th>\n",
              "      <th>family</th>\n",
              "    </tr>\n",
              "  </thead>\n",
              "  <tbody>\n",
              "    <tr>\n",
              "      <th>0</th>\n",
              "      <td>103</td>\n",
              "      <td>1814</td>\n",
              "    </tr>\n",
              "    <tr>\n",
              "      <th>1</th>\n",
              "      <td>480</td>\n",
              "      <td>1882</td>\n",
              "    </tr>\n",
              "    <tr>\n",
              "      <th>2</th>\n",
              "      <td>481</td>\n",
              "      <td>1882</td>\n",
              "    </tr>\n",
              "    <tr>\n",
              "      <th>3</th>\n",
              "      <td>483</td>\n",
              "      <td>1882</td>\n",
              "    </tr>\n",
              "    <tr>\n",
              "      <th>4</th>\n",
              "      <td>502</td>\n",
              "      <td>1884</td>\n",
              "    </tr>\n",
              "  </tbody>\n",
              "</table>\n",
              "</div>\n",
              "      <button class=\"colab-df-convert\" onclick=\"convertToInteractive('df-fb9775df-d042-4430-88a4-59b5b6a6fbfc')\"\n",
              "              title=\"Convert this dataframe to an interactive table.\"\n",
              "              style=\"display:none;\">\n",
              "        \n",
              "  <svg xmlns=\"http://www.w3.org/2000/svg\" height=\"24px\"viewBox=\"0 0 24 24\"\n",
              "       width=\"24px\">\n",
              "    <path d=\"M0 0h24v24H0V0z\" fill=\"none\"/>\n",
              "    <path d=\"M18.56 5.44l.94 2.06.94-2.06 2.06-.94-2.06-.94-.94-2.06-.94 2.06-2.06.94zm-11 1L8.5 8.5l.94-2.06 2.06-.94-2.06-.94L8.5 2.5l-.94 2.06-2.06.94zm10 10l.94 2.06.94-2.06 2.06-.94-2.06-.94-.94-2.06-.94 2.06-2.06.94z\"/><path d=\"M17.41 7.96l-1.37-1.37c-.4-.4-.92-.59-1.43-.59-.52 0-1.04.2-1.43.59L10.3 9.45l-7.72 7.72c-.78.78-.78 2.05 0 2.83L4 21.41c.39.39.9.59 1.41.59.51 0 1.02-.2 1.41-.59l7.78-7.78 2.81-2.81c.8-.78.8-2.07 0-2.86zM5.41 20L4 18.59l7.72-7.72 1.47 1.35L5.41 20z\"/>\n",
              "  </svg>\n",
              "      </button>\n",
              "      \n",
              "  <style>\n",
              "    .colab-df-container {\n",
              "      display:flex;\n",
              "      flex-wrap:wrap;\n",
              "      gap: 12px;\n",
              "    }\n",
              "\n",
              "    .colab-df-convert {\n",
              "      background-color: #E8F0FE;\n",
              "      border: none;\n",
              "      border-radius: 50%;\n",
              "      cursor: pointer;\n",
              "      display: none;\n",
              "      fill: #1967D2;\n",
              "      height: 32px;\n",
              "      padding: 0 0 0 0;\n",
              "      width: 32px;\n",
              "    }\n",
              "\n",
              "    .colab-df-convert:hover {\n",
              "      background-color: #E2EBFA;\n",
              "      box-shadow: 0px 1px 2px rgba(60, 64, 67, 0.3), 0px 1px 3px 1px rgba(60, 64, 67, 0.15);\n",
              "      fill: #174EA6;\n",
              "    }\n",
              "\n",
              "    [theme=dark] .colab-df-convert {\n",
              "      background-color: #3B4455;\n",
              "      fill: #D2E3FC;\n",
              "    }\n",
              "\n",
              "    [theme=dark] .colab-df-convert:hover {\n",
              "      background-color: #434B5C;\n",
              "      box-shadow: 0px 1px 3px 1px rgba(0, 0, 0, 0.15);\n",
              "      filter: drop-shadow(0px 1px 2px rgba(0, 0, 0, 0.3));\n",
              "      fill: #FFFFFF;\n",
              "    }\n",
              "  </style>\n",
              "\n",
              "      <script>\n",
              "        const buttonEl =\n",
              "          document.querySelector('#df-fb9775df-d042-4430-88a4-59b5b6a6fbfc button.colab-df-convert');\n",
              "        buttonEl.style.display =\n",
              "          google.colab.kernel.accessAllowed ? 'block' : 'none';\n",
              "\n",
              "        async function convertToInteractive(key) {\n",
              "          const element = document.querySelector('#df-fb9775df-d042-4430-88a4-59b5b6a6fbfc');\n",
              "          const dataTable =\n",
              "            await google.colab.kernel.invokeFunction('convertToInteractive',\n",
              "                                                     [key], {});\n",
              "          if (!dataTable) return;\n",
              "\n",
              "          const docLinkHtml = 'Like what you see? Visit the ' +\n",
              "            '<a target=\"_blank\" href=https://colab.research.google.com/notebooks/data_table.ipynb>data table notebook</a>'\n",
              "            + ' to learn more about interactive tables.';\n",
              "          element.innerHTML = '';\n",
              "          dataTable['output_type'] = 'display_data';\n",
              "          await google.colab.output.renderOutput(dataTable, element);\n",
              "          const docLink = document.createElement('div');\n",
              "          docLink.innerHTML = docLinkHtml;\n",
              "          element.appendChild(docLink);\n",
              "        }\n",
              "      </script>\n",
              "    </div>\n",
              "  </div>\n",
              "  "
            ]
          },
          "metadata": {},
          "execution_count": 12
        }
      ],
      "source": [
        "virus_families = pd.read_csv('virus_features.csv')\n",
        "virus_families.head()"
      ]
    },
    {
      "cell_type": "markdown",
      "metadata": {
        "id": "kUM-wvuvzZMQ"
      },
      "source": [
        "## Check data consistency (total 5 pts)"
      ]
    },
    {
      "cell_type": "markdown",
      "metadata": {
        "id": "nOH2re7KzZMQ"
      },
      "source": [
        "### cold start setting  (2 pts)"
      ]
    },
    {
      "cell_type": "markdown",
      "metadata": {
        "id": "cXhJ3jlhzZMR"
      },
      "source": [
        "Recall that scientific labs were not able to identify compounds that would be effective against the target viruses.  \n",
        "\n",
        "Veryfy that there is `no positive activation` data for these viruses in the provided dataset:"
      ]
    },
    {
      "cell_type": "code",
      "source": [
        "# your code here\n",
        "filtered_data = data.loc[data['virus_id'].isin(cold_start_viruses) & (data['activated'] > -1.0)]\n",
        "filtered_data"
      ],
      "metadata": {
        "colab": {
          "base_uri": "https://localhost:8080/",
          "height": 49
        },
        "id": "6qrWAuU3khXd",
        "outputId": "37951f94-e2b9-4479-a01a-bc5f2a1d3e21"
      },
      "execution_count": 13,
      "outputs": [
        {
          "output_type": "execute_result",
          "data": {
            "text/plain": [
              "Empty DataFrame\n",
              "Columns: [compound_id, virus_id, activated]\n",
              "Index: []"
            ],
            "text/html": [
              "\n",
              "  <div id=\"df-2a1ecb76-3ed8-46c7-af46-4da0be3fa7ce\">\n",
              "    <div class=\"colab-df-container\">\n",
              "      <div>\n",
              "<style scoped>\n",
              "    .dataframe tbody tr th:only-of-type {\n",
              "        vertical-align: middle;\n",
              "    }\n",
              "\n",
              "    .dataframe tbody tr th {\n",
              "        vertical-align: top;\n",
              "    }\n",
              "\n",
              "    .dataframe thead th {\n",
              "        text-align: right;\n",
              "    }\n",
              "</style>\n",
              "<table border=\"1\" class=\"dataframe\">\n",
              "  <thead>\n",
              "    <tr style=\"text-align: right;\">\n",
              "      <th></th>\n",
              "      <th>compound_id</th>\n",
              "      <th>virus_id</th>\n",
              "      <th>activated</th>\n",
              "    </tr>\n",
              "  </thead>\n",
              "  <tbody>\n",
              "  </tbody>\n",
              "</table>\n",
              "</div>\n",
              "      <button class=\"colab-df-convert\" onclick=\"convertToInteractive('df-2a1ecb76-3ed8-46c7-af46-4da0be3fa7ce')\"\n",
              "              title=\"Convert this dataframe to an interactive table.\"\n",
              "              style=\"display:none;\">\n",
              "        \n",
              "  <svg xmlns=\"http://www.w3.org/2000/svg\" height=\"24px\"viewBox=\"0 0 24 24\"\n",
              "       width=\"24px\">\n",
              "    <path d=\"M0 0h24v24H0V0z\" fill=\"none\"/>\n",
              "    <path d=\"M18.56 5.44l.94 2.06.94-2.06 2.06-.94-2.06-.94-.94-2.06-.94 2.06-2.06.94zm-11 1L8.5 8.5l.94-2.06 2.06-.94-2.06-.94L8.5 2.5l-.94 2.06-2.06.94zm10 10l.94 2.06.94-2.06 2.06-.94-2.06-.94-.94-2.06-.94 2.06-2.06.94z\"/><path d=\"M17.41 7.96l-1.37-1.37c-.4-.4-.92-.59-1.43-.59-.52 0-1.04.2-1.43.59L10.3 9.45l-7.72 7.72c-.78.78-.78 2.05 0 2.83L4 21.41c.39.39.9.59 1.41.59.51 0 1.02-.2 1.41-.59l7.78-7.78 2.81-2.81c.8-.78.8-2.07 0-2.86zM5.41 20L4 18.59l7.72-7.72 1.47 1.35L5.41 20z\"/>\n",
              "  </svg>\n",
              "      </button>\n",
              "      \n",
              "  <style>\n",
              "    .colab-df-container {\n",
              "      display:flex;\n",
              "      flex-wrap:wrap;\n",
              "      gap: 12px;\n",
              "    }\n",
              "\n",
              "    .colab-df-convert {\n",
              "      background-color: #E8F0FE;\n",
              "      border: none;\n",
              "      border-radius: 50%;\n",
              "      cursor: pointer;\n",
              "      display: none;\n",
              "      fill: #1967D2;\n",
              "      height: 32px;\n",
              "      padding: 0 0 0 0;\n",
              "      width: 32px;\n",
              "    }\n",
              "\n",
              "    .colab-df-convert:hover {\n",
              "      background-color: #E2EBFA;\n",
              "      box-shadow: 0px 1px 2px rgba(60, 64, 67, 0.3), 0px 1px 3px 1px rgba(60, 64, 67, 0.15);\n",
              "      fill: #174EA6;\n",
              "    }\n",
              "\n",
              "    [theme=dark] .colab-df-convert {\n",
              "      background-color: #3B4455;\n",
              "      fill: #D2E3FC;\n",
              "    }\n",
              "\n",
              "    [theme=dark] .colab-df-convert:hover {\n",
              "      background-color: #434B5C;\n",
              "      box-shadow: 0px 1px 3px 1px rgba(0, 0, 0, 0.15);\n",
              "      filter: drop-shadow(0px 1px 2px rgba(0, 0, 0, 0.3));\n",
              "      fill: #FFFFFF;\n",
              "    }\n",
              "  </style>\n",
              "\n",
              "      <script>\n",
              "        const buttonEl =\n",
              "          document.querySelector('#df-2a1ecb76-3ed8-46c7-af46-4da0be3fa7ce button.colab-df-convert');\n",
              "        buttonEl.style.display =\n",
              "          google.colab.kernel.accessAllowed ? 'block' : 'none';\n",
              "\n",
              "        async function convertToInteractive(key) {\n",
              "          const element = document.querySelector('#df-2a1ecb76-3ed8-46c7-af46-4da0be3fa7ce');\n",
              "          const dataTable =\n",
              "            await google.colab.kernel.invokeFunction('convertToInteractive',\n",
              "                                                     [key], {});\n",
              "          if (!dataTable) return;\n",
              "\n",
              "          const docLinkHtml = 'Like what you see? Visit the ' +\n",
              "            '<a target=\"_blank\" href=https://colab.research.google.com/notebooks/data_table.ipynb>data table notebook</a>'\n",
              "            + ' to learn more about interactive tables.';\n",
              "          element.innerHTML = '';\n",
              "          dataTable['output_type'] = 'display_data';\n",
              "          await google.colab.output.renderOutput(dataTable, element);\n",
              "          const docLink = document.createElement('div');\n",
              "          docLink.innerHTML = docLinkHtml;\n",
              "          element.appendChild(docLink);\n",
              "        }\n",
              "      </script>\n",
              "    </div>\n",
              "  </div>\n",
              "  "
            ]
          },
          "metadata": {},
          "execution_count": 13
        }
      ]
    },
    {
      "cell_type": "markdown",
      "metadata": {
        "id": "OBN_HVHQzZMS"
      },
      "source": [
        "### lack of features (3 pts)"
      ]
    },
    {
      "cell_type": "markdown",
      "metadata": {
        "id": "DGJpe60FzZMS"
      },
      "source": [
        "Recall that despite the joint attempts of many scientits, only general families of the new viruses were identified. These families may not be necessarily associated with compounds that give positive activations against the viruses of the family. \n",
        "\n",
        "Verify this by calculating the proportion of families of target viruses among all families associated with positive activation against at least one compound."
      ]
    },
    {
      "cell_type": "code",
      "execution_count": 14,
      "metadata": {
        "id": "usXGNPLdzZMT",
        "colab": {
          "base_uri": "https://localhost:8080/"
        },
        "outputId": "d91e0e47-c5ca-4c84-bb88-3c07f6e1b266"
      },
      "outputs": [
        {
          "output_type": "stream",
          "name": "stdout",
          "text": [
            "0.18181818181818182\n"
          ]
        }
      ],
      "source": [
        "# your code here\n",
        "families_target_viruses = virus_families[virus_families['virus_id'].isin(cold_start_viruses)]['family'].unique()\n",
        "activated_viruses = data[data['activated'] == 1]['virus_id'].unique()\n",
        "families_activated_viruses = virus_families[virus_families['virus_id'].isin(activated_viruses)]['family'].unique()\n",
        "print(len(families_target_viruses)/len(families_activated_viruses))"
      ]
    },
    {
      "cell_type": "markdown",
      "metadata": {
        "id": "r6ebPeE0zZMT"
      },
      "source": [
        "## Feature pre-processing (total 5 pts)"
      ]
    },
    {
      "cell_type": "markdown",
      "metadata": {
        "id": "CiJ4nItKzZMU"
      },
      "source": [
        "- Your task now is to design a proper hybrid recommender for the cold start setting considering all the features that you were provided with. The solution will be based on the [`LightFM`](https://github.com/lyst/lightfm/) approach.\n",
        "\n",
        "- As you have already verified, the `virus family` feature is not sufficient for the task, as it is not fully covered by the positive activation data. Some additional information must be used.\n",
        "\n",
        "Before proceeding, try to pause here and think what esle can be used as an additional feature?  \n",
        "- **Hint #1**: Recall NSVD or SVD++ models. What were the design matrices composed of in their case?\n",
        "- **Hint #2**: How many types of interactions are there in the activation data?"
      ]
    },
    {
      "cell_type": "markdown",
      "metadata": {
        "id": "fU2FhTiOzZMU"
      },
      "source": []
    },
    {
      "cell_type": "markdown",
      "metadata": {
        "id": "gkA6YWt4zZMV"
      },
      "source": [
        "### resistance feature"
      ]
    },
    {
      "cell_type": "markdown",
      "metadata": {
        "id": "x1T7G-fjzZMV"
      },
      "source": [
        "Let's denote the ability of viruses to remain intact under action of chemical comounds as `resistance`.\n",
        "\n",
        "This type of information corresponds to the `activated == -1.0` values in the provided activation dataset. You have probably already guessed that this is exactly the type of feature that you can additionally use in construction of a hybrid recommender.\n",
        "\n",
        "- Prepare the `resistance feature` dataset by taking out the corresponding entries from the activation dataset.\n",
        "- Store the data in the `resistance` dataframe.\n",
        "- Put the positive activation data into a separate `train_data` dataframe. This dataframe will be used for training."
      ]
    },
    {
      "cell_type": "markdown",
      "metadata": {
        "id": "marhjVznzZMW"
      },
      "source": [
        "#### extracting additional feature data (1 pts)"
      ]
    },
    {
      "cell_type": "code",
      "execution_count": 15,
      "metadata": {
        "id": "uWZiRsXjzZMa",
        "colab": {
          "base_uri": "https://localhost:8080/",
          "height": 424
        },
        "outputId": "19a2786f-a2ef-44a0-ffb4-0641fbbe0181"
      },
      "outputs": [
        {
          "output_type": "execute_result",
          "data": {
            "text/plain": [
              "       virus_id  compound_id\n",
              "0           103        24630\n",
              "1           103       451356\n",
              "2           103       525524\n",
              "3           103       525528\n",
              "4           103       541277\n",
              "...         ...          ...\n",
              "40446      2989      1349220\n",
              "40471      3174       468192\n",
              "40472      3174       516059\n",
              "40474      3174       573139\n",
              "40475      3174       615133\n",
              "\n",
              "[20372 rows x 2 columns]"
            ],
            "text/html": [
              "\n",
              "  <div id=\"df-b57bf531-5263-4622-bc43-3eb636c1b462\">\n",
              "    <div class=\"colab-df-container\">\n",
              "      <div>\n",
              "<style scoped>\n",
              "    .dataframe tbody tr th:only-of-type {\n",
              "        vertical-align: middle;\n",
              "    }\n",
              "\n",
              "    .dataframe tbody tr th {\n",
              "        vertical-align: top;\n",
              "    }\n",
              "\n",
              "    .dataframe thead th {\n",
              "        text-align: right;\n",
              "    }\n",
              "</style>\n",
              "<table border=\"1\" class=\"dataframe\">\n",
              "  <thead>\n",
              "    <tr style=\"text-align: right;\">\n",
              "      <th></th>\n",
              "      <th>virus_id</th>\n",
              "      <th>compound_id</th>\n",
              "    </tr>\n",
              "  </thead>\n",
              "  <tbody>\n",
              "    <tr>\n",
              "      <th>0</th>\n",
              "      <td>103</td>\n",
              "      <td>24630</td>\n",
              "    </tr>\n",
              "    <tr>\n",
              "      <th>1</th>\n",
              "      <td>103</td>\n",
              "      <td>451356</td>\n",
              "    </tr>\n",
              "    <tr>\n",
              "      <th>2</th>\n",
              "      <td>103</td>\n",
              "      <td>525524</td>\n",
              "    </tr>\n",
              "    <tr>\n",
              "      <th>3</th>\n",
              "      <td>103</td>\n",
              "      <td>525528</td>\n",
              "    </tr>\n",
              "    <tr>\n",
              "      <th>4</th>\n",
              "      <td>103</td>\n",
              "      <td>541277</td>\n",
              "    </tr>\n",
              "    <tr>\n",
              "      <th>...</th>\n",
              "      <td>...</td>\n",
              "      <td>...</td>\n",
              "    </tr>\n",
              "    <tr>\n",
              "      <th>40446</th>\n",
              "      <td>2989</td>\n",
              "      <td>1349220</td>\n",
              "    </tr>\n",
              "    <tr>\n",
              "      <th>40471</th>\n",
              "      <td>3174</td>\n",
              "      <td>468192</td>\n",
              "    </tr>\n",
              "    <tr>\n",
              "      <th>40472</th>\n",
              "      <td>3174</td>\n",
              "      <td>516059</td>\n",
              "    </tr>\n",
              "    <tr>\n",
              "      <th>40474</th>\n",
              "      <td>3174</td>\n",
              "      <td>573139</td>\n",
              "    </tr>\n",
              "    <tr>\n",
              "      <th>40475</th>\n",
              "      <td>3174</td>\n",
              "      <td>615133</td>\n",
              "    </tr>\n",
              "  </tbody>\n",
              "</table>\n",
              "<p>20372 rows × 2 columns</p>\n",
              "</div>\n",
              "      <button class=\"colab-df-convert\" onclick=\"convertToInteractive('df-b57bf531-5263-4622-bc43-3eb636c1b462')\"\n",
              "              title=\"Convert this dataframe to an interactive table.\"\n",
              "              style=\"display:none;\">\n",
              "        \n",
              "  <svg xmlns=\"http://www.w3.org/2000/svg\" height=\"24px\"viewBox=\"0 0 24 24\"\n",
              "       width=\"24px\">\n",
              "    <path d=\"M0 0h24v24H0V0z\" fill=\"none\"/>\n",
              "    <path d=\"M18.56 5.44l.94 2.06.94-2.06 2.06-.94-2.06-.94-.94-2.06-.94 2.06-2.06.94zm-11 1L8.5 8.5l.94-2.06 2.06-.94-2.06-.94L8.5 2.5l-.94 2.06-2.06.94zm10 10l.94 2.06.94-2.06 2.06-.94-2.06-.94-.94-2.06-.94 2.06-2.06.94z\"/><path d=\"M17.41 7.96l-1.37-1.37c-.4-.4-.92-.59-1.43-.59-.52 0-1.04.2-1.43.59L10.3 9.45l-7.72 7.72c-.78.78-.78 2.05 0 2.83L4 21.41c.39.39.9.59 1.41.59.51 0 1.02-.2 1.41-.59l7.78-7.78 2.81-2.81c.8-.78.8-2.07 0-2.86zM5.41 20L4 18.59l7.72-7.72 1.47 1.35L5.41 20z\"/>\n",
              "  </svg>\n",
              "      </button>\n",
              "      \n",
              "  <style>\n",
              "    .colab-df-container {\n",
              "      display:flex;\n",
              "      flex-wrap:wrap;\n",
              "      gap: 12px;\n",
              "    }\n",
              "\n",
              "    .colab-df-convert {\n",
              "      background-color: #E8F0FE;\n",
              "      border: none;\n",
              "      border-radius: 50%;\n",
              "      cursor: pointer;\n",
              "      display: none;\n",
              "      fill: #1967D2;\n",
              "      height: 32px;\n",
              "      padding: 0 0 0 0;\n",
              "      width: 32px;\n",
              "    }\n",
              "\n",
              "    .colab-df-convert:hover {\n",
              "      background-color: #E2EBFA;\n",
              "      box-shadow: 0px 1px 2px rgba(60, 64, 67, 0.3), 0px 1px 3px 1px rgba(60, 64, 67, 0.15);\n",
              "      fill: #174EA6;\n",
              "    }\n",
              "\n",
              "    [theme=dark] .colab-df-convert {\n",
              "      background-color: #3B4455;\n",
              "      fill: #D2E3FC;\n",
              "    }\n",
              "\n",
              "    [theme=dark] .colab-df-convert:hover {\n",
              "      background-color: #434B5C;\n",
              "      box-shadow: 0px 1px 3px 1px rgba(0, 0, 0, 0.15);\n",
              "      filter: drop-shadow(0px 1px 2px rgba(0, 0, 0, 0.3));\n",
              "      fill: #FFFFFF;\n",
              "    }\n",
              "  </style>\n",
              "\n",
              "      <script>\n",
              "        const buttonEl =\n",
              "          document.querySelector('#df-b57bf531-5263-4622-bc43-3eb636c1b462 button.colab-df-convert');\n",
              "        buttonEl.style.display =\n",
              "          google.colab.kernel.accessAllowed ? 'block' : 'none';\n",
              "\n",
              "        async function convertToInteractive(key) {\n",
              "          const element = document.querySelector('#df-b57bf531-5263-4622-bc43-3eb636c1b462');\n",
              "          const dataTable =\n",
              "            await google.colab.kernel.invokeFunction('convertToInteractive',\n",
              "                                                     [key], {});\n",
              "          if (!dataTable) return;\n",
              "\n",
              "          const docLinkHtml = 'Like what you see? Visit the ' +\n",
              "            '<a target=\"_blank\" href=https://colab.research.google.com/notebooks/data_table.ipynb>data table notebook</a>'\n",
              "            + ' to learn more about interactive tables.';\n",
              "          element.innerHTML = '';\n",
              "          dataTable['output_type'] = 'display_data';\n",
              "          await google.colab.output.renderOutput(dataTable, element);\n",
              "          const docLink = document.createElement('div');\n",
              "          docLink.innerHTML = docLinkHtml;\n",
              "          element.appendChild(docLink);\n",
              "        }\n",
              "      </script>\n",
              "    </div>\n",
              "  </div>\n",
              "  "
            ]
          },
          "metadata": {},
          "execution_count": 15
        }
      ],
      "source": [
        "# your code here:\n",
        "resistance = data.loc[data['activated'] == -1, ['virus_id', 'compound_id']]\n",
        "resistance"
      ]
    },
    {
      "cell_type": "code",
      "execution_count": 16,
      "metadata": {
        "id": "UlKMuO4WzZMb",
        "colab": {
          "base_uri": "https://localhost:8080/"
        },
        "outputId": "c119671e-00b1-4df3-8653-1da00eb8145b"
      },
      "outputs": [
        {
          "output_type": "execute_result",
          "data": {
            "text/plain": [
              "virus_id         88\n",
              "compound_id    4344\n",
              "dtype: int64"
            ]
          },
          "metadata": {},
          "execution_count": 16
        }
      ],
      "source": [
        "resistance.nunique()"
      ]
    },
    {
      "cell_type": "markdown",
      "metadata": {
        "id": "JPmlWkYEzZMb"
      },
      "source": [
        "#### extracting training data (1 pts)"
      ]
    },
    {
      "cell_type": "code",
      "execution_count": 17,
      "metadata": {
        "id": "nHC_WY6FzZMc"
      },
      "outputs": [],
      "source": [
        "# your code\n",
        "train_data = data.loc[data['activated'] == 1, ['virus_id', 'compound_id']]"
      ]
    },
    {
      "cell_type": "markdown",
      "metadata": {
        "id": "cYKE60FJzZMc"
      },
      "source": [
        "It's a good idea to immediately transform the training data into a convenient sparse format and to build the corresponding index of viruses and compounds. You did it several times throughout the course already. Below is an example of how it can be achieved with the `matrix_from_observations` function form `polara`. No additional code is required here."
      ]
    },
    {
      "cell_type": "code",
      "execution_count": 18,
      "metadata": {
        "id": "2sao2ew8zZMc",
        "colab": {
          "base_uri": "https://localhost:8080/"
        },
        "outputId": "5ca295a3-41c9-4c13-e67d-4b62ee7a13dc"
      },
      "outputs": [
        {
          "output_type": "execute_result",
          "data": {
            "text/plain": [
              "<100x3791 sparse matrix of type '<class 'numpy.int64'>'\n",
              "\twith 20105 stored elements in Compressed Sparse Row format>"
            ]
          },
          "metadata": {},
          "execution_count": 18
        }
      ],
      "source": [
        "train_matrix, virus_index, compound_index = matrix_from_observations(\n",
        "    train_data, userid='virus_id', itemid='compound_id'\n",
        ")\n",
        "train_matrix"
      ]
    },
    {
      "cell_type": "markdown",
      "metadata": {
        "id": "jPmPpPdLzZMd"
      },
      "source": [
        "### transforming features into proper format (3 pts)"
      ]
    },
    {
      "cell_type": "markdown",
      "metadata": {
        "id": "JD4VTdr7zZMd"
      },
      "source": [
        "According to the LightFM documentation, features must be represented in the format of `sparse matrices` with\n",
        "- rows corresponding to an entity the feature describes and\n",
        "- columns corresponding to the feature values.\n",
        "\n",
        "You are provided with the convenience function named `encode_virus_features` which takes as an input:\n",
        "- a virus feature dataframe,\n",
        "- an array of viruses (in the form of `pandas Index`) which features are to be encoded\n",
        "- the name of the columns corresponding to the selected feature type\n",
        "\n",
        "and returns\n",
        "- a sparse binary feature matrix (one-hot encoding of features) and\n",
        "- the corresponding feature index that maps columns of the matrix back into the original features of viruses from the training.\n",
        "\n",
        "The feature index will be later used for preprocessing the features of the target viruses."
      ]
    },
    {
      "cell_type": "markdown",
      "metadata": {
        "id": "_kv991j1zZMe"
      },
      "source": [
        "#### resistance into sparse format"
      ]
    },
    {
      "cell_type": "code",
      "execution_count": 19,
      "metadata": {
        "id": "pRkBbLivzZMe"
      },
      "outputs": [],
      "source": [
        "# your code here:\n",
        "virus_strength_feature_matrix, virus_strength_feature_idx = encode_virus_features(\n",
        "     resistance, virus_index, 'compound_id'\n",
        ")"
      ]
    },
    {
      "cell_type": "code",
      "execution_count": 20,
      "metadata": {
        "id": "-nKY86v-zZMf"
      },
      "outputs": [],
      "source": [
        "assert virus_strength_feature_matrix.shape[0] == len(virus_index)"
      ]
    },
    {
      "cell_type": "markdown",
      "metadata": {
        "id": "LH08xl85zZMg"
      },
      "source": [
        "#### virus family into sparse format"
      ]
    },
    {
      "cell_type": "markdown",
      "metadata": {
        "id": "vxdGVfFDzZMg"
      },
      "source": [
        "Do the same transformation for the `virus family` feature below:"
      ]
    },
    {
      "cell_type": "code",
      "execution_count": 21,
      "metadata": {
        "id": "7xWb_MY_zZMh"
      },
      "outputs": [],
      "source": [
        "# your code here:\n",
        "virus_family_feature_matrix, virus_family_feature_idx = encode_virus_features(\n",
        "    virus_families, virus_index, 'family'\n",
        ")"
      ]
    },
    {
      "cell_type": "code",
      "execution_count": 22,
      "metadata": {
        "id": "5mImOF8vzZMh"
      },
      "outputs": [],
      "source": [
        "assert virus_family_feature_matrix.shape[0] == len(virus_index)"
      ]
    },
    {
      "cell_type": "markdown",
      "metadata": {
        "id": "W9qWXe-wzZMi"
      },
      "source": [
        "## Transform target viruses' features into sparse format (total 2 pts)"
      ]
    },
    {
      "cell_type": "markdown",
      "metadata": {
        "id": "Ykw-KxZTzZMi"
      },
      "source": [
        "You also need to perform the corresponding transformation of features for the target viruses that are not part of the train by construction.\n",
        "\n",
        "- Recall that not all target viruses have their `family` feature represented in the train data. The same holds for the `resistance` feature as well.\n",
        "- The `encode_virus_features` takes care of that by filtering out the non-consistent features that cannot be a part of the training.\n",
        "- To make it work you just need to provide the proper index of the features obtained at the earlier steps of the feature transformation:\n",
        "  - the index must be provided via an optional argument `feature_index` (must be of `pandas Index` type),\n",
        "  - mind that all features that are not covered by the provided feature index must be discarded (controlled by the `drop_invalid` argument, `True` by default)"
      ]
    },
    {
      "cell_type": "markdown",
      "metadata": {
        "id": "1VnNX-FGzZMi"
      },
      "source": [
        "### resistance (1 pts)"
      ]
    },
    {
      "cell_type": "code",
      "execution_count": 23,
      "metadata": {
        "id": "9H6qMHjZzZMj"
      },
      "outputs": [],
      "source": [
        "# fill in the missing parts of the code:\n",
        "virus_cold_start_strength_feature_matrix, virus_cold_start_strength_feature_idx = encode_virus_features(\n",
        "    resistance,\n",
        "    cold_start_viruses,\n",
        "    'compound_id',\n",
        "    feature_index = virus_strength_feature_idx, # provide the proper feature index\n",
        "    drop_invalid = True  # filter out features inconsistent with train data\n",
        ")"
      ]
    },
    {
      "cell_type": "markdown",
      "metadata": {
        "id": "bU1Wtqu0zZMj"
      },
      "source": [
        "### family (1 pts)"
      ]
    },
    {
      "cell_type": "code",
      "execution_count": 24,
      "metadata": {
        "id": "91mfrSjszZMk"
      },
      "outputs": [],
      "source": [
        "# fill in the missing parts of the code:\n",
        "virus_cold_start_family_feature_matrix, virus_cold_start_family_feature_idx = encode_virus_features(\n",
        "    virus_families,\n",
        "    cold_start_viruses,\n",
        "    'family',\n",
        "    feature_index = virus_family_feature_idx, # provide the proper feature index\n",
        "    drop_invalid = True  # filter out features inconsistent with train data\n",
        ")"
      ]
    },
    {
      "cell_type": "markdown",
      "metadata": {
        "id": "1kqXJxeizZMk"
      },
      "source": [
        "# Building the hybrid recommender model"
      ]
    },
    {
      "cell_type": "markdown",
      "metadata": {
        "id": "hEdjy4vxzZMk"
      },
      "source": [
        "Your task is to gradually improve the model following the instructions provided below."
      ]
    },
    {
      "cell_type": "markdown",
      "metadata": {
        "id": "3xZL1RsBzZMl"
      },
      "source": [
        "## Initial setup for LightFM"
      ]
    },
    {
      "cell_type": "markdown",
      "metadata": {
        "id": "KbDi9YFvzZMl"
      },
      "source": [
        "### data description"
      ]
    },
    {
      "cell_type": "code",
      "execution_count": 25,
      "metadata": {
        "id": "YzpwdIZEzZMm",
        "colab": {
          "base_uri": "https://localhost:8080/"
        },
        "outputId": "6a03c827-3bcf-4717-b258-58ea7077caec"
      },
      "outputs": [
        {
          "output_type": "execute_result",
          "data": {
            "text/plain": [
              "{'users': 'virus_id',\n",
              " 'items': 'compound_id',\n",
              " 'n_users': 100,\n",
              " 'n_items': 3791,\n",
              " 'item_features': None}"
            ]
          },
          "metadata": {},
          "execution_count": 25
        }
      ],
      "source": [
        "data_description = dict(\n",
        "    users = 'virus_id',\n",
        "    items = 'compound_id',\n",
        "    n_users = len(virus_index),\n",
        "    n_items = len(compound_index),\n",
        "    # user_features = ... skip for now, will be defined later\n",
        "    item_features = None # compound features are not present in the dataset\n",
        ")\n",
        "data_description"
      ]
    },
    {
      "cell_type": "markdown",
      "metadata": {
        "id": "5OWYcAtKzZMm"
      },
      "source": [
        "You will use a separate data description dictionary for generating predictions. This dictionary will provide the necessary information about the target viruses."
      ]
    },
    {
      "cell_type": "code",
      "execution_count": 26,
      "metadata": {
        "id": "65bcY8pYzZMm",
        "colab": {
          "base_uri": "https://localhost:8080/"
        },
        "outputId": "f9ac61b2-38ff-4930-c81a-025905e17674"
      },
      "outputs": [
        {
          "output_type": "execute_result",
          "data": {
            "text/plain": [
              "{'users': 'virus_id',\n",
              " 'items': 'compound_id',\n",
              " 'n_cold_users': 8,\n",
              " 'n_items': 3791,\n",
              " 'item_features': None}"
            ]
          },
          "metadata": {},
          "execution_count": 26
        }
      ],
      "source": [
        "data_description_cold_start = dict(\n",
        "    users = 'virus_id',\n",
        "    items = 'compound_id',\n",
        "    n_cold_users = len(cold_start_viruses),\n",
        "    n_items = len(compound_index),\n",
        "    # user_features = ... skip for now, will be defined later\n",
        "    item_features = None # compound features are not present in the dataset\n",
        ")\n",
        "data_description_cold_start"
      ]
    },
    {
      "cell_type": "markdown",
      "metadata": {
        "id": "SQS7NYXnzZMn"
      },
      "source": [
        "### hyper-parameters"
      ]
    },
    {
      "cell_type": "code",
      "execution_count": 27,
      "metadata": {
        "id": "IDCLdrwMzZMo"
      },
      "outputs": [],
      "source": [
        "lfm_config = dict(\n",
        "    no_components = 60,\n",
        "    loss = 'warp',\n",
        "    max_sampled = 1,\n",
        "    max_epochs = 60,\n",
        "    learning_schedule = 'adagrad',\n",
        "    user_alpha = 1e-3,\n",
        "    item_alpha = 1e-3,\n",
        "    random_state = 7032023\n",
        ")"
      ]
    },
    {
      "cell_type": "markdown",
      "metadata": {
        "id": "Qz-RJQy2zZMp"
      },
      "source": [
        "### evaluation"
      ]
    },
    {
      "cell_type": "code",
      "execution_count": 28,
      "metadata": {
        "id": "v_poRzTUzZMr"
      },
      "outputs": [],
      "source": [
        "topn = 5"
      ]
    },
    {
      "cell_type": "markdown",
      "metadata": {
        "id": "XDn_xSwOzZMs"
      },
      "source": [
        "## The simplest case - using the \"family\" feature (total 10 pts)"
      ]
    },
    {
      "cell_type": "markdown",
      "metadata": {
        "id": "3AKXdZaqzZMt"
      },
      "source": [
        "### training"
      ]
    },
    {
      "cell_type": "code",
      "execution_count": 29,
      "metadata": {
        "id": "jZnrSXt_zZNW"
      },
      "outputs": [],
      "source": [
        "data_description['user_features'] = virus_family_feature_matrix"
      ]
    },
    {
      "cell_type": "code",
      "execution_count": 30,
      "metadata": {
        "id": "aOWw08F-zZNX",
        "colab": {
          "base_uri": "https://localhost:8080/"
        },
        "outputId": "6c187fda-6833-483b-a3d1-07026ffc476d"
      },
      "outputs": [
        {
          "output_type": "stream",
          "name": "stderr",
          "text": [
            "100%|██████████| 60/60 [00:01<00:00, 39.42it/s]\n"
          ]
        }
      ],
      "source": [
        "lfm_model = build_lfm_model(\n",
        "    lfm_config,\n",
        "    train_matrix,\n",
        "    data_description,\n",
        "    iterator = tqdm\n",
        ")"
      ]
    },
    {
      "cell_type": "markdown",
      "metadata": {
        "id": "Zvr6TazrzZNX"
      },
      "source": [
        "### generating predictions"
      ]
    },
    {
      "cell_type": "markdown",
      "metadata": {
        "id": "DRIn8zTHzZNY"
      },
      "source": [
        "#### Implement scoring function (10 pts)"
      ]
    },
    {
      "cell_type": "code",
      "execution_count": 31,
      "metadata": {
        "id": "KQFnuv2pzZNY"
      },
      "outputs": [],
      "source": [
        "# your code here\n",
        "def lightfm_scoring_base(model, data, data_description):\n",
        "    \"\"\"\n",
        "    A standard scoring function adopted for use with LightFM in the user cold-start settings.\n",
        "    \"\"\"\n",
        "    dtype = 'i4'\n",
        "    all_items = np.arange(data_description['n_items'], dtype=dtype)\n",
        "    test_users = np.arange(data_description['n_cold_users'], dtype = dtype)\n",
        "    item_index, user_index = np.meshgrid(all_items, test_users, copy=False)\n",
        "\n",
        "    user_features = data_description['user_features']\n",
        "    lfm_scores = model.predict(\n",
        "        user_index.ravel(),\n",
        "        item_index.ravel(),\n",
        "        user_features = data_description['user_features']\n",
        "    )\n",
        "    scores = lfm_scores.reshape(len(test_users), len(all_items))\n",
        "    return scores"
      ]
    },
    {
      "cell_type": "markdown",
      "metadata": {
        "id": "kopPoE36zZNZ"
      },
      "source": [
        "Use `data_description_cold_start` dictionary to initialize the required variables."
      ]
    },
    {
      "cell_type": "code",
      "execution_count": 32,
      "metadata": {
        "id": "NHRDCnm-zZNa"
      },
      "outputs": [],
      "source": [
        "data_description_cold_start['user_features'] = virus_cold_start_family_feature_matrix"
      ]
    },
    {
      "cell_type": "code",
      "execution_count": 33,
      "metadata": {
        "id": "XZmceF46zZNb"
      },
      "outputs": [],
      "source": [
        "lfm_scores = lightfm_scoring_base(lfm_model, None, data_description_cold_start)\n",
        "lfm_recs = topn_recommendations(lfm_scores, topn=topn)"
      ]
    },
    {
      "cell_type": "markdown",
      "metadata": {
        "id": "LMmq2_nSzZNc"
      },
      "source": [
        "#### Evaluate the result using Kaggle"
      ]
    },
    {
      "cell_type": "code",
      "execution_count": 35,
      "metadata": {
        "id": "Zzn97C2tzZNd"
      },
      "outputs": [],
      "source": [
        "kaggle_submission_name = 'base_model.csv'\n",
        "\n",
        "save_submission(\n",
        "    lfm_recs, cold_start_viruses, compound_index, name=kaggle_submission_name\n",
        ")"
      ]
    },
    {
      "cell_type": "code",
      "execution_count": 36,
      "metadata": {
        "id": "sz3_LYFvzZNe",
        "colab": {
          "base_uri": "https://localhost:8080/"
        },
        "outputId": "a720a155-2e72-4211-edef-8600a2505924"
      },
      "outputs": [
        {
          "output_type": "stream",
          "name": "stdout",
          "text": [
            "100% 333/333 [00:01<00:00, 201B/s]\n",
            "User cancelled operation\n"
          ]
        }
      ],
      "source": [
        "!kaggle competitions submit -c {competition_name} -f {kaggle_submission_name} -m 'base model v.1'"
      ]
    },
    {
      "cell_type": "markdown",
      "metadata": {
        "id": "xnwwO4PDzZNf"
      },
      "source": [
        "Please also report the obtained score on the Kaggle leaderboard here."
      ]
    },
    {
      "cell_type": "markdown",
      "source": [
        "Kaggle result: 0.06896"
      ],
      "metadata": {
        "id": "TKLWSfGWy75J"
      }
    },
    {
      "cell_type": "markdown",
      "metadata": {
        "id": "fnU2cSrLzZNf"
      },
      "source": [
        "### handling biases (total 13 pts)"
      ]
    },
    {
      "cell_type": "markdown",
      "metadata": {
        "id": "YdRWSKgLzZNf"
      },
      "source": [
        "It is perhaps reasonable to assume that most popular and effective compounds are known to scientists and most likely have been tried out in the first place with the new viruses. As there's still no positive activation data, it means that the predictive model must avoid favoring popular compounds in recommendations.\n",
        "\n",
        "Recall that, in the `LightFM` model, the major popularity biases are captured in the linear bias terms. Also note that:\n",
        "- when measured across different items, the variance of the bias prediction term $\\operatorname{Var}_y\\left[b^\\top y\\right]$ can be higher than the variance of the factorization term $\\operatorname{Var}_y\\left[x^\\top PQ^\\top y\\right]$\n",
        "  - if this is the case, the difference in predicted scores related to the factorization term may become negligible and won't affect ranking of the items;\n",
        "  - in other words, the recommendations of your model may promote items with the highest bias values and provide little to no personalization.\n",
        "- Unfortunately, `LightFM` neither lets you to disable biases nor does it provide a separate regularisation coefficient for linear biases (so that their influence could be decreased).\n",
        "- Hence, you will use a simple heuristic - just set biases to 0 when generating prediction scores\n",
        "\n",
        "\n",
        "**The task**:\n",
        "- implement scoring function that allows disabling linear bias terms for items. (10 pts)\n",
        "  - implement a new variant of the scoring function that takes an additional **boolean** argument `item_bias` as input\n",
        "    - if `item_bias` is `False`, the function must temporarily set the corresponding bias terms to 0 when computng prediction scores\n",
        "  - you can access `LightFM`'s biases array via `model.item_biases` variable (see [documentation](https://making.lyst.com/lightfm/docs/lightfm.html))\n",
        "    - make sure to store the current values of biases in a temporary array using the `numpy`'s `.copy()` function\n",
        "    - set all item bias weights to zero via an inplace operation `*= 0`\n",
        "  - don't forget to restore biases once the the prediction scores are generated;:\n",
        "    - use the `model.item_biases[:] = ...` syntax to make sure you're not creating a new varibale\n",
        "\n",
        "You are only required to handle biases related to compounds.  \n",
        "- Explain, why the linear bias term related to viruses do not play any role in the task? (3 pts)"
      ]
    },
    {
      "cell_type": "code",
      "execution_count": 34,
      "metadata": {
        "id": "jWTQ-2__zZNh"
      },
      "outputs": [],
      "source": [
        "# your code here\n",
        "def lightfm_scoring(model, data, data_description, item_bias=True):\n",
        "    dtype = 'i4'\n",
        "    all_items = np.arange(data_description['n_items'], dtype=dtype)\n",
        "    test_users = np.arange(data_description['n_cold_users'], dtype = dtype)\n",
        "    item_index, user_index = np.meshgrid(all_items, test_users, copy=False)\n",
        "    #print(len(model.item_biases))\n",
        "    if item_bias == False:\n",
        "      item_biases = model.item_biases.copy()\n",
        "      model.item_biases[:] = np.zeros_like(model.item_biases)\n",
        "\n",
        "    user_features = data_description['user_features']\n",
        "    lfm_scores = model.predict(\n",
        "        user_index.ravel(),\n",
        "        item_index.ravel(),\n",
        "        user_features = data_description['user_features']\n",
        "    )\n",
        "    if item_bias == False:\n",
        "        model.item_biases[:] = item_biases\n",
        "    scores = lfm_scores.reshape(len(test_users), len(all_items))\n",
        "    return scores"
      ]
    },
    {
      "cell_type": "markdown",
      "metadata": {
        "id": "sHfSTmUlzZNi"
      },
      "source": [
        "#### regenerating scores with disabled biases"
      ]
    },
    {
      "cell_type": "code",
      "execution_count": 35,
      "metadata": {
        "id": "7T818a8izZNi"
      },
      "outputs": [],
      "source": [
        "lfm_scores = lightfm_scoring(lfm_model, None, data_description_cold_start, item_bias=False)\n",
        "lfm_recs = topn_recommendations(lfm_scores, topn=topn)"
      ]
    },
    {
      "cell_type": "markdown",
      "metadata": {
        "id": "R-gijt8ozZNj"
      },
      "source": [
        "#### evaluate the result using Kaggle"
      ]
    },
    {
      "cell_type": "code",
      "execution_count": 36,
      "metadata": {
        "id": "Eb_uToLFzZNj"
      },
      "outputs": [],
      "source": [
        "kaggle_submission_name = 'debiased_model.csv'\n",
        "\n",
        "save_submission(\n",
        "    lfm_recs, cold_start_viruses, compound_index, name=kaggle_submission_name\n",
        ")"
      ]
    },
    {
      "cell_type": "code",
      "execution_count": 37,
      "metadata": {
        "id": "WLiDHg27zZNk",
        "colab": {
          "base_uri": "https://localhost:8080/"
        },
        "outputId": "03ad9ed0-f6ba-4a0c-e2a8-5bac5f77995a"
      },
      "outputs": [
        {
          "output_type": "stream",
          "name": "stdout",
          "text": [
            "100% 342/342 [00:00<00:00, 754B/s]\n",
            "Successfully submitted to Anti-viral drug discovery - Skoltech RecSys course"
          ]
        }
      ],
      "source": [
        "!kaggle competitions submit -c {competition_name} -f {kaggle_submission_name} -m 'debiased model v.1'"
      ]
    },
    {
      "cell_type": "markdown",
      "metadata": {
        "id": "bXlmW2RGzZNk"
      },
      "source": [
        "Please also report the obtained score on the Kaggle leaderboard here.\n",
        "\n",
        "Kaggle result: 0.10344\n",
        "\n",
        "Was the hypothesis about the influence of bias terms confirmed?\n",
        "Yes"
      ]
    },
    {
      "cell_type": "markdown",
      "metadata": {
        "id": "_AuiDrbmzZNk"
      },
      "source": [
        "## Improved model (total 10 pts)"
      ]
    },
    {
      "cell_type": "markdown",
      "metadata": {
        "id": "IYTqVqzJzZNl"
      },
      "source": [
        "Note that so far you have not implemented a truly hybrid model:\n",
        "- By default, `LightFM` utilizes information about user and item `id`'s only when no feature matrices are provided (unless you use the `lightfm.data.Dataset` class, see [documentation](https://making.lyst.com/lightfm/docs/lightfm.html)).\n",
        "- In the current setup, with explicitly provided `virus family` feature matrix, `LightFM` does not automatically extend the feature space with the `id`'s of the viruses.\n",
        "\n",
        "Hence, the collaborative information is not yet utilized in the best possible way:\n",
        "- a virus is simply represented as a bag of features.\n",
        "- Recall that several viruses can belong to the same family.\n",
        "  - Hence, the **expressiveness of the current virus representation is limited**.\n",
        "\n",
        "The task: (5 pts)\n",
        "- In order to resolve this issue, you need to manually extend representation of viruses by adding one-hot encoding of their `id`'s into the feature matrix.\n",
        "- You can use functions called `eye` and `hstack` from `scipy.sparse`.\n",
        "  - These functions are already imported in this notebook and accessible via the names `speye` and `sp_hstack`."
      ]
    },
    {
      "cell_type": "code",
      "source": [
        "data_description['n_users']"
      ],
      "metadata": {
        "colab": {
          "base_uri": "https://localhost:8080/"
        },
        "id": "IMeo6fgJ-0Mz",
        "outputId": "f9955f08-6782-461f-977e-46052bf19e84"
      },
      "execution_count": 39,
      "outputs": [
        {
          "output_type": "execute_result",
          "data": {
            "text/plain": [
              "100"
            ]
          },
          "metadata": {},
          "execution_count": 39
        }
      ]
    },
    {
      "cell_type": "code",
      "source": [
        "speye(data_description['n_users'])"
      ],
      "metadata": {
        "colab": {
          "base_uri": "https://localhost:8080/"
        },
        "id": "rNbo4q0e-xrP",
        "outputId": "3659e67f-f934-4a4f-ea92-6b1c670b65fe"
      },
      "execution_count": 39,
      "outputs": [
        {
          "output_type": "execute_result",
          "data": {
            "text/plain": [
              "<100x100 sparse matrix of type '<class 'numpy.float64'>'\n",
              "\twith 100 stored elements (1 diagonals) in DIAgonal format>"
            ]
          },
          "metadata": {},
          "execution_count": 39
        }
      ]
    },
    {
      "cell_type": "code",
      "source": [
        "virus_family_feature_matrix"
      ],
      "metadata": {
        "colab": {
          "base_uri": "https://localhost:8080/"
        },
        "id": "WSNiMl4c-60i",
        "outputId": "5900dc51-d45e-4f1a-f5e8-79688d571024"
      },
      "execution_count": 40,
      "outputs": [
        {
          "output_type": "execute_result",
          "data": {
            "text/plain": [
              "<100x44 sparse matrix of type '<class 'numpy.float64'>'\n",
              "\twith 100 stored elements in Compressed Sparse Row format>"
            ]
          },
          "metadata": {},
          "execution_count": 40
        }
      ]
    },
    {
      "cell_type": "code",
      "execution_count": 36,
      "metadata": {
        "id": "gYNtm63azZNl"
      },
      "outputs": [],
      "source": [
        "# your code here\n",
        "data_description['user_features'] = sp_hstack(\n",
        "    (virus_family_feature_matrix, speye(data_description['n_users']))\n",
        ")"
      ]
    },
    {
      "cell_type": "markdown",
      "metadata": {
        "id": "G_hJ6atTzZNo"
      },
      "source": [
        "### retrain the extended model"
      ]
    },
    {
      "cell_type": "code",
      "execution_count": 37,
      "metadata": {
        "id": "zansDC1tzZNo",
        "colab": {
          "base_uri": "https://localhost:8080/"
        },
        "outputId": "9bd4172e-875e-41c0-f378-fcf04396406c"
      },
      "outputs": [
        {
          "output_type": "stream",
          "name": "stderr",
          "text": [
            "100%|██████████| 60/60 [00:01<00:00, 36.49it/s]\n"
          ]
        }
      ],
      "source": [
        "lfm_model = build_lfm_model(\n",
        "    lfm_config,\n",
        "    train_matrix,\n",
        "    data_description,\n",
        "    iterator = tqdm\n",
        ")"
      ]
    },
    {
      "cell_type": "markdown",
      "metadata": {
        "id": "ID-BejMSzZNp"
      },
      "source": [
        "### generate recommendations (5 pts)"
      ]
    },
    {
      "cell_type": "markdown",
      "metadata": {
        "id": "3wz5E8PCzZNp"
      },
      "source": [
        "You also need to update the representation for the target viruses.\n",
        "\n",
        "- Note that there is no `id` feature for the target viruses in the model because they are not part of the training data.\n",
        "- Hence, you simply need to add an empty block of the proper shape to conform with the extended feature space.\n",
        "    - Use `csr_matrix` constructor to generate an empty matrix of conforming size"
      ]
    },
    {
      "cell_type": "code",
      "source": [
        "virus_cold_start_family_feature_matrix"
      ],
      "metadata": {
        "colab": {
          "base_uri": "https://localhost:8080/"
        },
        "id": "yAiNPpWS_dvp",
        "outputId": "a5e4ee05-e314-4daf-dd4e-02185602b81a"
      },
      "execution_count": 38,
      "outputs": [
        {
          "output_type": "execute_result",
          "data": {
            "text/plain": [
              "<8x44 sparse matrix of type '<class 'numpy.float64'>'\n",
              "\twith 4 stored elements in Compressed Sparse Row format>"
            ]
          },
          "metadata": {},
          "execution_count": 38
        }
      ]
    },
    {
      "cell_type": "code",
      "source": [
        "empty_matrix = csr_matrix((data_description_cold_start['n_cold_users'],\n",
        "                 data_description['n_users']))"
      ],
      "metadata": {
        "id": "OjpRW2PJ_gCB"
      },
      "execution_count": 39,
      "outputs": []
    },
    {
      "cell_type": "code",
      "execution_count": 40,
      "metadata": {
        "id": "4i_tmOa9zZNp"
      },
      "outputs": [],
      "source": [
        "# your code here\n",
        "data_description_cold_start['user_features'] = sp_hstack(\n",
        "    (empty_matrix, virus_cold_start_family_feature_matrix) \n",
        ")"
      ]
    },
    {
      "cell_type": "code",
      "source": [
        "data_description_cold_start"
      ],
      "metadata": {
        "colab": {
          "base_uri": "https://localhost:8080/"
        },
        "id": "E3pSAoj_A5Pq",
        "outputId": "100488c2-795f-47eb-83b7-8c65f9e2cd01"
      },
      "execution_count": 41,
      "outputs": [
        {
          "output_type": "execute_result",
          "data": {
            "text/plain": [
              "{'users': 'virus_id',\n",
              " 'items': 'compound_id',\n",
              " 'n_cold_users': 8,\n",
              " 'n_items': 3791,\n",
              " 'item_features': None,\n",
              " 'user_features': <8x144 sparse matrix of type '<class 'numpy.float64'>'\n",
              " \twith 4 stored elements in Compressed Sparse Row format>}"
            ]
          },
          "metadata": {},
          "execution_count": 41
        }
      ]
    },
    {
      "cell_type": "code",
      "execution_count": 42,
      "metadata": {
        "id": "z2ZCjaYUzZNr"
      },
      "outputs": [],
      "source": [
        "lfm_scores = lightfm_scoring(lfm_model, None, data_description_cold_start, item_bias=False)\n",
        "lfm_recs = topn_recommendations(lfm_scores, topn=topn)"
      ]
    },
    {
      "cell_type": "markdown",
      "metadata": {
        "id": "vM7qmAl9zZNs"
      },
      "source": [
        "### evaluate the result using Kaggle"
      ]
    },
    {
      "cell_type": "code",
      "execution_count": 196,
      "metadata": {
        "id": "Y40FIIpVzZNs"
      },
      "outputs": [],
      "source": [
        "kaggle_submission_name = 'improved_model.csv'\n",
        "\n",
        "save_submission(\n",
        "    lfm_recs, cold_start_viruses, compound_index, name=kaggle_submission_name\n",
        ")"
      ]
    },
    {
      "cell_type": "code",
      "execution_count": 197,
      "metadata": {
        "id": "qlpJDZWezZNt",
        "colab": {
          "base_uri": "https://localhost:8080/"
        },
        "outputId": "57c5a567-c21f-43a7-d9cd-3a2c7a9a4569"
      },
      "outputs": [
        {
          "output_type": "stream",
          "name": "stdout",
          "text": [
            "100% 337/337 [00:00<00:00, 560B/s]\n",
            "Successfully submitted to Anti-viral drug discovery - Skoltech RecSys course"
          ]
        }
      ],
      "source": [
        "!kaggle competitions submit -c {competition_name} -f {kaggle_submission_name} -m 'improved model v.1'"
      ]
    },
    {
      "cell_type": "markdown",
      "metadata": {
        "id": "HPrODDsnzZNt"
      },
      "source": [
        "Please report the obtained score on the Kaggle leaderboard here.\n",
        "- Were you able to improve the metric?\n",
        "- How does enabling/disabling item biases affect the result?\n",
        "0.10344\n",
        "\n",
        "enabling item biases doesn't improve score"
      ]
    },
    {
      "cell_type": "markdown",
      "metadata": {
        "id": "vb5ApFxQzZNt"
      },
      "source": [
        "## Including the virus resistance feature (total 15 pts)"
      ]
    },
    {
      "cell_type": "markdown",
      "metadata": {
        "id": "8o9FiPOVzZNu"
      },
      "source": [
        "Following the same steps as before, construct an extended representation of virus features that utilizes of three types of information:\n",
        "- collaborative\n",
        "- virus family features\n",
        "- virus resistance against compounds\n",
        "\n",
        "\n",
        "Note that each virus may have been testsed against several different compounds with negative activation result.\n",
        "- Hence, the two types of features -- `family` and `resistance` -- will have an unequal contribution into the feature representation.\n",
        "- The `resistance` feature will dominate for viruses with a lot of experimental data.\n",
        "\n",
        "Your task now is not only to extend the feature space but also to properly normalize the `resistance` feature so that its contribution becomes comparable to that of the `family` feature."
      ]
    },
    {
      "cell_type": "markdown",
      "metadata": {
        "id": "n4Uco0ZJzZNu"
      },
      "source": [
        "### extending feature space with the normalized resistance feature"
      ]
    },
    {
      "cell_type": "markdown",
      "metadata": {
        "id": "4VtdXMgazZNu"
      },
      "source": [
        "You need to perform two steps:\n",
        "- Implement a simple feature normalization function that will normalize each row in a feature matrix by the number of non-zero elements in this row.\n",
        "  - You can use `diags` function from `scipy.sparse` for weights. It is already imported in the notebook under the name `spdiags`.\n",
        "- Apply the function to the `resistance` feature matrix before extending the feature space. (5 pts)"
      ]
    },
    {
      "cell_type": "code",
      "execution_count": 43,
      "metadata": {
        "id": "mQydGouSzZNv"
      },
      "outputs": [],
      "source": [
        "def normalize_features(feature_matrix):\n",
        "    '''\n",
        "    Normalize the input sparse binary feature matrix for every row.\n",
        "\n",
        "    Parameters\n",
        "    ----------\n",
        "    feature_matrix : scipy.sparse.csr_matrix\n",
        "        The input feature matrix, where each row is a binary feature vector.\n",
        "\n",
        "    Returns\n",
        "    -------\n",
        "    scipy.sparse.csr_matrix\n",
        "        The normalized feature matrix, where each row is a probability distribution \n",
        "        over the features.\n",
        "\n",
        "    Examples\n",
        "    --------\n",
        "    For a feature matrix (take A as a sparse matrix) A= [[1, 0, 1], [0, 0, 1], [1, 1, 1]], \n",
        "    the normalized feature matrix is [[0.5, 0, 0.5], [0, 0, 1], [0.333, 0.333, 0.333]].\n",
        "\n",
        "    Take into account that this function takes and returns sparse matrices. \n",
        "    Dense matrices are used here for the sake of example.\n",
        "    >>> A = np.array([[1, 0, 1], [0, 0, 1], [1, 1, 1]])\n",
        "    >>> normalize_features(spdiags(A).tocsr())\n",
        "    array([[0.5  , 0.   , 0.5  ],\n",
        "           [0.   , 0.   , 1.   ],\n",
        "           [0.333, 0.333, 0.333]])\n",
        "\n",
        "    Notes\n",
        "    -----\n",
        "    The normalization is performed by dividing each row by the sum of its non-zero \n",
        "    elements. If a row has all zeros, it is left unchanged.\n",
        "    '''\n",
        "    # your code here\n",
        "    sum = np.array(feature_matrix.sum(axis=1))\n",
        "    sum[sum == 0] = 1\n",
        "    array_norm = feature_matrix/sum\n",
        "    return array_norm\n",
        "    "
      ]
    },
    {
      "cell_type": "markdown",
      "metadata": {
        "id": "qEqcDsI3zZNz"
      },
      "source": [
        "Use the `normalize_features` function that you implemented to get the extended feature representation that includes all three type of information: (10 pts)\n",
        "- colaborative\n",
        "- feature family\n",
        "- resistance"
      ]
    },
    {
      "cell_type": "code",
      "source": [
        "speye(data_description['n_users'])"
      ],
      "metadata": {
        "colab": {
          "base_uri": "https://localhost:8080/"
        },
        "id": "G8hXKCp3KTa9",
        "outputId": "e4b1ffcd-34ce-4923-c571-f27eecf74aae"
      },
      "execution_count": 45,
      "outputs": [
        {
          "output_type": "execute_result",
          "data": {
            "text/plain": [
              "<100x100 sparse matrix of type '<class 'numpy.float64'>'\n",
              "\twith 100 stored elements (1 diagonals) in DIAgonal format>"
            ]
          },
          "metadata": {},
          "execution_count": 45
        }
      ]
    },
    {
      "cell_type": "code",
      "source": [
        "virus_family_feature_matrix"
      ],
      "metadata": {
        "colab": {
          "base_uri": "https://localhost:8080/"
        },
        "id": "96bb9f2PKgzi",
        "outputId": "4b0aae17-8158-41ec-999f-8e858a03942c"
      },
      "execution_count": 46,
      "outputs": [
        {
          "output_type": "execute_result",
          "data": {
            "text/plain": [
              "<100x44 sparse matrix of type '<class 'numpy.float64'>'\n",
              "\twith 100 stored elements in Compressed Sparse Row format>"
            ]
          },
          "metadata": {},
          "execution_count": 46
        }
      ]
    },
    {
      "cell_type": "code",
      "source": [
        "normalize_features(virus_strength_feature_matrix).shape"
      ],
      "metadata": {
        "colab": {
          "base_uri": "https://localhost:8080/"
        },
        "id": "nC_3aYwDKm42",
        "outputId": "81db5eba-6aa5-4338-f997-7e568bcbb5a2"
      },
      "execution_count": 47,
      "outputs": [
        {
          "output_type": "execute_result",
          "data": {
            "text/plain": [
              "(100, 4313)"
            ]
          },
          "metadata": {},
          "execution_count": 47
        }
      ]
    },
    {
      "cell_type": "code",
      "source": [
        "virus_cold_start_family_feature_matrix"
      ],
      "metadata": {
        "colab": {
          "base_uri": "https://localhost:8080/"
        },
        "id": "eBwbIkZJK2VV",
        "outputId": "8961f7e4-f9e0-447a-b0fa-75420c202625"
      },
      "execution_count": 62,
      "outputs": [
        {
          "output_type": "execute_result",
          "data": {
            "text/plain": [
              "<8x44 sparse matrix of type '<class 'numpy.float64'>'\n",
              "\twith 4 stored elements in Compressed Sparse Row format>"
            ]
          },
          "metadata": {},
          "execution_count": 62
        }
      ]
    },
    {
      "cell_type": "code",
      "source": [
        "normalize_features(virus_cold_start_strength_feature_matrix).shape"
      ],
      "metadata": {
        "colab": {
          "base_uri": "https://localhost:8080/"
        },
        "id": "Qu6_oa0IK59J",
        "outputId": "b868a0ea-ad34-4d2a-bb41-a9d9f1e5f854"
      },
      "execution_count": 64,
      "outputs": [
        {
          "output_type": "execute_result",
          "data": {
            "text/plain": [
              "(8, 4313)"
            ]
          },
          "metadata": {},
          "execution_count": 64
        }
      ]
    },
    {
      "cell_type": "code",
      "execution_count": 44,
      "metadata": {
        "id": "mbzLkHRTzZNz"
      },
      "outputs": [],
      "source": [
        "# your code here\n",
        "data_description['user_features'] = sp_hstack(\n",
        "    (speye(data_description['n_users']),\n",
        "     virus_family_feature_matrix,\n",
        "     normalize_features(virus_strength_feature_matrix))\n",
        ")\n",
        "\n",
        "\n",
        "data_description_cold_start['user_features'] = sp_hstack(\n",
        "    (csr_matrix((data_description_cold_start['n_cold_users'],\n",
        "                 data_description['n_users'])),\n",
        "     virus_cold_start_family_feature_matrix,\n",
        "     normalize_features(virus_cold_start_strength_feature_matrix))\n",
        "    )"
      ]
    },
    {
      "cell_type": "markdown",
      "metadata": {
        "id": "vBnREqjMzZN0"
      },
      "source": [
        "### generate recommendations"
      ]
    },
    {
      "cell_type": "code",
      "execution_count": 45,
      "metadata": {
        "id": "QAcBVmbIzZN0",
        "colab": {
          "base_uri": "https://localhost:8080/"
        },
        "outputId": "dc1f84a5-09d4-4779-81fb-a22a75e87745"
      },
      "outputs": [
        {
          "output_type": "stream",
          "name": "stderr",
          "text": [
            "100%|██████████| 60/60 [01:21<00:00,  1.36s/it]\n"
          ]
        }
      ],
      "source": [
        "lfm_model = build_lfm_model(\n",
        "    lfm_config,\n",
        "    train_matrix,\n",
        "    data_description,\n",
        "    iterator = tqdm\n",
        ")"
      ]
    },
    {
      "cell_type": "code",
      "execution_count": 46,
      "metadata": {
        "id": "g_PzX0yRzZN1"
      },
      "outputs": [],
      "source": [
        "lfm_scores = lightfm_scoring(lfm_model, None, data_description_cold_start, item_bias=True)\n",
        "lfm_recs = topn_recommendations(lfm_scores, topn=topn)"
      ]
    },
    {
      "cell_type": "markdown",
      "metadata": {
        "id": "Fbd0JH_5zZN1"
      },
      "source": [
        "### evaluate the result using Kaggle"
      ]
    },
    {
      "cell_type": "code",
      "execution_count": 46,
      "metadata": {
        "id": "1JhBUkOZzZN1"
      },
      "outputs": [],
      "source": [
        "kaggle_submission_name = 'all_features_model.csv'\n",
        "\n",
        "save_submission(\n",
        "    lfm_recs, cold_start_viruses, compound_index, name=kaggle_submission_name\n",
        ")"
      ]
    },
    {
      "cell_type": "code",
      "execution_count": 47,
      "metadata": {
        "id": "i9frL9YxzZN2",
        "colab": {
          "base_uri": "https://localhost:8080/"
        },
        "outputId": "8a7251ed-07b6-4a71-f070-9e185c69b036"
      },
      "outputs": [
        {
          "output_type": "stream",
          "name": "stdout",
          "text": [
            "100% 343/343 [00:03<00:00, 105B/s]\n",
            "Successfully submitted to Anti-viral drug discovery - Skoltech RecSys course"
          ]
        }
      ],
      "source": [
        "!kaggle competitions submit -c {competition_name} -f {kaggle_submission_name} -m 'all features model v.1'"
      ]
    },
    {
      "cell_type": "markdown",
      "metadata": {
        "id": "bERORdf4zZN3"
      },
      "source": [
        "Please report the obtained score on the Kaggle leaderboard here.\n",
        "\n",
        "- Were you able to improve the metric?"
      ]
    },
    {
      "cell_type": "markdown",
      "source": [
        "Kaggle leaderboard: 0.17241"
      ],
      "metadata": {
        "id": "ivXmHrDlgmaV"
      }
    },
    {
      "cell_type": "markdown",
      "metadata": {
        "id": "sLPX2fl6zZN3"
      },
      "source": [
        "Before proceeding, try to explain why you obtained this result after modifying the feature space.\n",
        "\n",
        "We add information to the feature space. This information is usefull. So model has more information to create recommendations"
      ]
    },
    {
      "cell_type": "markdown",
      "metadata": {
        "id": "YBdr0HmDzZN4"
      },
      "source": [
        "## Relative feature weighting (total 10 pts)"
      ]
    },
    {
      "cell_type": "markdown",
      "metadata": {
        "id": "Z61q7DuBzZN4"
      },
      "source": [
        "Note that once all three types of features are added, their relative contribution uniformly decreases.\n",
        "- In the beginning, you had collaborative and `family` features, so their relative contribution was one half.\n",
        "- With extended representation the contribution is one third for each type.\n",
        "\n",
        "Hypothesis:\n",
        "- Reducing the relative contribution of collaborative part is likely to be the cause of the quality drop.\n",
        "\n",
        "The task:\n",
        "- Implement additional reweighting so that the contribution of collaborative part is one half again.\n",
        "- The distribution of relative contribution weights between the `family` and the `resistance` feature must be controlled via an additional scalar hyper-parameter $\\alpha \\in [0, 1]$, i.e.,\n",
        "  - all the `family` features must be globally multiplied by $\\alpha$,\n",
        "  - all the `resistance` features must be globally multiplied by $1-\\alpha$.\n",
        "    - That way, the scenario with only collaborative and `family` features is covered by setting $\\alpha=1$.\n",
        "    - Likewise, excluding `family` feature will correspond to $\\alpha=0$."
      ]
    },
    {
      "cell_type": "code",
      "execution_count": 47,
      "metadata": {
        "id": "KL717-0DzZN4"
      },
      "outputs": [],
      "source": [
        "family_feature_weight = 0.4 # the alpha hyper-parameter"
      ]
    },
    {
      "cell_type": "markdown",
      "metadata": {
        "id": "vEARd3GtzZPV"
      },
      "source": [
        "Define the reweightend feature space using the `family_feature_weight` value: (10 pts)"
      ]
    },
    {
      "cell_type": "code",
      "execution_count": 48,
      "metadata": {
        "id": "93O0k288zZPW"
      },
      "outputs": [],
      "source": [
        "# your code here\n",
        "data_description['user_features'] = sp_hstack(\n",
        "    [speye(data_description['n_users']), \n",
        "     family_feature_weight * virus_family_feature_matrix,\n",
        "     (1.0 - family_feature_weight) * normalize_features(virus_strength_feature_matrix)]\n",
        "     )\n",
        "\n",
        "data_description_cold_start['user_features'] = sp_hstack(\n",
        "    [csr_matrix((data_description_cold_start['n_cold_users'], \n",
        "                 data_description['n_users'])),\n",
        "    family_feature_weight * virus_cold_start_family_feature_matrix,\n",
        "    (1.0 - family_feature_weight) * normalize_features(virus_cold_start_strength_feature_matrix)]\n",
        "    )"
      ]
    },
    {
      "cell_type": "markdown",
      "metadata": {
        "id": "ru8g3FZ6zZPW"
      },
      "source": [
        "### generate recommendations"
      ]
    },
    {
      "cell_type": "code",
      "execution_count": 49,
      "metadata": {
        "id": "cQD382m1zZPX",
        "colab": {
          "base_uri": "https://localhost:8080/"
        },
        "outputId": "1b819277-7a11-4e37-879a-84db46214ef5"
      },
      "outputs": [
        {
          "output_type": "stream",
          "name": "stderr",
          "text": [
            "100%|██████████| 60/60 [01:10<00:00,  1.18s/it]\n"
          ]
        }
      ],
      "source": [
        "lfm_model = build_lfm_model(\n",
        "    lfm_config,\n",
        "    train_matrix,\n",
        "    data_description,\n",
        "    iterator = tqdm\n",
        ")"
      ]
    },
    {
      "cell_type": "code",
      "execution_count": 50,
      "metadata": {
        "id": "mi6qRxR6zZPX"
      },
      "outputs": [],
      "source": [
        "lfm_scores = lightfm_scoring(lfm_model, None, data_description_cold_start, item_bias=False)\n",
        "lfm_recs = topn_recommendations(lfm_scores, topn=topn)"
      ]
    },
    {
      "cell_type": "markdown",
      "metadata": {
        "id": "1ybsEtt6zZPY"
      },
      "source": [
        "### evaluate the result using Kaggle"
      ]
    },
    {
      "cell_type": "code",
      "execution_count": 51,
      "metadata": {
        "id": "qp35CSEqzZPY"
      },
      "outputs": [],
      "source": [
        "kaggle_submission_name = 'reweighted_features_model.csv'\n",
        "\n",
        "save_submission(\n",
        "    lfm_recs, cold_start_viruses, compound_index, name=kaggle_submission_name\n",
        ")"
      ]
    },
    {
      "cell_type": "code",
      "source": [
        "!kaggle competitions submit -c {competition_name} -f {kaggle_submission_name} -m 'reweighted features model v.1'"
      ],
      "metadata": {
        "colab": {
          "base_uri": "https://localhost:8080/"
        },
        "id": "LC7mDUOrphuR",
        "outputId": "5c7982d5-30bf-4d10-fa45-7efb80e9760c"
      },
      "execution_count": 52,
      "outputs": [
        {
          "output_type": "stream",
          "name": "stdout",
          "text": [
            "\r  0% 0.00/345 [00:00<?, ?B/s]\r100% 345/345 [00:00<00:00, 1.55kB/s]\n",
            "Successfully submitted to Anti-viral drug discovery - Skoltech RecSys course"
          ]
        }
      ]
    },
    {
      "cell_type": "code",
      "execution_count": 53,
      "metadata": {
        "id": "drm-SVxwzZPZ",
        "colab": {
          "base_uri": "https://localhost:8080/"
        },
        "outputId": "f58a0bd7-79e0-4c89-873b-d2157229921d"
      },
      "outputs": [
        {
          "output_type": "stream",
          "name": "stdout",
          "text": [
            "100% 344/344 [00:03<00:00, 93.9B/s]\n",
            "Successfully submitted to Anti-viral drug discovery - Skoltech RecSys course"
          ]
        }
      ],
      "source": [
        "!kaggle competitions submit -c {competition_name} -f {kaggle_submission_name} -m 'reweighted features model v.1'"
      ]
    },
    {
      "cell_type": "markdown",
      "metadata": {
        "id": "Gic0cBUrzZPZ"
      },
      "source": [
        "Please report the obtained score on the Kaggle leaderboard here. (5 pts)\n",
        "\n",
        "family_feature_weight = 0.5 score: 0.20689\n",
        "\n",
        "\n",
        "With family_feature_weight = 0.4 score: 0.17241\n",
        "0.45.csv Score: 0.13793\n",
        "0.5 Score: 0.17241\n",
        "0.55 Score: 0.13793\n",
        "\n",
        "- Were you able to improve the metric?\n",
        "- Was the hypothesis confirmed?"
      ]
    },
    {
      "cell_type": "code",
      "source": [
        "import numpy as np\n",
        "\n",
        "list_weights = np.arange(0.4, 0.9, 0.05)\n",
        "list_weights.tolist()"
      ],
      "metadata": {
        "colab": {
          "base_uri": "https://localhost:8080/"
        },
        "id": "2fzfE-CZhnvo",
        "outputId": "290cd3e9-48e2-4c8e-81d4-75dcd91e569f"
      },
      "execution_count": 54,
      "outputs": [
        {
          "output_type": "execute_result",
          "data": {
            "text/plain": [
              "[0.4,\n",
              " 0.45,\n",
              " 0.5,\n",
              " 0.55,\n",
              " 0.6,\n",
              " 0.6499999999999999,\n",
              " 0.7,\n",
              " 0.75,\n",
              " 0.7999999999999999,\n",
              " 0.8499999999999999]"
            ]
          },
          "metadata": {},
          "execution_count": 54
        }
      ]
    },
    {
      "cell_type": "code",
      "source": [
        "for family_feature_weight in tqdm(list_weights.tolist()):\n",
        "  data_description['user_features'] = sp_hstack(\n",
        "      [speye(data_description['n_users']), \n",
        "      family_feature_weight * virus_family_feature_matrix,\n",
        "      (1.0 - family_feature_weight) * normalize_features(virus_strength_feature_matrix)]\n",
        "      )\n",
        "\n",
        "  data_description_cold_start['user_features'] = sp_hstack(\n",
        "      [csr_matrix((data_description_cold_start['n_cold_users'], \n",
        "                  data_description['n_users'])),\n",
        "      family_feature_weight * virus_cold_start_family_feature_matrix,\n",
        "      (1.0 - family_feature_weight) * normalize_features(virus_cold_start_strength_feature_matrix)]\n",
        "      )\n",
        "  lfm_model = build_lfm_model(\n",
        "        lfm_config,\n",
        "        train_matrix,\n",
        "        data_description,\n",
        "        iterator = tqdm\n",
        "    )\n",
        "  \n",
        "  lfm_scores = lightfm_scoring(lfm_model, None, data_description_cold_start, item_bias=False)\n",
        "  lfm_recs = topn_recommendations(lfm_scores, topn=topn)\n",
        "  kaggle_submission_name = f'reweighted_features_model_{family_feature_weight}.csv'\n",
        "  save_submission(lfm_recs, cold_start_viruses, compound_index, name=kaggle_submission_name)"
      ],
      "metadata": {
        "colab": {
          "base_uri": "https://localhost:8080/"
        },
        "id": "3avhaPeoXpk5",
        "outputId": "7e594a11-aefa-480a-97bf-1406018be318"
      },
      "execution_count": 55,
      "outputs": [
        {
          "output_type": "stream",
          "name": "stderr",
          "text": [
            "  0%|          | 0/10 [00:00<?, ?it/s]\n",
            "  0%|          | 0/60 [00:00<?, ?it/s]\u001b[A\n",
            "  2%|▏         | 1/60 [00:02<02:48,  2.86s/it]\u001b[A\n",
            "  3%|▎         | 2/60 [00:05<02:32,  2.62s/it]\u001b[A\n",
            "  5%|▌         | 3/60 [00:07<02:10,  2.29s/it]\u001b[A\n",
            "  7%|▋         | 4/60 [00:08<01:55,  2.06s/it]\u001b[A\n",
            "  8%|▊         | 5/60 [00:11<01:58,  2.15s/it]\u001b[A\n",
            " 10%|█         | 6/60 [00:13<01:52,  2.09s/it]\u001b[A\n",
            " 12%|█▏        | 7/60 [00:15<01:47,  2.02s/it]\u001b[A\n",
            " 13%|█▎        | 8/60 [00:16<01:29,  1.72s/it]\u001b[A\n",
            " 15%|█▌        | 9/60 [00:17<01:16,  1.51s/it]\u001b[A\n",
            " 17%|█▋        | 10/60 [00:18<01:08,  1.36s/it]\u001b[A\n",
            " 18%|█▊        | 11/60 [00:19<01:01,  1.26s/it]\u001b[A\n",
            " 20%|██        | 12/60 [00:20<00:56,  1.19s/it]\u001b[A\n",
            " 22%|██▏       | 13/60 [00:21<00:53,  1.14s/it]\u001b[A\n",
            " 23%|██▎       | 14/60 [00:22<00:50,  1.09s/it]\u001b[A\n",
            " 25%|██▌       | 15/60 [00:23<00:54,  1.22s/it]\u001b[A\n",
            " 27%|██▋       | 16/60 [00:25<01:01,  1.41s/it]\u001b[A\n",
            " 28%|██▊       | 17/60 [00:27<01:03,  1.48s/it]\u001b[A\n",
            " 30%|███       | 18/60 [00:28<00:55,  1.33s/it]\u001b[A\n",
            " 32%|███▏      | 19/60 [00:29<00:50,  1.22s/it]\u001b[A\n",
            " 33%|███▎      | 20/60 [00:30<00:45,  1.13s/it]\u001b[A\n",
            " 35%|███▌      | 21/60 [00:31<00:42,  1.08s/it]\u001b[A\n",
            " 37%|███▋      | 22/60 [00:32<00:39,  1.04s/it]\u001b[A\n",
            " 38%|███▊      | 23/60 [00:33<00:37,  1.03s/it]\u001b[A\n",
            " 40%|████      | 24/60 [00:34<00:36,  1.00s/it]\u001b[A\n",
            " 42%|████▏     | 25/60 [00:34<00:34,  1.02it/s]\u001b[A\n",
            " 43%|████▎     | 26/60 [00:35<00:32,  1.03it/s]\u001b[A\n",
            " 45%|████▌     | 27/60 [00:36<00:31,  1.04it/s]\u001b[A\n",
            " 47%|████▋     | 28/60 [00:38<00:34,  1.08s/it]\u001b[A\n",
            " 48%|████▊     | 29/60 [00:39<00:39,  1.29s/it]\u001b[A\n",
            " 50%|█████     | 30/60 [00:41<00:42,  1.41s/it]\u001b[A\n",
            " 52%|█████▏    | 31/60 [00:42<00:37,  1.28s/it]\u001b[A\n",
            " 53%|█████▎    | 32/60 [00:43<00:33,  1.18s/it]\u001b[A\n",
            " 55%|█████▌    | 33/60 [00:44<00:29,  1.11s/it]\u001b[A\n",
            " 57%|█████▋    | 34/60 [00:45<00:27,  1.06s/it]\u001b[A\n",
            " 58%|█████▊    | 35/60 [00:46<00:25,  1.02s/it]\u001b[A\n",
            " 60%|██████    | 36/60 [00:47<00:23,  1.01it/s]\u001b[A\n",
            " 62%|██████▏   | 37/60 [00:48<00:22,  1.03it/s]\u001b[A\n",
            " 63%|██████▎   | 38/60 [00:49<00:21,  1.04it/s]\u001b[A\n",
            " 65%|██████▌   | 39/60 [00:50<00:19,  1.06it/s]\u001b[A\n",
            " 67%|██████▋   | 40/60 [00:51<00:18,  1.06it/s]\u001b[A\n",
            " 68%|██████▊   | 41/60 [00:52<00:18,  1.04it/s]\u001b[A\n",
            " 70%|███████   | 42/60 [00:53<00:21,  1.20s/it]\u001b[A\n",
            " 72%|███████▏  | 43/60 [00:55<00:23,  1.37s/it]\u001b[A\n",
            " 73%|███████▎  | 44/60 [00:56<00:21,  1.34s/it]\u001b[A\n",
            " 75%|███████▌  | 45/60 [00:57<00:18,  1.21s/it]\u001b[A\n",
            " 77%|███████▋  | 46/60 [00:58<00:15,  1.12s/it]\u001b[A\n",
            " 78%|███████▊  | 47/60 [00:59<00:13,  1.06s/it]\u001b[A\n",
            " 80%|████████  | 48/60 [01:00<00:12,  1.01s/it]\u001b[A\n",
            " 82%|████████▏ | 49/60 [01:01<00:10,  1.01it/s]\u001b[A\n",
            " 83%|████████▎ | 50/60 [01:02<00:09,  1.03it/s]\u001b[A\n",
            " 85%|████████▌ | 51/60 [01:03<00:08,  1.05it/s]\u001b[A\n",
            " 87%|████████▋ | 52/60 [01:04<00:07,  1.06it/s]\u001b[A\n",
            " 88%|████████▊ | 53/60 [01:05<00:06,  1.07it/s]\u001b[A\n",
            " 90%|█████████ | 54/60 [01:05<00:05,  1.07it/s]\u001b[A\n",
            " 92%|█████████▏| 55/60 [01:07<00:05,  1.06s/it]\u001b[A\n",
            " 93%|█████████▎| 56/60 [01:09<00:05,  1.26s/it]\u001b[A\n",
            " 95%|█████████▌| 57/60 [01:10<00:04,  1.41s/it]\u001b[A\n",
            " 97%|█████████▋| 58/60 [01:11<00:02,  1.27s/it]\u001b[A\n",
            " 98%|█████████▊| 59/60 [01:12<00:01,  1.17s/it]\u001b[A\n",
            "100%|██████████| 60/60 [01:13<00:00,  1.23s/it]\n",
            " 10%|█         | 1/10 [01:14<11:06, 74.05s/it]\n",
            "  0%|          | 0/60 [00:00<?, ?it/s]\u001b[A\n",
            "  2%|▏         | 1/60 [00:02<02:45,  2.80s/it]\u001b[A\n",
            "  3%|▎         | 2/60 [00:04<02:12,  2.29s/it]\u001b[A\n",
            "  5%|▌         | 3/60 [00:06<01:52,  1.97s/it]\u001b[A\n",
            "  7%|▋         | 4/60 [00:08<01:51,  1.98s/it]\u001b[A\n",
            "  8%|▊         | 5/60 [00:10<01:55,  2.10s/it]\u001b[A\n",
            " 10%|█         | 6/60 [00:12<01:42,  1.90s/it]\u001b[A\n",
            " 12%|█▏        | 7/60 [00:13<01:27,  1.65s/it]\u001b[A\n",
            " 13%|█▎        | 8/60 [00:14<01:16,  1.46s/it]\u001b[A\n",
            " 15%|█▌        | 9/60 [00:15<01:07,  1.33s/it]\u001b[A\n",
            " 17%|█▋        | 10/60 [00:16<01:01,  1.24s/it]\u001b[A\n",
            " 18%|█▊        | 11/60 [00:17<00:57,  1.17s/it]\u001b[A\n",
            " 20%|██        | 12/60 [00:18<00:53,  1.12s/it]\u001b[A\n",
            " 22%|██▏       | 13/60 [00:19<00:51,  1.09s/it]\u001b[A\n",
            " 23%|██▎       | 14/60 [00:20<00:48,  1.06s/it]\u001b[A\n",
            " 25%|██▌       | 15/60 [00:21<00:47,  1.05s/it]\u001b[A\n",
            " 27%|██▋       | 16/60 [00:23<00:56,  1.28s/it]\u001b[A\n",
            " 28%|██▊       | 17/60 [00:25<01:02,  1.44s/it]\u001b[A\n",
            " 30%|███       | 18/60 [00:26<00:59,  1.41s/it]\u001b[A\n",
            " 32%|███▏      | 19/60 [00:27<00:52,  1.28s/it]\u001b[A\n",
            " 33%|███▎      | 20/60 [00:28<00:47,  1.18s/it]\u001b[A\n",
            " 35%|███▌      | 21/60 [00:29<00:43,  1.10s/it]\u001b[A\n",
            " 37%|███▋      | 22/60 [00:30<00:40,  1.06s/it]\u001b[A\n",
            " 38%|███▊      | 23/60 [00:31<00:38,  1.03s/it]\u001b[A\n",
            " 40%|████      | 24/60 [00:32<00:36,  1.01s/it]\u001b[A\n",
            " 42%|████▏     | 25/60 [00:33<00:34,  1.02it/s]\u001b[A\n",
            " 43%|████▎     | 26/60 [00:34<00:33,  1.03it/s]\u001b[A\n",
            " 45%|████▌     | 27/60 [00:34<00:31,  1.04it/s]\u001b[A\n",
            " 47%|████▋     | 28/60 [00:35<00:30,  1.05it/s]\u001b[A\n",
            " 48%|████▊     | 29/60 [00:37<00:35,  1.16s/it]\u001b[A\n",
            " 50%|█████     | 30/60 [00:39<00:40,  1.35s/it]\u001b[A\n",
            " 52%|█████▏    | 31/60 [00:40<00:40,  1.39s/it]\u001b[A\n",
            " 53%|█████▎    | 32/60 [00:41<00:35,  1.25s/it]\u001b[A\n",
            " 55%|█████▌    | 33/60 [00:42<00:31,  1.15s/it]\u001b[A\n",
            " 57%|█████▋    | 34/60 [00:43<00:28,  1.08s/it]\u001b[A\n",
            " 58%|█████▊    | 35/60 [00:44<00:25,  1.03s/it]\u001b[A\n",
            " 60%|██████    | 36/60 [00:45<00:23,  1.01it/s]\u001b[A\n",
            " 62%|██████▏   | 37/60 [00:46<00:24,  1.06s/it]\u001b[A\n",
            " 63%|██████▎   | 38/60 [00:47<00:22,  1.01s/it]\u001b[A\n",
            " 65%|██████▌   | 39/60 [00:48<00:20,  1.01it/s]\u001b[A\n",
            " 67%|██████▋   | 40/60 [00:49<00:19,  1.03it/s]\u001b[A\n",
            " 68%|██████▊   | 41/60 [00:50<00:18,  1.05it/s]\u001b[A\n",
            " 70%|███████   | 42/60 [00:51<00:19,  1.10s/it]\u001b[A\n",
            " 72%|███████▏  | 43/60 [00:53<00:21,  1.29s/it]\u001b[A\n",
            " 73%|███████▎  | 44/60 [00:55<00:23,  1.45s/it]\u001b[A\n",
            " 75%|███████▌  | 45/60 [00:56<00:20,  1.37s/it]\u001b[A\n",
            " 77%|███████▋  | 46/60 [00:57<00:17,  1.24s/it]\u001b[A\n",
            " 78%|███████▊  | 47/60 [00:58<00:14,  1.14s/it]\u001b[A\n",
            " 80%|████████  | 48/60 [00:59<00:12,  1.07s/it]\u001b[A\n",
            " 82%|████████▏ | 49/60 [01:00<00:11,  1.02s/it]\u001b[A\n",
            " 83%|████████▎ | 50/60 [01:01<00:10,  1.00s/it]\u001b[A\n",
            " 85%|████████▌ | 51/60 [01:01<00:08,  1.02it/s]\u001b[A\n",
            " 87%|████████▋ | 52/60 [01:02<00:07,  1.03it/s]\u001b[A\n",
            " 88%|████████▊ | 53/60 [01:03<00:06,  1.05it/s]\u001b[A\n",
            " 90%|█████████ | 54/60 [01:04<00:05,  1.06it/s]\u001b[A\n",
            " 92%|█████████▏| 55/60 [01:05<00:04,  1.03it/s]\u001b[A\n",
            " 93%|█████████▎| 56/60 [01:07<00:04,  1.21s/it]\u001b[A\n",
            " 95%|█████████▌| 57/60 [01:09<00:04,  1.38s/it]\u001b[A\n",
            " 97%|█████████▋| 58/60 [01:10<00:02,  1.31s/it]\u001b[A\n",
            " 98%|█████████▊| 59/60 [01:11<00:01,  1.19s/it]\u001b[A\n",
            "100%|██████████| 60/60 [01:12<00:00,  1.21s/it]\n",
            " 20%|██        | 2/10 [02:26<09:45, 73.25s/it]\n",
            "  0%|          | 0/60 [00:00<?, ?it/s]\u001b[A\n",
            "  2%|▏         | 1/60 [00:02<02:42,  2.75s/it]\u001b[A\n",
            "  3%|▎         | 2/60 [00:04<02:13,  2.30s/it]\u001b[A\n",
            "  5%|▌         | 3/60 [00:06<01:51,  1.96s/it]\u001b[A\n",
            "  7%|▋         | 4/60 [00:07<01:41,  1.82s/it]\u001b[A\n",
            "  8%|▊         | 5/60 [00:10<01:48,  1.97s/it]\u001b[A\n",
            " 10%|█         | 6/60 [00:11<01:43,  1.92s/it]\u001b[A\n",
            " 12%|█▏        | 7/60 [00:13<01:27,  1.66s/it]\u001b[A\n",
            " 13%|█▎        | 8/60 [00:14<01:16,  1.47s/it]\u001b[A\n",
            " 15%|█▌        | 9/60 [00:15<01:07,  1.33s/it]\u001b[A\n",
            " 17%|█▋        | 10/60 [00:16<01:02,  1.24s/it]\u001b[A\n",
            " 18%|█▊        | 11/60 [00:17<00:57,  1.17s/it]\u001b[A\n",
            " 20%|██        | 12/60 [00:18<00:53,  1.12s/it]\u001b[A\n",
            " 22%|██▏       | 13/60 [00:19<00:50,  1.08s/it]\u001b[A\n",
            " 23%|██▎       | 14/60 [00:20<00:48,  1.06s/it]\u001b[A\n",
            " 25%|██▌       | 15/60 [00:21<00:46,  1.03s/it]\u001b[A\n",
            " 27%|██▋       | 16/60 [00:22<00:49,  1.12s/it]\u001b[A\n",
            " 28%|██▊       | 17/60 [00:24<00:57,  1.34s/it]\u001b[A\n",
            " 30%|███       | 18/60 [00:26<01:01,  1.47s/it]\u001b[A\n",
            " 32%|███▏      | 19/60 [00:27<00:54,  1.32s/it]\u001b[A\n",
            " 33%|███▎      | 20/60 [00:28<00:48,  1.21s/it]\u001b[A\n",
            " 35%|███▌      | 21/60 [00:29<00:44,  1.13s/it]\u001b[A\n",
            " 37%|███▋      | 22/60 [00:29<00:40,  1.08s/it]\u001b[A\n",
            " 38%|███▊      | 23/60 [00:30<00:38,  1.03s/it]\u001b[A\n",
            " 40%|████      | 24/60 [00:31<00:36,  1.00s/it]\u001b[A\n",
            " 42%|████▏     | 25/60 [00:32<00:34,  1.01it/s]\u001b[A\n",
            " 43%|████▎     | 26/60 [00:33<00:33,  1.02it/s]\u001b[A\n",
            " 45%|████▌     | 27/60 [00:34<00:31,  1.04it/s]\u001b[A\n",
            " 47%|████▋     | 28/60 [00:35<00:30,  1.05it/s]\u001b[A\n",
            " 48%|████▊     | 29/60 [00:36<00:31,  1.01s/it]\u001b[A\n",
            " 50%|█████     | 30/60 [00:38<00:36,  1.23s/it]\u001b[A\n",
            " 52%|█████▏    | 31/60 [00:40<00:40,  1.39s/it]\u001b[A\n",
            " 53%|█████▎    | 32/60 [00:41<00:37,  1.32s/it]\u001b[A\n",
            " 55%|█████▌    | 33/60 [00:42<00:32,  1.20s/it]\u001b[A\n",
            " 57%|█████▋    | 34/60 [00:43<00:29,  1.12s/it]\u001b[A\n",
            " 58%|█████▊    | 35/60 [00:44<00:26,  1.07s/it]\u001b[A\n",
            " 60%|██████    | 36/60 [00:45<00:24,  1.02s/it]\u001b[A\n",
            " 62%|██████▏   | 37/60 [00:46<00:22,  1.00it/s]\u001b[A\n",
            " 63%|██████▎   | 38/60 [00:46<00:21,  1.03it/s]\u001b[A\n",
            " 65%|██████▌   | 39/60 [00:47<00:20,  1.04it/s]\u001b[A\n",
            " 67%|██████▋   | 40/60 [00:48<00:19,  1.05it/s]\u001b[A\n",
            " 68%|██████▊   | 41/60 [00:49<00:17,  1.06it/s]\u001b[A\n",
            " 70%|███████   | 42/60 [00:50<00:16,  1.07it/s]\u001b[A\n",
            " 72%|███████▏  | 43/60 [00:52<00:19,  1.14s/it]\u001b[A\n",
            " 73%|███████▎  | 44/60 [00:54<00:21,  1.33s/it]\u001b[A\n",
            " 75%|███████▌  | 45/60 [00:55<00:20,  1.38s/it]\u001b[A\n",
            " 77%|███████▋  | 46/60 [00:56<00:17,  1.24s/it]\u001b[A\n",
            " 78%|███████▊  | 47/60 [00:57<00:14,  1.15s/it]\u001b[A\n",
            " 80%|████████  | 48/60 [00:58<00:12,  1.08s/it]\u001b[A\n",
            " 82%|████████▏ | 49/60 [00:59<00:11,  1.03s/it]\u001b[A\n",
            " 83%|████████▎ | 50/60 [01:00<00:09,  1.01it/s]\u001b[A\n",
            " 85%|████████▌ | 51/60 [01:01<00:08,  1.03it/s]\u001b[A\n",
            " 87%|████████▋ | 52/60 [01:01<00:07,  1.05it/s]\u001b[A\n",
            " 88%|████████▊ | 53/60 [01:02<00:06,  1.06it/s]\u001b[A\n",
            " 90%|█████████ | 54/60 [01:03<00:05,  1.07it/s]\u001b[A\n",
            " 92%|█████████▏| 55/60 [01:04<00:04,  1.07it/s]\u001b[A\n",
            " 93%|█████████▎| 56/60 [01:05<00:03,  1.02it/s]\u001b[A\n",
            " 95%|█████████▌| 57/60 [01:07<00:03,  1.21s/it]\u001b[A\n",
            " 97%|█████████▋| 58/60 [01:09<00:02,  1.38s/it]\u001b[A\n",
            " 98%|█████████▊| 59/60 [01:10<00:01,  1.32s/it]\u001b[A\n",
            "100%|██████████| 60/60 [01:11<00:00,  1.19s/it]\n",
            " 30%|███       | 3/10 [03:38<08:27, 72.55s/it]\n",
            "  0%|          | 0/60 [00:00<?, ?it/s]\u001b[A\n",
            "  2%|▏         | 1/60 [00:02<02:43,  2.78s/it]\u001b[A\n",
            "  3%|▎         | 2/60 [00:04<02:14,  2.31s/it]\u001b[A\n",
            "  5%|▌         | 3/60 [00:06<01:52,  1.97s/it]\u001b[A\n",
            "  7%|▋         | 4/60 [00:07<01:38,  1.75s/it]\u001b[A\n",
            "  8%|▊         | 5/60 [00:09<01:37,  1.77s/it]\u001b[A\n",
            " 10%|█         | 6/60 [00:11<01:42,  1.91s/it]\u001b[A\n",
            " 12%|█▏        | 7/60 [00:13<01:34,  1.79s/it]\u001b[A\n",
            " 13%|█▎        | 8/60 [00:14<01:21,  1.57s/it]\u001b[A\n",
            " 15%|█▌        | 9/60 [00:15<01:11,  1.41s/it]\u001b[A\n",
            " 17%|█▋        | 10/60 [00:16<01:05,  1.30s/it]\u001b[A\n",
            " 18%|█▊        | 11/60 [00:17<00:59,  1.22s/it]\u001b[A\n",
            " 20%|██        | 12/60 [00:18<00:55,  1.15s/it]\u001b[A\n",
            " 22%|██▏       | 13/60 [00:19<00:52,  1.11s/it]\u001b[A\n",
            " 23%|██▎       | 14/60 [00:20<00:49,  1.08s/it]\u001b[A\n",
            " 25%|██▌       | 15/60 [00:21<00:47,  1.05s/it]\u001b[A\n",
            " 27%|██▋       | 16/60 [00:22<00:45,  1.03s/it]\u001b[A\n",
            " 28%|██▊       | 17/60 [00:24<00:50,  1.18s/it]\u001b[A\n",
            " 30%|███       | 18/60 [00:25<00:58,  1.38s/it]\u001b[A\n",
            " 32%|███▏      | 19/60 [00:27<00:59,  1.46s/it]\u001b[A\n",
            " 33%|███▎      | 20/60 [00:28<00:52,  1.31s/it]\u001b[A\n",
            " 35%|███▌      | 21/60 [00:29<00:46,  1.20s/it]\u001b[A\n",
            " 37%|███▋      | 22/60 [00:30<00:42,  1.13s/it]\u001b[A\n",
            " 38%|███▊      | 23/60 [00:31<00:39,  1.07s/it]\u001b[A\n",
            " 40%|████      | 24/60 [00:32<00:37,  1.04s/it]\u001b[A\n",
            " 42%|████▏     | 25/60 [00:33<00:35,  1.01s/it]\u001b[A\n",
            " 43%|████▎     | 26/60 [00:34<00:33,  1.01it/s]\u001b[A\n",
            " 45%|████▌     | 27/60 [00:35<00:32,  1.02it/s]\u001b[A\n",
            " 47%|████▋     | 28/60 [00:36<00:31,  1.03it/s]\u001b[A\n",
            " 48%|████▊     | 29/60 [00:37<00:29,  1.04it/s]\u001b[A\n",
            " 50%|█████     | 30/60 [00:38<00:33,  1.11s/it]\u001b[A\n",
            " 52%|█████▏    | 31/60 [00:40<00:38,  1.32s/it]\u001b[A\n",
            " 53%|█████▎    | 32/60 [00:41<00:39,  1.42s/it]\u001b[A\n",
            " 55%|█████▌    | 33/60 [00:42<00:34,  1.27s/it]\u001b[A\n",
            " 57%|█████▋    | 34/60 [00:43<00:30,  1.16s/it]\u001b[A\n",
            " 58%|█████▊    | 35/60 [00:44<00:27,  1.10s/it]\u001b[A\n",
            " 60%|██████    | 36/60 [00:45<00:25,  1.05s/it]\u001b[A\n",
            " 62%|██████▏   | 37/60 [00:46<00:23,  1.01s/it]\u001b[A\n",
            " 63%|██████▎   | 38/60 [00:47<00:21,  1.01it/s]\u001b[A\n",
            " 65%|██████▌   | 39/60 [00:48<00:20,  1.04it/s]\u001b[A\n",
            " 67%|██████▋   | 40/60 [00:49<00:18,  1.05it/s]\u001b[A\n",
            " 68%|██████▊   | 41/60 [00:50<00:17,  1.06it/s]\u001b[A\n",
            " 70%|███████   | 42/60 [00:51<00:16,  1.07it/s]\u001b[A\n",
            " 72%|███████▏  | 43/60 [00:52<00:16,  1.05it/s]\u001b[A\n",
            " 73%|███████▎  | 44/60 [00:53<00:19,  1.19s/it]\u001b[A\n",
            " 75%|███████▌  | 45/60 [00:55<00:20,  1.39s/it]\u001b[A\n",
            " 77%|███████▋  | 46/60 [00:56<00:18,  1.34s/it]\u001b[A\n",
            " 78%|███████▊  | 47/60 [00:57<00:15,  1.22s/it]\u001b[A\n",
            " 80%|████████  | 48/60 [00:58<00:13,  1.13s/it]\u001b[A\n",
            " 82%|████████▏ | 49/60 [00:59<00:11,  1.07s/it]\u001b[A\n",
            " 83%|████████▎ | 50/60 [01:00<00:10,  1.02s/it]\u001b[A\n",
            " 85%|████████▌ | 51/60 [01:01<00:08,  1.01it/s]\u001b[A\n",
            " 87%|████████▋ | 52/60 [01:02<00:07,  1.03it/s]\u001b[A\n",
            " 88%|████████▊ | 53/60 [01:03<00:06,  1.05it/s]\u001b[A\n",
            " 90%|█████████ | 54/60 [01:04<00:05,  1.06it/s]\u001b[A\n",
            " 92%|█████████▏| 55/60 [01:05<00:04,  1.07it/s]\u001b[A\n",
            " 93%|█████████▎| 56/60 [01:06<00:03,  1.07it/s]\u001b[A\n",
            " 95%|█████████▌| 57/60 [01:07<00:03,  1.07s/it]\u001b[A\n",
            " 97%|█████████▋| 58/60 [01:09<00:02,  1.27s/it]\u001b[A\n",
            " 98%|█████████▊| 59/60 [01:11<00:01,  1.40s/it]\u001b[A\n",
            "100%|██████████| 60/60 [01:11<00:00,  1.20s/it]\n",
            " 40%|████      | 4/10 [04:50<07:14, 72.44s/it]\n",
            "  0%|          | 0/60 [00:00<?, ?it/s]\u001b[A\n",
            "  2%|▏         | 1/60 [00:02<02:40,  2.72s/it]\u001b[A\n",
            "  3%|▎         | 2/60 [00:04<02:12,  2.29s/it]\u001b[A\n",
            "  5%|▌         | 3/60 [00:06<01:50,  1.94s/it]\u001b[A\n",
            "  7%|▋         | 4/60 [00:07<01:36,  1.73s/it]\u001b[A\n",
            "  8%|▊         | 5/60 [00:08<01:25,  1.56s/it]\u001b[A\n",
            " 10%|█         | 6/60 [00:11<01:34,  1.75s/it]\u001b[A\n",
            " 12%|█▏        | 7/60 [00:13<01:38,  1.86s/it]\u001b[A\n",
            " 13%|█▎        | 8/60 [00:14<01:25,  1.64s/it]\u001b[A\n",
            " 15%|█▌        | 9/60 [00:15<01:14,  1.45s/it]\u001b[A\n",
            " 17%|█▋        | 10/60 [00:16<01:06,  1.33s/it]\u001b[A\n",
            " 18%|█▊        | 11/60 [00:17<01:00,  1.23s/it]\u001b[A\n",
            " 20%|██        | 12/60 [00:18<00:55,  1.16s/it]\u001b[A\n",
            " 22%|██▏       | 13/60 [00:19<00:52,  1.11s/it]\u001b[A\n",
            " 23%|██▎       | 14/60 [00:20<00:49,  1.08s/it]\u001b[A\n",
            " 25%|██▌       | 15/60 [00:21<00:47,  1.05s/it]\u001b[A\n",
            " 27%|██▋       | 16/60 [00:22<00:45,  1.03s/it]\u001b[A\n",
            " 28%|██▊       | 17/60 [00:23<00:43,  1.01s/it]\u001b[A\n",
            " 30%|███       | 18/60 [00:25<00:51,  1.24s/it]\u001b[A\n",
            " 32%|███▏      | 19/60 [00:26<00:57,  1.40s/it]\u001b[A\n",
            " 33%|███▎      | 20/60 [00:28<00:56,  1.40s/it]\u001b[A\n",
            " 35%|███▌      | 21/60 [00:29<00:49,  1.26s/it]\u001b[A\n",
            " 37%|███▋      | 22/60 [00:30<00:44,  1.17s/it]\u001b[A\n",
            " 38%|███▊      | 23/60 [00:31<00:40,  1.10s/it]\u001b[A\n",
            " 40%|████      | 24/60 [00:32<00:37,  1.05s/it]\u001b[A\n",
            " 42%|████▏     | 25/60 [00:32<00:35,  1.02s/it]\u001b[A\n",
            " 43%|████▎     | 26/60 [00:33<00:33,  1.00it/s]\u001b[A\n",
            " 45%|████▌     | 27/60 [00:34<00:32,  1.02it/s]\u001b[A\n",
            " 47%|████▋     | 28/60 [00:35<00:31,  1.03it/s]\u001b[A\n",
            " 48%|████▊     | 29/60 [00:36<00:29,  1.04it/s]\u001b[A\n",
            " 50%|█████     | 30/60 [00:37<00:28,  1.05it/s]\u001b[A\n",
            " 52%|█████▏    | 31/60 [00:39<00:31,  1.10s/it]\u001b[A\n",
            " 53%|█████▎    | 32/60 [00:40<00:36,  1.30s/it]\u001b[A\n",
            " 55%|█████▌    | 33/60 [00:42<00:38,  1.41s/it]\u001b[A\n",
            " 57%|█████▋    | 34/60 [00:43<00:32,  1.26s/it]\u001b[A\n",
            " 58%|█████▊    | 35/60 [00:44<00:28,  1.16s/it]\u001b[A\n",
            " 60%|██████    | 36/60 [00:45<00:26,  1.09s/it]\u001b[A\n",
            " 62%|██████▏   | 37/60 [00:46<00:24,  1.05s/it]\u001b[A\n",
            " 63%|██████▎   | 38/60 [00:47<00:22,  1.01s/it]\u001b[A\n",
            " 65%|██████▌   | 39/60 [00:48<00:20,  1.02it/s]\u001b[A\n",
            " 67%|██████▋   | 40/60 [00:49<00:19,  1.04it/s]\u001b[A\n",
            " 68%|██████▊   | 41/60 [00:49<00:18,  1.05it/s]\u001b[A\n",
            " 70%|███████   | 42/60 [00:50<00:16,  1.06it/s]\u001b[A\n",
            " 72%|███████▏  | 43/60 [00:51<00:15,  1.07it/s]\u001b[A\n",
            " 73%|███████▎  | 44/60 [00:52<00:15,  1.06it/s]\u001b[A\n",
            " 75%|███████▌  | 45/60 [00:54<00:17,  1.17s/it]\u001b[A\n",
            " 77%|███████▋  | 46/60 [00:56<00:18,  1.32s/it]\u001b[A\n",
            " 78%|███████▊  | 47/60 [00:57<00:17,  1.36s/it]\u001b[A\n",
            " 80%|████████  | 48/60 [00:58<00:14,  1.23s/it]\u001b[A\n",
            " 82%|████████▏ | 49/60 [00:59<00:12,  1.14s/it]\u001b[A\n",
            " 83%|████████▎ | 50/60 [01:00<00:10,  1.07s/it]\u001b[A\n",
            " 85%|████████▌ | 51/60 [01:01<00:09,  1.03s/it]\u001b[A\n",
            " 87%|████████▋ | 52/60 [01:02<00:07,  1.01it/s]\u001b[A\n",
            " 88%|████████▊ | 53/60 [01:03<00:06,  1.03it/s]\u001b[A\n",
            " 90%|█████████ | 54/60 [01:04<00:05,  1.04it/s]\u001b[A\n",
            " 92%|█████████▏| 55/60 [01:04<00:04,  1.06it/s]\u001b[A\n",
            " 93%|█████████▎| 56/60 [01:05<00:03,  1.07it/s]\u001b[A\n",
            " 95%|█████████▌| 57/60 [01:06<00:02,  1.07it/s]\u001b[A\n",
            " 97%|█████████▋| 58/60 [01:07<00:01,  1.00it/s]\u001b[A\n",
            " 98%|█████████▊| 59/60 [01:09<00:01,  1.22s/it]\u001b[A\n",
            "100%|██████████| 60/60 [01:11<00:00,  1.19s/it]\n",
            " 50%|█████     | 5/10 [06:02<06:01, 72.22s/it]\n",
            "  0%|          | 0/60 [00:00<?, ?it/s]\u001b[A\n",
            "  2%|▏         | 1/60 [00:02<02:39,  2.71s/it]\u001b[A\n",
            "  3%|▎         | 2/60 [00:04<02:08,  2.22s/it]\u001b[A\n",
            "  5%|▌         | 3/60 [00:06<01:49,  1.92s/it]\u001b[A\n",
            "  7%|▋         | 4/60 [00:07<01:35,  1.70s/it]\u001b[A\n",
            "  8%|▊         | 5/60 [00:08<01:24,  1.54s/it]\u001b[A\n",
            " 10%|█         | 6/60 [00:09<01:17,  1.43s/it]\u001b[A\n",
            " 12%|█▏        | 7/60 [00:11<01:25,  1.62s/it]\u001b[A\n",
            " 13%|█▎        | 8/60 [00:14<01:30,  1.74s/it]\u001b[A\n",
            " 15%|█▌        | 9/60 [00:15<01:20,  1.58s/it]\u001b[A\n",
            " 17%|█▋        | 10/60 [00:16<01:11,  1.42s/it]\u001b[A\n",
            " 18%|█▊        | 11/60 [00:17<01:03,  1.30s/it]\u001b[A\n",
            " 20%|██        | 12/60 [00:18<00:57,  1.21s/it]\u001b[A\n",
            " 22%|██▏       | 13/60 [00:19<00:53,  1.14s/it]\u001b[A\n",
            " 23%|██▎       | 14/60 [00:20<00:50,  1.10s/it]\u001b[A\n",
            " 25%|██▌       | 15/60 [00:21<00:48,  1.07s/it]\u001b[A\n",
            " 27%|██▋       | 16/60 [00:22<00:45,  1.04s/it]\u001b[A\n",
            " 28%|██▊       | 17/60 [00:23<00:43,  1.01s/it]\u001b[A\n",
            " 30%|███       | 18/60 [00:24<00:41,  1.01it/s]\u001b[A\n",
            " 32%|███▏      | 19/60 [00:25<00:46,  1.14s/it]\u001b[A\n",
            " 33%|███▎      | 20/60 [00:27<00:53,  1.33s/it]\u001b[A\n",
            " 35%|███▌      | 21/60 [00:29<00:56,  1.44s/it]\u001b[A\n",
            " 37%|███▋      | 22/60 [00:30<00:48,  1.29s/it]\u001b[A\n",
            " 38%|███▊      | 23/60 [00:30<00:43,  1.19s/it]\u001b[A\n",
            " 40%|████      | 24/60 [00:31<00:40,  1.12s/it]\u001b[A\n",
            " 42%|████▏     | 25/60 [00:32<00:37,  1.07s/it]\u001b[A\n",
            " 43%|████▎     | 26/60 [00:33<00:34,  1.03s/it]\u001b[A\n",
            " 45%|████▌     | 27/60 [00:34<00:33,  1.00s/it]\u001b[A\n",
            " 47%|████▋     | 28/60 [00:35<00:31,  1.02it/s]\u001b[A\n",
            " 48%|████▊     | 29/60 [00:36<00:30,  1.03it/s]\u001b[A\n",
            " 50%|█████     | 30/60 [00:37<00:28,  1.04it/s]\u001b[A\n",
            " 52%|█████▏    | 31/60 [00:38<00:27,  1.05it/s]\u001b[A\n",
            " 53%|█████▎    | 32/60 [00:39<00:28,  1.03s/it]\u001b[A\n",
            " 55%|█████▌    | 33/60 [00:41<00:33,  1.25s/it]\u001b[A\n",
            " 57%|█████▋    | 34/60 [00:43<00:36,  1.41s/it]\u001b[A\n",
            " 58%|█████▊    | 35/60 [00:44<00:32,  1.31s/it]\u001b[A\n",
            " 60%|██████    | 36/60 [00:45<00:28,  1.20s/it]\u001b[A\n",
            " 62%|██████▏   | 37/60 [00:46<00:25,  1.12s/it]\u001b[A\n",
            " 63%|██████▎   | 38/60 [00:47<00:23,  1.07s/it]\u001b[A\n",
            " 65%|██████▌   | 39/60 [00:48<00:21,  1.03s/it]\u001b[A\n",
            " 67%|██████▋   | 40/60 [00:49<00:20,  1.00s/it]\u001b[A\n",
            " 68%|██████▊   | 41/60 [00:49<00:18,  1.03it/s]\u001b[A\n",
            " 70%|███████   | 42/60 [00:50<00:17,  1.04it/s]\u001b[A\n",
            " 72%|███████▏  | 43/60 [00:51<00:16,  1.05it/s]\u001b[A\n",
            " 73%|███████▎  | 44/60 [00:52<00:15,  1.06it/s]\u001b[A\n",
            " 75%|███████▌  | 45/60 [00:53<00:14,  1.07it/s]\u001b[A\n",
            " 77%|███████▋  | 46/60 [00:55<00:16,  1.14s/it]\u001b[A\n",
            " 78%|███████▊  | 47/60 [00:57<00:17,  1.33s/it]\u001b[A\n",
            " 80%|████████  | 48/60 [00:58<00:16,  1.38s/it]\u001b[A\n",
            " 82%|████████▏ | 49/60 [00:59<00:13,  1.24s/it]\u001b[A\n",
            " 83%|████████▎ | 50/60 [01:00<00:11,  1.14s/it]\u001b[A\n",
            " 85%|████████▌ | 51/60 [01:01<00:09,  1.07s/it]\u001b[A\n",
            " 87%|████████▋ | 52/60 [01:02<00:08,  1.02s/it]\u001b[A\n",
            " 88%|████████▊ | 53/60 [01:03<00:06,  1.01it/s]\u001b[A\n",
            " 90%|█████████ | 54/60 [01:04<00:05,  1.04it/s]\u001b[A\n",
            " 92%|█████████▏| 55/60 [01:04<00:04,  1.05it/s]\u001b[A\n",
            " 93%|█████████▎| 56/60 [01:05<00:03,  1.06it/s]\u001b[A\n",
            " 95%|█████████▌| 57/60 [01:06<00:02,  1.07it/s]\u001b[A\n",
            " 97%|█████████▋| 58/60 [01:07<00:01,  1.07it/s]\u001b[A\n",
            " 98%|█████████▊| 59/60 [01:08<00:00,  1.01it/s]\u001b[A\n",
            "100%|██████████| 60/60 [01:10<00:00,  1.18s/it]\n",
            " 60%|██████    | 6/10 [07:13<04:47, 71.79s/it]\n",
            "  0%|          | 0/60 [00:00<?, ?it/s]\u001b[A\n",
            "  2%|▏         | 1/60 [00:03<03:24,  3.46s/it]\u001b[A\n",
            "  3%|▎         | 2/60 [00:05<02:28,  2.56s/it]\u001b[A\n",
            "  5%|▌         | 3/60 [00:06<01:59,  2.10s/it]\u001b[A\n",
            "  7%|▋         | 4/60 [00:08<01:41,  1.81s/it]\u001b[A\n",
            "  8%|▊         | 5/60 [00:09<01:28,  1.60s/it]\u001b[A\n",
            " 10%|█         | 6/60 [00:10<01:18,  1.46s/it]\u001b[A\n",
            " 12%|█▏        | 7/60 [00:11<01:13,  1.38s/it]\u001b[A\n",
            " 13%|█▎        | 8/60 [00:13<01:22,  1.58s/it]\u001b[A\n",
            " 15%|█▌        | 9/60 [00:15<01:26,  1.70s/it]\u001b[A\n",
            " 17%|█▋        | 10/60 [00:17<01:16,  1.52s/it]\u001b[A\n",
            " 18%|█▊        | 11/60 [00:18<01:07,  1.37s/it]\u001b[A\n",
            " 20%|██        | 12/60 [00:19<01:00,  1.26s/it]\u001b[A\n",
            " 22%|██▏       | 13/60 [00:20<00:55,  1.18s/it]\u001b[A\n",
            " 23%|██▎       | 14/60 [00:21<00:51,  1.13s/it]\u001b[A\n",
            " 25%|██▌       | 15/60 [00:22<00:48,  1.08s/it]\u001b[A\n",
            " 27%|██▋       | 16/60 [00:23<00:46,  1.05s/it]\u001b[A\n",
            " 28%|██▊       | 17/60 [00:23<00:43,  1.02s/it]\u001b[A\n",
            " 30%|███       | 18/60 [00:24<00:42,  1.00s/it]\u001b[A\n",
            " 32%|███▏      | 19/60 [00:25<00:40,  1.02it/s]\u001b[A\n",
            " 33%|███▎      | 20/60 [00:27<00:44,  1.12s/it]\u001b[A\n",
            " 35%|███▌      | 21/60 [00:29<00:51,  1.33s/it]\u001b[A\n",
            " 37%|███▋      | 22/60 [00:30<00:54,  1.43s/it]\u001b[A\n",
            " 38%|███▊      | 23/60 [00:31<00:47,  1.28s/it]\u001b[A\n",
            " 40%|████      | 24/60 [00:32<00:42,  1.18s/it]\u001b[A\n",
            " 42%|████▏     | 25/60 [00:33<00:39,  1.11s/it]\u001b[A\n",
            " 43%|████▎     | 26/60 [00:34<00:36,  1.06s/it]\u001b[A\n",
            " 45%|████▌     | 27/60 [00:35<00:33,  1.02s/it]\u001b[A\n",
            " 47%|████▋     | 28/60 [00:36<00:31,  1.00it/s]\u001b[A\n",
            " 48%|████▊     | 29/60 [00:37<00:30,  1.03it/s]\u001b[A\n",
            " 50%|█████     | 30/60 [00:38<00:28,  1.04it/s]\u001b[A\n",
            " 52%|█████▏    | 31/60 [00:39<00:27,  1.05it/s]\u001b[A\n",
            " 53%|█████▎    | 32/60 [00:40<00:26,  1.05it/s]\u001b[A\n",
            " 55%|█████▌    | 33/60 [00:41<00:27,  1.00s/it]\u001b[A\n",
            " 57%|█████▋    | 34/60 [00:43<00:31,  1.23s/it]\u001b[A\n",
            " 58%|█████▊    | 35/60 [00:44<00:34,  1.40s/it]\u001b[A\n",
            " 60%|██████    | 36/60 [00:46<00:31,  1.32s/it]\u001b[A\n",
            " 62%|██████▏   | 37/60 [00:46<00:27,  1.21s/it]\u001b[A\n",
            " 63%|██████▎   | 38/60 [00:47<00:24,  1.12s/it]\u001b[A\n",
            " 65%|██████▌   | 39/60 [00:48<00:22,  1.06s/it]\u001b[A\n",
            " 67%|██████▋   | 40/60 [00:49<00:20,  1.02s/it]\u001b[A\n",
            " 68%|██████▊   | 41/60 [00:50<00:18,  1.01it/s]\u001b[A\n",
            " 70%|███████   | 42/60 [00:51<00:17,  1.03it/s]\u001b[A\n",
            " 72%|███████▏  | 43/60 [00:52<00:16,  1.04it/s]\u001b[A\n",
            " 73%|███████▎  | 44/60 [00:53<00:15,  1.05it/s]\u001b[A\n",
            " 75%|███████▌  | 45/60 [00:54<00:14,  1.07it/s]\u001b[A\n",
            " 77%|███████▋  | 46/60 [00:55<00:13,  1.07it/s]\u001b[A\n",
            " 78%|███████▊  | 47/60 [00:56<00:14,  1.12s/it]\u001b[A\n",
            " 80%|████████  | 48/60 [00:58<00:15,  1.31s/it]\u001b[A\n",
            " 82%|████████▏ | 49/60 [01:00<00:15,  1.39s/it]\u001b[A\n",
            " 83%|████████▎ | 50/60 [01:01<00:12,  1.24s/it]\u001b[A\n",
            " 85%|████████▌ | 51/60 [01:01<00:10,  1.14s/it]\u001b[A\n",
            " 87%|████████▋ | 52/60 [01:02<00:08,  1.07s/it]\u001b[A\n",
            " 88%|████████▊ | 53/60 [01:03<00:07,  1.03s/it]\u001b[A\n",
            " 90%|█████████ | 54/60 [01:04<00:05,  1.00it/s]\u001b[A\n",
            " 92%|█████████▏| 55/60 [01:05<00:04,  1.02it/s]\u001b[A\n",
            " 93%|█████████▎| 56/60 [01:06<00:03,  1.05it/s]\u001b[A\n",
            " 95%|█████████▌| 57/60 [01:07<00:02,  1.06it/s]\u001b[A\n",
            " 97%|█████████▋| 58/60 [01:08<00:01,  1.07it/s]\u001b[A\n",
            " 98%|█████████▊| 59/60 [01:09<00:00,  1.08it/s]\u001b[A\n",
            "100%|██████████| 60/60 [01:10<00:00,  1.17s/it]\n",
            " 70%|███████   | 7/10 [08:24<03:34, 71.41s/it]\n",
            "  0%|          | 0/60 [00:00<?, ?it/s]\u001b[A\n",
            "  2%|▏         | 1/60 [00:04<04:02,  4.11s/it]\u001b[A\n",
            "  3%|▎         | 2/60 [00:06<02:44,  2.83s/it]\u001b[A\n",
            "  5%|▌         | 3/60 [00:07<02:07,  2.23s/it]\u001b[A\n",
            "  7%|▋         | 4/60 [00:08<01:45,  1.89s/it]\u001b[A\n",
            "  8%|▊         | 5/60 [00:10<01:31,  1.67s/it]\u001b[A\n",
            " 10%|█         | 6/60 [00:11<01:22,  1.52s/it]\u001b[A\n",
            " 12%|█▏        | 7/60 [00:12<01:14,  1.40s/it]\u001b[A\n",
            " 13%|█▎        | 8/60 [00:13<01:08,  1.31s/it]\u001b[A\n",
            " 15%|█▌        | 9/60 [00:15<01:16,  1.49s/it]\u001b[A\n",
            " 17%|█▋        | 10/60 [00:17<01:21,  1.63s/it]\u001b[A\n",
            " 18%|█▊        | 11/60 [00:18<01:13,  1.51s/it]\u001b[A\n",
            " 20%|██        | 12/60 [00:19<01:05,  1.36s/it]\u001b[A\n",
            " 22%|██▏       | 13/60 [00:20<00:58,  1.25s/it]\u001b[A\n",
            " 23%|██▎       | 14/60 [00:21<00:53,  1.17s/it]\u001b[A\n",
            " 25%|██▌       | 15/60 [00:22<00:50,  1.12s/it]\u001b[A\n",
            " 27%|██▋       | 16/60 [00:23<00:47,  1.07s/it]\u001b[A\n",
            " 28%|██▊       | 17/60 [00:24<00:44,  1.04s/it]\u001b[A\n",
            " 30%|███       | 18/60 [00:25<00:42,  1.02s/it]\u001b[A\n",
            " 32%|███▏      | 19/60 [00:26<00:41,  1.00s/it]\u001b[A\n",
            " 33%|███▎      | 20/60 [00:27<00:39,  1.02it/s]\u001b[A\n",
            " 35%|███▌      | 21/60 [00:28<00:41,  1.07s/it]\u001b[A\n",
            " 37%|███▋      | 22/60 [00:30<00:48,  1.28s/it]\u001b[A\n",
            " 38%|███▊      | 23/60 [00:32<00:53,  1.44s/it]\u001b[A\n",
            " 40%|████      | 24/60 [00:33<00:47,  1.31s/it]\u001b[A\n",
            " 42%|████▏     | 25/60 [00:34<00:42,  1.20s/it]\u001b[A\n",
            " 43%|████▎     | 26/60 [00:35<00:38,  1.12s/it]\u001b[A\n",
            " 45%|████▌     | 27/60 [00:36<00:35,  1.07s/it]\u001b[A\n",
            " 47%|████▋     | 28/60 [00:37<00:32,  1.03s/it]\u001b[A\n",
            " 48%|████▊     | 29/60 [00:38<00:31,  1.00s/it]\u001b[A\n",
            " 50%|█████     | 30/60 [00:39<00:29,  1.03it/s]\u001b[A\n",
            " 52%|█████▏    | 31/60 [00:40<00:28,  1.03it/s]\u001b[A\n",
            " 53%|█████▎    | 32/60 [00:40<00:26,  1.04it/s]\u001b[A\n",
            " 55%|█████▌    | 33/60 [00:41<00:25,  1.05it/s]\u001b[A\n",
            " 57%|█████▋    | 34/60 [00:42<00:25,  1.04it/s]\u001b[A\n",
            " 58%|█████▊    | 35/60 [00:44<00:29,  1.20s/it]\u001b[A\n",
            " 60%|██████    | 36/60 [00:46<00:32,  1.36s/it]\u001b[A\n",
            " 62%|██████▏   | 37/60 [00:47<00:31,  1.36s/it]\u001b[A\n",
            " 63%|██████▎   | 38/60 [00:48<00:26,  1.23s/it]\u001b[A\n",
            " 65%|██████▌   | 39/60 [00:49<00:23,  1.14s/it]\u001b[A\n",
            " 67%|██████▋   | 40/60 [00:50<00:21,  1.07s/it]\u001b[A\n",
            " 68%|██████▊   | 41/60 [00:51<00:19,  1.02s/it]\u001b[A\n",
            " 70%|███████   | 42/60 [00:52<00:17,  1.01it/s]\u001b[A\n",
            " 72%|███████▏  | 43/60 [00:53<00:16,  1.03it/s]\u001b[A\n",
            " 73%|███████▎  | 44/60 [00:54<00:15,  1.04it/s]\u001b[A\n",
            " 75%|███████▌  | 45/60 [00:55<00:14,  1.05it/s]\u001b[A\n",
            " 77%|███████▋  | 46/60 [00:56<00:13,  1.06it/s]\u001b[A\n",
            " 78%|███████▊  | 47/60 [00:56<00:12,  1.07it/s]\u001b[A\n",
            " 80%|████████  | 48/60 [00:58<00:12,  1.03s/it]\u001b[A\n",
            " 82%|████████▏ | 49/60 [00:59<00:13,  1.25s/it]\u001b[A\n",
            " 83%|████████▎ | 50/60 [01:01<00:13,  1.39s/it]\u001b[A\n",
            " 85%|████████▌ | 51/60 [01:02<00:11,  1.29s/it]\u001b[A\n",
            " 87%|████████▋ | 52/60 [01:03<00:09,  1.18s/it]\u001b[A\n",
            " 88%|████████▊ | 53/60 [01:04<00:07,  1.10s/it]\u001b[A\n",
            " 90%|█████████ | 54/60 [01:05<00:06,  1.04s/it]\u001b[A\n",
            " 92%|█████████▏| 55/60 [01:06<00:05,  1.01s/it]\u001b[A\n",
            " 93%|█████████▎| 56/60 [01:07<00:03,  1.02it/s]\u001b[A\n",
            " 95%|█████████▌| 57/60 [01:08<00:02,  1.04it/s]\u001b[A\n",
            " 97%|█████████▋| 58/60 [01:09<00:01,  1.05it/s]\u001b[A\n",
            " 98%|█████████▊| 59/60 [01:10<00:00,  1.07it/s]\u001b[A\n",
            "100%|██████████| 60/60 [01:10<00:00,  1.18s/it]\n",
            " 80%|████████  | 8/10 [09:35<02:22, 71.34s/it]\n",
            "  0%|          | 0/60 [00:00<?, ?it/s]\u001b[A\n",
            "  2%|▏         | 1/60 [00:03<03:54,  3.98s/it]\u001b[A\n",
            "  3%|▎         | 2/60 [00:06<02:55,  3.02s/it]\u001b[A\n",
            "  5%|▌         | 3/60 [00:07<02:13,  2.34s/it]\u001b[A\n",
            "  7%|▋         | 4/60 [00:09<01:49,  1.96s/it]\u001b[A\n",
            "  8%|▊         | 5/60 [00:10<01:33,  1.70s/it]\u001b[A\n",
            " 10%|█         | 6/60 [00:11<01:22,  1.53s/it]\u001b[A\n",
            " 12%|█▏        | 7/60 [00:12<01:14,  1.41s/it]\u001b[A\n",
            " 13%|█▎        | 8/60 [00:13<01:07,  1.30s/it]\u001b[A\n",
            " 15%|█▌        | 9/60 [00:14<01:02,  1.22s/it]\u001b[A\n",
            " 17%|█▋        | 10/60 [00:16<01:10,  1.40s/it]\u001b[A\n",
            " 18%|█▊        | 11/60 [00:18<01:15,  1.55s/it]\u001b[A\n",
            " 20%|██        | 12/60 [00:20<01:11,  1.50s/it]\u001b[A\n",
            " 22%|██▏       | 13/60 [00:21<01:03,  1.34s/it]\u001b[A\n",
            " 23%|██▎       | 14/60 [00:21<00:56,  1.24s/it]\u001b[A\n",
            " 25%|██▌       | 15/60 [00:22<00:52,  1.16s/it]\u001b[A\n",
            " 27%|██▋       | 16/60 [00:23<00:48,  1.10s/it]\u001b[A\n",
            " 28%|██▊       | 17/60 [00:24<00:45,  1.06s/it]\u001b[A\n",
            " 30%|███       | 18/60 [00:25<00:43,  1.03s/it]\u001b[A\n",
            " 32%|███▏      | 19/60 [00:26<00:41,  1.01s/it]\u001b[A\n",
            " 33%|███▎      | 20/60 [00:27<00:39,  1.01it/s]\u001b[A\n",
            " 35%|███▌      | 21/60 [00:28<00:38,  1.02it/s]\u001b[A\n",
            " 37%|███▋      | 22/60 [00:29<00:37,  1.00it/s]\u001b[A\n",
            " 38%|███▊      | 23/60 [00:31<00:45,  1.22s/it]\u001b[A\n",
            " 40%|████      | 24/60 [00:33<00:50,  1.40s/it]\u001b[A\n",
            " 42%|████▏     | 25/60 [00:34<00:47,  1.37s/it]\u001b[A\n",
            " 43%|████▎     | 26/60 [00:35<00:42,  1.24s/it]\u001b[A\n",
            " 45%|████▌     | 27/60 [00:36<00:38,  1.15s/it]\u001b[A\n",
            " 47%|████▋     | 28/60 [00:37<00:34,  1.09s/it]\u001b[A\n",
            " 48%|████▊     | 29/60 [00:38<00:32,  1.04s/it]\u001b[A\n",
            " 50%|█████     | 30/60 [00:39<00:30,  1.00s/it]\u001b[A\n",
            " 52%|█████▏    | 31/60 [00:40<00:28,  1.02it/s]\u001b[A\n",
            " 53%|█████▎    | 32/60 [00:41<00:27,  1.03it/s]\u001b[A\n",
            " 55%|█████▌    | 33/60 [00:42<00:25,  1.05it/s]\u001b[A\n",
            " 57%|█████▋    | 34/60 [00:43<00:24,  1.06it/s]\u001b[A\n",
            " 58%|█████▊    | 35/60 [00:43<00:23,  1.06it/s]\u001b[A\n",
            " 60%|██████    | 36/60 [00:45<00:26,  1.10s/it]\u001b[A\n",
            " 62%|██████▏   | 37/60 [00:47<00:29,  1.30s/it]\u001b[A\n",
            " 63%|██████▎   | 38/60 [00:48<00:30,  1.40s/it]\u001b[A\n",
            " 65%|██████▌   | 39/60 [00:49<00:26,  1.26s/it]\u001b[A\n",
            " 67%|██████▋   | 40/60 [00:50<00:23,  1.16s/it]\u001b[A\n",
            " 68%|██████▊   | 41/60 [00:51<00:20,  1.08s/it]\u001b[A\n",
            " 70%|███████   | 42/60 [00:52<00:18,  1.03s/it]\u001b[A\n",
            " 72%|███████▏  | 43/60 [00:53<00:16,  1.00it/s]\u001b[A\n",
            " 73%|███████▎  | 44/60 [00:54<00:15,  1.02it/s]\u001b[A\n",
            " 75%|███████▌  | 45/60 [00:55<00:14,  1.04it/s]\u001b[A\n",
            " 77%|███████▋  | 46/60 [00:56<00:13,  1.06it/s]\u001b[A\n",
            " 78%|███████▊  | 47/60 [00:57<00:12,  1.07it/s]\u001b[A\n",
            " 80%|████████  | 48/60 [00:58<00:11,  1.08it/s]\u001b[A\n",
            " 82%|████████▏ | 49/60 [00:58<00:10,  1.06it/s]\u001b[A\n",
            " 83%|████████▎ | 50/60 [01:00<00:11,  1.17s/it]\u001b[A\n",
            " 85%|████████▌ | 51/60 [01:02<00:12,  1.34s/it]\u001b[A\n",
            " 87%|████████▋ | 52/60 [01:03<00:10,  1.35s/it]\u001b[A\n",
            " 88%|████████▊ | 53/60 [01:04<00:08,  1.22s/it]\u001b[A\n",
            " 90%|█████████ | 54/60 [01:05<00:06,  1.13s/it]\u001b[A\n",
            " 92%|█████████▏| 55/60 [01:06<00:05,  1.07s/it]\u001b[A\n",
            " 93%|█████████▎| 56/60 [01:07<00:04,  1.02s/it]\u001b[A\n",
            " 95%|█████████▌| 57/60 [01:08<00:02,  1.01it/s]\u001b[A\n",
            " 97%|█████████▋| 58/60 [01:09<00:01,  1.03it/s]\u001b[A\n",
            " 98%|█████████▊| 59/60 [01:10<00:00,  1.05it/s]\u001b[A\n",
            "100%|██████████| 60/60 [01:11<00:00,  1.19s/it]\n",
            " 90%|█████████ | 9/10 [10:46<01:11, 71.36s/it]\n",
            "  0%|          | 0/60 [00:00<?, ?it/s]\u001b[A\n",
            "  2%|▏         | 1/60 [00:03<03:05,  3.14s/it]\u001b[A\n",
            "  3%|▎         | 2/60 [00:06<03:06,  3.22s/it]\u001b[A\n",
            "  5%|▌         | 3/60 [00:07<02:19,  2.45s/it]\u001b[A\n",
            "  7%|▋         | 4/60 [00:09<01:52,  2.01s/it]\u001b[A\n",
            "  8%|▊         | 5/60 [00:10<01:35,  1.74s/it]\u001b[A\n",
            " 10%|█         | 6/60 [00:11<01:24,  1.56s/it]\u001b[A\n",
            " 12%|█▏        | 7/60 [00:12<01:14,  1.41s/it]\u001b[A\n",
            " 13%|█▎        | 8/60 [00:13<01:07,  1.31s/it]\u001b[A\n",
            " 15%|█▌        | 9/60 [00:14<01:02,  1.22s/it]\u001b[A\n",
            " 17%|█▋        | 10/60 [00:15<00:57,  1.16s/it]\u001b[A\n",
            " 18%|█▊        | 11/60 [00:17<01:02,  1.28s/it]\u001b[A\n",
            " 20%|██        | 12/60 [00:19<01:10,  1.47s/it]\u001b[A\n",
            " 22%|██▏       | 13/60 [00:21<01:11,  1.51s/it]\u001b[A\n",
            " 23%|██▎       | 14/60 [00:22<01:02,  1.35s/it]\u001b[A\n",
            " 25%|██▌       | 15/60 [00:23<00:55,  1.24s/it]\u001b[A\n",
            " 27%|██▋       | 16/60 [00:23<00:50,  1.15s/it]\u001b[A\n",
            " 28%|██▊       | 17/60 [00:24<00:47,  1.11s/it]\u001b[A\n",
            " 30%|███       | 18/60 [00:25<00:44,  1.06s/it]\u001b[A\n",
            " 32%|███▏      | 19/60 [00:26<00:41,  1.02s/it]\u001b[A\n",
            " 33%|███▎      | 20/60 [00:27<00:39,  1.00it/s]\u001b[A\n",
            " 35%|███▌      | 21/60 [00:28<00:38,  1.02it/s]\u001b[A\n",
            " 37%|███▋      | 22/60 [00:29<00:36,  1.03it/s]\u001b[A\n",
            " 38%|███▊      | 23/60 [00:30<00:35,  1.04it/s]\u001b[A\n",
            " 40%|████      | 24/60 [00:32<00:40,  1.13s/it]\u001b[A\n",
            " 42%|████▏     | 25/60 [00:33<00:46,  1.32s/it]\u001b[A\n",
            " 43%|████▎     | 26/60 [00:35<00:48,  1.42s/it]\u001b[A\n",
            " 45%|████▌     | 27/60 [00:36<00:42,  1.28s/it]\u001b[A\n",
            " 47%|████▋     | 28/60 [00:37<00:37,  1.18s/it]\u001b[A\n",
            " 48%|████▊     | 29/60 [00:38<00:34,  1.10s/it]\u001b[A\n",
            " 50%|█████     | 30/60 [00:39<00:31,  1.05s/it]\u001b[A\n",
            " 52%|█████▏    | 31/60 [00:40<00:29,  1.01s/it]\u001b[A\n",
            " 53%|█████▎    | 32/60 [00:41<00:27,  1.01it/s]\u001b[A\n",
            " 55%|█████▌    | 33/60 [00:42<00:26,  1.03it/s]\u001b[A\n",
            " 57%|█████▋    | 34/60 [00:43<00:24,  1.05it/s]\u001b[A\n",
            " 58%|█████▊    | 35/60 [00:43<00:23,  1.06it/s]\u001b[A\n",
            " 60%|██████    | 36/60 [00:44<00:22,  1.07it/s]\u001b[A\n",
            " 62%|██████▏   | 37/60 [00:45<00:22,  1.02it/s]\u001b[A\n",
            " 63%|██████▎   | 38/60 [00:47<00:26,  1.22s/it]\u001b[A\n",
            " 65%|██████▌   | 39/60 [00:49<00:29,  1.38s/it]\u001b[A\n",
            " 67%|██████▋   | 40/60 [00:50<00:26,  1.32s/it]\u001b[A\n",
            " 68%|██████▊   | 41/60 [00:51<00:22,  1.20s/it]\u001b[A\n",
            " 70%|███████   | 42/60 [00:52<00:20,  1.12s/it]\u001b[A\n",
            " 72%|███████▏  | 43/60 [00:53<00:17,  1.06s/it]\u001b[A\n",
            " 73%|███████▎  | 44/60 [00:54<00:16,  1.02s/it]\u001b[A\n",
            " 75%|███████▌  | 45/60 [00:55<00:14,  1.01it/s]\u001b[A\n",
            " 77%|███████▋  | 46/60 [00:56<00:13,  1.03it/s]\u001b[A\n",
            " 78%|███████▊  | 47/60 [00:57<00:12,  1.05it/s]\u001b[A\n",
            " 80%|████████  | 48/60 [00:58<00:11,  1.07it/s]\u001b[A\n",
            " 82%|████████▏ | 49/60 [00:58<00:10,  1.08it/s]\u001b[A\n",
            " 83%|████████▎ | 50/60 [00:59<00:09,  1.09it/s]\u001b[A\n",
            " 85%|████████▌ | 51/60 [01:01<00:09,  1.06s/it]\u001b[A\n",
            " 87%|████████▋ | 52/60 [01:02<00:10,  1.25s/it]\u001b[A\n",
            " 88%|████████▊ | 53/60 [01:04<00:09,  1.40s/it]\u001b[A\n",
            " 90%|█████████ | 54/60 [01:05<00:07,  1.27s/it]\u001b[A\n",
            " 92%|█████████▏| 55/60 [01:06<00:05,  1.16s/it]\u001b[A\n",
            " 93%|█████████▎| 56/60 [01:07<00:04,  1.09s/it]\u001b[A\n",
            " 95%|█████████▌| 57/60 [01:08<00:03,  1.03s/it]\u001b[A\n",
            " 97%|█████████▋| 58/60 [01:09<00:01,  1.01it/s]\u001b[A\n",
            " 98%|█████████▊| 59/60 [01:10<00:00,  1.03it/s]\u001b[A\n",
            "100%|██████████| 60/60 [01:11<00:00,  1.18s/it]\n",
            "100%|██████████| 10/10 [11:58<00:00, 71.82s/it]\n"
          ]
        }
      ]
    },
    {
      "cell_type": "code",
      "source": [
        "kaggle_submission_name = 'reweighted_features_model_0.45.csv'"
      ],
      "metadata": {
        "id": "6RrBaZUIc0a6"
      },
      "execution_count": 56,
      "outputs": []
    },
    {
      "cell_type": "code",
      "source": [
        "!kaggle competitions submit -c {competition_name} -f {kaggle_submission_name} -m 'reweighted features model v.2'"
      ],
      "metadata": {
        "colab": {
          "base_uri": "https://localhost:8080/"
        },
        "id": "idR8en_KXq5w",
        "outputId": "e8959699-3e1e-41a8-ca72-f1adb3488b0c"
      },
      "execution_count": 57,
      "outputs": [
        {
          "output_type": "stream",
          "name": "stdout",
          "text": [
            "\r  0% 0.00/349 [00:00<?, ?B/s]\r100% 349/349 [00:00<00:00, 1.70kB/s]\n",
            "Successfully submitted to Anti-viral drug discovery - Skoltech RecSys course"
          ]
        }
      ]
    }
  ],
  "metadata": {
    "colab": {
      "provenance": []
    },
    "kernelspec": {
      "display_name": "lfm",
      "language": "python",
      "name": "python3"
    },
    "language_info": {
      "codemirror_mode": {
        "name": "ipython",
        "version": 3
      },
      "file_extension": ".py",
      "mimetype": "text/x-python",
      "name": "python",
      "nbconvert_exporter": "python",
      "pygments_lexer": "ipython3",
      "version": "3.9.16"
    },
    "orig_nbformat": 4,
    "vscode": {
      "interpreter": {
        "hash": "bbfd4c1a06db866dfcf3c38cf933639840ac8d4e4d1609b986b399f26427fa95"
      }
    }
  },
  "nbformat": 4,
  "nbformat_minor": 0
}