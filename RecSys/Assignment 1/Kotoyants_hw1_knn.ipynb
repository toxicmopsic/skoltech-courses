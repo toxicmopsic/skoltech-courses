{
  "cells": [
    {
      "cell_type": "code",
      "source": [
        "# polara\n",
        "!pip install --upgrade git+https://github.com/evfro/polara.git@develop#egg=polara\n",
        "\n",
        "# ipypb:\n",
        "!pip install ipypb"
      ],
      "metadata": {
        "colab": {
          "base_uri": "https://localhost:8080/"
        },
        "id": "9pFbPvGRZxDs",
        "outputId": "dd5238cf-69de-4a5b-aff4-dbe88ae61c20"
      },
      "execution_count": 1,
      "outputs": [
        {
          "output_type": "stream",
          "name": "stdout",
          "text": [
            "Looking in indexes: https://pypi.org/simple, https://us-python.pkg.dev/colab-wheels/public/simple/\n",
            "Collecting polara\n",
            "  Cloning https://github.com/evfro/polara.git (to revision develop) to /tmp/pip-install-xlzcfus6/polara_f46fc0427005444db8595f149c3f299e\n",
            "  Running command git clone --filter=blob:none --quiet https://github.com/evfro/polara.git /tmp/pip-install-xlzcfus6/polara_f46fc0427005444db8595f149c3f299e\n",
            "  Running command git checkout -b develop --track origin/develop\n",
            "  Switched to a new branch 'develop'\n",
            "  Branch 'develop' set up to track remote branch 'develop' from 'origin'.\n",
            "  Resolved https://github.com/evfro/polara.git to commit 8e48cfd88e616ca53f8bbda1702a3e2c8abaf38e\n",
            "  Preparing metadata (setup.py) ... \u001b[?25l\u001b[?25hdone\n",
            "Building wheels for collected packages: polara\n",
            "  Building wheel for polara (setup.py) ... \u001b[?25l\u001b[?25hdone\n",
            "  Created wheel for polara: filename=polara-0.7.2.dev0-py3-none-any.whl size=89470 sha256=1adf677c7aa9bb011227e24cb58241ebc68042e3176d21b2f7380510c002535f\n",
            "  Stored in directory: /tmp/pip-ephem-wheel-cache-jzj6lli3/wheels/d2/cf/bf/e1a3e49c4a733261d717fa4732eadf0303dabcc48ba694ad7a\n",
            "Successfully built polara\n",
            "Installing collected packages: polara\n",
            "Successfully installed polara-0.7.2.dev0\n",
            "Looking in indexes: https://pypi.org/simple, https://us-python.pkg.dev/colab-wheels/public/simple/\n",
            "Collecting ipypb\n",
            "  Downloading ipypb-0.5.2-py3-none-any.whl (8.6 kB)\n",
            "Installing collected packages: ipypb\n",
            "Successfully installed ipypb-0.5.2\n"
          ]
        }
      ]
    },
    {
      "cell_type": "code",
      "source": [
        "from google.colab import drive\n",
        "drive.mount('/content/drive')"
      ],
      "metadata": {
        "colab": {
          "base_uri": "https://localhost:8080/"
        },
        "id": "bktN1LCOZ7FU",
        "outputId": "9f2ce957-cb11-4cc5-e846-f8812987c773"
      },
      "execution_count": 2,
      "outputs": [
        {
          "output_type": "stream",
          "name": "stdout",
          "text": [
            "Mounted at /content/drive\n"
          ]
        }
      ]
    },
    {
      "cell_type": "code",
      "source": [
        "%cd /content/drive/MyDrive/Skoltech/RecSys/Assignment 1"
      ],
      "metadata": {
        "colab": {
          "base_uri": "https://localhost:8080/"
        },
        "id": "A4LhsMqCZ8aF",
        "outputId": "aeacb9b2-322b-4092-fc0a-b300a94902d5"
      },
      "execution_count": 3,
      "outputs": [
        {
          "output_type": "stream",
          "name": "stdout",
          "text": [
            "/content/drive/MyDrive/Skoltech/RecSys/Assignment 1\n"
          ]
        }
      ]
    },
    {
      "cell_type": "code",
      "execution_count": 4,
      "metadata": {
        "id": "NchNJEqHMG12"
      },
      "outputs": [],
      "source": [
        "import numpy as np\n",
        "import pandas as pd\n",
        "\n",
        "from polara import get_movielens_data\n",
        "from polara.preprocessing.dataframes import leave_one_out, reindex\n",
        "from scipy.sparse import csr_matrix, diags, isspmatrix\n",
        "from sklearn.metrics.pairwise import cosine_similarity\n",
        "\n",
        "\n",
        "#from dataprep import transform_indices, verify_time_split, generate_interactions_matrix\n",
        "from dataprep import transform_indices, verify_time_split\n",
        "from evaluation import topn_recommendations, model_evaluate, downvote_seen_items"
      ]
    },
    {
      "cell_type": "markdown",
      "metadata": {
        "id": "Fmde1dNfMG17"
      },
      "source": [
        "# Task"
      ]
    },
    {
      "cell_type": "markdown",
      "metadata": {
        "id": "IGjQoWTAMG19"
      },
      "source": [
        "Implement two variants of user-based KNN for the top-$n$ recommendations task when:\n",
        "1. similarity matrix is symmetric,\n",
        "2. similarity matrix is asymmetric.\n",
        "\n",
        "Recall, there's no reason for implementing row-wise weighting scheme in user-based KNN. So choose the weighting scheme wisely.\n",
        "\n",
        " In your experiments:  \n",
        "- Test your solution against both weak and strong generalization. \n",
        "  - In total you'll have 4 different experiments.\n",
        "- Follow the \"most-recent-item\" sampling strategy for constructing holdout.\n",
        "  - Explain potential issues of this scheme in relation to both weak and strong generalization.  \n",
        "- Report evaluation metrics, compare the models, and analyse the results.  \n",
        "- Use Movielens-1M data.\n",
        "\n",
        "**Note**: you can reuse some code from seminars if necessary."
      ]
    },
    {
      "cell_type": "code",
      "execution_count": 5,
      "metadata": {
        "id": "Z0W8lQhHMG1-"
      },
      "outputs": [],
      "source": [
        "data = get_movielens_data(include_time=True)"
      ]
    },
    {
      "cell_type": "code",
      "source": [
        "data.head()"
      ],
      "metadata": {
        "id": "x8PvxkngaXFn",
        "outputId": "79f838d6-ba3a-4f11-b80e-140714a19de2",
        "colab": {
          "base_uri": "https://localhost:8080/",
          "height": 206
        }
      },
      "execution_count": 6,
      "outputs": [
        {
          "output_type": "execute_result",
          "data": {
            "text/plain": [
              "   userid  movieid  rating  timestamp\n",
              "0       1     1193       5  978300760\n",
              "1       1      661       3  978302109\n",
              "2       1      914       3  978301968\n",
              "3       1     3408       4  978300275\n",
              "4       1     2355       5  978824291"
            ],
            "text/html": [
              "\n",
              "  <div id=\"df-02c271ea-912d-4604-a436-d88b0d23a769\">\n",
              "    <div class=\"colab-df-container\">\n",
              "      <div>\n",
              "<style scoped>\n",
              "    .dataframe tbody tr th:only-of-type {\n",
              "        vertical-align: middle;\n",
              "    }\n",
              "\n",
              "    .dataframe tbody tr th {\n",
              "        vertical-align: top;\n",
              "    }\n",
              "\n",
              "    .dataframe thead th {\n",
              "        text-align: right;\n",
              "    }\n",
              "</style>\n",
              "<table border=\"1\" class=\"dataframe\">\n",
              "  <thead>\n",
              "    <tr style=\"text-align: right;\">\n",
              "      <th></th>\n",
              "      <th>userid</th>\n",
              "      <th>movieid</th>\n",
              "      <th>rating</th>\n",
              "      <th>timestamp</th>\n",
              "    </tr>\n",
              "  </thead>\n",
              "  <tbody>\n",
              "    <tr>\n",
              "      <th>0</th>\n",
              "      <td>1</td>\n",
              "      <td>1193</td>\n",
              "      <td>5</td>\n",
              "      <td>978300760</td>\n",
              "    </tr>\n",
              "    <tr>\n",
              "      <th>1</th>\n",
              "      <td>1</td>\n",
              "      <td>661</td>\n",
              "      <td>3</td>\n",
              "      <td>978302109</td>\n",
              "    </tr>\n",
              "    <tr>\n",
              "      <th>2</th>\n",
              "      <td>1</td>\n",
              "      <td>914</td>\n",
              "      <td>3</td>\n",
              "      <td>978301968</td>\n",
              "    </tr>\n",
              "    <tr>\n",
              "      <th>3</th>\n",
              "      <td>1</td>\n",
              "      <td>3408</td>\n",
              "      <td>4</td>\n",
              "      <td>978300275</td>\n",
              "    </tr>\n",
              "    <tr>\n",
              "      <th>4</th>\n",
              "      <td>1</td>\n",
              "      <td>2355</td>\n",
              "      <td>5</td>\n",
              "      <td>978824291</td>\n",
              "    </tr>\n",
              "  </tbody>\n",
              "</table>\n",
              "</div>\n",
              "      <button class=\"colab-df-convert\" onclick=\"convertToInteractive('df-02c271ea-912d-4604-a436-d88b0d23a769')\"\n",
              "              title=\"Convert this dataframe to an interactive table.\"\n",
              "              style=\"display:none;\">\n",
              "        \n",
              "  <svg xmlns=\"http://www.w3.org/2000/svg\" height=\"24px\"viewBox=\"0 0 24 24\"\n",
              "       width=\"24px\">\n",
              "    <path d=\"M0 0h24v24H0V0z\" fill=\"none\"/>\n",
              "    <path d=\"M18.56 5.44l.94 2.06.94-2.06 2.06-.94-2.06-.94-.94-2.06-.94 2.06-2.06.94zm-11 1L8.5 8.5l.94-2.06 2.06-.94-2.06-.94L8.5 2.5l-.94 2.06-2.06.94zm10 10l.94 2.06.94-2.06 2.06-.94-2.06-.94-.94-2.06-.94 2.06-2.06.94z\"/><path d=\"M17.41 7.96l-1.37-1.37c-.4-.4-.92-.59-1.43-.59-.52 0-1.04.2-1.43.59L10.3 9.45l-7.72 7.72c-.78.78-.78 2.05 0 2.83L4 21.41c.39.39.9.59 1.41.59.51 0 1.02-.2 1.41-.59l7.78-7.78 2.81-2.81c.8-.78.8-2.07 0-2.86zM5.41 20L4 18.59l7.72-7.72 1.47 1.35L5.41 20z\"/>\n",
              "  </svg>\n",
              "      </button>\n",
              "      \n",
              "  <style>\n",
              "    .colab-df-container {\n",
              "      display:flex;\n",
              "      flex-wrap:wrap;\n",
              "      gap: 12px;\n",
              "    }\n",
              "\n",
              "    .colab-df-convert {\n",
              "      background-color: #E8F0FE;\n",
              "      border: none;\n",
              "      border-radius: 50%;\n",
              "      cursor: pointer;\n",
              "      display: none;\n",
              "      fill: #1967D2;\n",
              "      height: 32px;\n",
              "      padding: 0 0 0 0;\n",
              "      width: 32px;\n",
              "    }\n",
              "\n",
              "    .colab-df-convert:hover {\n",
              "      background-color: #E2EBFA;\n",
              "      box-shadow: 0px 1px 2px rgba(60, 64, 67, 0.3), 0px 1px 3px 1px rgba(60, 64, 67, 0.15);\n",
              "      fill: #174EA6;\n",
              "    }\n",
              "\n",
              "    [theme=dark] .colab-df-convert {\n",
              "      background-color: #3B4455;\n",
              "      fill: #D2E3FC;\n",
              "    }\n",
              "\n",
              "    [theme=dark] .colab-df-convert:hover {\n",
              "      background-color: #434B5C;\n",
              "      box-shadow: 0px 1px 3px 1px rgba(0, 0, 0, 0.15);\n",
              "      filter: drop-shadow(0px 1px 2px rgba(0, 0, 0, 0.3));\n",
              "      fill: #FFFFFF;\n",
              "    }\n",
              "  </style>\n",
              "\n",
              "      <script>\n",
              "        const buttonEl =\n",
              "          document.querySelector('#df-02c271ea-912d-4604-a436-d88b0d23a769 button.colab-df-convert');\n",
              "        buttonEl.style.display =\n",
              "          google.colab.kernel.accessAllowed ? 'block' : 'none';\n",
              "\n",
              "        async function convertToInteractive(key) {\n",
              "          const element = document.querySelector('#df-02c271ea-912d-4604-a436-d88b0d23a769');\n",
              "          const dataTable =\n",
              "            await google.colab.kernel.invokeFunction('convertToInteractive',\n",
              "                                                     [key], {});\n",
              "          if (!dataTable) return;\n",
              "\n",
              "          const docLinkHtml = 'Like what you see? Visit the ' +\n",
              "            '<a target=\"_blank\" href=https://colab.research.google.com/notebooks/data_table.ipynb>data table notebook</a>'\n",
              "            + ' to learn more about interactive tables.';\n",
              "          element.innerHTML = '';\n",
              "          dataTable['output_type'] = 'display_data';\n",
              "          await google.colab.output.renderOutput(dataTable, element);\n",
              "          const docLink = document.createElement('div');\n",
              "          docLink.innerHTML = docLinkHtml;\n",
              "          element.appendChild(docLink);\n",
              "        }\n",
              "      </script>\n",
              "    </div>\n",
              "  </div>\n",
              "  "
            ]
          },
          "metadata": {},
          "execution_count": 6
        }
      ]
    },
    {
      "cell_type": "markdown",
      "metadata": {
        "id": "Xkt-Dy4UMG1-"
      },
      "source": [
        "# Weak generalization test"
      ]
    },
    {
      "cell_type": "markdown",
      "metadata": {
        "id": "-PPMBtRaMG1_"
      },
      "source": [
        "## Preparing data (1 pts)"
      ]
    },
    {
      "cell_type": "markdown",
      "metadata": {
        "id": "sEtRmgLAMG1_"
      },
      "source": [
        "Your task is\n",
        "- split data into training and holdout parts\n",
        "- build a new internal contiguous representation of user and item index based on the training data\n",
        "- make sure same index is used in the holdout data"
      ]
    },
    {
      "cell_type": "code",
      "source": [
        "def generate_interactions_matrix(data, data_description, rebase_users=False):\n",
        "    '''\n",
        "    Convert pandas dataframe with interactions into a sparse matrix.\n",
        "    Allows reindexing user ids, which help ensure data consistency\n",
        "    at the scoring stage (assumes user ids are sorted in scoring array).\n",
        "    '''\n",
        "    n_users = data_description['n_users']\n",
        "    n_items = data_description['n_items']\n",
        "    # get indices of observed data\n",
        "    user_idx = data[data_description['users']].values\n",
        "    if rebase_users:\n",
        "        user_idx, user_index = pd.factorize(user_idx, sort=True)\n",
        "        n_users = len(user_index)\n",
        "    item_idx = data[data_description['items']].values\n",
        "    feedback = data[data_description['feedback']].values\n",
        "    # construct rating matrix\n",
        "    return csr_matrix((feedback, (user_idx, item_idx)), shape=(n_users, n_items))"
      ],
      "metadata": {
        "id": "3ss5rqW6bBJY"
      },
      "execution_count": 7,
      "outputs": []
    },
    {
      "cell_type": "code",
      "execution_count": 8,
      "metadata": {
        "id": "LZwiVoT3MG2A"
      },
      "outputs": [],
      "source": [
        "# split most recent holdout item from each user\n",
        "training_, holdout_ = leave_one_out(\n",
        "    data,\n",
        "    target='timestamp',\n",
        "    sample_top=True,\n",
        "    random_state=0\n",
        ")\n",
        "\n",
        "# check correct time splitting\n",
        "verify_time_split(training_, holdout_)"
      ]
    },
    {
      "cell_type": "code",
      "source": [
        "holdout_"
      ],
      "metadata": {
        "colab": {
          "base_uri": "https://localhost:8080/",
          "height": 424
        },
        "id": "-nMbhkPEbVKt",
        "outputId": "720b3b57-93c7-4b0b-a6db-66c47134f2f8"
      },
      "execution_count": 9,
      "outputs": [
        {
          "output_type": "execute_result",
          "data": {
            "text/plain": [
              "        userid  movieid  rating  timestamp\n",
              "324593    1922      506       4  978163419\n",
              "818775    4918     1617       3  968087239\n",
              "148613     957     1260       4  980731400\n",
              "778833    4653     1836       3  975535839\n",
              "525463    3245     3646       3  968308837\n",
              "...        ...      ...     ...        ...\n",
              "928100    5606      318       5  959194215\n",
              "18265      141     2203       5  977357662\n",
              "440014    2690       32       3  973344717\n",
              "964963    5819     1580       4  957906688\n",
              "735852    4396     3552       5  965160055\n",
              "\n",
              "[6040 rows x 4 columns]"
            ],
            "text/html": [
              "\n",
              "  <div id=\"df-4654862d-add0-418a-92cc-08a909f595a6\">\n",
              "    <div class=\"colab-df-container\">\n",
              "      <div>\n",
              "<style scoped>\n",
              "    .dataframe tbody tr th:only-of-type {\n",
              "        vertical-align: middle;\n",
              "    }\n",
              "\n",
              "    .dataframe tbody tr th {\n",
              "        vertical-align: top;\n",
              "    }\n",
              "\n",
              "    .dataframe thead th {\n",
              "        text-align: right;\n",
              "    }\n",
              "</style>\n",
              "<table border=\"1\" class=\"dataframe\">\n",
              "  <thead>\n",
              "    <tr style=\"text-align: right;\">\n",
              "      <th></th>\n",
              "      <th>userid</th>\n",
              "      <th>movieid</th>\n",
              "      <th>rating</th>\n",
              "      <th>timestamp</th>\n",
              "    </tr>\n",
              "  </thead>\n",
              "  <tbody>\n",
              "    <tr>\n",
              "      <th>324593</th>\n",
              "      <td>1922</td>\n",
              "      <td>506</td>\n",
              "      <td>4</td>\n",
              "      <td>978163419</td>\n",
              "    </tr>\n",
              "    <tr>\n",
              "      <th>818775</th>\n",
              "      <td>4918</td>\n",
              "      <td>1617</td>\n",
              "      <td>3</td>\n",
              "      <td>968087239</td>\n",
              "    </tr>\n",
              "    <tr>\n",
              "      <th>148613</th>\n",
              "      <td>957</td>\n",
              "      <td>1260</td>\n",
              "      <td>4</td>\n",
              "      <td>980731400</td>\n",
              "    </tr>\n",
              "    <tr>\n",
              "      <th>778833</th>\n",
              "      <td>4653</td>\n",
              "      <td>1836</td>\n",
              "      <td>3</td>\n",
              "      <td>975535839</td>\n",
              "    </tr>\n",
              "    <tr>\n",
              "      <th>525463</th>\n",
              "      <td>3245</td>\n",
              "      <td>3646</td>\n",
              "      <td>3</td>\n",
              "      <td>968308837</td>\n",
              "    </tr>\n",
              "    <tr>\n",
              "      <th>...</th>\n",
              "      <td>...</td>\n",
              "      <td>...</td>\n",
              "      <td>...</td>\n",
              "      <td>...</td>\n",
              "    </tr>\n",
              "    <tr>\n",
              "      <th>928100</th>\n",
              "      <td>5606</td>\n",
              "      <td>318</td>\n",
              "      <td>5</td>\n",
              "      <td>959194215</td>\n",
              "    </tr>\n",
              "    <tr>\n",
              "      <th>18265</th>\n",
              "      <td>141</td>\n",
              "      <td>2203</td>\n",
              "      <td>5</td>\n",
              "      <td>977357662</td>\n",
              "    </tr>\n",
              "    <tr>\n",
              "      <th>440014</th>\n",
              "      <td>2690</td>\n",
              "      <td>32</td>\n",
              "      <td>3</td>\n",
              "      <td>973344717</td>\n",
              "    </tr>\n",
              "    <tr>\n",
              "      <th>964963</th>\n",
              "      <td>5819</td>\n",
              "      <td>1580</td>\n",
              "      <td>4</td>\n",
              "      <td>957906688</td>\n",
              "    </tr>\n",
              "    <tr>\n",
              "      <th>735852</th>\n",
              "      <td>4396</td>\n",
              "      <td>3552</td>\n",
              "      <td>5</td>\n",
              "      <td>965160055</td>\n",
              "    </tr>\n",
              "  </tbody>\n",
              "</table>\n",
              "<p>6040 rows × 4 columns</p>\n",
              "</div>\n",
              "      <button class=\"colab-df-convert\" onclick=\"convertToInteractive('df-4654862d-add0-418a-92cc-08a909f595a6')\"\n",
              "              title=\"Convert this dataframe to an interactive table.\"\n",
              "              style=\"display:none;\">\n",
              "        \n",
              "  <svg xmlns=\"http://www.w3.org/2000/svg\" height=\"24px\"viewBox=\"0 0 24 24\"\n",
              "       width=\"24px\">\n",
              "    <path d=\"M0 0h24v24H0V0z\" fill=\"none\"/>\n",
              "    <path d=\"M18.56 5.44l.94 2.06.94-2.06 2.06-.94-2.06-.94-.94-2.06-.94 2.06-2.06.94zm-11 1L8.5 8.5l.94-2.06 2.06-.94-2.06-.94L8.5 2.5l-.94 2.06-2.06.94zm10 10l.94 2.06.94-2.06 2.06-.94-2.06-.94-.94-2.06-.94 2.06-2.06.94z\"/><path d=\"M17.41 7.96l-1.37-1.37c-.4-.4-.92-.59-1.43-.59-.52 0-1.04.2-1.43.59L10.3 9.45l-7.72 7.72c-.78.78-.78 2.05 0 2.83L4 21.41c.39.39.9.59 1.41.59.51 0 1.02-.2 1.41-.59l7.78-7.78 2.81-2.81c.8-.78.8-2.07 0-2.86zM5.41 20L4 18.59l7.72-7.72 1.47 1.35L5.41 20z\"/>\n",
              "  </svg>\n",
              "      </button>\n",
              "      \n",
              "  <style>\n",
              "    .colab-df-container {\n",
              "      display:flex;\n",
              "      flex-wrap:wrap;\n",
              "      gap: 12px;\n",
              "    }\n",
              "\n",
              "    .colab-df-convert {\n",
              "      background-color: #E8F0FE;\n",
              "      border: none;\n",
              "      border-radius: 50%;\n",
              "      cursor: pointer;\n",
              "      display: none;\n",
              "      fill: #1967D2;\n",
              "      height: 32px;\n",
              "      padding: 0 0 0 0;\n",
              "      width: 32px;\n",
              "    }\n",
              "\n",
              "    .colab-df-convert:hover {\n",
              "      background-color: #E2EBFA;\n",
              "      box-shadow: 0px 1px 2px rgba(60, 64, 67, 0.3), 0px 1px 3px 1px rgba(60, 64, 67, 0.15);\n",
              "      fill: #174EA6;\n",
              "    }\n",
              "\n",
              "    [theme=dark] .colab-df-convert {\n",
              "      background-color: #3B4455;\n",
              "      fill: #D2E3FC;\n",
              "    }\n",
              "\n",
              "    [theme=dark] .colab-df-convert:hover {\n",
              "      background-color: #434B5C;\n",
              "      box-shadow: 0px 1px 3px 1px rgba(0, 0, 0, 0.15);\n",
              "      filter: drop-shadow(0px 1px 2px rgba(0, 0, 0, 0.3));\n",
              "      fill: #FFFFFF;\n",
              "    }\n",
              "  </style>\n",
              "\n",
              "      <script>\n",
              "        const buttonEl =\n",
              "          document.querySelector('#df-4654862d-add0-418a-92cc-08a909f595a6 button.colab-df-convert');\n",
              "        buttonEl.style.display =\n",
              "          google.colab.kernel.accessAllowed ? 'block' : 'none';\n",
              "\n",
              "        async function convertToInteractive(key) {\n",
              "          const element = document.querySelector('#df-4654862d-add0-418a-92cc-08a909f595a6');\n",
              "          const dataTable =\n",
              "            await google.colab.kernel.invokeFunction('convertToInteractive',\n",
              "                                                     [key], {});\n",
              "          if (!dataTable) return;\n",
              "\n",
              "          const docLinkHtml = 'Like what you see? Visit the ' +\n",
              "            '<a target=\"_blank\" href=https://colab.research.google.com/notebooks/data_table.ipynb>data table notebook</a>'\n",
              "            + ' to learn more about interactive tables.';\n",
              "          element.innerHTML = '';\n",
              "          dataTable['output_type'] = 'display_data';\n",
              "          await google.colab.output.renderOutput(dataTable, element);\n",
              "          const docLink = document.createElement('div');\n",
              "          docLink.innerHTML = docLinkHtml;\n",
              "          element.appendChild(docLink);\n",
              "        }\n",
              "      </script>\n",
              "    </div>\n",
              "  </div>\n",
              "  "
            ]
          },
          "metadata": {},
          "execution_count": 9
        }
      ]
    },
    {
      "cell_type": "code",
      "source": [
        "training_"
      ],
      "metadata": {
        "colab": {
          "base_uri": "https://localhost:8080/",
          "height": 424
        },
        "id": "6Legev2IbSXB",
        "outputId": "33caec8a-e4a9-4c84-d8e1-864212846039"
      },
      "execution_count": 10,
      "outputs": [
        {
          "output_type": "execute_result",
          "data": {
            "text/plain": [
              "         userid  movieid  rating  timestamp\n",
              "0             1     1193       5  978300760\n",
              "1             1      661       3  978302109\n",
              "2             1      914       3  978301968\n",
              "3             1     3408       4  978300275\n",
              "4             1     2355       5  978824291\n",
              "...         ...      ...     ...        ...\n",
              "1000204    6040     1091       1  956716541\n",
              "1000205    6040     1094       5  956704887\n",
              "1000206    6040      562       5  956704746\n",
              "1000207    6040     1096       4  956715648\n",
              "1000208    6040     1097       4  956715569\n",
              "\n",
              "[994169 rows x 4 columns]"
            ],
            "text/html": [
              "\n",
              "  <div id=\"df-957b037c-6aef-45ae-8877-1dd7fb744452\">\n",
              "    <div class=\"colab-df-container\">\n",
              "      <div>\n",
              "<style scoped>\n",
              "    .dataframe tbody tr th:only-of-type {\n",
              "        vertical-align: middle;\n",
              "    }\n",
              "\n",
              "    .dataframe tbody tr th {\n",
              "        vertical-align: top;\n",
              "    }\n",
              "\n",
              "    .dataframe thead th {\n",
              "        text-align: right;\n",
              "    }\n",
              "</style>\n",
              "<table border=\"1\" class=\"dataframe\">\n",
              "  <thead>\n",
              "    <tr style=\"text-align: right;\">\n",
              "      <th></th>\n",
              "      <th>userid</th>\n",
              "      <th>movieid</th>\n",
              "      <th>rating</th>\n",
              "      <th>timestamp</th>\n",
              "    </tr>\n",
              "  </thead>\n",
              "  <tbody>\n",
              "    <tr>\n",
              "      <th>0</th>\n",
              "      <td>1</td>\n",
              "      <td>1193</td>\n",
              "      <td>5</td>\n",
              "      <td>978300760</td>\n",
              "    </tr>\n",
              "    <tr>\n",
              "      <th>1</th>\n",
              "      <td>1</td>\n",
              "      <td>661</td>\n",
              "      <td>3</td>\n",
              "      <td>978302109</td>\n",
              "    </tr>\n",
              "    <tr>\n",
              "      <th>2</th>\n",
              "      <td>1</td>\n",
              "      <td>914</td>\n",
              "      <td>3</td>\n",
              "      <td>978301968</td>\n",
              "    </tr>\n",
              "    <tr>\n",
              "      <th>3</th>\n",
              "      <td>1</td>\n",
              "      <td>3408</td>\n",
              "      <td>4</td>\n",
              "      <td>978300275</td>\n",
              "    </tr>\n",
              "    <tr>\n",
              "      <th>4</th>\n",
              "      <td>1</td>\n",
              "      <td>2355</td>\n",
              "      <td>5</td>\n",
              "      <td>978824291</td>\n",
              "    </tr>\n",
              "    <tr>\n",
              "      <th>...</th>\n",
              "      <td>...</td>\n",
              "      <td>...</td>\n",
              "      <td>...</td>\n",
              "      <td>...</td>\n",
              "    </tr>\n",
              "    <tr>\n",
              "      <th>1000204</th>\n",
              "      <td>6040</td>\n",
              "      <td>1091</td>\n",
              "      <td>1</td>\n",
              "      <td>956716541</td>\n",
              "    </tr>\n",
              "    <tr>\n",
              "      <th>1000205</th>\n",
              "      <td>6040</td>\n",
              "      <td>1094</td>\n",
              "      <td>5</td>\n",
              "      <td>956704887</td>\n",
              "    </tr>\n",
              "    <tr>\n",
              "      <th>1000206</th>\n",
              "      <td>6040</td>\n",
              "      <td>562</td>\n",
              "      <td>5</td>\n",
              "      <td>956704746</td>\n",
              "    </tr>\n",
              "    <tr>\n",
              "      <th>1000207</th>\n",
              "      <td>6040</td>\n",
              "      <td>1096</td>\n",
              "      <td>4</td>\n",
              "      <td>956715648</td>\n",
              "    </tr>\n",
              "    <tr>\n",
              "      <th>1000208</th>\n",
              "      <td>6040</td>\n",
              "      <td>1097</td>\n",
              "      <td>4</td>\n",
              "      <td>956715569</td>\n",
              "    </tr>\n",
              "  </tbody>\n",
              "</table>\n",
              "<p>994169 rows × 4 columns</p>\n",
              "</div>\n",
              "      <button class=\"colab-df-convert\" onclick=\"convertToInteractive('df-957b037c-6aef-45ae-8877-1dd7fb744452')\"\n",
              "              title=\"Convert this dataframe to an interactive table.\"\n",
              "              style=\"display:none;\">\n",
              "        \n",
              "  <svg xmlns=\"http://www.w3.org/2000/svg\" height=\"24px\"viewBox=\"0 0 24 24\"\n",
              "       width=\"24px\">\n",
              "    <path d=\"M0 0h24v24H0V0z\" fill=\"none\"/>\n",
              "    <path d=\"M18.56 5.44l.94 2.06.94-2.06 2.06-.94-2.06-.94-.94-2.06-.94 2.06-2.06.94zm-11 1L8.5 8.5l.94-2.06 2.06-.94-2.06-.94L8.5 2.5l-.94 2.06-2.06.94zm10 10l.94 2.06.94-2.06 2.06-.94-2.06-.94-.94-2.06-.94 2.06-2.06.94z\"/><path d=\"M17.41 7.96l-1.37-1.37c-.4-.4-.92-.59-1.43-.59-.52 0-1.04.2-1.43.59L10.3 9.45l-7.72 7.72c-.78.78-.78 2.05 0 2.83L4 21.41c.39.39.9.59 1.41.59.51 0 1.02-.2 1.41-.59l7.78-7.78 2.81-2.81c.8-.78.8-2.07 0-2.86zM5.41 20L4 18.59l7.72-7.72 1.47 1.35L5.41 20z\"/>\n",
              "  </svg>\n",
              "      </button>\n",
              "      \n",
              "  <style>\n",
              "    .colab-df-container {\n",
              "      display:flex;\n",
              "      flex-wrap:wrap;\n",
              "      gap: 12px;\n",
              "    }\n",
              "\n",
              "    .colab-df-convert {\n",
              "      background-color: #E8F0FE;\n",
              "      border: none;\n",
              "      border-radius: 50%;\n",
              "      cursor: pointer;\n",
              "      display: none;\n",
              "      fill: #1967D2;\n",
              "      height: 32px;\n",
              "      padding: 0 0 0 0;\n",
              "      width: 32px;\n",
              "    }\n",
              "\n",
              "    .colab-df-convert:hover {\n",
              "      background-color: #E2EBFA;\n",
              "      box-shadow: 0px 1px 2px rgba(60, 64, 67, 0.3), 0px 1px 3px 1px rgba(60, 64, 67, 0.15);\n",
              "      fill: #174EA6;\n",
              "    }\n",
              "\n",
              "    [theme=dark] .colab-df-convert {\n",
              "      background-color: #3B4455;\n",
              "      fill: #D2E3FC;\n",
              "    }\n",
              "\n",
              "    [theme=dark] .colab-df-convert:hover {\n",
              "      background-color: #434B5C;\n",
              "      box-shadow: 0px 1px 3px 1px rgba(0, 0, 0, 0.15);\n",
              "      filter: drop-shadow(0px 1px 2px rgba(0, 0, 0, 0.3));\n",
              "      fill: #FFFFFF;\n",
              "    }\n",
              "  </style>\n",
              "\n",
              "      <script>\n",
              "        const buttonEl =\n",
              "          document.querySelector('#df-957b037c-6aef-45ae-8877-1dd7fb744452 button.colab-df-convert');\n",
              "        buttonEl.style.display =\n",
              "          google.colab.kernel.accessAllowed ? 'block' : 'none';\n",
              "\n",
              "        async function convertToInteractive(key) {\n",
              "          const element = document.querySelector('#df-957b037c-6aef-45ae-8877-1dd7fb744452');\n",
              "          const dataTable =\n",
              "            await google.colab.kernel.invokeFunction('convertToInteractive',\n",
              "                                                     [key], {});\n",
              "          if (!dataTable) return;\n",
              "\n",
              "          const docLinkHtml = 'Like what you see? Visit the ' +\n",
              "            '<a target=\"_blank\" href=https://colab.research.google.com/notebooks/data_table.ipynb>data table notebook</a>'\n",
              "            + ' to learn more about interactive tables.';\n",
              "          element.innerHTML = '';\n",
              "          dataTable['output_type'] = 'display_data';\n",
              "          await google.colab.output.renderOutput(dataTable, element);\n",
              "          const docLink = document.createElement('div');\n",
              "          docLink.innerHTML = docLinkHtml;\n",
              "          element.appendChild(docLink);\n",
              "        }\n",
              "      </script>\n",
              "    </div>\n",
              "  </div>\n",
              "  "
            ]
          },
          "metadata": {},
          "execution_count": 10
        }
      ]
    },
    {
      "cell_type": "code",
      "execution_count": 11,
      "metadata": {
        "id": "ifrAnX4sMG2A",
        "colab": {
          "base_uri": "https://localhost:8080/"
        },
        "outputId": "e046941c-2c70-49dd-d41b-f49681411799"
      },
      "outputs": [
        {
          "output_type": "stream",
          "name": "stdout",
          "text": [
            "Filtered 2 invalid observations.\n"
          ]
        }
      ],
      "source": [
        "# reindex data to make contiguous index starting from 0 for user and item IDs\n",
        "training, data_index = transform_indices(training_, 'userid', 'movieid')\n",
        "\n",
        "# apply new index to the holdout data\n",
        "holdout = reindex(holdout_, data_index.values(), filter_invalid=True)\n",
        "holdout = holdout.sort_values('userid')"
      ]
    },
    {
      "cell_type": "code",
      "source": [
        "training"
      ],
      "metadata": {
        "colab": {
          "base_uri": "https://localhost:8080/",
          "height": 424
        },
        "id": "aGnADfHBb1rS",
        "outputId": "0cfca224-3ff0-42a6-87d9-37a42c29ee42"
      },
      "execution_count": 12,
      "outputs": [
        {
          "output_type": "execute_result",
          "data": {
            "text/plain": [
              "         userid  movieid  rating  timestamp\n",
              "0             0     1104       5  978300760\n",
              "1             0      639       3  978302109\n",
              "2             0      853       3  978301968\n",
              "3             0     3175       4  978300275\n",
              "4             0     2161       5  978824291\n",
              "...         ...      ...     ...        ...\n",
              "1000204    6039     1019       1  956716541\n",
              "1000205    6039     1022       5  956704887\n",
              "1000206    6039      548       5  956704746\n",
              "1000207    6039     1024       4  956715648\n",
              "1000208    6039     1025       4  956715569\n",
              "\n",
              "[994169 rows x 4 columns]"
            ],
            "text/html": [
              "\n",
              "  <div id=\"df-687b1e9e-3e32-4130-af81-a870c21da8ae\">\n",
              "    <div class=\"colab-df-container\">\n",
              "      <div>\n",
              "<style scoped>\n",
              "    .dataframe tbody tr th:only-of-type {\n",
              "        vertical-align: middle;\n",
              "    }\n",
              "\n",
              "    .dataframe tbody tr th {\n",
              "        vertical-align: top;\n",
              "    }\n",
              "\n",
              "    .dataframe thead th {\n",
              "        text-align: right;\n",
              "    }\n",
              "</style>\n",
              "<table border=\"1\" class=\"dataframe\">\n",
              "  <thead>\n",
              "    <tr style=\"text-align: right;\">\n",
              "      <th></th>\n",
              "      <th>userid</th>\n",
              "      <th>movieid</th>\n",
              "      <th>rating</th>\n",
              "      <th>timestamp</th>\n",
              "    </tr>\n",
              "  </thead>\n",
              "  <tbody>\n",
              "    <tr>\n",
              "      <th>0</th>\n",
              "      <td>0</td>\n",
              "      <td>1104</td>\n",
              "      <td>5</td>\n",
              "      <td>978300760</td>\n",
              "    </tr>\n",
              "    <tr>\n",
              "      <th>1</th>\n",
              "      <td>0</td>\n",
              "      <td>639</td>\n",
              "      <td>3</td>\n",
              "      <td>978302109</td>\n",
              "    </tr>\n",
              "    <tr>\n",
              "      <th>2</th>\n",
              "      <td>0</td>\n",
              "      <td>853</td>\n",
              "      <td>3</td>\n",
              "      <td>978301968</td>\n",
              "    </tr>\n",
              "    <tr>\n",
              "      <th>3</th>\n",
              "      <td>0</td>\n",
              "      <td>3175</td>\n",
              "      <td>4</td>\n",
              "      <td>978300275</td>\n",
              "    </tr>\n",
              "    <tr>\n",
              "      <th>4</th>\n",
              "      <td>0</td>\n",
              "      <td>2161</td>\n",
              "      <td>5</td>\n",
              "      <td>978824291</td>\n",
              "    </tr>\n",
              "    <tr>\n",
              "      <th>...</th>\n",
              "      <td>...</td>\n",
              "      <td>...</td>\n",
              "      <td>...</td>\n",
              "      <td>...</td>\n",
              "    </tr>\n",
              "    <tr>\n",
              "      <th>1000204</th>\n",
              "      <td>6039</td>\n",
              "      <td>1019</td>\n",
              "      <td>1</td>\n",
              "      <td>956716541</td>\n",
              "    </tr>\n",
              "    <tr>\n",
              "      <th>1000205</th>\n",
              "      <td>6039</td>\n",
              "      <td>1022</td>\n",
              "      <td>5</td>\n",
              "      <td>956704887</td>\n",
              "    </tr>\n",
              "    <tr>\n",
              "      <th>1000206</th>\n",
              "      <td>6039</td>\n",
              "      <td>548</td>\n",
              "      <td>5</td>\n",
              "      <td>956704746</td>\n",
              "    </tr>\n",
              "    <tr>\n",
              "      <th>1000207</th>\n",
              "      <td>6039</td>\n",
              "      <td>1024</td>\n",
              "      <td>4</td>\n",
              "      <td>956715648</td>\n",
              "    </tr>\n",
              "    <tr>\n",
              "      <th>1000208</th>\n",
              "      <td>6039</td>\n",
              "      <td>1025</td>\n",
              "      <td>4</td>\n",
              "      <td>956715569</td>\n",
              "    </tr>\n",
              "  </tbody>\n",
              "</table>\n",
              "<p>994169 rows × 4 columns</p>\n",
              "</div>\n",
              "      <button class=\"colab-df-convert\" onclick=\"convertToInteractive('df-687b1e9e-3e32-4130-af81-a870c21da8ae')\"\n",
              "              title=\"Convert this dataframe to an interactive table.\"\n",
              "              style=\"display:none;\">\n",
              "        \n",
              "  <svg xmlns=\"http://www.w3.org/2000/svg\" height=\"24px\"viewBox=\"0 0 24 24\"\n",
              "       width=\"24px\">\n",
              "    <path d=\"M0 0h24v24H0V0z\" fill=\"none\"/>\n",
              "    <path d=\"M18.56 5.44l.94 2.06.94-2.06 2.06-.94-2.06-.94-.94-2.06-.94 2.06-2.06.94zm-11 1L8.5 8.5l.94-2.06 2.06-.94-2.06-.94L8.5 2.5l-.94 2.06-2.06.94zm10 10l.94 2.06.94-2.06 2.06-.94-2.06-.94-.94-2.06-.94 2.06-2.06.94z\"/><path d=\"M17.41 7.96l-1.37-1.37c-.4-.4-.92-.59-1.43-.59-.52 0-1.04.2-1.43.59L10.3 9.45l-7.72 7.72c-.78.78-.78 2.05 0 2.83L4 21.41c.39.39.9.59 1.41.59.51 0 1.02-.2 1.41-.59l7.78-7.78 2.81-2.81c.8-.78.8-2.07 0-2.86zM5.41 20L4 18.59l7.72-7.72 1.47 1.35L5.41 20z\"/>\n",
              "  </svg>\n",
              "      </button>\n",
              "      \n",
              "  <style>\n",
              "    .colab-df-container {\n",
              "      display:flex;\n",
              "      flex-wrap:wrap;\n",
              "      gap: 12px;\n",
              "    }\n",
              "\n",
              "    .colab-df-convert {\n",
              "      background-color: #E8F0FE;\n",
              "      border: none;\n",
              "      border-radius: 50%;\n",
              "      cursor: pointer;\n",
              "      display: none;\n",
              "      fill: #1967D2;\n",
              "      height: 32px;\n",
              "      padding: 0 0 0 0;\n",
              "      width: 32px;\n",
              "    }\n",
              "\n",
              "    .colab-df-convert:hover {\n",
              "      background-color: #E2EBFA;\n",
              "      box-shadow: 0px 1px 2px rgba(60, 64, 67, 0.3), 0px 1px 3px 1px rgba(60, 64, 67, 0.15);\n",
              "      fill: #174EA6;\n",
              "    }\n",
              "\n",
              "    [theme=dark] .colab-df-convert {\n",
              "      background-color: #3B4455;\n",
              "      fill: #D2E3FC;\n",
              "    }\n",
              "\n",
              "    [theme=dark] .colab-df-convert:hover {\n",
              "      background-color: #434B5C;\n",
              "      box-shadow: 0px 1px 3px 1px rgba(0, 0, 0, 0.15);\n",
              "      filter: drop-shadow(0px 1px 2px rgba(0, 0, 0, 0.3));\n",
              "      fill: #FFFFFF;\n",
              "    }\n",
              "  </style>\n",
              "\n",
              "      <script>\n",
              "        const buttonEl =\n",
              "          document.querySelector('#df-687b1e9e-3e32-4130-af81-a870c21da8ae button.colab-df-convert');\n",
              "        buttonEl.style.display =\n",
              "          google.colab.kernel.accessAllowed ? 'block' : 'none';\n",
              "\n",
              "        async function convertToInteractive(key) {\n",
              "          const element = document.querySelector('#df-687b1e9e-3e32-4130-af81-a870c21da8ae');\n",
              "          const dataTable =\n",
              "            await google.colab.kernel.invokeFunction('convertToInteractive',\n",
              "                                                     [key], {});\n",
              "          if (!dataTable) return;\n",
              "\n",
              "          const docLinkHtml = 'Like what you see? Visit the ' +\n",
              "            '<a target=\"_blank\" href=https://colab.research.google.com/notebooks/data_table.ipynb>data table notebook</a>'\n",
              "            + ' to learn more about interactive tables.';\n",
              "          element.innerHTML = '';\n",
              "          dataTable['output_type'] = 'display_data';\n",
              "          await google.colab.output.renderOutput(dataTable, element);\n",
              "          const docLink = document.createElement('div');\n",
              "          docLink.innerHTML = docLinkHtml;\n",
              "          element.appendChild(docLink);\n",
              "        }\n",
              "      </script>\n",
              "    </div>\n",
              "  </div>\n",
              "  "
            ]
          },
          "metadata": {},
          "execution_count": 12
        }
      ]
    },
    {
      "cell_type": "code",
      "source": [
        "data_index"
      ],
      "metadata": {
        "colab": {
          "base_uri": "https://localhost:8080/"
        },
        "id": "BbJsuy38cA2Y",
        "outputId": "2e47fdea-09df-4bf7-a90a-ef451057a75e"
      },
      "execution_count": 13,
      "outputs": [
        {
          "output_type": "execute_result",
          "data": {
            "text/plain": [
              "{'users': Int64Index([   1,    2,    3,    4,    5,    6,    7,    8,    9,   10,\n",
              "             ...\n",
              "             6031, 6032, 6033, 6034, 6035, 6036, 6037, 6038, 6039, 6040],\n",
              "            dtype='int64', name='userid', length=6040),\n",
              " 'items': Int64Index([   1,    2,    3,    4,    5,    6,    7,    8,    9,   10,\n",
              "             ...\n",
              "             3943, 3944, 3945, 3946, 3947, 3948, 3949, 3950, 3951, 3952],\n",
              "            dtype='int64', name='movieid', length=3704)}"
            ]
          },
          "metadata": {},
          "execution_count": 13
        }
      ]
    },
    {
      "cell_type": "code",
      "source": [
        "holdout"
      ],
      "metadata": {
        "colab": {
          "base_uri": "https://localhost:8080/",
          "height": 424
        },
        "id": "dYJPDCbMcCUN",
        "outputId": "faa712c5-af25-4947-8bae-c1cfc91f5274"
      },
      "execution_count": 14,
      "outputs": [
        {
          "output_type": "execute_result",
          "data": {
            "text/plain": [
              "         userid  movieid  rating  timestamp\n",
              "25            0       47       5  978824351\n",
              "87            1     1420       4  978300174\n",
              "232           2     1900       4  978298504\n",
              "235           3     2742       4  978294282\n",
              "258           4      279       2  978246585\n",
              "...         ...      ...     ...        ...\n",
              "999251     6035     2440       1  956755196\n",
              "999684     6036      421       3  956801840\n",
              "999731     6037     1094       5  956717204\n",
              "999826     6038     1162       4  956758029\n",
              "1000042    6039     1131       4  998315055\n",
              "\n",
              "[6038 rows x 4 columns]"
            ],
            "text/html": [
              "\n",
              "  <div id=\"df-b9eb1fe6-e049-49a0-b559-9afb76150562\">\n",
              "    <div class=\"colab-df-container\">\n",
              "      <div>\n",
              "<style scoped>\n",
              "    .dataframe tbody tr th:only-of-type {\n",
              "        vertical-align: middle;\n",
              "    }\n",
              "\n",
              "    .dataframe tbody tr th {\n",
              "        vertical-align: top;\n",
              "    }\n",
              "\n",
              "    .dataframe thead th {\n",
              "        text-align: right;\n",
              "    }\n",
              "</style>\n",
              "<table border=\"1\" class=\"dataframe\">\n",
              "  <thead>\n",
              "    <tr style=\"text-align: right;\">\n",
              "      <th></th>\n",
              "      <th>userid</th>\n",
              "      <th>movieid</th>\n",
              "      <th>rating</th>\n",
              "      <th>timestamp</th>\n",
              "    </tr>\n",
              "  </thead>\n",
              "  <tbody>\n",
              "    <tr>\n",
              "      <th>25</th>\n",
              "      <td>0</td>\n",
              "      <td>47</td>\n",
              "      <td>5</td>\n",
              "      <td>978824351</td>\n",
              "    </tr>\n",
              "    <tr>\n",
              "      <th>87</th>\n",
              "      <td>1</td>\n",
              "      <td>1420</td>\n",
              "      <td>4</td>\n",
              "      <td>978300174</td>\n",
              "    </tr>\n",
              "    <tr>\n",
              "      <th>232</th>\n",
              "      <td>2</td>\n",
              "      <td>1900</td>\n",
              "      <td>4</td>\n",
              "      <td>978298504</td>\n",
              "    </tr>\n",
              "    <tr>\n",
              "      <th>235</th>\n",
              "      <td>3</td>\n",
              "      <td>2742</td>\n",
              "      <td>4</td>\n",
              "      <td>978294282</td>\n",
              "    </tr>\n",
              "    <tr>\n",
              "      <th>258</th>\n",
              "      <td>4</td>\n",
              "      <td>279</td>\n",
              "      <td>2</td>\n",
              "      <td>978246585</td>\n",
              "    </tr>\n",
              "    <tr>\n",
              "      <th>...</th>\n",
              "      <td>...</td>\n",
              "      <td>...</td>\n",
              "      <td>...</td>\n",
              "      <td>...</td>\n",
              "    </tr>\n",
              "    <tr>\n",
              "      <th>999251</th>\n",
              "      <td>6035</td>\n",
              "      <td>2440</td>\n",
              "      <td>1</td>\n",
              "      <td>956755196</td>\n",
              "    </tr>\n",
              "    <tr>\n",
              "      <th>999684</th>\n",
              "      <td>6036</td>\n",
              "      <td>421</td>\n",
              "      <td>3</td>\n",
              "      <td>956801840</td>\n",
              "    </tr>\n",
              "    <tr>\n",
              "      <th>999731</th>\n",
              "      <td>6037</td>\n",
              "      <td>1094</td>\n",
              "      <td>5</td>\n",
              "      <td>956717204</td>\n",
              "    </tr>\n",
              "    <tr>\n",
              "      <th>999826</th>\n",
              "      <td>6038</td>\n",
              "      <td>1162</td>\n",
              "      <td>4</td>\n",
              "      <td>956758029</td>\n",
              "    </tr>\n",
              "    <tr>\n",
              "      <th>1000042</th>\n",
              "      <td>6039</td>\n",
              "      <td>1131</td>\n",
              "      <td>4</td>\n",
              "      <td>998315055</td>\n",
              "    </tr>\n",
              "  </tbody>\n",
              "</table>\n",
              "<p>6038 rows × 4 columns</p>\n",
              "</div>\n",
              "      <button class=\"colab-df-convert\" onclick=\"convertToInteractive('df-b9eb1fe6-e049-49a0-b559-9afb76150562')\"\n",
              "              title=\"Convert this dataframe to an interactive table.\"\n",
              "              style=\"display:none;\">\n",
              "        \n",
              "  <svg xmlns=\"http://www.w3.org/2000/svg\" height=\"24px\"viewBox=\"0 0 24 24\"\n",
              "       width=\"24px\">\n",
              "    <path d=\"M0 0h24v24H0V0z\" fill=\"none\"/>\n",
              "    <path d=\"M18.56 5.44l.94 2.06.94-2.06 2.06-.94-2.06-.94-.94-2.06-.94 2.06-2.06.94zm-11 1L8.5 8.5l.94-2.06 2.06-.94-2.06-.94L8.5 2.5l-.94 2.06-2.06.94zm10 10l.94 2.06.94-2.06 2.06-.94-2.06-.94-.94-2.06-.94 2.06-2.06.94z\"/><path d=\"M17.41 7.96l-1.37-1.37c-.4-.4-.92-.59-1.43-.59-.52 0-1.04.2-1.43.59L10.3 9.45l-7.72 7.72c-.78.78-.78 2.05 0 2.83L4 21.41c.39.39.9.59 1.41.59.51 0 1.02-.2 1.41-.59l7.78-7.78 2.81-2.81c.8-.78.8-2.07 0-2.86zM5.41 20L4 18.59l7.72-7.72 1.47 1.35L5.41 20z\"/>\n",
              "  </svg>\n",
              "      </button>\n",
              "      \n",
              "  <style>\n",
              "    .colab-df-container {\n",
              "      display:flex;\n",
              "      flex-wrap:wrap;\n",
              "      gap: 12px;\n",
              "    }\n",
              "\n",
              "    .colab-df-convert {\n",
              "      background-color: #E8F0FE;\n",
              "      border: none;\n",
              "      border-radius: 50%;\n",
              "      cursor: pointer;\n",
              "      display: none;\n",
              "      fill: #1967D2;\n",
              "      height: 32px;\n",
              "      padding: 0 0 0 0;\n",
              "      width: 32px;\n",
              "    }\n",
              "\n",
              "    .colab-df-convert:hover {\n",
              "      background-color: #E2EBFA;\n",
              "      box-shadow: 0px 1px 2px rgba(60, 64, 67, 0.3), 0px 1px 3px 1px rgba(60, 64, 67, 0.15);\n",
              "      fill: #174EA6;\n",
              "    }\n",
              "\n",
              "    [theme=dark] .colab-df-convert {\n",
              "      background-color: #3B4455;\n",
              "      fill: #D2E3FC;\n",
              "    }\n",
              "\n",
              "    [theme=dark] .colab-df-convert:hover {\n",
              "      background-color: #434B5C;\n",
              "      box-shadow: 0px 1px 3px 1px rgba(0, 0, 0, 0.15);\n",
              "      filter: drop-shadow(0px 1px 2px rgba(0, 0, 0, 0.3));\n",
              "      fill: #FFFFFF;\n",
              "    }\n",
              "  </style>\n",
              "\n",
              "      <script>\n",
              "        const buttonEl =\n",
              "          document.querySelector('#df-b9eb1fe6-e049-49a0-b559-9afb76150562 button.colab-df-convert');\n",
              "        buttonEl.style.display =\n",
              "          google.colab.kernel.accessAllowed ? 'block' : 'none';\n",
              "\n",
              "        async function convertToInteractive(key) {\n",
              "          const element = document.querySelector('#df-b9eb1fe6-e049-49a0-b559-9afb76150562');\n",
              "          const dataTable =\n",
              "            await google.colab.kernel.invokeFunction('convertToInteractive',\n",
              "                                                     [key], {});\n",
              "          if (!dataTable) return;\n",
              "\n",
              "          const docLinkHtml = 'Like what you see? Visit the ' +\n",
              "            '<a target=\"_blank\" href=https://colab.research.google.com/notebooks/data_table.ipynb>data table notebook</a>'\n",
              "            + ' to learn more about interactive tables.';\n",
              "          element.innerHTML = '';\n",
              "          dataTable['output_type'] = 'display_data';\n",
              "          await google.colab.output.renderOutput(dataTable, element);\n",
              "          const docLink = document.createElement('div');\n",
              "          docLink.innerHTML = docLinkHtml;\n",
              "          element.appendChild(docLink);\n",
              "        }\n",
              "      </script>\n",
              "    </div>\n",
              "  </div>\n",
              "  "
            ]
          },
          "metadata": {},
          "execution_count": 14
        }
      ]
    },
    {
      "cell_type": "markdown",
      "metadata": {
        "id": "pHuGhrFaMG2B"
      },
      "source": [
        "- Let's also populate data description dictionary for convenience.\n",
        "- It allows using uniform names for users and items field.\n",
        "  - This way the code does't depend on the actual names in you dataset.\n",
        "  - So later you can easily switch to another dataset without changing the code fo the pipeline.\n"
      ]
    },
    {
      "cell_type": "code",
      "execution_count": 15,
      "metadata": {
        "id": "aDVt4P4OMG2C"
      },
      "outputs": [],
      "source": [
        "data_description = dict(\n",
        "    users = data_index['users'].name,\n",
        "    items = data_index['items'].name,\n",
        "    feedback = 'rating',\n",
        "    n_users = len(data_index['users']),\n",
        "    n_items = len(data_index['items']),\n",
        "    test_users = holdout[data_index['users'].name].values\n",
        ")"
      ]
    },
    {
      "cell_type": "markdown",
      "metadata": {
        "id": "Mgh7yAfdMG2E"
      },
      "source": [
        "As previously, let's also explicitly store our testset (i.e., ratings of test users excluding holdout items)."
      ]
    },
    {
      "cell_type": "code",
      "execution_count": 16,
      "metadata": {
        "id": "Hnpsp7mvMG2E"
      },
      "outputs": [],
      "source": [
        "userid = data_description['users']\n",
        "seen_idx_mask = training[userid].isin(data_description['test_users'])\n",
        "testset = training[seen_idx_mask]"
      ]
    },
    {
      "cell_type": "markdown",
      "metadata": {
        "id": "i3Cai6FGMG2F"
      },
      "source": [
        "## Models implementation"
      ]
    },
    {
      "cell_type": "markdown",
      "metadata": {
        "id": "CiJlnrHLMG2F"
      },
      "source": [
        "### Symmetric case (5 pts)"
      ]
    },
    {
      "cell_type": "markdown",
      "metadata": {
        "id": "HlkAK-gHMG2F"
      },
      "source": [
        "- You can consult the code from seminars or implement your own solution as long as it is fast enough.\n",
        "\n",
        "- Recall that subsampling of the neighborhood not only makes the algorithm run faster, but can also improve the results.  \n",
        "- **Make sure to implement some kind of neighborhood subsampling.**"
      ]
    },
    {
      "cell_type": "code",
      "source": [
        "def truncate_similarity(similarity, k):\n",
        "    '''\n",
        "    For every row in similarity matrix, pick at most k entities\n",
        "    with the highest similarity scores. Disregard everything else.\n",
        "    '''\n",
        "    similarity = similarity.tocsr()\n",
        "    inds = similarity.indices\n",
        "    ptrs = similarity.indptr\n",
        "    data = similarity.data\n",
        "    new_ptrs = [0]\n",
        "    new_inds = []\n",
        "    new_data = []\n",
        "    for i in range(len(ptrs)-1):\n",
        "        start, stop = ptrs[i], ptrs[i+1]\n",
        "        if start < stop:\n",
        "            data_ = data[start:stop]\n",
        "            topk = min(len(data_), k)\n",
        "            idx = np.argpartition(data_, -topk)[-topk:]\n",
        "            new_data.append(data_[idx])\n",
        "            new_inds.append(inds[idx+start])\n",
        "            new_ptrs.append(new_ptrs[-1]+len(idx))\n",
        "        else:\n",
        "            new_ptrs.append(new_ptrs[-1])\n",
        "    new_data = np.concatenate(new_data)\n",
        "    new_inds = np.concatenate(new_inds)\n",
        "    truncated = csr_matrix(\n",
        "        (new_data, new_inds, new_ptrs),\n",
        "        shape=similarity.shape\n",
        "    )\n",
        "    return truncated "
      ],
      "metadata": {
        "id": "I12Nsr1jpyJV"
      },
      "execution_count": 17,
      "outputs": []
    },
    {
      "cell_type": "code",
      "source": [
        "def cosine_similarity_zd(matrix):\n",
        "    '''Build cosine similarity matrix with zero diagonal.'''\n",
        "    similarity = cosine_similarity(matrix, dense_output=False)\n",
        "    similarity.setdiag(0)\n",
        "    similarity.eliminate_zeros()\n",
        "    return similarity.tocsr()"
      ],
      "metadata": {
        "id": "pkRFNkcyMVz4"
      },
      "execution_count": 18,
      "outputs": []
    },
    {
      "cell_type": "code",
      "execution_count": 20,
      "metadata": {
        "id": "7KGHPaw3MG2G"
      },
      "outputs": [],
      "source": [
        "def build_uknn_model(config, data, data_description):\n",
        "    user_item_mtx = generate_interactions_matrix(data, data_description)\n",
        "\n",
        "\n",
        "    # compute similarity matrix\n",
        "    user_similarity = cosine_similarity_zd(user_item_mtx)\n",
        "    #print('user_similarity', user_similarity)\n",
        "    user_similarity = truncate_similarity(user_similarity, config['n_neighbors']) \n",
        "    #print('user_similarity after truncate_similarity', user_similarity)\n",
        "    weighting = config['weighting']\n",
        "    weights = None\n",
        "\n",
        "    if weighting == 'elementwise':\n",
        "        weights = user_similarity.dot(user_item_mtx.astype('bool')) # BS.T\n",
        "    return user_item_mtx, user_similarity, weights\n",
        "\n",
        "\n",
        "def uknn_model_scoring(params, testset, testset_description):\n",
        "    # implement the scoring function to assign scores\n",
        "    # to all items for test users\n",
        "    user_item_mtx, user_similarity, weights = params\n",
        "    test_users = data_description['test_users']\n",
        "    user_similarity = user_similarity[test_users, :][:, test_users]\n",
        "    user_item_mtx = generate_interactions_matrix(\n",
        "        testset, testset_description, rebase_users=True)\n",
        "    # write your code for scoring, don't forget to return a dense array\n",
        "    if weights is None:\n",
        "      scores = user_similarity.dot(user_item_mtx).A\n",
        "      return scores\n",
        "\n",
        "    # if weights is None: #if not weighted:\n",
        "    #     return user_similarity.dot(user_item_mtx).A\n",
        "    \n",
        "    # if isspmatrix(weights):\n",
        "    #   test_users = testset_description['test_users']\n",
        "    #   assert len(test_users) == user_item_mtx.shape[0]\n",
        "    #   test_weights = weights[test_users, :].A\n",
        "    #   scores = user_similarity.dot(user_item_mtx).A # KA ./ KB\n",
        "    #   test_scores = np.divide(\n",
        "    #       scores,\n",
        "    #       test_weights,\n",
        "    #       where = (test_weights!=0)\n",
        "    #     )   \n",
        "    #   return test_scores\n",
        "    # normalizer = diags(np.divide(1., weights, where=weights!=0))\n",
        "    # return ..."
      ]
    },
    {
      "cell_type": "code",
      "execution_count": 21,
      "metadata": {
        "id": "pSyS2qTKMG2G"
      },
      "outputs": [],
      "source": [
        "n_neighbors = 100\n",
        "\n",
        "config = {'weighting': None, 'n_neighbors': n_neighbors}\n",
        "\n",
        "uknn_params = build_uknn_model(config, training, data_description)"
      ]
    },
    {
      "cell_type": "code",
      "execution_count": 22,
      "metadata": {
        "id": "NGNZMhO_MG2G"
      },
      "outputs": [],
      "source": [
        "uknn_scores = uknn_model_scoring(uknn_params, testset, data_description)"
      ]
    },
    {
      "cell_type": "code",
      "source": [
        "downvote_seen_items(uknn_scores, testset, data_description)"
      ],
      "metadata": {
        "id": "nicc9y_NgnCC"
      },
      "execution_count": 23,
      "outputs": []
    },
    {
      "cell_type": "markdown",
      "metadata": {
        "id": "_YuVo2j4MG2H"
      },
      "source": [
        "Note: recommending items from user history doesn't make sense."
      ]
    },
    {
      "cell_type": "markdown",
      "metadata": {
        "id": "Z9GPceKVMG2H"
      },
      "source": [
        "### Asymmetric case (5 pts)"
      ]
    },
    {
      "cell_type": "markdown",
      "metadata": {
        "id": "zipfNR67MG2H"
      },
      "source": [
        "- Your task here is to implement user-based KNN with asymmetric similarity."
      ]
    },
    {
      "cell_type": "code",
      "execution_count": 27,
      "metadata": {
        "id": "il9Hde0vMG2H"
      },
      "outputs": [],
      "source": [
        "def build_uknn_model_asym(config, data, data_description):\n",
        "    user_item_mtx = generate_interactions_matrix(data, data_description)\n",
        "    user_similarity = cosine_similarity_zd(user_item_mtx)\n",
        "    user_similarity = truncate_similarity(user_similarity, config['n_neighbors']) \n",
        "    weighting = config['weighting']\n",
        "    weights = None\n",
        "    if weighting == 'columnwise':\n",
        "      weights = (\n",
        "            user_similarity\n",
        "            ._with_data(np.abs(user_similarity.data))\n",
        "            .sum(axis=0)\n",
        "            .A.squeeze()\n",
        "        )\n",
        "    \n",
        "    return user_item_mtx, user_similarity, weights\n",
        "\n",
        "\n",
        "def uknn_model_scoring_asym(params, testset, testset_description):\n",
        "    user_item_mtx, user_similarity, weights = params\n",
        "    test_users = data_description['test_users']\n",
        "    user_similarity = user_similarity[test_users, :][:, test_users]\n",
        "    #print(user_similarity.shape)\n",
        "    user_item_mtx = generate_interactions_matrix(\n",
        "        testset, testset_description, rebase_users=True)\n",
        "   # print(user_item_mtx.shape)\n",
        "    if isinstance(weights, np.ndarray):\n",
        "      weights = weights[test_users]\n",
        "      normalizer = diags(np.divide(1., weights, where=weights!=0))\n",
        "     # print(normalizer.shape)\n",
        "      return user_similarity.dot(normalizer.dot(user_item_mtx)).A"
      ]
    },
    {
      "cell_type": "code",
      "execution_count": 25,
      "metadata": {
        "id": "JHpoXlNuMG2H"
      },
      "outputs": [],
      "source": [
        "config = {'weighting': 'columnwise', 'n_neighbors': n_neighbors}\n",
        "uknn_params_asym = build_uknn_model_asym(config, training, data_description)"
      ]
    },
    {
      "cell_type": "code",
      "execution_count": 28,
      "metadata": {
        "id": "2qOrM2qTMG2I"
      },
      "outputs": [],
      "source": [
        "uknn_scores_asym = uknn_model_scoring_asym(uknn_params_asym, testset, data_description)"
      ]
    },
    {
      "cell_type": "code",
      "source": [
        "downvote_seen_items(uknn_scores_asym, testset, data_description)"
      ],
      "metadata": {
        "id": "GNV5TvQwg6oq"
      },
      "execution_count": 29,
      "outputs": []
    },
    {
      "cell_type": "markdown",
      "metadata": {
        "id": "EROnGOyHMG2I"
      },
      "source": [
        " ## Evaluation (1 pts)"
      ]
    },
    {
      "cell_type": "markdown",
      "metadata": {
        "id": "N2Qj0e-GMG2I"
      },
      "source": [
        "#### Generate top-$n$ recommendations for both models"
      ]
    },
    {
      "cell_type": "code",
      "execution_count": 30,
      "metadata": {
        "id": "-9-Mo-nCMG2I"
      },
      "outputs": [],
      "source": [
        "uknn_recs = topn_recommendations(uknn_scores)"
      ]
    },
    {
      "cell_type": "code",
      "source": [
        "uknn_recs"
      ],
      "metadata": {
        "colab": {
          "base_uri": "https://localhost:8080/"
        },
        "id": "bPGC8zDcpv3M",
        "outputId": "72551df6-134e-49a0-c176-e4655b42affd"
      },
      "execution_count": 31,
      "outputs": [
        {
          "output_type": "execute_result",
          "data": {
            "text/plain": [
              "array([[ 354, 1106, 1900, ..., 1915, 1897, 1906],\n",
              "       [ 253,  513, 1449, ..., 2556, 1476, 1563],\n",
              "       [2373,  575, 1848, ...,  578,  106, 1820],\n",
              "       ...,\n",
              "       [1107, 2650,  708, ..., 1106, 2784, 2202],\n",
              "       [ 849,  908,  847, ...,  837,  580,  593],\n",
              "       [1131, 1288, 1175, ..., 1143, 1114, 1773]])"
            ]
          },
          "metadata": {},
          "execution_count": 31
        }
      ]
    },
    {
      "cell_type": "code",
      "source": [
        "uknn_recs.shape"
      ],
      "metadata": {
        "colab": {
          "base_uri": "https://localhost:8080/"
        },
        "id": "6S-bOOjbr6ww",
        "outputId": "da2ce243-26ae-4a62-cf33-04cfc664bf13"
      },
      "execution_count": 32,
      "outputs": [
        {
          "output_type": "execute_result",
          "data": {
            "text/plain": [
              "(6038, 10)"
            ]
          },
          "metadata": {},
          "execution_count": 32
        }
      ]
    },
    {
      "cell_type": "code",
      "execution_count": 33,
      "metadata": {
        "id": "ws7s5DvxMG2I"
      },
      "outputs": [],
      "source": [
        "uknn_recs_asym = topn_recommendations(uknn_scores_asym)"
      ]
    },
    {
      "cell_type": "code",
      "source": [
        "uknn_recs_asym"
      ],
      "metadata": {
        "colab": {
          "base_uri": "https://localhost:8080/"
        },
        "id": "Ka8s4EHrg-qw",
        "outputId": "c99f0151-1f0d-4933-ee5f-397c86a23302"
      },
      "execution_count": 34,
      "outputs": [
        {
          "output_type": "execute_result",
          "data": {
            "text/plain": [
              "array([[1106, 1900,  354, ...,  309, 1915, 1899],\n",
              "       [ 513,  253, 1449, ...,  593,  802, 1025],\n",
              "       [2373, 1050, 2707, ..., 2425, 2709,  575],\n",
              "       ...,\n",
              "       [ 708,    0, 1107, ...,  309,   33, 1139],\n",
              "       [ 849,  580, 2845, ...,  859, 1186, 1155],\n",
              "       [1883, 1107, 1131, ..., 1143, 1114, 1212]])"
            ]
          },
          "metadata": {},
          "execution_count": 34
        }
      ]
    },
    {
      "cell_type": "markdown",
      "metadata": {
        "id": "gBw131jmMG2J"
      },
      "source": [
        "### Calculate metrics"
      ]
    },
    {
      "cell_type": "code",
      "execution_count": 35,
      "metadata": {
        "id": "UKHr7D56MG2J",
        "colab": {
          "base_uri": "https://localhost:8080/"
        },
        "outputId": "b2af36a5-a930-45af-d5e8-872f779e9b9a"
      },
      "outputs": [
        {
          "output_type": "stream",
          "name": "stdout",
          "text": [
            "Similarity type: symmetric\n",
            "HR=0.085, MRR=0.0286, COV=0.176\n",
            "\n",
            "Similarity type: asymmetric\n",
            "HR=0.0886, MRR=0.0308, COV=0.275\n",
            "\n"
          ]
        }
      ],
      "source": [
        "modes = ['symmetric', 'asymmetric']\n",
        "#modes = ['symmetric']\n",
        "uknn_recs = dict(zip(modes, [uknn_recs, uknn_recs_asym]))\n",
        "#uknn_recs = dict(zip(modes, [uknn_recs]))\n",
        "\n",
        "uknn_metrics = {}\n",
        "for mode, recs in uknn_recs.items():\n",
        "    if recs is None: continue\n",
        "    uknn_metrics[mode] = metrics = model_evaluate(recs, holdout, data_description)\n",
        "    print(\n",
        "        f'Similarity type: {mode}\\n'\\\n",
        "        'HR={:.3}, MRR={:.3}, COV={:.3}\\n'.format(*metrics)\n",
        "    )"
      ]
    },
    {
      "cell_type": "markdown",
      "metadata": {
        "id": "UjCwG3AaMG2J"
      },
      "source": [
        "# Strong generalization test"
      ]
    },
    {
      "cell_type": "markdown",
      "metadata": {
        "id": "rcJnERWiMG2K"
      },
      "source": [
        "- Recall that in the strong generalization test you work with the warm-start scenario.\n",
        "- It means that the set of test users is disjoint from the set of users in the training.\n",
        "- You're provided with the basic functions to help you perform correct splitting, but there're still a few places where your input is required. Make sure you understand the logic of data splitting in this scenario."
      ]
    },
    {
      "cell_type": "markdown",
      "metadata": {
        "id": "iKjOE2XsMG2K"
      },
      "source": [
        "## Preparing data (2 pts)"
      ]
    },
    {
      "cell_type": "markdown",
      "metadata": {
        "id": "ov1eg9oOMG2L"
      },
      "source": [
        "- Your task is to select a subset of users who have the most recent interactions in their history across entire dataset.\n",
        "- You will apply holdout splitting to only this subset.\n",
        "  - Think, why simply taking all users (as in weak generalization test) makes no sense in this scenario. "
      ]
    },
    {
      "cell_type": "code",
      "execution_count": 36,
      "metadata": {
        "id": "7v1kSXUTMG2L"
      },
      "outputs": [],
      "source": [
        "def split_by_time(data, time_q=0.95, timeid='timestamp'):\n",
        "    '''\n",
        "    Split the input `data` DataFrame into two parts based on the timestamp, with the split point\n",
        "    being determined by the quantile value `time_q`. The function returns a tuple `(before, after)`\n",
        "    containing the two DataFrames. The `after` DataFrame contains the rows with timestamps greater\n",
        "    than or equal to the split point, while the `before` DataFrame contains the remaining rows. \n",
        "\n",
        "    Details:\n",
        "    The `quantile` method of the pandas DataFrame is used to calculate the time point (i.e., timestamp)\n",
        "    that divides the data into two parts based on the given quantile value `time_q`. Specifically,\n",
        "    the time point `split_timepoint` is calculated as the `time_q`th quantile of the values in the `timeid`\n",
        "    column of the `data` DataFrame, using the interpolation method of `nearest`. This means that\n",
        "    `split_timepoint` is the timestamp at or immediately after which `time_q` percent of the data points occur.    \n",
        "    '''\n",
        "    split_timepoint = data[timeid].quantile(q=time_q, interpolation='nearest')\n",
        "    after = data.query(f'{timeid} >= @split_timepoint') \n",
        "    before = data.drop(after.index)\n",
        "    return before, after"
      ]
    },
    {
      "cell_type": "markdown",
      "metadata": {
        "id": "iqNzyNzsMG2M"
      },
      "source": [
        "Firstly, you need to select a candidate subset of observations, from which you'll construct the the training, testset, and holdout datssets. Check the `split_by_time` function below and its description in the above cell."
      ]
    },
    {
      "cell_type": "code",
      "execution_count": 37,
      "metadata": {
        "id": "6wI95EFzMG2M"
      },
      "outputs": [],
      "source": [
        "before, after = split_by_time(data, time_q=0.95)"
      ]
    },
    {
      "cell_type": "code",
      "source": [
        "before"
      ],
      "metadata": {
        "colab": {
          "base_uri": "https://localhost:8080/",
          "height": 424
        },
        "id": "amBbgFboEUUV",
        "outputId": "6644f39d-714c-4b3b-e63f-3fa8668c4fe6"
      },
      "execution_count": 38,
      "outputs": [
        {
          "output_type": "execute_result",
          "data": {
            "text/plain": [
              "         userid  movieid  rating  timestamp\n",
              "0             1     1193       5  978300760\n",
              "1             1      661       3  978302109\n",
              "2             1      914       3  978301968\n",
              "3             1     3408       4  978300275\n",
              "4             1     2355       5  978824291\n",
              "...         ...      ...     ...        ...\n",
              "1000204    6040     1091       1  956716541\n",
              "1000205    6040     1094       5  956704887\n",
              "1000206    6040      562       5  956704746\n",
              "1000207    6040     1096       4  956715648\n",
              "1000208    6040     1097       4  956715569\n",
              "\n",
              "[950198 rows x 4 columns]"
            ],
            "text/html": [
              "\n",
              "  <div id=\"df-1e7be27f-10ac-457b-91cd-5bf0eaf2e365\">\n",
              "    <div class=\"colab-df-container\">\n",
              "      <div>\n",
              "<style scoped>\n",
              "    .dataframe tbody tr th:only-of-type {\n",
              "        vertical-align: middle;\n",
              "    }\n",
              "\n",
              "    .dataframe tbody tr th {\n",
              "        vertical-align: top;\n",
              "    }\n",
              "\n",
              "    .dataframe thead th {\n",
              "        text-align: right;\n",
              "    }\n",
              "</style>\n",
              "<table border=\"1\" class=\"dataframe\">\n",
              "  <thead>\n",
              "    <tr style=\"text-align: right;\">\n",
              "      <th></th>\n",
              "      <th>userid</th>\n",
              "      <th>movieid</th>\n",
              "      <th>rating</th>\n",
              "      <th>timestamp</th>\n",
              "    </tr>\n",
              "  </thead>\n",
              "  <tbody>\n",
              "    <tr>\n",
              "      <th>0</th>\n",
              "      <td>1</td>\n",
              "      <td>1193</td>\n",
              "      <td>5</td>\n",
              "      <td>978300760</td>\n",
              "    </tr>\n",
              "    <tr>\n",
              "      <th>1</th>\n",
              "      <td>1</td>\n",
              "      <td>661</td>\n",
              "      <td>3</td>\n",
              "      <td>978302109</td>\n",
              "    </tr>\n",
              "    <tr>\n",
              "      <th>2</th>\n",
              "      <td>1</td>\n",
              "      <td>914</td>\n",
              "      <td>3</td>\n",
              "      <td>978301968</td>\n",
              "    </tr>\n",
              "    <tr>\n",
              "      <th>3</th>\n",
              "      <td>1</td>\n",
              "      <td>3408</td>\n",
              "      <td>4</td>\n",
              "      <td>978300275</td>\n",
              "    </tr>\n",
              "    <tr>\n",
              "      <th>4</th>\n",
              "      <td>1</td>\n",
              "      <td>2355</td>\n",
              "      <td>5</td>\n",
              "      <td>978824291</td>\n",
              "    </tr>\n",
              "    <tr>\n",
              "      <th>...</th>\n",
              "      <td>...</td>\n",
              "      <td>...</td>\n",
              "      <td>...</td>\n",
              "      <td>...</td>\n",
              "    </tr>\n",
              "    <tr>\n",
              "      <th>1000204</th>\n",
              "      <td>6040</td>\n",
              "      <td>1091</td>\n",
              "      <td>1</td>\n",
              "      <td>956716541</td>\n",
              "    </tr>\n",
              "    <tr>\n",
              "      <th>1000205</th>\n",
              "      <td>6040</td>\n",
              "      <td>1094</td>\n",
              "      <td>5</td>\n",
              "      <td>956704887</td>\n",
              "    </tr>\n",
              "    <tr>\n",
              "      <th>1000206</th>\n",
              "      <td>6040</td>\n",
              "      <td>562</td>\n",
              "      <td>5</td>\n",
              "      <td>956704746</td>\n",
              "    </tr>\n",
              "    <tr>\n",
              "      <th>1000207</th>\n",
              "      <td>6040</td>\n",
              "      <td>1096</td>\n",
              "      <td>4</td>\n",
              "      <td>956715648</td>\n",
              "    </tr>\n",
              "    <tr>\n",
              "      <th>1000208</th>\n",
              "      <td>6040</td>\n",
              "      <td>1097</td>\n",
              "      <td>4</td>\n",
              "      <td>956715569</td>\n",
              "    </tr>\n",
              "  </tbody>\n",
              "</table>\n",
              "<p>950198 rows × 4 columns</p>\n",
              "</div>\n",
              "      <button class=\"colab-df-convert\" onclick=\"convertToInteractive('df-1e7be27f-10ac-457b-91cd-5bf0eaf2e365')\"\n",
              "              title=\"Convert this dataframe to an interactive table.\"\n",
              "              style=\"display:none;\">\n",
              "        \n",
              "  <svg xmlns=\"http://www.w3.org/2000/svg\" height=\"24px\"viewBox=\"0 0 24 24\"\n",
              "       width=\"24px\">\n",
              "    <path d=\"M0 0h24v24H0V0z\" fill=\"none\"/>\n",
              "    <path d=\"M18.56 5.44l.94 2.06.94-2.06 2.06-.94-2.06-.94-.94-2.06-.94 2.06-2.06.94zm-11 1L8.5 8.5l.94-2.06 2.06-.94-2.06-.94L8.5 2.5l-.94 2.06-2.06.94zm10 10l.94 2.06.94-2.06 2.06-.94-2.06-.94-.94-2.06-.94 2.06-2.06.94z\"/><path d=\"M17.41 7.96l-1.37-1.37c-.4-.4-.92-.59-1.43-.59-.52 0-1.04.2-1.43.59L10.3 9.45l-7.72 7.72c-.78.78-.78 2.05 0 2.83L4 21.41c.39.39.9.59 1.41.59.51 0 1.02-.2 1.41-.59l7.78-7.78 2.81-2.81c.8-.78.8-2.07 0-2.86zM5.41 20L4 18.59l7.72-7.72 1.47 1.35L5.41 20z\"/>\n",
              "  </svg>\n",
              "      </button>\n",
              "      \n",
              "  <style>\n",
              "    .colab-df-container {\n",
              "      display:flex;\n",
              "      flex-wrap:wrap;\n",
              "      gap: 12px;\n",
              "    }\n",
              "\n",
              "    .colab-df-convert {\n",
              "      background-color: #E8F0FE;\n",
              "      border: none;\n",
              "      border-radius: 50%;\n",
              "      cursor: pointer;\n",
              "      display: none;\n",
              "      fill: #1967D2;\n",
              "      height: 32px;\n",
              "      padding: 0 0 0 0;\n",
              "      width: 32px;\n",
              "    }\n",
              "\n",
              "    .colab-df-convert:hover {\n",
              "      background-color: #E2EBFA;\n",
              "      box-shadow: 0px 1px 2px rgba(60, 64, 67, 0.3), 0px 1px 3px 1px rgba(60, 64, 67, 0.15);\n",
              "      fill: #174EA6;\n",
              "    }\n",
              "\n",
              "    [theme=dark] .colab-df-convert {\n",
              "      background-color: #3B4455;\n",
              "      fill: #D2E3FC;\n",
              "    }\n",
              "\n",
              "    [theme=dark] .colab-df-convert:hover {\n",
              "      background-color: #434B5C;\n",
              "      box-shadow: 0px 1px 3px 1px rgba(0, 0, 0, 0.15);\n",
              "      filter: drop-shadow(0px 1px 2px rgba(0, 0, 0, 0.3));\n",
              "      fill: #FFFFFF;\n",
              "    }\n",
              "  </style>\n",
              "\n",
              "      <script>\n",
              "        const buttonEl =\n",
              "          document.querySelector('#df-1e7be27f-10ac-457b-91cd-5bf0eaf2e365 button.colab-df-convert');\n",
              "        buttonEl.style.display =\n",
              "          google.colab.kernel.accessAllowed ? 'block' : 'none';\n",
              "\n",
              "        async function convertToInteractive(key) {\n",
              "          const element = document.querySelector('#df-1e7be27f-10ac-457b-91cd-5bf0eaf2e365');\n",
              "          const dataTable =\n",
              "            await google.colab.kernel.invokeFunction('convertToInteractive',\n",
              "                                                     [key], {});\n",
              "          if (!dataTable) return;\n",
              "\n",
              "          const docLinkHtml = 'Like what you see? Visit the ' +\n",
              "            '<a target=\"_blank\" href=https://colab.research.google.com/notebooks/data_table.ipynb>data table notebook</a>'\n",
              "            + ' to learn more about interactive tables.';\n",
              "          element.innerHTML = '';\n",
              "          dataTable['output_type'] = 'display_data';\n",
              "          await google.colab.output.renderOutput(dataTable, element);\n",
              "          const docLink = document.createElement('div');\n",
              "          docLink.innerHTML = docLinkHtml;\n",
              "          element.appendChild(docLink);\n",
              "        }\n",
              "      </script>\n",
              "    </div>\n",
              "  </div>\n",
              "  "
            ]
          },
          "metadata": {},
          "execution_count": 38
        }
      ]
    },
    {
      "cell_type": "code",
      "source": [
        "after"
      ],
      "metadata": {
        "colab": {
          "base_uri": "https://localhost:8080/",
          "height": 424
        },
        "id": "23PYr8rnEW2M",
        "outputId": "d7f76949-5e2b-45af-f57f-6e9b550dba28"
      },
      "execution_count": 39,
      "outputs": [
        {
          "output_type": "execute_result",
          "data": {
            "text/plain": [
              "         userid  movieid  rating   timestamp\n",
              "2327         19      318       4   994556598\n",
              "2492         19     1234       5   994556636\n",
              "2503         20     1694       3  1009669071\n",
              "2504         20     2641       4  1009669115\n",
              "2507         20     3527       4  1009669181\n",
              "...         ...      ...     ...         ...\n",
              "1000126    6040     1333       4   997454140\n",
              "1000162    6040     3362       4   997453796\n",
              "1000167    6040      161       3   997454486\n",
              "1000169    6040     2725       4   997454180\n",
              "1000172    6040     1784       3   997454464\n",
              "\n",
              "[50011 rows x 4 columns]"
            ],
            "text/html": [
              "\n",
              "  <div id=\"df-55239cff-abb4-458d-a588-3f0145251470\">\n",
              "    <div class=\"colab-df-container\">\n",
              "      <div>\n",
              "<style scoped>\n",
              "    .dataframe tbody tr th:only-of-type {\n",
              "        vertical-align: middle;\n",
              "    }\n",
              "\n",
              "    .dataframe tbody tr th {\n",
              "        vertical-align: top;\n",
              "    }\n",
              "\n",
              "    .dataframe thead th {\n",
              "        text-align: right;\n",
              "    }\n",
              "</style>\n",
              "<table border=\"1\" class=\"dataframe\">\n",
              "  <thead>\n",
              "    <tr style=\"text-align: right;\">\n",
              "      <th></th>\n",
              "      <th>userid</th>\n",
              "      <th>movieid</th>\n",
              "      <th>rating</th>\n",
              "      <th>timestamp</th>\n",
              "    </tr>\n",
              "  </thead>\n",
              "  <tbody>\n",
              "    <tr>\n",
              "      <th>2327</th>\n",
              "      <td>19</td>\n",
              "      <td>318</td>\n",
              "      <td>4</td>\n",
              "      <td>994556598</td>\n",
              "    </tr>\n",
              "    <tr>\n",
              "      <th>2492</th>\n",
              "      <td>19</td>\n",
              "      <td>1234</td>\n",
              "      <td>5</td>\n",
              "      <td>994556636</td>\n",
              "    </tr>\n",
              "    <tr>\n",
              "      <th>2503</th>\n",
              "      <td>20</td>\n",
              "      <td>1694</td>\n",
              "      <td>3</td>\n",
              "      <td>1009669071</td>\n",
              "    </tr>\n",
              "    <tr>\n",
              "      <th>2504</th>\n",
              "      <td>20</td>\n",
              "      <td>2641</td>\n",
              "      <td>4</td>\n",
              "      <td>1009669115</td>\n",
              "    </tr>\n",
              "    <tr>\n",
              "      <th>2507</th>\n",
              "      <td>20</td>\n",
              "      <td>3527</td>\n",
              "      <td>4</td>\n",
              "      <td>1009669181</td>\n",
              "    </tr>\n",
              "    <tr>\n",
              "      <th>...</th>\n",
              "      <td>...</td>\n",
              "      <td>...</td>\n",
              "      <td>...</td>\n",
              "      <td>...</td>\n",
              "    </tr>\n",
              "    <tr>\n",
              "      <th>1000126</th>\n",
              "      <td>6040</td>\n",
              "      <td>1333</td>\n",
              "      <td>4</td>\n",
              "      <td>997454140</td>\n",
              "    </tr>\n",
              "    <tr>\n",
              "      <th>1000162</th>\n",
              "      <td>6040</td>\n",
              "      <td>3362</td>\n",
              "      <td>4</td>\n",
              "      <td>997453796</td>\n",
              "    </tr>\n",
              "    <tr>\n",
              "      <th>1000167</th>\n",
              "      <td>6040</td>\n",
              "      <td>161</td>\n",
              "      <td>3</td>\n",
              "      <td>997454486</td>\n",
              "    </tr>\n",
              "    <tr>\n",
              "      <th>1000169</th>\n",
              "      <td>6040</td>\n",
              "      <td>2725</td>\n",
              "      <td>4</td>\n",
              "      <td>997454180</td>\n",
              "    </tr>\n",
              "    <tr>\n",
              "      <th>1000172</th>\n",
              "      <td>6040</td>\n",
              "      <td>1784</td>\n",
              "      <td>3</td>\n",
              "      <td>997454464</td>\n",
              "    </tr>\n",
              "  </tbody>\n",
              "</table>\n",
              "<p>50011 rows × 4 columns</p>\n",
              "</div>\n",
              "      <button class=\"colab-df-convert\" onclick=\"convertToInteractive('df-55239cff-abb4-458d-a588-3f0145251470')\"\n",
              "              title=\"Convert this dataframe to an interactive table.\"\n",
              "              style=\"display:none;\">\n",
              "        \n",
              "  <svg xmlns=\"http://www.w3.org/2000/svg\" height=\"24px\"viewBox=\"0 0 24 24\"\n",
              "       width=\"24px\">\n",
              "    <path d=\"M0 0h24v24H0V0z\" fill=\"none\"/>\n",
              "    <path d=\"M18.56 5.44l.94 2.06.94-2.06 2.06-.94-2.06-.94-.94-2.06-.94 2.06-2.06.94zm-11 1L8.5 8.5l.94-2.06 2.06-.94-2.06-.94L8.5 2.5l-.94 2.06-2.06.94zm10 10l.94 2.06.94-2.06 2.06-.94-2.06-.94-.94-2.06-.94 2.06-2.06.94z\"/><path d=\"M17.41 7.96l-1.37-1.37c-.4-.4-.92-.59-1.43-.59-.52 0-1.04.2-1.43.59L10.3 9.45l-7.72 7.72c-.78.78-.78 2.05 0 2.83L4 21.41c.39.39.9.59 1.41.59.51 0 1.02-.2 1.41-.59l7.78-7.78 2.81-2.81c.8-.78.8-2.07 0-2.86zM5.41 20L4 18.59l7.72-7.72 1.47 1.35L5.41 20z\"/>\n",
              "  </svg>\n",
              "      </button>\n",
              "      \n",
              "  <style>\n",
              "    .colab-df-container {\n",
              "      display:flex;\n",
              "      flex-wrap:wrap;\n",
              "      gap: 12px;\n",
              "    }\n",
              "\n",
              "    .colab-df-convert {\n",
              "      background-color: #E8F0FE;\n",
              "      border: none;\n",
              "      border-radius: 50%;\n",
              "      cursor: pointer;\n",
              "      display: none;\n",
              "      fill: #1967D2;\n",
              "      height: 32px;\n",
              "      padding: 0 0 0 0;\n",
              "      width: 32px;\n",
              "    }\n",
              "\n",
              "    .colab-df-convert:hover {\n",
              "      background-color: #E2EBFA;\n",
              "      box-shadow: 0px 1px 2px rgba(60, 64, 67, 0.3), 0px 1px 3px 1px rgba(60, 64, 67, 0.15);\n",
              "      fill: #174EA6;\n",
              "    }\n",
              "\n",
              "    [theme=dark] .colab-df-convert {\n",
              "      background-color: #3B4455;\n",
              "      fill: #D2E3FC;\n",
              "    }\n",
              "\n",
              "    [theme=dark] .colab-df-convert:hover {\n",
              "      background-color: #434B5C;\n",
              "      box-shadow: 0px 1px 3px 1px rgba(0, 0, 0, 0.15);\n",
              "      filter: drop-shadow(0px 1px 2px rgba(0, 0, 0, 0.3));\n",
              "      fill: #FFFFFF;\n",
              "    }\n",
              "  </style>\n",
              "\n",
              "      <script>\n",
              "        const buttonEl =\n",
              "          document.querySelector('#df-55239cff-abb4-458d-a588-3f0145251470 button.colab-df-convert');\n",
              "        buttonEl.style.display =\n",
              "          google.colab.kernel.accessAllowed ? 'block' : 'none';\n",
              "\n",
              "        async function convertToInteractive(key) {\n",
              "          const element = document.querySelector('#df-55239cff-abb4-458d-a588-3f0145251470');\n",
              "          const dataTable =\n",
              "            await google.colab.kernel.invokeFunction('convertToInteractive',\n",
              "                                                     [key], {});\n",
              "          if (!dataTable) return;\n",
              "\n",
              "          const docLinkHtml = 'Like what you see? Visit the ' +\n",
              "            '<a target=\"_blank\" href=https://colab.research.google.com/notebooks/data_table.ipynb>data table notebook</a>'\n",
              "            + ' to learn more about interactive tables.';\n",
              "          element.innerHTML = '';\n",
              "          dataTable['output_type'] = 'display_data';\n",
              "          await google.colab.output.renderOutput(dataTable, element);\n",
              "          const docLink = document.createElement('div');\n",
              "          docLink.innerHTML = docLinkHtml;\n",
              "          element.appendChild(docLink);\n",
              "        }\n",
              "      </script>\n",
              "    </div>\n",
              "  </div>\n",
              "  "
            ]
          },
          "metadata": {},
          "execution_count": 39
        }
      ]
    },
    {
      "cell_type": "markdown",
      "metadata": {
        "id": "gf9NVpeDMG2M"
      },
      "source": [
        "- Now it's time to perform holdout sampling based on the obtained timepoint splitting. \n",
        "- Remember, you only sample from the test users."
      ]
    },
    {
      "cell_type": "code",
      "source": [
        "testset_part_, holdout_ = leave_one_out(\n",
        "    after,\n",
        "    target='timestamp',\n",
        "    sample_top=True,\n",
        "    random_state=0\n",
        ") # your code for holdout sampling"
      ],
      "metadata": {
        "id": "9ID3bQ5eD_x9"
      },
      "execution_count": 40,
      "outputs": []
    },
    {
      "cell_type": "code",
      "source": [
        "one_rating_only = np.setdiff1d(holdout_['userid'].unique(), testset_part_['userid'].unique())"
      ],
      "metadata": {
        "id": "mG-FYzonF6m1"
      },
      "execution_count": 41,
      "outputs": []
    },
    {
      "cell_type": "code",
      "source": [
        "one_rating_only"
      ],
      "metadata": {
        "colab": {
          "base_uri": "https://localhost:8080/"
        },
        "id": "GY79-HCdGPl_",
        "outputId": "c9eeff4a-6981-45c2-f0b2-91e5504ea2ef"
      },
      "execution_count": 42,
      "outputs": [
        {
          "output_type": "execute_result",
          "data": {
            "text/plain": [
              "array([  80,  228,  351,  829,  838,  996, 1139, 1519, 1716, 2330, 2350,\n",
              "       2390, 2505, 2535, 2593, 2753, 2896, 3072, 3096, 3150, 3233, 3279,\n",
              "       3430, 3492, 3916, 4030, 4079, 4585, 4805, 5118, 5173, 5202, 5367,\n",
              "       5923])"
            ]
          },
          "metadata": {},
          "execution_count": 42
        }
      ]
    },
    {
      "cell_type": "code",
      "source": [
        "holdout_ = holdout_[~holdout_['userid'].isin(one_rating_only)]"
      ],
      "metadata": {
        "id": "x_Y-SwCJKvgx"
      },
      "execution_count": 43,
      "outputs": []
    },
    {
      "cell_type": "code",
      "execution_count": 44,
      "metadata": {
        "id": "voTQvwq_MG2M"
      },
      "outputs": [],
      "source": [
        "# verify correctness of time-based splitting,\n",
        "# i.e., for each test user, the holdout contains only future interactions w.r.t to testset\n",
        "# and drop only one rating user's from the holdout\n",
        "verify_time_split(testset_part_, holdout_)"
      ]
    },
    {
      "cell_type": "code",
      "execution_count": 45,
      "metadata": {
        "id": "f-qgdUA9MG2N"
      },
      "outputs": [],
      "source": [
        "training_ = before[~before['userid'].isin(after['userid'].unique())] # recall that training and testset must be disjoint by users"
      ]
    },
    {
      "cell_type": "markdown",
      "metadata": {
        "id": "oyUydXlWMG2N"
      },
      "source": [
        "- Note that `testset_part_` only contains interactions of the test users **after the timepoint**.\n",
        "- You need to combine it with the remaining histories of these users."
      ]
    },
    {
      "cell_type": "code",
      "source": [
        "testset_part_.shape"
      ],
      "metadata": {
        "colab": {
          "base_uri": "https://localhost:8080/"
        },
        "id": "wDrrE3poOT5r",
        "outputId": "0e83c82b-f252-4c7f-f9ee-e9d8476e61f2"
      },
      "execution_count": 46,
      "outputs": [
        {
          "output_type": "execute_result",
          "data": {
            "text/plain": [
              "(49198, 4)"
            ]
          },
          "metadata": {},
          "execution_count": 46
        }
      ]
    },
    {
      "cell_type": "code",
      "source": [
        "[before[before['userid'].isin(testset_part_.userid.unique())]]"
      ],
      "metadata": {
        "colab": {
          "base_uri": "https://localhost:8080/"
        },
        "id": "r4O4_7yzPA63",
        "outputId": "2447e930-f9d6-4553-ae58-d10f0e6f6e33"
      },
      "execution_count": 47,
      "outputs": [
        {
          "output_type": "execute_result",
          "data": {
            "text/plain": [
              "[         userid  movieid  rating  timestamp\n",
              " 2245         19     2987       4  978555881\n",
              " 2246         19     2989       4  978147099\n",
              " 2247         19     3421       3  983074250\n",
              " 2248         19     2622       5  978300144\n",
              " 2249         19      648       3  978147357\n",
              " ...         ...      ...     ...        ...\n",
              " 1000204    6040     1091       1  956716541\n",
              " 1000205    6040     1094       5  956704887\n",
              " 1000206    6040      562       5  956704746\n",
              " 1000207    6040     1096       4  956715648\n",
              " 1000208    6040     1097       4  956715569\n",
              " \n",
              " [218079 rows x 4 columns]]"
            ]
          },
          "metadata": {},
          "execution_count": 47
        }
      ]
    },
    {
      "cell_type": "code",
      "source": [
        "np.array(before[before['userid'].isin(testset_part_.userid.unique())]).shape"
      ],
      "metadata": {
        "colab": {
          "base_uri": "https://localhost:8080/"
        },
        "id": "5jZHi6KyOfha",
        "outputId": "d9d96321-5ffa-48af-d913-0cb3b734b995"
      },
      "execution_count": 48,
      "outputs": [
        {
          "output_type": "execute_result",
          "data": {
            "text/plain": [
              "(218079, 4)"
            ]
          },
          "metadata": {},
          "execution_count": 48
        }
      ]
    },
    {
      "cell_type": "code",
      "execution_count": 49,
      "metadata": {
        "id": "EWtFo3UwMG2N"
      },
      "outputs": [],
      "source": [
        "# combine all test users data into a single `testset_` Dataframe.\n",
        "testset_ = pd.concat(\n",
        "    [before[before['userid'].isin(testset_part_['userid'].unique())], testset_part_],\n",
        "    axis = 0,\n",
        "    ignore_index=False\n",
        ")"
      ]
    },
    {
      "cell_type": "code",
      "source": [
        "testset_.shape"
      ],
      "metadata": {
        "colab": {
          "base_uri": "https://localhost:8080/"
        },
        "id": "w2f5074EPqwp",
        "outputId": "78608feb-d7d0-4c51-e651-faa39e889a58"
      },
      "execution_count": 50,
      "outputs": [
        {
          "output_type": "execute_result",
          "data": {
            "text/plain": [
              "(267277, 4)"
            ]
          },
          "metadata": {},
          "execution_count": 50
        }
      ]
    },
    {
      "cell_type": "markdown",
      "metadata": {
        "id": "XNJgSmrTMG2N"
      },
      "source": [
        "### Building internal representation of user and item index"
      ]
    },
    {
      "cell_type": "markdown",
      "metadata": {
        "id": "OQwJTPrxMG2O"
      },
      "source": [
        "Use the `transform_indices` function for building a contiguous index starting from 0."
      ]
    },
    {
      "cell_type": "code",
      "execution_count": 51,
      "metadata": {
        "id": "umzz4OISMG2O"
      },
      "outputs": [],
      "source": [
        "training, data_index = transform_indices(training_, 'userid', 'movieid')"
      ]
    },
    {
      "cell_type": "markdown",
      "metadata": {
        "id": "HICyjXkaMG2O"
      },
      "source": [
        "- Before applying new index to the test data:\n",
        "  - note that the users in the `testset` must be the same as the users in the `holdout`.\n",
        "- Below is the corresponding function `align_test_by_users` that ensures these two datasets' alignment."
      ]
    },
    {
      "cell_type": "code",
      "execution_count": 52,
      "metadata": {
        "id": "F7tCJRJzMG2O"
      },
      "outputs": [],
      "source": [
        "def align_test_by_users(testset, holdout):\n",
        "    test_users = np.intersect1d(holdout['userid'].values, testset['userid'].values)\n",
        "    # only allow the same users to be present in both datasets\n",
        "    testset = testset.query('userid in @test_users').sort_values('userid')\n",
        "    holdout = holdout.query('userid in @test_users').sort_values('userid')\n",
        "    return testset, holdout"
      ]
    },
    {
      "cell_type": "markdown",
      "metadata": {
        "id": "7bfG2k4XMG2O"
      },
      "source": [
        "Let's apply new item index to test data and finalize the test split:"
      ]
    },
    {
      "cell_type": "code",
      "execution_count": 53,
      "metadata": {
        "id": "GkAH2WwqMG2P",
        "colab": {
          "base_uri": "https://localhost:8080/"
        },
        "outputId": "dcda4487-a261-4371-ef5a-d19257516ecd"
      },
      "outputs": [
        {
          "output_type": "stream",
          "name": "stdout",
          "text": [
            "Filtered 5 invalid observations.\n",
            "Filtered 109 invalid observations.\n"
          ]
        }
      ],
      "source": [
        "holdout = reindex(holdout_, data_index['items'], filter_invalid=True)\n",
        "testset = reindex(testset_, data_index['items'], filter_invalid=True)\n",
        "\n",
        "testset, holdout = align_test_by_users(testset, holdout)"
      ]
    },
    {
      "cell_type": "markdown",
      "metadata": {
        "id": "rUgBnfcsMG2P"
      },
      "source": [
        "- Think why we do not apply new index to users here."
      ]
    },
    {
      "cell_type": "markdown",
      "metadata": {
        "id": "6lFn6_KRMG2P"
      },
      "source": [
        "## Models implementation"
      ]
    },
    {
      "cell_type": "markdown",
      "metadata": {
        "id": "lSwoWOyJMG2P"
      },
      "source": [
        "- In this section you'll need to implement user-based KNN models for the warm-start scenario.\n",
        "- Think carefully which data must be generated at the build time and which data must be generated in the scoring function."
      ]
    },
    {
      "cell_type": "code",
      "source": [
        "training_description = dict(\n",
        "    users = data_index['users'].name,\n",
        "    items = data_index['items'].name,\n",
        "    feedback = 'rating',\n",
        "    n_users = len(data_index['users']),\n",
        "    n_items = len(data_index['items'])\n",
        ")\n",
        "\n",
        "test_description = dict(\n",
        "    users = data_index['users'].name,\n",
        "    items = data_index['items'].name,\n",
        "    feedback = 'rating',\n",
        "    n_users = testset.userid.nunique(),\n",
        "    n_items = len(data_index['items'])\n",
        ")"
      ],
      "metadata": {
        "id": "6gQi0vdzDdoa"
      },
      "execution_count": 54,
      "outputs": []
    },
    {
      "cell_type": "markdown",
      "metadata": {
        "id": "8jXVChN1MG2P"
      },
      "source": [
        "### Symmetric case (5 pts)"
      ]
    },
    {
      "cell_type": "code",
      "source": [
        "from scipy.sparse import csr_matrix, diags, hstack, vstack"
      ],
      "metadata": {
        "id": "MR-iXPPy37gQ"
      },
      "execution_count": 55,
      "outputs": []
    },
    {
      "cell_type": "code",
      "source": [
        "def build_uknn_model(config, data, data_description):\n",
        "    user_item_mtx = generate_interactions_matrix(data, data_description)\n",
        "\n",
        "    return user_item_mtx\n",
        "\n",
        "\n",
        "def uknn_model_scoring(params, testset, testset_description, config):\n",
        "    user_item_mtx = params\n",
        "    \n",
        "    user_item_mtx_for_test = generate_interactions_matrix(testset, testset_description, rebase_users = True)\n",
        "    user_item_mtx = vstack([user_item_mtx, user_item_mtx_for_test])\n",
        "    \n",
        "    user_similarity = cosine_similarity(user_item_mtx, dense_output=False)\n",
        "    user_similarity.setdiag(0)\n",
        "    user_similarity.eliminate_zeros()\n",
        "    \n",
        "    user_similarity = user_similarity[-testset_description['n_users']:]\n",
        "    user_similarity = truncate_similarity(user_similarity, config['n_neighbors'])\n",
        "    scores = user_similarity.dot(user_item_mtx).A\n",
        "    return scores"
      ],
      "metadata": {
        "id": "GNj0vkacnko7"
      },
      "execution_count": 89,
      "outputs": []
    },
    {
      "cell_type": "code",
      "source": [
        "config = {'weighting': None, 'n_neighbors': n_neighbors}\n",
        "uknn_params =  build_uknn_model(config, training, training_description)"
      ],
      "metadata": {
        "id": "vlkll4oEizW1"
      },
      "execution_count": 91,
      "outputs": []
    },
    {
      "cell_type": "code",
      "source": [
        "uknn_scores = uknn_model_scoring(uknn_params, testset, test_description, config)"
      ],
      "metadata": {
        "id": "4kVQTfXli4HQ"
      },
      "execution_count": 92,
      "outputs": []
    },
    {
      "cell_type": "code",
      "source": [
        "downvote_seen_items(uknn_scores, testset, test_description)"
      ],
      "metadata": {
        "id": "QwDm1ltbi6Xi"
      },
      "execution_count": 93,
      "outputs": []
    },
    {
      "cell_type": "code",
      "source": [],
      "metadata": {
        "id": "Mz5k0r9qotWw"
      },
      "execution_count": null,
      "outputs": []
    },
    {
      "cell_type": "code",
      "execution_count": 104,
      "metadata": {
        "id": "zzMTsT-RMG2Q"
      },
      "outputs": [],
      "source": [
        "# def build_uknn_model(config, data, data_description):\n",
        "#   user_item_mtx = generate_interactions_matrix(data, data_description, rebase_users=True)\n",
        "#   user_similarity = cosine_similarity_zd(user_item_mtx)\n",
        "#   user_similarity = truncate_similarity(\n",
        "#       user_similarity, \n",
        "#       config['n_neighbors'])  \n",
        "#   weights = user_similarity.dot(user_item_mtx.astype('bool')) \n",
        "\n",
        "#   return user_similarity, weights   \n",
        "\n",
        "# def uknn_model_scoring(params, testset, testset_description):\n",
        "#   user_similarity, weights = params\n",
        "#   user_item_mtx = generate_interactions_matrix(\n",
        "#       testset, testset_description, rebase_users=True)\n",
        "#   test_users = testset_description['test_users']\n",
        "\n",
        "#   test_weights = weights[test_users, :]\n",
        "#   if weights is None:\n",
        "#       scores = user_similarity.dot(user_item_mtx).A\n",
        "\n",
        "#   scores = user_item_mtx.T.dot(user_similarity.A)\n",
        "#   test_scores = np.divide(\n",
        "#           scores.T,\n",
        "#           test_weights,\n",
        "#           where = (test_weights!=0)\n",
        "#         )  \n",
        "#   return test_scores\n",
        "\n",
        "\n",
        "# def build_uknn_model(config, data, data_description):\n",
        "#     user_item_mtx = generate_interactions_matrix(data, data_description, rebase_users=True)\n",
        "    \n",
        "#     user_similarity = cosine_similarity_zd(user_item_mtx)\n",
        "#     user_similarity = truncate_similarity(user_similarity, config['n_neighbors'])     \n",
        "    \n",
        "#     weighting = config['weighting']\n",
        "#     weights = None\n",
        "#     if weighting == 'elementwise':\n",
        "#       weights = user_similarity.dot(user_item_mtx.astype('bool'))\n",
        "    \n",
        "#     return user_item_mtx, user_similarity, weights\n",
        "\n",
        "\n",
        "# def uknn_model_scoring(params, testset, testset_description, config):\n",
        "#     user_item_mtx, user_similarity, weights = params\n",
        "#     # print('user_item_mtx', user_item_mtx.shape)\n",
        "#     # print('user_similarity', user_similarity.shape)\n",
        "#     user_item_mtx_for_test = generate_interactions_matrix(testset, testset_description, rebase_users=True)\n",
        "#     # print('user_item_mtx_for_test', user_item_mtx_for_test.shape)\n",
        "#     user_item_mtx = vstack([user_item_mtx, user_item_mtx_for_test])\n",
        "#     # print('user_item_mtx', user_item_mtx.shape)\n",
        "#     # print(-testset_description['n_users'])\n",
        "#     # print(-len(testset.userid.unique()))\n",
        "\n",
        "#     user_similarity = cosine_similarity_zd(user_item_mtx)\n",
        "#     user_similarity = truncate_similarity(user_similarity, config['n_neighbors'])\n",
        "\n",
        "\n",
        "#     if weights is None:\n",
        "#       scores = user_similarity.dot(user_item_mtx).A\n",
        "#       # print(scores)\n",
        "#       # return scores[-testset_description['n_users']:] \n",
        "#       return scores[-len(testset.userid.unique()):]\n",
        "\n",
        "# uknn_params =  build_uknn_model({'weighting': None, 'n_neighbors': n_neighbors}, training, training_description)\n",
        "# uknn_scores = uknn_model_scoring(uknn_params, testset, test_description, {'weighting': None, 'n_neighbors': n_neighbors})\n",
        "# print(uknn_scores.shape)\n",
        "# downvote_seen_items(uknn_scores, testset, test_description)"
      ]
    },
    {
      "cell_type": "markdown",
      "metadata": {
        "id": "gwXHqf3aMG2Q"
      },
      "source": [
        "### Asymmetric case (5 pts)"
      ]
    },
    {
      "cell_type": "code",
      "source": [
        "def build_uknn_model_asym(config, data, data_description):\n",
        "    user_item_mtx = generate_interactions_matrix(data, data_description, rebase_users=True)\n",
        "    # user_similarity = cosine_similarity_zd(user_item_mtx)\n",
        "    # user_similarity = truncate_similarity(user_similarity, config['n_neighbors']) \n",
        "    # weighting = config['weighting']\n",
        "    # weights = None\n",
        "    # if weighting == 'columnwise':\n",
        "    #   weights = (\n",
        "    #         user_similarity\n",
        "    #         ._with_data(np.abs(user_similarity.data))\n",
        "    #         .sum(axis=1)\n",
        "    #         .A.squeeze()\n",
        "    #     )\n",
        "    \n",
        "    return user_item_mtx #, user_similarity, weights\n",
        "\n",
        "def uknn_model_scoring_asym(params, testset, testset_description, config):\n",
        "    user_item_mtx = params\n",
        "\n",
        "    user_item_mtx_for_test = generate_interactions_matrix(testset, testset_description, rebase_users=True)\n",
        "    user_item_mtx = vstack([user_item_mtx, user_item_mtx_for_test])\n",
        "\n",
        "    user_similarity = cosine_similarity_zd(user_item_mtx)\n",
        "    user_similarity = truncate_similarity(user_similarity, config['n_neighbors'])\n",
        "    \n",
        "    weights = (\n",
        "            user_similarity\n",
        "            ._with_data(np.abs(user_similarity.data))\n",
        "            .sum(axis=0)\n",
        "            .A.squeeze()\n",
        "        )\n",
        "    normalizer = diags(np.divide(1., weights, where=weights!=0))\n",
        "    # print(normalizer.shape)\n",
        "    scores = user_similarity.dot(normalizer.dot(user_item_mtx)).A\n",
        "    return scores[-testset_description['n_users']:] \n"
      ],
      "metadata": {
        "id": "USuR8Sk4dYyM"
      },
      "execution_count": 98,
      "outputs": []
    },
    {
      "cell_type": "code",
      "source": [
        "config= {'n_neighbors', n_neighbors}\n",
        "uknn_params_asym = build_uknn_model_asym(config, training, training_description)"
      ],
      "metadata": {
        "id": "E8tbUKMkolA2"
      },
      "execution_count": 99,
      "outputs": []
    },
    {
      "cell_type": "code",
      "source": [
        "uknn_scores_asym = uknn_model_scoring_asym(uknn_params_asym, testset, test_description, {'weighting': None, 'n_neighbors': n_neighbors})"
      ],
      "metadata": {
        "id": "YhenaM_iomga"
      },
      "execution_count": 101,
      "outputs": []
    },
    {
      "cell_type": "code",
      "source": [
        "downvote_seen_items(uknn_scores_asym, testset, test_description)"
      ],
      "metadata": {
        "id": "ZSOYeb69ooqd"
      },
      "execution_count": 102,
      "outputs": []
    },
    {
      "cell_type": "markdown",
      "metadata": {
        "id": "70v4AXydMG2S"
      },
      "source": [
        " ## Evaluation (1 pts)"
      ]
    },
    {
      "cell_type": "markdown",
      "metadata": {
        "id": "6_styWMPMG2U"
      },
      "source": [
        "### Generate recommendations for both models"
      ]
    },
    {
      "cell_type": "code",
      "execution_count": 103,
      "metadata": {
        "id": "oHUUJUhehVGq"
      },
      "outputs": [],
      "source": [
        "uknn_recs = topn_recommendations(uknn_scores)"
      ]
    },
    {
      "cell_type": "code",
      "source": [
        "uknn_recs"
      ],
      "metadata": {
        "colab": {
          "base_uri": "https://localhost:8080/"
        },
        "id": "NuDV0gPHhd0r",
        "outputId": "c1d93375-28a6-4050-b02d-e4d8e2ef5816"
      },
      "execution_count": 104,
      "outputs": [
        {
          "output_type": "execute_result",
          "data": {
            "text/plain": [
              "array([[2666, 1040,  286, ..., 3291,  587, 1112],\n",
              "       [ 252, 1100, 1086, ...,  953, 1087, 3497],\n",
              "       [1100, 1253, 1158, ..., 1040, 2471,  510],\n",
              "       ...,\n",
              "       [ 829, 1088,  825, ..., 1155, 1087, 3379],\n",
              "       [  49, 2546,  524, ...,  106, 1478, 1887],\n",
              "       [1111, 1266, 1097, ..., 1123, 1094, 1742]])"
            ]
          },
          "metadata": {},
          "execution_count": 104
        }
      ]
    },
    {
      "cell_type": "code",
      "source": [
        "uknn_recs.shape"
      ],
      "metadata": {
        "colab": {
          "base_uri": "https://localhost:8080/"
        },
        "outputId": "5457d30b-1970-4b81-937d-51c8770f0dfe",
        "id": "WjhZmdpthVGr"
      },
      "execution_count": 105,
      "outputs": [
        {
          "output_type": "execute_result",
          "data": {
            "text/plain": [
              "(774, 10)"
            ]
          },
          "metadata": {},
          "execution_count": 105
        }
      ]
    },
    {
      "cell_type": "code",
      "execution_count": 106,
      "metadata": {
        "id": "xGDk9565hVGr"
      },
      "outputs": [],
      "source": [
        "uknn_recs_asym = topn_recommendations(uknn_scores_asym)"
      ]
    },
    {
      "cell_type": "code",
      "source": [
        "uknn_recs_asym"
      ],
      "metadata": {
        "colab": {
          "base_uri": "https://localhost:8080/"
        },
        "id": "QV1e5Y8UhxWp",
        "outputId": "107e47a5-5432-4b40-e36c-0489b202bccd"
      },
      "execution_count": 107,
      "outputs": [
        {
          "output_type": "execute_result",
          "data": {
            "text/plain": [
              "array([[2666,  723,  286, ...,  524, 1743, 1757],\n",
              "       [ 252, 1086,  687, ...,  286, 3497, 1249],\n",
              "       [1253, 1100, 1158, ..., 1040,  308, 2733],\n",
              "       ...,\n",
              "       [ 829, 1160, 1088, ..., 2072, 1120, 3379],\n",
              "       [  49,  524, 3084, ..., 3379,  106, 1887],\n",
              "       [1851, 1087, 1111, ..., 1094, 1123, 1192]])"
            ]
          },
          "metadata": {},
          "execution_count": 107
        }
      ]
    },
    {
      "cell_type": "markdown",
      "metadata": {
        "id": "cHtdGwaeMG2V"
      },
      "source": [
        "### Calculate metrics"
      ]
    },
    {
      "cell_type": "code",
      "execution_count": 108,
      "metadata": {
        "id": "TAQknx5DMG2V",
        "colab": {
          "base_uri": "https://localhost:8080/"
        },
        "outputId": "af888cf5-e1b3-49e3-9957-ef85b0ee5ed8"
      },
      "outputs": [
        {
          "output_type": "stream",
          "name": "stdout",
          "text": [
            "Similarity type: symmetric\n",
            "HR=0.0504, MRR=0.0215, COV=0.111\n",
            "\n",
            "Similarity type: asymmetric\n",
            "HR=0.0543, MRR=0.0228, COV=0.148\n",
            "\n"
          ]
        }
      ],
      "source": [
        "modes = ['symmetric', 'asymmetric']\n",
        "uknn_recs = dict(zip(modes, [uknn_recs, uknn_recs_asym]))\n",
        "\n",
        "\n",
        "uknn_metrics = {}\n",
        "for mode, recs in uknn_recs.items():\n",
        "    if recs is None: continue\n",
        "    uknn_metrics[mode] = metrics = model_evaluate(recs, holdout, data_description)\n",
        "    print(\n",
        "        f'Similarity type: {mode}\\n'\\\n",
        "        'HR={:.3}, MRR={:.3}, COV={:.3}\\n'.format(*metrics)\n",
        "    )"
      ]
    },
    {
      "cell_type": "markdown",
      "metadata": {
        "id": "CJ2q75WcMG2V"
      },
      "source": [
        "## Tuning (2 pts)\n",
        "- Try to find a neighborhood size that gives you better results.\n",
        "- Perform a simple grid-search experiment and report your findings."
      ]
    },
    {
      "cell_type": "code",
      "source": [
        "modes = ['symmetric', 'asymmetric']\n",
        "neigborhood_list = [10, 20, 30, 40, 100, 200] \n",
        "\n",
        "for neighbours in neigborhood_list:\n",
        "  uknn_scores = uknn_model_scoring(uknn_params, testset, test_description, {'weighting': None, 'n_neighbors': neighbours})\n",
        "  downvote_seen_items(uknn_scores, testset, test_description)\n",
        "  uknn_recs = topn_recommendations(uknn_scores)\n",
        "\n",
        "  uknn_scores_asym = uknn_model_scoring_asym(uknn_params_asym, testset, test_description, {'weighting': None, 'n_neighbors': neighbours})\n",
        "  downvote_seen_items(uknn_scores_asym, testset, test_description)\n",
        "  uknn_recs_asym = topn_recommendations(uknn_scores_asym)\n",
        "\n",
        "  uknn_recs = dict(zip(modes, [uknn_recs, uknn_recs_asym]))\n",
        "\n",
        "\n",
        "  uknn_metrics = {}\n",
        "  for mode, recs in uknn_recs.items():\n",
        "      if recs is None: continue\n",
        "      uknn_metrics[mode] = metrics = model_evaluate(recs, holdout, data_description)\n",
        "      print(\n",
        "          f'Similarity type: {mode}, numbers of neighbours : {neighbours}\\n'\\\n",
        "          'HR={:.3}, MRR={:.3}, COV={:.3}\\n'.format(*metrics)\n",
        "      )"
      ],
      "metadata": {
        "colab": {
          "base_uri": "https://localhost:8080/"
        },
        "id": "U0oCaMMKlNV8",
        "outputId": "3a77e2df-993b-4c1c-d66d-e7b16bf2c8d6"
      },
      "execution_count": 109,
      "outputs": [
        {
          "output_type": "stream",
          "name": "stdout",
          "text": [
            "Similarity type: symmetric, numbers of neighbours : 10\n",
            "HR=0.0465, MRR=0.0183, COV=0.198\n",
            "\n",
            "Similarity type: asymmetric, numbers of neighbours : 10\n",
            "HR=0.0401, MRR=0.0166, COV=0.256\n",
            "\n",
            "Similarity type: symmetric, numbers of neighbours : 20\n",
            "HR=0.0517, MRR=0.0172, COV=0.162\n",
            "\n",
            "Similarity type: asymmetric, numbers of neighbours : 20\n",
            "HR=0.0504, MRR=0.0161, COV=0.223\n",
            "\n",
            "Similarity type: symmetric, numbers of neighbours : 30\n",
            "HR=0.0556, MRR=0.0211, COV=0.149\n",
            "\n",
            "Similarity type: asymmetric, numbers of neighbours : 30\n",
            "HR=0.053, MRR=0.0185, COV=0.204\n",
            "\n",
            "Similarity type: symmetric, numbers of neighbours : 40\n",
            "HR=0.0517, MRR=0.0213, COV=0.135\n",
            "\n",
            "Similarity type: asymmetric, numbers of neighbours : 40\n",
            "HR=0.0517, MRR=0.0188, COV=0.188\n",
            "\n",
            "Similarity type: symmetric, numbers of neighbours : 100\n",
            "HR=0.0504, MRR=0.0215, COV=0.111\n",
            "\n",
            "Similarity type: asymmetric, numbers of neighbours : 100\n",
            "HR=0.0543, MRR=0.0228, COV=0.148\n",
            "\n",
            "Similarity type: symmetric, numbers of neighbours : 200\n",
            "HR=0.0568, MRR=0.0225, COV=0.0923\n",
            "\n",
            "Similarity type: asymmetric, numbers of neighbours : 200\n",
            "HR=0.0633, MRR=0.0237, COV=0.125\n",
            "\n"
          ]
        }
      ]
    },
    {
      "cell_type": "markdown",
      "source": [
        "For 200 neighbours best HR, fir 200 neighbours best MRR, for 200 neighbours best COV"
      ],
      "metadata": {
        "id": "_tWwuHPspLAZ"
      }
    },
    {
      "cell_type": "markdown",
      "metadata": {
        "id": "lWy40LXDMG2V"
      },
      "source": [
        "# Final analysis (3 pts)"
      ]
    },
    {
      "cell_type": "markdown",
      "metadata": {
        "id": "0E_-ysMzMG2W"
      },
      "source": [
        "1. Provide an analysis on which model performs the best and explain why.\n",
        "2. Explain the difference in computational complexity of your models. Consider how the training and the recommendation generation differ for different models in terms of\n",
        "    - the amount of RAM,\n",
        "    - the amount of disk storage,\n",
        "    - the load on CPU.\n",
        "3. How else would you modify the model to improve either the quality of recommendations or computational performance? Describe at least one modification and its envisioned effect."
      ]
    }
  ],
  "metadata": {
    "kernelspec": {
      "display_name": "rstest",
      "language": "python",
      "name": "python3"
    },
    "language_info": {
      "codemirror_mode": {
        "name": "ipython",
        "version": 3
      },
      "file_extension": ".py",
      "mimetype": "text/x-python",
      "name": "python",
      "nbconvert_exporter": "python",
      "pygments_lexer": "ipython3",
      "version": "3.10.2"
    },
    "orig_nbformat": 4,
    "vscode": {
      "interpreter": {
        "hash": "64cd544b7330e8e73b8689d110cc075e8c836a404445c2b82c04f3ea96ea86ff"
      }
    },
    "colab": {
      "provenance": []
    }
  },
  "nbformat": 4,
  "nbformat_minor": 0
}