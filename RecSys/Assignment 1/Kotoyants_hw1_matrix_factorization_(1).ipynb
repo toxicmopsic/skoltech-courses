{
  "cells": [
    {
      "cell_type": "markdown",
      "metadata": {
        "id": "OH0OmsmhPuvk"
      },
      "source": [
        "# Federated collaborative filtering "
      ]
    },
    {
      "cell_type": "markdown",
      "metadata": {
        "id": "tfajZToNP8Ux"
      },
      "source": [
        "Your task is to implement federated collaborative filterng model for privacy-preserving personalized recommendation system.  \n",
        "In the Federated Learning paradigm, a master machine learning model is distributed to user clients, the clients use their locally stored data and model for both inference and calculating model updates. The model updates are sent back and aggregated on the server to update the master\n",
        "model then redistributed to the clients. In this paradigm, the user data never leaves the client, greatly enhancing the user’ privacy, in contrast to the traditional paradigm of collecting, storing and processing user data on a backend server beyond the user’s control. The federated updates to the model are based on a gradient approach. \n",
        "\n",
        "Specifically, the method defines three core components as below.\n",
        "1. All the item factor vectors $y_i, i = 1, ... , M$ are updated on the server and then distributed to each client $u$.\n",
        "2. The user factor vectors $x_u, u = 1, ... , N$ are updated locally on the client $u$, using the user $u$’s own data and the $y_i, i = 1, ... , M$ from the server.\n",
        "3. The updates through the gradients $\\delta y_{ui}$ are calculated for the item $i$ on each client $u$ and transmitted to the server where the gradients are aggregated to update $y_i$.\n",
        "\n",
        "The cost function optimizing across all users $u$ and the items $i$ over the confidence levels $c_{ui}$ is then given as\n",
        "\n",
        "$$J = \\sum_u \\sum_i c_{ui}(p_{ui} - x_u^T y_i)^2 + \\lambda (\\sum_u||x_u||^2 + \\sum_i ||y_i||^2),$$\n",
        "with a regularization parameter $\\lambda$,\n",
        "where \n",
        "$$p_{ui} = \\begin{cases}  \n",
        "1 & r_{ui} > 0,\\\\\n",
        "0 & r_{ui} = 0\n",
        "\\end{cases}$$\n",
        " $$c_{ui} = 1 + \\alpha r_{ui}$$\n",
        "\n",
        "User factors are updated by directly solving an equation\n",
        "\n",
        "$$ \\frac{\\partial J(x_u)}{\\partial x_u} = 0 $$\n",
        "Thus, we obtain the solution\n",
        "$$ x_u = (YC^uY^T + \\lambda I)^{-1}YC^up(u),$$\n",
        "where $ C^u \\in \\mathbb{R}^{N \\times N}$ is a diagonal matrix with $C_{ii}^u = c_{ui}$ and $p(u) \\in \\mathbb{R}^{N \\times 1}$ contains the $p_{ui}$ values for the user $u$.\n",
        "\n",
        "Item factors are updated on the master server as\n",
        "\n",
        "$$ y_i = y_i - \\gamma \\frac{\\partial J}{\\partial y_i},$$\n",
        "\n",
        "where gamma is gain parameter.\n",
        "\n",
        "$$ \\frac{\\partial J}{\\partial y_i} = -2 \\sum_u f(u,i) +2 \\lambda y_i, $$\n",
        "where \n",
        "$$ f(u,i) = \\left[ c_{ui}(p_{ui} - x_u^T y_i)\\right]x_u.$$\n",
        "\n",
        "To familiarise yourself with the method, read the paper https://arxiv.org/pdf/1901.09888.pdf\n"
      ]
    },
    {
      "cell_type": "code",
      "execution_count": 1,
      "metadata": {
        "id": "ko6DPW-jTzP1",
        "outputId": "7b360e21-5d41-4615-c857-39f9b8e786c9",
        "colab": {
          "base_uri": "https://localhost:8080/"
        }
      },
      "outputs": [
        {
          "output_type": "stream",
          "name": "stdout",
          "text": [
            "Looking in indexes: https://pypi.org/simple, https://us-python.pkg.dev/colab-wheels/public/simple/\n",
            "Collecting ipypb\n",
            "  Downloading ipypb-0.5.2-py3-none-any.whl (8.6 kB)\n",
            "Installing collected packages: ipypb\n",
            "Successfully installed ipypb-0.5.2\n"
          ]
        }
      ],
      "source": [
        "!pip install ipypb"
      ]
    },
    {
      "cell_type": "code",
      "execution_count": 2,
      "metadata": {
        "id": "ft1dYl4jD6hM",
        "outputId": "301dfb87-4e88-4f37-b4fb-3943488ca0fa",
        "colab": {
          "base_uri": "https://localhost:8080/"
        }
      },
      "outputs": [
        {
          "output_type": "stream",
          "name": "stdout",
          "text": [
            "Looking in indexes: https://pypi.org/simple, https://us-python.pkg.dev/colab-wheels/public/simple/\n",
            "Collecting polara\n",
            "  Cloning https://github.com/evfro/polara.git (to revision develop) to /tmp/pip-install-_3vo6g9_/polara_44b64245df664ce3aa07a2172c0cbc3d\n",
            "  Running command git clone --filter=blob:none --quiet https://github.com/evfro/polara.git /tmp/pip-install-_3vo6g9_/polara_44b64245df664ce3aa07a2172c0cbc3d\n",
            "  Running command git checkout -b develop --track origin/develop\n",
            "  Switched to a new branch 'develop'\n",
            "  Branch 'develop' set up to track remote branch 'develop' from 'origin'.\n",
            "  Resolved https://github.com/evfro/polara.git to commit 8e48cfd88e616ca53f8bbda1702a3e2c8abaf38e\n",
            "  Preparing metadata (setup.py) ... \u001b[?25l\u001b[?25hdone\n",
            "Building wheels for collected packages: polara\n",
            "  Building wheel for polara (setup.py) ... \u001b[?25l\u001b[?25hdone\n",
            "  Created wheel for polara: filename=polara-0.7.2.dev0-py3-none-any.whl size=89470 sha256=2d82d2a0e8d6597f079a93f3680d1b6a66ba8ebe17df262cb1eaaeb843a3f781\n",
            "  Stored in directory: /tmp/pip-ephem-wheel-cache-ty6wui3h/wheels/d2/cf/bf/e1a3e49c4a733261d717fa4732eadf0303dabcc48ba694ad7a\n",
            "Successfully built polara\n",
            "Installing collected packages: polara\n",
            "Successfully installed polara-0.7.2.dev0\n"
          ]
        }
      ],
      "source": [
        "!pip install --upgrade git+https://github.com/evfro/polara.git@develop#egg=polara"
      ]
    },
    {
      "cell_type": "code",
      "execution_count": 3,
      "metadata": {
        "id": "7RSs4X4klJtV"
      },
      "outputs": [],
      "source": [
        "from scipy.sparse import csr_matrix\n",
        "from ipypb import irange"
      ]
    },
    {
      "cell_type": "code",
      "execution_count": 4,
      "metadata": {
        "id": "1ODpvLJFvoWs"
      },
      "outputs": [],
      "source": [
        "import pandas as pd\n",
        "import numpy as np\n",
        "from scipy.sparse import diags\n",
        "from scipy import sparse\n",
        "from tqdm import tqdm\n",
        "import matplotlib.pyplot as plt\n",
        "from polara import get_movielens_data\n",
        "from polara.evaluation.pipelines import random_grid, find_optimal_config"
      ]
    },
    {
      "cell_type": "markdown",
      "metadata": {
        "id": "EXj3bZZJ-Loh"
      },
      "source": [
        "## Download dataset"
      ]
    },
    {
      "cell_type": "markdown",
      "metadata": {
        "id": "cf7wCfY1R4bq"
      },
      "source": [
        "For this task we will use popular MovieLens dataset."
      ]
    },
    {
      "cell_type": "code",
      "execution_count": 5,
      "metadata": {
        "colab": {
          "base_uri": "https://localhost:8080/",
          "height": 206
        },
        "id": "zLvfeClL6mJB",
        "outputId": "2b7b368c-0a69-484d-9052-c9d1560f27eb"
      },
      "outputs": [
        {
          "output_type": "execute_result",
          "data": {
            "text/plain": [
              "   userid  movieid  rating  timestamp\n",
              "0       1     1193       5  978300760\n",
              "1       1      661       3  978302109\n",
              "2       1      914       3  978301968\n",
              "3       1     3408       4  978300275\n",
              "4       1     2355       5  978824291"
            ],
            "text/html": [
              "\n",
              "  <div id=\"df-39daa525-e42d-4a53-b011-14c0cba5a934\">\n",
              "    <div class=\"colab-df-container\">\n",
              "      <div>\n",
              "<style scoped>\n",
              "    .dataframe tbody tr th:only-of-type {\n",
              "        vertical-align: middle;\n",
              "    }\n",
              "\n",
              "    .dataframe tbody tr th {\n",
              "        vertical-align: top;\n",
              "    }\n",
              "\n",
              "    .dataframe thead th {\n",
              "        text-align: right;\n",
              "    }\n",
              "</style>\n",
              "<table border=\"1\" class=\"dataframe\">\n",
              "  <thead>\n",
              "    <tr style=\"text-align: right;\">\n",
              "      <th></th>\n",
              "      <th>userid</th>\n",
              "      <th>movieid</th>\n",
              "      <th>rating</th>\n",
              "      <th>timestamp</th>\n",
              "    </tr>\n",
              "  </thead>\n",
              "  <tbody>\n",
              "    <tr>\n",
              "      <th>0</th>\n",
              "      <td>1</td>\n",
              "      <td>1193</td>\n",
              "      <td>5</td>\n",
              "      <td>978300760</td>\n",
              "    </tr>\n",
              "    <tr>\n",
              "      <th>1</th>\n",
              "      <td>1</td>\n",
              "      <td>661</td>\n",
              "      <td>3</td>\n",
              "      <td>978302109</td>\n",
              "    </tr>\n",
              "    <tr>\n",
              "      <th>2</th>\n",
              "      <td>1</td>\n",
              "      <td>914</td>\n",
              "      <td>3</td>\n",
              "      <td>978301968</td>\n",
              "    </tr>\n",
              "    <tr>\n",
              "      <th>3</th>\n",
              "      <td>1</td>\n",
              "      <td>3408</td>\n",
              "      <td>4</td>\n",
              "      <td>978300275</td>\n",
              "    </tr>\n",
              "    <tr>\n",
              "      <th>4</th>\n",
              "      <td>1</td>\n",
              "      <td>2355</td>\n",
              "      <td>5</td>\n",
              "      <td>978824291</td>\n",
              "    </tr>\n",
              "  </tbody>\n",
              "</table>\n",
              "</div>\n",
              "      <button class=\"colab-df-convert\" onclick=\"convertToInteractive('df-39daa525-e42d-4a53-b011-14c0cba5a934')\"\n",
              "              title=\"Convert this dataframe to an interactive table.\"\n",
              "              style=\"display:none;\">\n",
              "        \n",
              "  <svg xmlns=\"http://www.w3.org/2000/svg\" height=\"24px\"viewBox=\"0 0 24 24\"\n",
              "       width=\"24px\">\n",
              "    <path d=\"M0 0h24v24H0V0z\" fill=\"none\"/>\n",
              "    <path d=\"M18.56 5.44l.94 2.06.94-2.06 2.06-.94-2.06-.94-.94-2.06-.94 2.06-2.06.94zm-11 1L8.5 8.5l.94-2.06 2.06-.94-2.06-.94L8.5 2.5l-.94 2.06-2.06.94zm10 10l.94 2.06.94-2.06 2.06-.94-2.06-.94-.94-2.06-.94 2.06-2.06.94z\"/><path d=\"M17.41 7.96l-1.37-1.37c-.4-.4-.92-.59-1.43-.59-.52 0-1.04.2-1.43.59L10.3 9.45l-7.72 7.72c-.78.78-.78 2.05 0 2.83L4 21.41c.39.39.9.59 1.41.59.51 0 1.02-.2 1.41-.59l7.78-7.78 2.81-2.81c.8-.78.8-2.07 0-2.86zM5.41 20L4 18.59l7.72-7.72 1.47 1.35L5.41 20z\"/>\n",
              "  </svg>\n",
              "      </button>\n",
              "      \n",
              "  <style>\n",
              "    .colab-df-container {\n",
              "      display:flex;\n",
              "      flex-wrap:wrap;\n",
              "      gap: 12px;\n",
              "    }\n",
              "\n",
              "    .colab-df-convert {\n",
              "      background-color: #E8F0FE;\n",
              "      border: none;\n",
              "      border-radius: 50%;\n",
              "      cursor: pointer;\n",
              "      display: none;\n",
              "      fill: #1967D2;\n",
              "      height: 32px;\n",
              "      padding: 0 0 0 0;\n",
              "      width: 32px;\n",
              "    }\n",
              "\n",
              "    .colab-df-convert:hover {\n",
              "      background-color: #E2EBFA;\n",
              "      box-shadow: 0px 1px 2px rgba(60, 64, 67, 0.3), 0px 1px 3px 1px rgba(60, 64, 67, 0.15);\n",
              "      fill: #174EA6;\n",
              "    }\n",
              "\n",
              "    [theme=dark] .colab-df-convert {\n",
              "      background-color: #3B4455;\n",
              "      fill: #D2E3FC;\n",
              "    }\n",
              "\n",
              "    [theme=dark] .colab-df-convert:hover {\n",
              "      background-color: #434B5C;\n",
              "      box-shadow: 0px 1px 3px 1px rgba(0, 0, 0, 0.15);\n",
              "      filter: drop-shadow(0px 1px 2px rgba(0, 0, 0, 0.3));\n",
              "      fill: #FFFFFF;\n",
              "    }\n",
              "  </style>\n",
              "\n",
              "      <script>\n",
              "        const buttonEl =\n",
              "          document.querySelector('#df-39daa525-e42d-4a53-b011-14c0cba5a934 button.colab-df-convert');\n",
              "        buttonEl.style.display =\n",
              "          google.colab.kernel.accessAllowed ? 'block' : 'none';\n",
              "\n",
              "        async function convertToInteractive(key) {\n",
              "          const element = document.querySelector('#df-39daa525-e42d-4a53-b011-14c0cba5a934');\n",
              "          const dataTable =\n",
              "            await google.colab.kernel.invokeFunction('convertToInteractive',\n",
              "                                                     [key], {});\n",
              "          if (!dataTable) return;\n",
              "\n",
              "          const docLinkHtml = 'Like what you see? Visit the ' +\n",
              "            '<a target=\"_blank\" href=https://colab.research.google.com/notebooks/data_table.ipynb>data table notebook</a>'\n",
              "            + ' to learn more about interactive tables.';\n",
              "          element.innerHTML = '';\n",
              "          dataTable['output_type'] = 'display_data';\n",
              "          await google.colab.output.renderOutput(dataTable, element);\n",
              "          const docLink = document.createElement('div');\n",
              "          docLink.innerHTML = docLinkHtml;\n",
              "          element.appendChild(docLink);\n",
              "        }\n",
              "      </script>\n",
              "    </div>\n",
              "  </div>\n",
              "  "
            ]
          },
          "metadata": {},
          "execution_count": 5
        }
      ],
      "source": [
        "data = get_movielens_data(\n",
        "    get_genres=False, # we won't need genres\n",
        "    split_genres=False,\n",
        "    include_time=True\n",
        ")\n",
        "\n",
        "data.head()"
      ]
    },
    {
      "cell_type": "markdown",
      "metadata": {
        "id": "HHRaWsXP_GPC"
      },
      "source": [
        "# 1. Preprocess data  (5 pts)\n",
        "Do the preprocessing, including data split and index transformation. You are recommended to use functions from the seminar on evaluation."
      ]
    },
    {
      "cell_type": "markdown",
      "metadata": {
        "id": "4f1g4Odt_UoJ"
      },
      "source": [
        "## Data split \n"
      ]
    },
    {
      "cell_type": "markdown",
      "metadata": {
        "id": "z5LcFapySKc0"
      },
      "source": [
        "Split data to train/validation/test datasets, using leave-last-out scheme for holdout sampling."
      ]
    },
    {
      "cell_type": "code",
      "execution_count": 6,
      "metadata": {
        "id": "RW6LYUI3-ef8"
      },
      "outputs": [],
      "source": [
        "def leave_last_out(data, userid='userid', timeid='timestamp'):\n",
        "    data_sorted = data.sort_values('timestamp')\n",
        "    holdout = data_sorted.drop_duplicates(\n",
        "        subset=['userid'], keep='last'\n",
        "    ) # split the last item from each user's history\n",
        "    remaining = data.drop(holdout.index) # store the remaining data - will be our training\n",
        "    return remaining, holdout"
      ]
    },
    {
      "cell_type": "code",
      "execution_count": 7,
      "metadata": {
        "id": "4K-ZiiSy-emy"
      },
      "outputs": [],
      "source": [
        "training_, holdout_ = leave_last_out(data)"
      ]
    },
    {
      "cell_type": "code",
      "execution_count": 8,
      "metadata": {
        "id": "87GBkzkFE9tP"
      },
      "outputs": [],
      "source": [
        "training_, holdout_val_ = leave_last_out(training_)"
      ]
    },
    {
      "cell_type": "markdown",
      "metadata": {
        "id": "Gadtku-HEyNc"
      },
      "source": [
        "## Transform index"
      ]
    },
    {
      "cell_type": "markdown",
      "metadata": {
        "id": "ma9Q5lmLT6m8"
      },
      "source": [
        "Transform index in train dataset and reindex validation and test datasets."
      ]
    },
    {
      "cell_type": "code",
      "execution_count": 9,
      "metadata": {
        "id": "lj-gZZhbBX6S"
      },
      "outputs": [],
      "source": [
        "def transform_indices(data, users, items):\n",
        "    '''\n",
        "    Reindex columns that correspond to users and items.\n",
        "    New index is contiguous starting from 0.\n",
        "    '''\n",
        "    data_index = {}\n",
        "    for entity, field in zip(['users', 'items'], [users, items]):\n",
        "        new_index, data_index[entity] = to_numeric_id(data, field)\n",
        "        data = data.assign(**{f'{field}': new_index}) # makes a copy of dataset!\n",
        "    return data, data_index\n",
        "\n",
        "def to_numeric_id(data, field):\n",
        "    '''\n",
        "    Get new contiguous index by converting the data field\n",
        "    into categorical values.\n",
        "    '''\n",
        "    idx_data = data[field].astype(\"category\")\n",
        "    idx = idx_data.cat.codes\n",
        "    idx_map = idx_data.cat.categories.rename(field)\n",
        "    return idx, idx_map\n",
        "\n",
        "def reindex_data(data, data_index, fields=None):\n",
        "    '''\n",
        "    Reindex provided data with the specified index mapping.\n",
        "    By default, will take the name of the fields to reindex from `data_index`.\n",
        "    It is also possible to specify which field to reindex by providing `fields`.\n",
        "    '''\n",
        "    if fields is None:\n",
        "        fields = data_index.keys()\n",
        "    if isinstance(fields, str): # handle single field provided as a string\n",
        "        fields = [fields]\n",
        "    for field in fields:\n",
        "        entity = data_index[field].name\n",
        "        new_index = data_index[field].get_indexer(data[entity])\n",
        "        data = data.assign(**{f'{entity}': new_index}) # makes a copy of dataset!\n",
        "    return data"
      ]
    },
    {
      "cell_type": "code",
      "execution_count": 10,
      "metadata": {
        "id": "Hc3CZyn_BTYx"
      },
      "outputs": [],
      "source": [
        "train_data, data_index = transform_indices(training_, 'userid', 'movieid')"
      ]
    },
    {
      "cell_type": "code",
      "execution_count": 11,
      "metadata": {
        "id": "qMdKuyEGAr5F"
      },
      "outputs": [],
      "source": [
        "test_data = reindex_data(holdout_, data_index)\n",
        "val_data = reindex_data(holdout_val_, data_index)"
      ]
    },
    {
      "cell_type": "code",
      "execution_count": 12,
      "metadata": {
        "id": "uYvEO_M6EpAF"
      },
      "outputs": [],
      "source": [
        "test_data = test_data.query('movieid >= 0')"
      ]
    },
    {
      "cell_type": "code",
      "source": [
        "# sorting data by user id for correct evaluation\n",
        "test_data = test_data.sort_values('userid') \n",
        "val_data = val_data.sort_values('userid')"
      ],
      "metadata": {
        "id": "x0ogqRXRUH9B"
      },
      "execution_count": 13,
      "outputs": []
    },
    {
      "cell_type": "code",
      "execution_count": 14,
      "metadata": {
        "id": "Wyq-iQVDDc46"
      },
      "outputs": [],
      "source": [
        "data_description = dict(\n",
        "    users = data_index['users'].name, # user field\n",
        "    items = data_index['items'].name, # item field\n",
        "    test_users = test_data[data_index['users'].name].values,\n",
        "    holdout_items = test_data[data_index['items'].name].values,\n",
        "    val_users = val_data[data_index['users'].name].values,\n",
        "    holdout_val_items = val_data[data_index['items'].name].values,\n",
        "    n_users = train_data[data_index['users'].name].nunique(), \n",
        "    n_items = train_data[data_index['items'].name].nunique()\n",
        ")"
      ]
    },
    {
      "cell_type": "code",
      "source": [
        "data"
      ],
      "metadata": {
        "colab": {
          "base_uri": "https://localhost:8080/",
          "height": 424
        },
        "id": "fLbX0m3x9Lwd",
        "outputId": "c7f6137d-6cb4-4209-af7b-e2ef6a791bd4"
      },
      "execution_count": 15,
      "outputs": [
        {
          "output_type": "execute_result",
          "data": {
            "text/plain": [
              "         userid  movieid  rating  timestamp\n",
              "0             1     1193       5  978300760\n",
              "1             1      661       3  978302109\n",
              "2             1      914       3  978301968\n",
              "3             1     3408       4  978300275\n",
              "4             1     2355       5  978824291\n",
              "...         ...      ...     ...        ...\n",
              "1000204    6040     1091       1  956716541\n",
              "1000205    6040     1094       5  956704887\n",
              "1000206    6040      562       5  956704746\n",
              "1000207    6040     1096       4  956715648\n",
              "1000208    6040     1097       4  956715569\n",
              "\n",
              "[1000209 rows x 4 columns]"
            ],
            "text/html": [
              "\n",
              "  <div id=\"df-3fafbc74-7adc-4c59-a76b-b002a1cce550\">\n",
              "    <div class=\"colab-df-container\">\n",
              "      <div>\n",
              "<style scoped>\n",
              "    .dataframe tbody tr th:only-of-type {\n",
              "        vertical-align: middle;\n",
              "    }\n",
              "\n",
              "    .dataframe tbody tr th {\n",
              "        vertical-align: top;\n",
              "    }\n",
              "\n",
              "    .dataframe thead th {\n",
              "        text-align: right;\n",
              "    }\n",
              "</style>\n",
              "<table border=\"1\" class=\"dataframe\">\n",
              "  <thead>\n",
              "    <tr style=\"text-align: right;\">\n",
              "      <th></th>\n",
              "      <th>userid</th>\n",
              "      <th>movieid</th>\n",
              "      <th>rating</th>\n",
              "      <th>timestamp</th>\n",
              "    </tr>\n",
              "  </thead>\n",
              "  <tbody>\n",
              "    <tr>\n",
              "      <th>0</th>\n",
              "      <td>1</td>\n",
              "      <td>1193</td>\n",
              "      <td>5</td>\n",
              "      <td>978300760</td>\n",
              "    </tr>\n",
              "    <tr>\n",
              "      <th>1</th>\n",
              "      <td>1</td>\n",
              "      <td>661</td>\n",
              "      <td>3</td>\n",
              "      <td>978302109</td>\n",
              "    </tr>\n",
              "    <tr>\n",
              "      <th>2</th>\n",
              "      <td>1</td>\n",
              "      <td>914</td>\n",
              "      <td>3</td>\n",
              "      <td>978301968</td>\n",
              "    </tr>\n",
              "    <tr>\n",
              "      <th>3</th>\n",
              "      <td>1</td>\n",
              "      <td>3408</td>\n",
              "      <td>4</td>\n",
              "      <td>978300275</td>\n",
              "    </tr>\n",
              "    <tr>\n",
              "      <th>4</th>\n",
              "      <td>1</td>\n",
              "      <td>2355</td>\n",
              "      <td>5</td>\n",
              "      <td>978824291</td>\n",
              "    </tr>\n",
              "    <tr>\n",
              "      <th>...</th>\n",
              "      <td>...</td>\n",
              "      <td>...</td>\n",
              "      <td>...</td>\n",
              "      <td>...</td>\n",
              "    </tr>\n",
              "    <tr>\n",
              "      <th>1000204</th>\n",
              "      <td>6040</td>\n",
              "      <td>1091</td>\n",
              "      <td>1</td>\n",
              "      <td>956716541</td>\n",
              "    </tr>\n",
              "    <tr>\n",
              "      <th>1000205</th>\n",
              "      <td>6040</td>\n",
              "      <td>1094</td>\n",
              "      <td>5</td>\n",
              "      <td>956704887</td>\n",
              "    </tr>\n",
              "    <tr>\n",
              "      <th>1000206</th>\n",
              "      <td>6040</td>\n",
              "      <td>562</td>\n",
              "      <td>5</td>\n",
              "      <td>956704746</td>\n",
              "    </tr>\n",
              "    <tr>\n",
              "      <th>1000207</th>\n",
              "      <td>6040</td>\n",
              "      <td>1096</td>\n",
              "      <td>4</td>\n",
              "      <td>956715648</td>\n",
              "    </tr>\n",
              "    <tr>\n",
              "      <th>1000208</th>\n",
              "      <td>6040</td>\n",
              "      <td>1097</td>\n",
              "      <td>4</td>\n",
              "      <td>956715569</td>\n",
              "    </tr>\n",
              "  </tbody>\n",
              "</table>\n",
              "<p>1000209 rows × 4 columns</p>\n",
              "</div>\n",
              "      <button class=\"colab-df-convert\" onclick=\"convertToInteractive('df-3fafbc74-7adc-4c59-a76b-b002a1cce550')\"\n",
              "              title=\"Convert this dataframe to an interactive table.\"\n",
              "              style=\"display:none;\">\n",
              "        \n",
              "  <svg xmlns=\"http://www.w3.org/2000/svg\" height=\"24px\"viewBox=\"0 0 24 24\"\n",
              "       width=\"24px\">\n",
              "    <path d=\"M0 0h24v24H0V0z\" fill=\"none\"/>\n",
              "    <path d=\"M18.56 5.44l.94 2.06.94-2.06 2.06-.94-2.06-.94-.94-2.06-.94 2.06-2.06.94zm-11 1L8.5 8.5l.94-2.06 2.06-.94-2.06-.94L8.5 2.5l-.94 2.06-2.06.94zm10 10l.94 2.06.94-2.06 2.06-.94-2.06-.94-.94-2.06-.94 2.06-2.06.94z\"/><path d=\"M17.41 7.96l-1.37-1.37c-.4-.4-.92-.59-1.43-.59-.52 0-1.04.2-1.43.59L10.3 9.45l-7.72 7.72c-.78.78-.78 2.05 0 2.83L4 21.41c.39.39.9.59 1.41.59.51 0 1.02-.2 1.41-.59l7.78-7.78 2.81-2.81c.8-.78.8-2.07 0-2.86zM5.41 20L4 18.59l7.72-7.72 1.47 1.35L5.41 20z\"/>\n",
              "  </svg>\n",
              "      </button>\n",
              "      \n",
              "  <style>\n",
              "    .colab-df-container {\n",
              "      display:flex;\n",
              "      flex-wrap:wrap;\n",
              "      gap: 12px;\n",
              "    }\n",
              "\n",
              "    .colab-df-convert {\n",
              "      background-color: #E8F0FE;\n",
              "      border: none;\n",
              "      border-radius: 50%;\n",
              "      cursor: pointer;\n",
              "      display: none;\n",
              "      fill: #1967D2;\n",
              "      height: 32px;\n",
              "      padding: 0 0 0 0;\n",
              "      width: 32px;\n",
              "    }\n",
              "\n",
              "    .colab-df-convert:hover {\n",
              "      background-color: #E2EBFA;\n",
              "      box-shadow: 0px 1px 2px rgba(60, 64, 67, 0.3), 0px 1px 3px 1px rgba(60, 64, 67, 0.15);\n",
              "      fill: #174EA6;\n",
              "    }\n",
              "\n",
              "    [theme=dark] .colab-df-convert {\n",
              "      background-color: #3B4455;\n",
              "      fill: #D2E3FC;\n",
              "    }\n",
              "\n",
              "    [theme=dark] .colab-df-convert:hover {\n",
              "      background-color: #434B5C;\n",
              "      box-shadow: 0px 1px 3px 1px rgba(0, 0, 0, 0.15);\n",
              "      filter: drop-shadow(0px 1px 2px rgba(0, 0, 0, 0.3));\n",
              "      fill: #FFFFFF;\n",
              "    }\n",
              "  </style>\n",
              "\n",
              "      <script>\n",
              "        const buttonEl =\n",
              "          document.querySelector('#df-3fafbc74-7adc-4c59-a76b-b002a1cce550 button.colab-df-convert');\n",
              "        buttonEl.style.display =\n",
              "          google.colab.kernel.accessAllowed ? 'block' : 'none';\n",
              "\n",
              "        async function convertToInteractive(key) {\n",
              "          const element = document.querySelector('#df-3fafbc74-7adc-4c59-a76b-b002a1cce550');\n",
              "          const dataTable =\n",
              "            await google.colab.kernel.invokeFunction('convertToInteractive',\n",
              "                                                     [key], {});\n",
              "          if (!dataTable) return;\n",
              "\n",
              "          const docLinkHtml = 'Like what you see? Visit the ' +\n",
              "            '<a target=\"_blank\" href=https://colab.research.google.com/notebooks/data_table.ipynb>data table notebook</a>'\n",
              "            + ' to learn more about interactive tables.';\n",
              "          element.innerHTML = '';\n",
              "          dataTable['output_type'] = 'display_data';\n",
              "          await google.colab.output.renderOutput(dataTable, element);\n",
              "          const docLink = document.createElement('div');\n",
              "          docLink.innerHTML = docLinkHtml;\n",
              "          element.appendChild(docLink);\n",
              "        }\n",
              "      </script>\n",
              "    </div>\n",
              "  </div>\n",
              "  "
            ]
          },
          "metadata": {},
          "execution_count": 15
        }
      ]
    },
    {
      "cell_type": "markdown",
      "metadata": {
        "id": "c-rSjRwXJ-ho"
      },
      "source": [
        "# 2. Building/training a recommender model (20 pts)"
      ]
    },
    {
      "cell_type": "markdown",
      "metadata": {
        "id": "xiV9vYw3lLZs"
      },
      "source": [
        "## Preparing data in matrix form\n",
        "\n",
        "Complete the function to obtain sparse matrix from training data."
      ]
    },
    {
      "cell_type": "code",
      "execution_count": 16,
      "metadata": {
        "id": "W0fU9QH-lLZw"
      },
      "outputs": [],
      "source": [
        "def matrix_from_observations(data, userid, itemid, feedback=None, shape=None, dtype=None):\n",
        "    '''Return sparse matrix,/ obtained from training data'''\n",
        "    useridx = train_data[userid].values\n",
        "    itemidx = train_data[itemid].values\n",
        "    feedback = train_data[feedback].values\n",
        "    matrix = csr_matrix((feedback, (useridx, itemidx)), shape=shape, dtype = dtype)\n",
        "\n",
        "    return matrix      "
      ]
    },
    {
      "cell_type": "code",
      "execution_count": 17,
      "metadata": {
        "id": "xI6LhSx3lLZ1",
        "colab": {
          "base_uri": "https://localhost:8080/"
        },
        "outputId": "54554f46-aa02-482b-8ffd-fef1216b48d7"
      },
      "outputs": [
        {
          "output_type": "execute_result",
          "data": {
            "text/plain": [
              "<6040x3704 sparse matrix of type '<class 'numpy.int64'>'\n",
              "\twith 988129 stored elements in Compressed Sparse Row format>"
            ]
          },
          "metadata": {},
          "execution_count": 17
        }
      ],
      "source": [
        "data_matrix = matrix_from_observations(train_data, userid='userid', itemid='movieid', feedback='rating')\n",
        "data_matrix"
      ]
    },
    {
      "cell_type": "markdown",
      "metadata": {
        "id": "elBFTTH_lLZ2"
      },
      "source": [
        "## The model"
      ]
    },
    {
      "cell_type": "code",
      "execution_count": 18,
      "metadata": {
        "id": "xGV3lDg9lLZ3"
      },
      "outputs": [],
      "source": [
        "n_users = data_description['n_users']\n",
        "n_items = data_description['n_items']\n",
        "n_factors = 50\n",
        "seed = 42"
      ]
    },
    {
      "cell_type": "code",
      "execution_count": 19,
      "metadata": {
        "id": "Me_sOssulLZ5"
      },
      "outputs": [],
      "source": [
        "# initialization of user and item factors\n",
        "random_state = np.random.RandomState(seed)\n",
        "user_factors = random_state.normal(0, 0.01, size=(n_users, n_factors))\n",
        "item_factors = random_state.normal(0, 0.01, size=(n_items, n_factors))"
      ]
    },
    {
      "cell_type": "markdown",
      "metadata": {
        "id": "J7PSlpMJlLZ9"
      },
      "source": [
        "## Server side\n",
        "\n",
        "Complete the functions to update item factors.\n"
      ]
    },
    {
      "cell_type": "code",
      "execution_count": 20,
      "metadata": {
        "id": "hPIxVQ9olLZ9"
      },
      "outputs": [],
      "source": [
        "def update_global_model(matrix, X, Y, regularization, gain, alpha, n_iter):\n",
        "    for _ in range(n_iter):\n",
        "        grad = item_factor_update(matrix, X, Y, regularization, alpha, n_iter)\n",
        "        Y -= gain * grad  # update Y\n",
        "\n",
        "\n",
        "def item_factor_update(matrix, X, Y, regularization, alpha, n_iter=4):\n",
        "    '''Update item factor vectors'''\n",
        "    n_users , _ = X.shape\n",
        "    grad = 2*regularization*Y # initialize gradient as a regularization term\n",
        "    for u in range(n_users):\n",
        "        grad += 2*fetch_neg_client_grad(matrix, X, Y, u, alpha) # add calculated gradient for a user\n",
        "    return grad\n",
        "    \n",
        "\n",
        "def fetch_neg_client_grad(matrix, X, Y, u, alpha):\n",
        "    '''\n",
        "    Fetches for entire item collection at once\n",
        "    f(u, i) = c_ui * (p_ui - yi^T xu) xu\n",
        "    f(u, Y) = C_u *  (p_u  -   Y xu ) xu^T = - (Y xu + (Cu-1)*(Yxu - pu)) xu^T\n",
        "    '''\n",
        "    indptr = matrix.indptr # get indptr from sparse matrix\n",
        "    inds = matrix.indices[indptr[u]:indptr[u+1]] # get indices from sparse matrix\n",
        "    r = matrix[u] # get ratings\n",
        "    # print('r', r)\n",
        "    # print(r.shape)\n",
        "\n",
        "    xu = X[u][:,np.newaxis] # get user's vector\n",
        "\n",
        "    # print('X[u]', X[u].shape)\n",
        "    # print('xu', xu.shape)\n",
        "\n",
        "    p_u = np.swapaxes(np.zeros(r.shape),0,1)\n",
        "    # print('p_u.shape', p_u.shape)\n",
        "    # print('p_u', p_u)\n",
        "\n",
        "    p_u[inds[indptr[u]:indptr[u+1]]] = 1\n",
        "    # print('p_u.shape', p_u.shape)\n",
        "    # print('p_u', p_u)\n",
        "    \n",
        "\n",
        "    C_u = ((1+alpha*r.A).squeeze())\n",
        "    # print(r.shape)    \n",
        "    # print('C_u', C_u.shape)\n",
        "    # print('p_u - Y @ xu', (p_u - Y @ xu).shape)\n",
        "    # print('(p_u - Y @ xu).squeeze()', (p_u - Y @ xu).squeeze().shape)\n",
        "    # print('(C_u * (p_u - Y @ xu).squeeze())[:,np.newaxis].shape', (C_u * (p_u - Y @ xu).squeeze())[:,np.newaxis].shape)\n",
        "    # print('xu.T', xu.T.shape)\n",
        "\n",
        "    user_neg_grad_val = (C_u * (p_u - Y @ xu).squeeze())[:,np.newaxis] @ (xu.T) # get negative gradient values for user \n",
        "    # print(user_neg_grad_val.shape)\n",
        "    return user_neg_grad_val# negative gradient values for user"
      ]
    },
    {
      "cell_type": "markdown",
      "metadata": {
        "id": "BLyNcNyglLaB"
      },
      "source": [
        "## Client side\n",
        "\n",
        "Complete the functions to update user factors."
      ]
    },
    {
      "cell_type": "code",
      "execution_count": 21,
      "metadata": {
        "id": "zLoh5lDwlLaB"
      },
      "outputs": [],
      "source": [
        "from scipy.sparse import diags\n",
        "from scipy import sparse\n",
        "\n",
        "def update_local_models(matrix, X, Y, regularization, alpha):\n",
        "    n_users, n_factors = X.shape\n",
        "    YtY = Y.T @ Y + regularization * np.eye(n_factors)\n",
        "    for u in range(n_users): # to imitate locally updating on the client side\n",
        "        X[u] = user_factor_update(Y, YtY, matrix, u, alpha) # each client does independently\n",
        "\n",
        "\n",
        "def user_factor_update(Y, YtY, matrix, u, alpha):\n",
        "    '''\n",
        "    Return the solution of equation\n",
        "    Xu = (YtCuY + regularization * I)^-1 (YtCuPu)\n",
        "    '''\n",
        "    A, b = solve_linear_equation(Y, YtY, matrix, u, alpha)\n",
        "    # print('A', A.shape)\n",
        "    # print('b', b.shape)\n",
        "\n",
        "    return (np.linalg.inv(A) @ b).squeeze() # the solution of equation\n",
        "\n",
        "\n",
        "def solve_linear_equation(Y, YtY, matrix, u, alpha):\n",
        "    '''\n",
        "    Return A = YtCuY + regularization * I and b = YtCuPu\n",
        "    to use it later for solving the equation\n",
        "    Xu = (YtCuY + regularization * I)^-1 (YtCuPu)\n",
        "\n",
        "    Following identity might be helpful\n",
        "    YtCuY + regularization * I = YtY + regularization * I + Yt(Cu-I)Y = YtY + Yt(Cu-I)Y\n",
        "    '''\n",
        "    indptr = matrix.indptr # get indptr from sparse matrix \n",
        "    inds = matrix.indices[indptr[u]:indptr[u+1]] # get indices from sparse matrix\n",
        "    r = matrix.data[indptr[u]:indptr[u+1]] \n",
        "    # print('r', r)\n",
        "    # print('r', r.shape)\n",
        "\n",
        "    r = matrix[u] # get ratings \n",
        "    # print('r', r)\n",
        "    # print('r', r.shape)\n",
        "\n",
        "    pu = (r > 0).T * 1\n",
        "    # print('pu', pu.shape)\n",
        "    # print('pu', pu.toarray())\n",
        "\n",
        "    p_u = np.zeros(r.shape)\n",
        "    p_u[:, inds] = 1\n",
        "    # print('p_u', p_u.shape)\n",
        "    # print('p_u', p_u)\n",
        "\n",
        "    # Cu_I = alpha*r\n",
        "    # Cu = Cu_I.A+ np.ones_like(Cu_I.A)\n",
        "    # print('Cu_I', Cu_I)\n",
        "    # print('Cu_I', Cu_I.toarray().squeeze())\n",
        "    # print('Cu', Cu.shape)\n",
        "    # print('Cu', Cu)\n",
        "    # print(diags(Cu.squeeze()).shape)\n",
        "    # print(diags(Cu.squeeze()))\n",
        "    # print('diags(Cu_I.toarray().squeeze()', diags(Cu_I.toarray().squeeze()).toarray().shape)\n",
        "\n",
        "    alpha_r = (alpha * r).toarray().squeeze()\n",
        "    Cu =  sparse.eye(np.shape(diags(alpha_r))[0]) + diags(alpha_r)\n",
        "    # print('myCu', Cu.shape)\n",
        "    # print('myCu', Cu)\n",
        "\n",
        "    A = Y.T @ (diags(alpha_r))@ Y + YtY # accumulate YtCuY + regularization * I in A\n",
        "    # print('A', A.shape)\n",
        "    # print('A', A)\n",
        "    b = Y.T @ Cu @ pu.toarray() # accumulate YtCuPu in b\n",
        "    # print('b', b.shape)\n",
        "    # print('b', b)\n",
        "\n",
        "    # printx()\n",
        "    return A, b \n",
        "    "
      ]
    },
    {
      "cell_type": "markdown",
      "metadata": {
        "id": "4AvisiIdlLaE"
      },
      "source": [
        "## Model Training\n",
        "Complete the function to build model. Choose the hyper-parameters and store it in config. Train your model on chosen hyper-parameters."
      ]
    },
    {
      "cell_type": "code",
      "execution_count": 22,
      "metadata": {
        "id": "VmublXbnlLaH"
      },
      "outputs": [],
      "source": [
        "def build_model(model_config, trainset, trainset_description):\n",
        "    train_matrix = matrix_from_observations(trainset,\n",
        "                           trainset_description['users'], trainset_description['items'], feedback = 'rating')# get sparse matrix\n",
        "    # print(train_matrix.shape)\n",
        "    random_state = np.random.RandomState(seed)\n",
        "    user_factors = random_state.normal(0, 0.01, size=(trainset_description['n_users'], n_factors)) # initialize user factors\n",
        "    # print(user_factors.shape)\n",
        "    item_factors = random_state.normal(0, 0.01, size=(trainset_description['n_items'], n_factors))  # initialize user factors\n",
        "    # print(item_factors.shape)\n",
        "    n_epochs = model_config['n_epochs']\n",
        "\n",
        "    for epoch in tqdm(range(n_epochs)):\n",
        "       # in each epoch update global model and then update local models\n",
        "       update_global_model(train_matrix, user_factors, item_factors, config['regularization'], config['gain'], config['alpha'], config['n_iter'])\n",
        "       update_local_models(train_matrix, user_factors, item_factors, config['regularization'], config['alpha'])\n",
        "\n",
        "            \n",
        "    return user_factors, item_factors"
      ]
    },
    {
      "cell_type": "code",
      "execution_count": 23,
      "metadata": {
        "id": "wvWK56jAlXK0"
      },
      "outputs": [],
      "source": [
        "# create config with the following hyper parameters:\n",
        "# seed, n_factors, regularization, gain, alpha, n_epochs, n_iter.\n",
        "config = {'seed': seed , 'n_factors': 50 , 'regularization': 1, \n",
        "          'gain': 0.2, 'alpha': 1 , 'n_epochs': 10 , 'n_iter': 10}\n"
      ]
    },
    {
      "cell_type": "code",
      "execution_count": 24,
      "metadata": {
        "id": "d4prUYPFlLaI",
        "colab": {
          "base_uri": "https://localhost:8080/"
        },
        "outputId": "f7173352-5c65-4429-ca9b-e91a1337beac"
      },
      "outputs": [
        {
          "output_type": "stream",
          "name": "stderr",
          "text": [
            "100%|██████████| 10/10 [25:40<00:00, 154.08s/it]\n"
          ]
        }
      ],
      "source": [
        "params = build_model(config, train_data, data_description) "
      ]
    },
    {
      "cell_type": "markdown",
      "metadata": {
        "id": "Gczc3SRolMj2"
      },
      "source": [
        "# 3. Evaluation (5 pts)\n",
        "\n",
        "Complete the functions to predict relevance scores. Using predcted scores generate top-n recommendations. Evaluate quality of recommendations and report HR@5 and MRR@5 etrics. Remember that we don't want to recommend items from the user's history. You are recommended to use functions from the previous seminars."
      ]
    },
    {
      "cell_type": "code",
      "execution_count": 25,
      "metadata": {
        "id": "qd6eGwAZR0-0"
      },
      "outputs": [],
      "source": [
        "topn = 5"
      ]
    },
    {
      "cell_type": "code",
      "execution_count": 26,
      "metadata": {
        "id": "rrdPK2uElMj5"
      },
      "outputs": [],
      "source": [
        "# Complete model scoring function to predict relevance scores for test user-item pairs.\n",
        "def model_scoring(model_params, testset, testset_description):\n",
        "    user_factors, item_factors = model_params # get user and item factros\n",
        "    test_user_factors = testset['userid'].unique() # get user factros for test users.  # random_state.normal(0, 0.01, size=(testset_description['n_users'], n_factors)) testset['userid'].unique() \n",
        "    scores = user_factors[test_user_factors] @ item_factors.T # get scores\n",
        "    return scores"
      ]
    },
    {
      "cell_type": "code",
      "source": [
        "def topidx(a, topn):\n",
        "    parted = np.argpartition(a, -topn)[-topn:]\n",
        "    return parted[np.argsort(-a[parted])]"
      ],
      "metadata": {
        "id": "_FE8zVlCXYy4"
      },
      "execution_count": 27,
      "outputs": []
    },
    {
      "cell_type": "code",
      "execution_count": 28,
      "metadata": {
        "id": "B52qdo9dn0lk"
      },
      "outputs": [],
      "source": [
        "# Complete model recommendations function to generate top-n recommendations using predcted scores.\n",
        "def model_recom_func(model_scores, topn=5):\n",
        "    recommendations = np.apply_along_axis(topidx, 1, model_scores, topn)\n",
        "    return recommendations"
      ]
    },
    {
      "cell_type": "code",
      "execution_count": 29,
      "metadata": {
        "id": "JwMrJffjlMj4"
      },
      "outputs": [],
      "source": [
        "# Complete function to evaluate quality of recommendations\n",
        "def evaluate_func(model_recoms, holdout, holdout_description, topn=5):\n",
        "    # userid = holdout_description['users']\n",
        "    # holdout_users = holdout[userid].values\n",
        "\n",
        "    # assert model_recoms.shape[0] == len(holdout_users)\n",
        "\n",
        "    #hits_mask = model_recoms[:, :topn] == holdout_users.reshape(-1, 1)\n",
        "\n",
        "    itemid = holdout_description['items']\n",
        "    holdout_items = holdout[itemid].values\n",
        "    assert model_recoms.shape[0] == len(holdout_items)\n",
        "    hits_mask = model_recoms[:, :topn] == holdout_items.reshape(-1, 1)\n",
        "\n",
        "\n",
        "    # HR calculation\n",
        "    hr = np.mean(hits_mask.any(axis=1))\n",
        "\n",
        "    # MRR calculation\n",
        "    n_test_items = model_recoms.shape[0]\n",
        "    hit_rank = np.where(hits_mask)[1] + 1.0\n",
        "    mrr = np.sum(1 / hit_rank) / n_test_items\n",
        "\n",
        "    return hr, mrr"
      ]
    },
    {
      "cell_type": "markdown",
      "metadata": {
        "id": "_-u1a1EklMj8"
      },
      "source": [
        "## Evaluate model"
      ]
    },
    {
      "cell_type": "code",
      "execution_count": 30,
      "metadata": {
        "id": "qePo0RPJgZuF"
      },
      "outputs": [],
      "source": [
        "userid = data_description['users']\n",
        "seen_idx_mask = train_data[userid].isin(data_description['test_users'])\n",
        "testset = train_data[seen_idx_mask]"
      ]
    },
    {
      "cell_type": "code",
      "execution_count": 31,
      "metadata": {
        "id": "jVZ024YL63At",
        "colab": {
          "base_uri": "https://localhost:8080/"
        },
        "outputId": "8658feb3-068f-4faa-e9b3-9d55edd9a6ce"
      },
      "outputs": [
        {
          "output_type": "stream",
          "name": "stdout",
          "text": [
            "HR@5 = 0.0015\n",
            "MRR@5 = 0.0013\n"
          ]
        }
      ],
      "source": [
        "test_scores = model_scoring(params, testset, data_description) # get scores\n",
        "recoms = model_recom_func(test_scores) # get recommended items\n",
        "hr, mrr = evaluate_func(recoms, test_data, data_description) # get metrics\n",
        "print(f'HR@{topn} = {hr:.4f}')\n",
        "print(f'MRR@{topn} = {mrr:.4f}')"
      ]
    },
    {
      "cell_type": "markdown",
      "metadata": {
        "id": "K9uyF_hNlMj9"
      },
      "source": [
        "# Quick check"
      ]
    },
    {
      "cell_type": "markdown",
      "metadata": {
        "id": "dyVFXYPaa4Ez"
      },
      "source": [
        "Compare your model with one or two baselines and report the results. You can use code from previous seminars. "
      ]
    },
    {
      "cell_type": "code",
      "source": [
        "# HR@5 = 0.0036\n",
        "# MRR@5 = 0.0017"
      ],
      "metadata": {
        "id": "u5YC-DgsxVmb"
      },
      "execution_count": 32,
      "outputs": []
    },
    {
      "cell_type": "markdown",
      "metadata": {
        "id": "gC1tDoCRphSn"
      },
      "source": [
        "# 4. Hyper-parameter selection (5 pts)"
      ]
    },
    {
      "cell_type": "markdown",
      "metadata": {
        "id": "67Nl3qEePGRI"
      },
      "source": [
        "Complete the function to tune hyper-parameters of your model to provide the best quality. Train the model with the best hyper-parameters and report HR and MRR on test dataset."
      ]
    },
    {
      "cell_type": "code",
      "execution_count": 33,
      "metadata": {
        "id": "h3lJ-FtzZdR7"
      },
      "outputs": [],
      "source": [
        "# you are free to change hp values\n",
        "params_dict = dict(n_factors = [10, 20, 50, 100],\n",
        "                  regularization = np.linspace(1, 5, 5).astype(int),\n",
        "                  gain = np.logspace(-4, -2, 5),\n",
        "                  alpha = np.linspace(1, 5, 5).astype(int),\n",
        "                  n_epochs = [10, 15, 20, 25],\n",
        "                  n_iter = np.linspace(4, 20, 5).astype(int))"
      ]
    },
    {
      "cell_type": "code",
      "execution_count": 34,
      "metadata": {
        "id": "WK8C2t5auWHS"
      },
      "outputs": [],
      "source": [
        "param_grid, param_names = random_grid(params_dict, n=2)"
      ]
    },
    {
      "cell_type": "code",
      "source": [
        "param_names"
      ],
      "metadata": {
        "colab": {
          "base_uri": "https://localhost:8080/"
        },
        "id": "FJwoZ9xdYjRt",
        "outputId": "3d5d84b7-4983-44a4-aa89-6fb4fa7ec202"
      },
      "execution_count": 35,
      "outputs": [
        {
          "output_type": "execute_result",
          "data": {
            "text/plain": [
              "('n_factors', 'regularization', 'gain', 'alpha', 'n_epochs', 'n_iter')"
            ]
          },
          "metadata": {},
          "execution_count": 35
        }
      ]
    },
    {
      "cell_type": "code",
      "source": [
        "for grid_params in tqdm(param_grid):\n",
        "  lfm_config = dict(zip(param_names, grid_params))\n",
        "print(lfm_config)"
      ],
      "metadata": {
        "colab": {
          "base_uri": "https://localhost:8080/"
        },
        "id": "ChFVi6Onaia2",
        "outputId": "1589a876-b9e8-4db5-f936-5f21d995bc42"
      },
      "execution_count": 36,
      "outputs": [
        {
          "output_type": "stream",
          "name": "stderr",
          "text": [
            "100%|██████████| 2/2 [00:00<00:00, 16980.99it/s]"
          ]
        },
        {
          "output_type": "stream",
          "name": "stdout",
          "text": [
            "{'n_factors': 10, 'regularization': 4, 'gain': 0.00031622776601683794, 'alpha': 4, 'n_epochs': 20, 'n_iter': 12}\n"
          ]
        },
        {
          "output_type": "stream",
          "name": "stderr",
          "text": [
            "\n"
          ]
        }
      ]
    },
    {
      "cell_type": "code",
      "execution_count": 37,
      "metadata": {
        "id": "DiDxZxgBCfJ4"
      },
      "outputs": [],
      "source": [
        "def hp_selection(data, description, param_grid, param_names, testset, test_data):\n",
        "    ''' Return best HR value and best set of hyperparameters '''\n",
        "    best_hr = 0\n",
        "    for grid_params in tqdm(param_grid):\n",
        "      lfm_config = dict(zip(param_names, grid_params))\n",
        "      params = build_model(lfm_config, data, description) \n",
        "      test_scores = model_scoring(params, testset, description)\n",
        "      recoms = model_recom_func(test_scores)\n",
        "      hr, mrr = evaluate_func(recoms, test_data, description)\n",
        "      if hr > best_hr:\n",
        "        best_hr = hr\n",
        "        best_params = params\n",
        "        best_conf = lfm_config\n",
        "\n",
        "    return best_hr, best_params, best_conf"
      ]
    },
    {
      "cell_type": "code",
      "source": [
        "best_hr, best_params, lfm_config = hp_selection(train_data, data_description, param_grid, param_names, testset, test_data)"
      ],
      "metadata": {
        "colab": {
          "base_uri": "https://localhost:8080/"
        },
        "id": "zYVMj4D4Hog0",
        "outputId": "d1756d2a-8125-47e9-a04e-7951bdef0b19"
      },
      "execution_count": 38,
      "outputs": [
        {
          "output_type": "stream",
          "name": "stderr",
          "text": [
            "  0%|          | 0/2 [00:00<?, ?it/s]\n",
            "  0%|          | 0/25 [00:00<?, ?it/s]\u001b[A\n",
            "  4%|▍         | 1/25 [02:32<1:01:08, 152.86s/it]\u001b[A\n",
            "  8%|▊         | 2/25 [05:07<59:01, 153.97s/it]  \u001b[A\n",
            " 12%|█▏        | 3/25 [07:40<56:16, 153.49s/it]\u001b[A\n",
            " 16%|█▌        | 4/25 [10:12<53:34, 153.09s/it]\u001b[A\n",
            " 20%|██        | 5/25 [12:47<51:10, 153.50s/it]\u001b[A\n",
            " 24%|██▍       | 6/25 [15:20<48:37, 153.57s/it]\u001b[A\n",
            " 28%|██▊       | 7/25 [17:52<45:51, 152.88s/it]\u001b[A\n",
            " 32%|███▏      | 8/25 [20:23<43:11, 152.42s/it]\u001b[A\n",
            " 36%|███▌      | 9/25 [22:56<40:37, 152.35s/it]\u001b[A\n",
            " 40%|████      | 10/25 [25:26<37:55, 151.72s/it]\u001b[A\n",
            " 44%|████▍     | 11/25 [27:55<35:13, 150.94s/it]\u001b[A\n",
            " 48%|████▊     | 12/25 [30:26<32:43, 151.07s/it]\u001b[A\n",
            " 52%|█████▏    | 13/25 [32:58<30:13, 151.11s/it]\u001b[A\n",
            " 56%|█████▌    | 14/25 [35:28<27:40, 150.98s/it]\u001b[A\n",
            " 60%|██████    | 15/25 [38:00<25:12, 151.27s/it]\u001b[A\n",
            " 64%|██████▍   | 16/25 [40:32<22:43, 151.49s/it]\u001b[A\n",
            " 68%|██████▊   | 17/25 [43:04<20:11, 151.48s/it]\u001b[A\n",
            " 72%|███████▏  | 18/25 [45:38<17:47, 152.46s/it]\u001b[A\n",
            " 76%|███████▌  | 19/25 [48:13<15:17, 152.97s/it]\u001b[A\n",
            " 80%|████████  | 20/25 [50:43<12:40, 152.18s/it]\u001b[A\n",
            " 84%|████████▍ | 21/25 [53:16<10:09, 152.37s/it]\u001b[A\n",
            " 88%|████████▊ | 22/25 [55:48<07:37, 152.45s/it]\u001b[A\n",
            " 92%|█████████▏| 23/25 [58:21<05:05, 152.58s/it]\u001b[A\n",
            " 96%|█████████▌| 24/25 [1:00:55<02:32, 152.91s/it]\u001b[A\n",
            "100%|██████████| 25/25 [1:03:25<00:00, 152.23s/it]\n",
            " 50%|█████     | 1/2 [1:03:26<1:03:26, 3806.18s/it]\n",
            "  0%|          | 0/20 [00:00<?, ?it/s]\u001b[A\n",
            "  5%|▌         | 1/20 [02:33<48:39, 153.67s/it]\u001b[A\n",
            " 10%|█         | 2/20 [05:05<45:46, 152.61s/it]\u001b[A\n",
            " 15%|█▌        | 3/20 [07:37<43:09, 152.31s/it]\u001b[A\n",
            " 20%|██        | 4/20 [10:07<40:24, 151.52s/it]\u001b[A\n",
            " 25%|██▌       | 5/20 [12:39<37:53, 151.55s/it]\u001b[A\n",
            " 30%|███       | 6/20 [15:13<35:33, 152.36s/it]\u001b[A\n",
            " 35%|███▌      | 7/20 [17:43<32:50, 151.55s/it]\u001b[A\n",
            " 40%|████      | 8/20 [20:14<30:16, 151.41s/it]\u001b[A\n",
            " 45%|████▌     | 9/20 [22:44<27:41, 151.02s/it]\u001b[A\n",
            " 50%|█████     | 10/20 [25:18<25:19, 151.90s/it]\u001b[A\n",
            " 55%|█████▌    | 11/20 [27:51<22:49, 152.15s/it]\u001b[A\n",
            " 60%|██████    | 12/20 [30:20<20:09, 151.22s/it]\u001b[A\n",
            " 65%|██████▌   | 13/20 [32:54<17:44, 152.06s/it]\u001b[A\n",
            " 70%|███████   | 14/20 [35:25<15:10, 151.75s/it]\u001b[A\n",
            " 75%|███████▌  | 15/20 [37:57<12:39, 151.99s/it]\u001b[A\n",
            " 80%|████████  | 16/20 [40:31<10:10, 152.52s/it]\u001b[A\n",
            " 85%|████████▌ | 17/20 [43:02<07:36, 152.15s/it]\u001b[A\n",
            " 90%|█████████ | 18/20 [45:33<05:03, 151.86s/it]\u001b[A\n",
            " 95%|█████████▌| 19/20 [48:07<02:32, 152.29s/it]\u001b[A\n",
            "100%|██████████| 20/20 [50:37<00:00, 151.88s/it]\n",
            "100%|██████████| 2/2 [1:54:04<00:00, 3422.13s/it]\n"
          ]
        }
      ]
    },
    {
      "cell_type": "code",
      "execution_count": null,
      "metadata": {
        "id": "FcGdB4EQIEJz",
        "colab": {
          "base_uri": "https://localhost:8080/",
          "height": 1000
        },
        "outputId": "c7786216-7dba-4063-b9d5-1c826ed9878e"
      },
      "outputs": [
        {
          "output_type": "stream",
          "name": "stderr",
          "text": [
            "  0%|          | 0/30 [00:00<?, ?it/s]\n",
            "  0%|          | 0/15 [00:00<?, ?it/s]\u001b[A\n",
            "  7%|▋         | 1/15 [02:43<38:07, 163.39s/it]\u001b[A\n",
            " 13%|█▎        | 2/15 [05:30<35:52, 165.55s/it]\u001b[A\n",
            " 20%|██        | 3/15 [08:13<32:51, 164.25s/it]\u001b[A\n",
            " 27%|██▋       | 4/15 [10:56<30:00, 163.70s/it]\u001b[A\n",
            " 33%|███▎      | 5/15 [13:37<27:09, 162.99s/it]\u001b[A\n",
            " 40%|████      | 6/15 [16:19<24:22, 162.46s/it]\u001b[A\n",
            " 47%|████▋     | 7/15 [19:02<21:43, 162.88s/it]\u001b[A\n",
            " 53%|█████▎    | 8/15 [21:43<18:54, 162.11s/it]\u001b[A\n",
            " 60%|██████    | 9/15 [24:27<16:16, 162.67s/it]\u001b[A\n",
            " 67%|██████▋   | 10/15 [27:07<13:29, 161.94s/it]\u001b[A\n",
            " 73%|███████▎  | 11/15 [29:50<10:48, 162.22s/it]\u001b[A\n",
            " 80%|████████  | 12/15 [32:31<08:05, 161.95s/it]\u001b[A\n",
            " 87%|████████▋ | 13/15 [35:15<05:25, 162.57s/it]\u001b[A\n",
            " 93%|█████████▎| 14/15 [38:00<02:43, 163.30s/it]\u001b[A\n",
            "100%|██████████| 15/15 [40:43<00:00, 162.87s/it]\n",
            "  3%|▎         | 1/30 [40:43<19:41:03, 2443.57s/it]\n",
            "  0%|          | 0/10 [00:00<?, ?it/s]\u001b[A\n",
            " 10%|█         | 1/10 [02:44<24:39, 164.44s/it]\u001b[A\n",
            " 20%|██        | 2/10 [05:31<22:09, 166.17s/it]\u001b[A\n",
            " 30%|███       | 3/10 [08:14<19:12, 164.58s/it]\u001b[A\n",
            " 40%|████      | 4/10 [10:56<16:21, 163.58s/it]\u001b[A\n",
            " 50%|█████     | 5/10 [13:40<13:38, 163.71s/it]\u001b[A\n",
            " 60%|██████    | 6/10 [16:19<10:47, 161.95s/it]\u001b[A\n",
            " 70%|███████   | 7/10 [19:00<08:05, 161.68s/it]\u001b[A\n",
            " 80%|████████  | 8/10 [21:40<05:22, 161.33s/it]\u001b[A\n",
            " 90%|█████████ | 9/10 [24:25<02:42, 162.29s/it]\u001b[A\n",
            "100%|██████████| 10/10 [27:04<00:00, 162.47s/it]\n",
            "  7%|▋         | 2/30 [1:07:48<15:15:41, 1962.19s/it]\n",
            "  0%|          | 0/15 [00:00<?, ?it/s]\u001b[A\n",
            "  7%|▋         | 1/15 [02:42<37:58, 162.77s/it]\u001b[A\n",
            " 13%|█▎        | 2/15 [05:28<35:36, 164.34s/it]\u001b[A\n",
            " 20%|██        | 3/15 [08:11<32:45, 163.82s/it]\u001b[A\n",
            " 27%|██▋       | 4/15 [10:52<29:50, 162.75s/it]\u001b[A\n",
            " 33%|███▎      | 5/15 [13:32<26:58, 161.89s/it]\u001b[A\n",
            " 40%|████      | 6/15 [16:16<24:21, 162.35s/it]\u001b[A\n",
            " 47%|████▋     | 7/15 [19:01<21:47, 163.50s/it]\u001b[A\n",
            " 53%|█████▎    | 8/15 [21:44<19:02, 163.20s/it]\u001b[A\n",
            " 60%|██████    | 9/15 [24:29<16:21, 163.64s/it]\u001b[A\n",
            " 67%|██████▋   | 10/15 [27:11<13:36, 163.34s/it]\u001b[A\n",
            " 73%|███████▎  | 11/15 [29:56<10:55, 163.87s/it]\u001b[A\n",
            " 80%|████████  | 12/15 [32:33<08:04, 161.56s/it]\u001b[A\n",
            " 87%|████████▋ | 13/15 [35:23<05:28, 164.23s/it]\u001b[A\n",
            " 93%|█████████▎| 14/15 [38:04<02:43, 163.22s/it]\u001b[A\n",
            "100%|██████████| 15/15 [40:50<00:00, 163.38s/it]\n",
            " 10%|█         | 3/30 [1:48:39<16:23:27, 2185.47s/it]\n",
            "  0%|          | 0/10 [00:00<?, ?it/s]\u001b[A\n",
            " 10%|█         | 1/10 [02:45<24:45, 165.02s/it]\u001b[A\n",
            " 20%|██        | 2/10 [05:24<21:35, 161.90s/it]\u001b[A\n",
            " 30%|███       | 3/10 [08:10<19:07, 163.89s/it]\u001b[A\n",
            " 40%|████      | 4/10 [10:56<16:27, 164.65s/it]\u001b[A\n",
            " 50%|█████     | 5/10 [13:47<13:54, 166.87s/it]\u001b[A\n",
            " 60%|██████    | 6/10 [16:31<11:03, 165.75s/it]\u001b[A\n",
            " 70%|███████   | 7/10 [19:18<08:18, 166.31s/it]\u001b[A\n",
            " 80%|████████  | 8/10 [22:02<05:30, 165.49s/it]\u001b[A\n",
            " 90%|█████████ | 9/10 [24:47<02:45, 165.36s/it]\u001b[A\n",
            "100%|██████████| 10/10 [27:31<00:00, 165.19s/it]\n",
            " 13%|█▎        | 4/30 [2:16:12<14:15:50, 1975.00s/it]\n",
            "  0%|          | 0/20 [00:00<?, ?it/s]\u001b[A\n",
            "  5%|▌         | 1/20 [02:41<51:07, 161.44s/it]\u001b[A\n",
            " 10%|█         | 2/20 [05:25<48:53, 162.96s/it]\u001b[A\n",
            " 15%|█▌        | 3/20 [08:06<45:58, 162.29s/it]\u001b[A\n",
            " 20%|██        | 4/20 [10:47<43:07, 161.74s/it]\u001b[A\n",
            " 25%|██▌       | 5/20 [13:31<40:35, 162.34s/it]\u001b[A\n",
            " 30%|███       | 6/20 [16:13<37:52, 162.30s/it]\u001b[A\n",
            " 35%|███▌      | 7/20 [18:50<34:49, 160.72s/it]\u001b[A\n",
            " 40%|████      | 8/20 [21:35<32:21, 161.81s/it]\u001b[A\n",
            " 45%|████▌     | 9/20 [24:16<29:38, 161.65s/it]\u001b[A\n",
            " 50%|█████     | 10/20 [26:55<26:48, 160.86s/it]\u001b[A\n",
            " 55%|█████▌    | 11/20 [29:39<24:16, 161.81s/it]\u001b[A\n",
            " 60%|██████    | 12/20 [32:22<21:37, 162.17s/it]\u001b[A\n",
            " 65%|██████▌   | 13/20 [35:07<19:01, 163.09s/it]\u001b[A\n",
            " 70%|███████   | 14/20 [37:50<16:18, 163.15s/it]\u001b[A\n",
            " 75%|███████▌  | 15/20 [40:31<13:31, 162.23s/it]\u001b[A\n",
            " 80%|████████  | 16/20 [43:11<10:46, 161.68s/it]\u001b[A\n",
            " 85%|████████▌ | 17/20 [45:51<08:03, 161.28s/it]\u001b[A\n",
            " 90%|█████████ | 18/20 [48:29<05:20, 160.33s/it]\u001b[A\n",
            " 95%|█████████▌| 19/20 [51:11<02:40, 160.70s/it]\u001b[A\n",
            "100%|██████████| 20/20 [53:48<00:00, 161.44s/it]\n",
            " 17%|█▋        | 5/30 [3:10:01<16:51:21, 2427.28s/it]\n",
            "  0%|          | 0/15 [00:00<?, ?it/s]\u001b[A\n",
            "  7%|▋         | 1/15 [02:34<35:58, 154.16s/it]\u001b[A\n",
            " 13%|█▎        | 2/15 [05:07<33:17, 153.69s/it]\u001b[A\n",
            " 20%|██        | 3/15 [07:41<30:48, 154.02s/it]\u001b[A\n",
            " 27%|██▋       | 4/15 [10:15<28:13, 153.94s/it]\u001b[A\n",
            " 33%|███▎      | 5/15 [12:52<25:47, 154.77s/it]\u001b[A\n",
            " 40%|████      | 6/15 [15:35<23:39, 157.70s/it]\u001b[A\n",
            " 47%|████▋     | 7/15 [18:14<21:05, 158.20s/it]\u001b[A\n",
            " 53%|█████▎    | 8/15 [20:50<18:22, 157.47s/it]\u001b[A\n",
            " 60%|██████    | 9/15 [23:31<15:50, 158.48s/it]\u001b[A\n",
            " 67%|██████▋   | 10/15 [26:11<13:14, 158.96s/it]\u001b[A\n",
            " 73%|███████▎  | 11/15 [28:47<10:32, 158.23s/it]\u001b[A\n",
            " 80%|████████  | 12/15 [31:19<07:48, 156.16s/it]\u001b[A\n",
            " 87%|████████▋ | 13/15 [33:52<05:10, 155.36s/it]\u001b[A\n",
            " 93%|█████████▎| 14/15 [36:26<02:34, 154.89s/it]\u001b[A\n",
            "100%|██████████| 15/15 [39:03<00:00, 156.21s/it]\n",
            " 20%|██        | 6/30 [3:49:05<15:59:33, 2398.89s/it]\n",
            "  0%|          | 0/25 [00:00<?, ?it/s]\u001b[A\n",
            "  4%|▍         | 1/25 [02:32<1:01:05, 152.72s/it]\u001b[A\n",
            "  8%|▊         | 2/25 [05:05<58:33, 152.77s/it]  \u001b[A\n",
            " 12%|█▏        | 3/25 [07:39<56:17, 153.50s/it]\u001b[A\n",
            " 16%|█▌        | 4/25 [10:15<54:02, 154.40s/it]\u001b[A\n",
            " 20%|██        | 5/25 [12:49<51:21, 154.06s/it]\u001b[A\n",
            " 24%|██▍       | 6/25 [15:24<48:53, 154.39s/it]\u001b[A\n",
            " 28%|██▊       | 7/25 [17:58<46:15, 154.21s/it]\u001b[A\n",
            " 32%|███▏      | 8/25 [20:33<43:50, 154.73s/it]\u001b[A\n",
            " 36%|███▌      | 9/25 [23:12<41:33, 155.85s/it]\u001b[A\n",
            " 40%|████      | 10/25 [25:47<38:57, 155.81s/it]\u001b[A\n",
            " 44%|████▍     | 11/25 [28:22<36:15, 155.39s/it]\u001b[A\n",
            " 48%|████▊     | 12/25 [30:56<33:36, 155.12s/it]\u001b[A\n",
            " 52%|█████▏    | 13/25 [33:32<31:04, 155.34s/it]\u001b[A\n",
            " 56%|█████▌    | 14/25 [36:13<28:45, 156.91s/it]\u001b[A\n",
            " 60%|██████    | 15/25 [38:47<26:00, 156.03s/it]\u001b[A\n",
            " 64%|██████▍   | 16/25 [41:21<23:20, 155.66s/it]\u001b[A\n",
            " 68%|██████▊   | 17/25 [43:55<20:40, 155.03s/it]\u001b[A\n",
            " 72%|███████▏  | 18/25 [46:29<18:03, 154.77s/it]\u001b[A\n",
            " 76%|███████▌  | 19/25 [49:07<15:34, 155.73s/it]\u001b[A\n",
            " 80%|████████  | 20/25 [51:42<12:56, 155.36s/it]\u001b[A\n",
            " 84%|████████▍ | 21/25 [54:18<10:22, 155.51s/it]\u001b[A\n",
            " 88%|████████▊ | 22/25 [56:52<07:45, 155.32s/it]\u001b[A\n",
            " 92%|█████████▏| 23/25 [59:28<05:10, 155.34s/it]\u001b[A\n",
            " 96%|█████████▌| 24/25 [1:02:06<02:36, 156.31s/it]\u001b[A\n",
            "100%|██████████| 25/25 [1:04:41<00:00, 155.27s/it]\n",
            " 23%|██▎       | 7/30 [4:53:47<18:25:27, 2883.82s/it]\n",
            "  0%|          | 0/10 [00:00<?, ?it/s]\u001b[A\n",
            " 10%|█         | 1/10 [02:35<23:16, 155.12s/it]\u001b[A\n",
            " 20%|██        | 2/10 [05:08<20:32, 154.10s/it]\u001b[A\n",
            " 30%|███       | 3/10 [07:43<18:01, 154.56s/it]\u001b[A\n",
            " 40%|████      | 4/10 [10:18<15:27, 154.61s/it]\u001b[A\n",
            " 50%|█████     | 5/10 [12:53<12:54, 154.89s/it]\u001b[A\n",
            " 60%|██████    | 6/10 [15:33<10:26, 156.65s/it]\u001b[A\n",
            " 70%|███████   | 7/10 [18:08<07:48, 156.02s/it]\u001b[A\n",
            " 80%|████████  | 8/10 [20:42<05:10, 155.48s/it]\u001b[A\n",
            " 90%|█████████ | 9/10 [23:18<02:35, 155.42s/it]\u001b[A\n",
            "100%|██████████| 10/10 [25:51<00:00, 155.14s/it]\n",
            " 27%|██▋       | 8/30 [5:19:39<15:01:55, 2459.80s/it]\n",
            "  0%|          | 0/15 [00:00<?, ?it/s]\u001b[A\n",
            "  7%|▋         | 1/15 [02:35<36:21, 155.85s/it]\u001b[A\n",
            " 13%|█▎        | 2/15 [05:16<34:24, 158.83s/it]\u001b[A\n",
            " 20%|██        | 3/15 [07:57<31:55, 159.60s/it]\u001b[A\n",
            " 27%|██▋       | 4/15 [10:34<29:04, 158.60s/it]\u001b[A\n",
            " 33%|███▎      | 5/15 [13:09<26:12, 157.23s/it]\u001b[A\n",
            " 40%|████      | 6/15 [15:44<23:29, 156.56s/it]\u001b[A\n",
            " 47%|████▋     | 7/15 [18:18<20:45, 155.64s/it]\u001b[A\n",
            " 53%|█████▎    | 8/15 [20:52<18:06, 155.17s/it]\u001b[A\n",
            " 60%|██████    | 9/15 [23:32<15:40, 156.75s/it]\u001b[A\n",
            " 67%|██████▋   | 10/15 [26:18<13:18, 159.64s/it]\u001b[A\n",
            " 73%|███████▎  | 11/15 [29:07<10:50, 162.54s/it]\u001b[A\n",
            " 80%|████████  | 12/15 [31:49<08:07, 162.36s/it]\u001b[A\n",
            " 87%|████████▋ | 13/15 [34:28<05:22, 161.36s/it]\u001b[A\n",
            " 93%|█████████▎| 14/15 [37:03<02:39, 159.38s/it]\u001b[A\n",
            "100%|██████████| 15/15 [39:37<00:00, 158.47s/it]\n",
            " 30%|███       | 9/30 [5:59:17<14:11:56, 2434.12s/it]\n",
            "  0%|          | 0/25 [00:00<?, ?it/s]\u001b[A\n",
            "  4%|▍         | 1/25 [02:33<1:01:16, 153.21s/it]\u001b[A\n",
            "  8%|▊         | 2/25 [05:05<58:27, 152.50s/it]  \u001b[A\n",
            " 12%|█▏        | 3/25 [07:40<56:18, 153.57s/it]\u001b[A\n",
            " 16%|█▌        | 4/25 [10:13<53:41, 153.39s/it]\u001b[A\n",
            " 20%|██        | 5/25 [12:52<51:52, 155.60s/it]\u001b[A\n",
            " 24%|██▍       | 6/25 [15:29<49:25, 156.06s/it]\u001b[A\n",
            " 28%|██▊       | 7/25 [18:06<46:54, 156.38s/it]\u001b[A\n",
            " 32%|███▏      | 8/25 [20:43<44:19, 156.44s/it]\u001b[A\n",
            " 36%|███▌      | 9/25 [23:18<41:36, 156.00s/it]\u001b[A\n",
            " 40%|████      | 10/25 [25:52<38:53, 155.59s/it]\u001b[A\n",
            " 44%|████▍     | 11/25 [28:35<36:46, 157.58s/it]\u001b[A\n",
            " 48%|████▊     | 12/25 [31:10<34:00, 156.98s/it]\u001b[A\n",
            " 52%|█████▏    | 13/25 [33:47<31:22, 156.85s/it]\u001b[A\n",
            " 56%|█████▌    | 14/25 [36:22<28:41, 156.46s/it]\u001b[A\n",
            " 60%|██████    | 15/25 [38:57<26:00, 156.02s/it]\u001b[A\n",
            " 64%|██████▍   | 16/25 [41:32<23:21, 155.69s/it]\u001b[A\n",
            " 68%|██████▊   | 17/25 [44:07<20:42, 155.34s/it]\u001b[A\n",
            " 72%|███████▏  | 18/25 [46:40<18:03, 154.72s/it]\u001b[A\n",
            " 76%|███████▌  | 19/25 [49:19<15:35, 156.00s/it]\u001b[A\n",
            " 80%|████████  | 20/25 [51:54<12:58, 155.63s/it]\u001b[A\n",
            " 84%|████████▍ | 21/25 [54:28<10:20, 155.10s/it]\u001b[A\n",
            " 88%|████████▊ | 22/25 [56:58<07:41, 153.78s/it]\u001b[A\n",
            " 92%|█████████▏| 23/25 [59:31<05:06, 153.35s/it]\u001b[A\n",
            " 96%|█████████▌| 24/25 [1:02:05<02:33, 153.56s/it]\u001b[A\n",
            "100%|██████████| 25/25 [1:04:37<00:00, 155.11s/it]\n",
            " 33%|███▎      | 10/30 [7:03:55<15:59:58, 2879.94s/it]\n",
            "  0%|          | 0/15 [00:00<?, ?it/s]\u001b[A\n",
            "  7%|▋         | 1/15 [02:32<35:34, 152.43s/it]\u001b[A\n",
            " 13%|█▎        | 2/15 [05:06<33:12, 153.24s/it]\u001b[A\n",
            " 20%|██        | 3/15 [07:45<31:11, 155.96s/it]\u001b[A\n",
            " 27%|██▋       | 4/15 [10:25<28:52, 157.46s/it]\u001b[A\n",
            " 33%|███▎      | 5/15 [13:02<26:14, 157.50s/it]\u001b[A\n",
            " 40%|████      | 6/15 [15:41<23:41, 157.97s/it]\u001b[A\n",
            " 47%|████▋     | 7/15 [18:20<21:05, 158.24s/it]\u001b[A\n",
            " 53%|█████▎    | 8/15 [20:57<18:26, 158.01s/it]\u001b[A\n",
            " 60%|██████    | 9/15 [23:37<15:51, 158.54s/it]\u001b[A\n",
            " 67%|██████▋   | 10/15 [26:17<13:14, 158.85s/it]\u001b[A\n",
            " 73%|███████▎  | 11/15 [28:56<10:35, 158.93s/it]\u001b[A\n",
            " 80%|████████  | 12/15 [31:35<07:57, 159.00s/it]\u001b[A\n",
            " 87%|████████▋ | 13/15 [34:15<05:18, 159.32s/it]\u001b[A\n",
            " 93%|█████████▎| 14/15 [36:52<02:38, 158.75s/it]\u001b[A\n",
            "100%|██████████| 15/15 [39:32<00:00, 158.18s/it]\n",
            " 37%|███▋      | 11/30 [7:43:28<14:22:52, 2724.87s/it]\n",
            "  0%|          | 0/15 [00:00<?, ?it/s]\u001b[A\n",
            "  7%|▋         | 1/15 [02:35<36:16, 155.49s/it]\u001b[A\n",
            " 13%|█▎        | 2/15 [05:17<34:34, 159.55s/it]\u001b[A\n",
            " 20%|██        | 3/15 [07:53<31:34, 157.90s/it]\u001b[A\n",
            " 27%|██▋       | 4/15 [10:30<28:52, 157.52s/it]\u001b[A\n",
            " 33%|███▎      | 5/15 [13:06<26:08, 156.90s/it]\u001b[A\n",
            " 40%|████      | 6/15 [15:44<23:34, 157.22s/it]\u001b[A\n",
            " 47%|████▋     | 7/15 [18:39<21:45, 163.17s/it]\u001b[A\n",
            " 53%|█████▎    | 8/15 [21:21<18:57, 162.56s/it]\u001b[A\n",
            " 60%|██████    | 9/15 [24:01<16:11, 161.84s/it]\u001b[A\n",
            " 67%|██████▋   | 10/15 [26:44<13:31, 162.29s/it]\u001b[A\n",
            " 73%|███████▎  | 11/15 [29:30<10:53, 163.27s/it]\u001b[A\n",
            " 80%|████████  | 12/15 [32:09<08:06, 162.17s/it]\u001b[A\n",
            " 87%|████████▋ | 13/15 [34:46<05:21, 160.57s/it]\u001b[A\n",
            " 93%|█████████▎| 14/15 [37:26<02:40, 160.33s/it]\u001b[A\n",
            "100%|██████████| 15/15 [40:05<00:00, 160.37s/it]\n",
            " 40%|████      | 12/30 [8:23:34<13:08:21, 2627.88s/it]\n",
            "  0%|          | 0/20 [00:00<?, ?it/s]\u001b[A\n",
            "  5%|▌         | 1/20 [02:35<49:20, 155.80s/it]\u001b[A\n",
            " 10%|█         | 2/20 [05:14<47:16, 157.60s/it]\u001b[A\n",
            " 15%|█▌        | 3/20 [07:52<44:41, 157.73s/it]\u001b[A\n",
            " 20%|██        | 4/20 [10:28<41:51, 156.95s/it]\u001b[A\n",
            " 25%|██▌       | 5/20 [13:07<39:28, 157.87s/it]\u001b[A\n",
            " 30%|███       | 6/20 [15:49<37:07, 159.07s/it]\u001b[A\n",
            " 35%|███▌      | 7/20 [18:27<34:25, 158.89s/it]\u001b[A\n",
            " 40%|████      | 8/20 [21:06<31:44, 158.73s/it]\u001b[A\n",
            " 45%|████▌     | 9/20 [23:38<28:43, 156.68s/it]\u001b[A\n",
            " 50%|█████     | 10/20 [26:14<26:04, 156.40s/it]\u001b[A\n",
            " 55%|█████▌    | 11/20 [28:50<23:27, 156.42s/it]\u001b[A\n",
            " 60%|██████    | 12/20 [31:27<20:53, 156.72s/it]\u001b[A\n",
            " 65%|██████▌   | 13/20 [34:02<18:12, 156.05s/it]\u001b[A\n",
            " 70%|███████   | 14/20 [36:38<15:36, 156.05s/it]\u001b[A\n",
            " 75%|███████▌  | 15/20 [39:16<13:02, 156.51s/it]\u001b[A\n",
            " 80%|████████  | 16/20 [41:53<10:27, 156.76s/it]\u001b[A\n",
            " 85%|████████▌ | 17/20 [44:37<07:56, 158.83s/it]\u001b[A\n",
            " 90%|█████████ | 18/20 [47:21<05:20, 160.47s/it]\u001b[A\n",
            " 95%|█████████▌| 19/20 [50:02<02:40, 160.81s/it]\u001b[A\n",
            "100%|██████████| 20/20 [52:42<00:00, 158.12s/it]\n",
            " 43%|████▎     | 13/30 [9:16:17<13:10:29, 2789.98s/it]\n",
            "  0%|          | 0/20 [00:00<?, ?it/s]\u001b[A\n",
            "  5%|▌         | 1/20 [02:36<49:32, 156.47s/it]\u001b[A\n",
            " 10%|█         | 2/20 [05:14<47:10, 157.24s/it]\u001b[A\n",
            " 15%|█▌        | 3/20 [07:53<44:46, 158.02s/it]\u001b[A\n",
            " 20%|██        | 4/20 [10:34<42:27, 159.21s/it]\u001b[A\n",
            " 25%|██▌       | 5/20 [13:13<39:47, 159.14s/it]\u001b[A\n",
            " 30%|███       | 6/20 [15:59<37:40, 161.47s/it]\u001b[A\n",
            " 35%|███▌      | 7/20 [18:42<35:06, 162.07s/it]\u001b[A\n",
            " 40%|████      | 8/20 [21:24<32:24, 162.03s/it]\u001b[A\n",
            " 45%|████▌     | 9/20 [24:08<29:47, 162.50s/it]\u001b[A\n",
            " 50%|█████     | 10/20 [26:47<26:55, 161.57s/it]\u001b[A\n",
            " 55%|█████▌    | 11/20 [29:29<24:14, 161.63s/it]\u001b[A\n",
            " 60%|██████    | 12/20 [32:17<21:50, 163.78s/it]\u001b[A\n",
            " 65%|██████▌   | 13/20 [35:04<19:11, 164.52s/it]\u001b[A\n",
            " 70%|███████   | 14/20 [37:44<16:19, 163.33s/it]\u001b[A\n",
            " 75%|███████▌  | 15/20 [40:26<13:34, 162.87s/it]\u001b[A\n",
            " 80%|████████  | 16/20 [43:08<10:50, 162.64s/it]\u001b[A\n",
            " 85%|████████▌ | 17/20 [45:54<08:10, 163.45s/it]\u001b[A\n",
            " 90%|█████████ | 18/20 [48:33<05:24, 162.14s/it]\u001b[A\n",
            " 95%|█████████▌| 19/20 [51:11<02:41, 161.07s/it]\u001b[A\n",
            "100%|██████████| 20/20 [53:53<00:00, 161.68s/it]\n",
            " 47%|████▋     | 14/30 [10:10:11<12:59:46, 2924.14s/it]\n",
            "  0%|          | 0/10 [00:00<?, ?it/s]\u001b[A\n",
            " 10%|█         | 1/10 [02:45<24:50, 165.59s/it]\u001b[A\n",
            " 20%|██        | 2/10 [05:29<21:58, 164.87s/it]\u001b[A\n",
            " 30%|███       | 3/10 [08:14<19:13, 164.74s/it]\u001b[A\n",
            " 40%|████      | 4/10 [10:55<16:19, 163.22s/it]\u001b[A\n",
            " 50%|█████     | 5/10 [13:38<13:36, 163.27s/it]\u001b[A\n",
            " 60%|██████    | 6/10 [16:20<10:50, 162.68s/it]\u001b[A\n",
            " 70%|███████   | 7/10 [19:09<08:14, 164.73s/it]\u001b[A\n",
            " 80%|████████  | 8/10 [21:54<05:30, 165.01s/it]\u001b[A\n",
            " 90%|█████████ | 9/10 [24:40<02:45, 165.33s/it]\u001b[A\n",
            "100%|██████████| 10/10 [27:26<00:00, 164.64s/it]\n",
            " 50%|█████     | 15/30 [10:37:38<10:34:46, 2539.12s/it]\n",
            "  0%|          | 0/15 [00:00<?, ?it/s]\u001b[A\n",
            "  7%|▋         | 1/15 [02:42<37:48, 162.06s/it]\u001b[A\n",
            " 13%|█▎        | 2/15 [05:21<34:50, 160.79s/it]\u001b[A\n",
            " 20%|██        | 3/15 [08:06<32:30, 162.51s/it]\u001b[A\n",
            " 27%|██▋       | 4/15 [10:51<29:56, 163.34s/it]\u001b[A\n",
            " 33%|███▎      | 5/15 [13:38<27:28, 164.86s/it]\u001b[A\n",
            " 40%|████      | 6/15 [16:22<24:41, 164.63s/it]\u001b[A\n",
            " 47%|████▋     | 7/15 [19:02<21:44, 163.01s/it]\u001b[A\n",
            " 53%|█████▎    | 8/15 [21:45<19:00, 162.91s/it]\u001b[A\n",
            " 60%|██████    | 9/15 [24:28<16:17, 162.90s/it]\u001b[A\n",
            " 67%|██████▋   | 10/15 [28:12<14:06, 169.27s/it]\n",
            " 50%|█████     | 15/30 [11:05:51<11:05:51, 2663.43s/it]\n"
          ]
        },
        {
          "output_type": "error",
          "ename": "KeyboardInterrupt",
          "evalue": "ignored",
          "traceback": [
            "\u001b[0;31m---------------------------------------------------------------------------\u001b[0m",
            "\u001b[0;31mKeyboardInterrupt\u001b[0m                         Traceback (most recent call last)",
            "\u001b[0;32m<ipython-input-48-aee66f07d25e>\u001b[0m in \u001b[0;36m<module>\u001b[0;34m\u001b[0m\n\u001b[0;32m----> 1\u001b[0;31m \u001b[0mbest_hr\u001b[0m\u001b[0;34m,\u001b[0m \u001b[0mbest_params\u001b[0m\u001b[0;34m,\u001b[0m \u001b[0mbest_conf\u001b[0m \u001b[0;34m=\u001b[0m \u001b[0mhp_selection\u001b[0m\u001b[0;34m(\u001b[0m\u001b[0mtrain_data\u001b[0m\u001b[0;34m,\u001b[0m \u001b[0mdata_description\u001b[0m\u001b[0;34m,\u001b[0m \u001b[0mparam_grid\u001b[0m\u001b[0;34m,\u001b[0m \u001b[0mparam_names\u001b[0m\u001b[0;34m,\u001b[0m \u001b[0mtestset\u001b[0m\u001b[0;34m,\u001b[0m \u001b[0mtest_data\u001b[0m\u001b[0;34m)\u001b[0m\u001b[0;34m\u001b[0m\u001b[0;34m\u001b[0m\u001b[0m\n\u001b[0m",
            "\u001b[0;32m<ipython-input-47-6831097ec264>\u001b[0m in \u001b[0;36mhp_selection\u001b[0;34m(data, description, param_grid, param_names, testset, test_data)\u001b[0m\n\u001b[1;32m      4\u001b[0m     \u001b[0;32mfor\u001b[0m \u001b[0mgrid_params\u001b[0m \u001b[0;32min\u001b[0m \u001b[0mtqdm\u001b[0m\u001b[0;34m(\u001b[0m\u001b[0mparam_grid\u001b[0m\u001b[0;34m)\u001b[0m\u001b[0;34m:\u001b[0m\u001b[0;34m\u001b[0m\u001b[0;34m\u001b[0m\u001b[0m\n\u001b[1;32m      5\u001b[0m       \u001b[0mlfm_config\u001b[0m \u001b[0;34m=\u001b[0m \u001b[0mdict\u001b[0m\u001b[0;34m(\u001b[0m\u001b[0mzip\u001b[0m\u001b[0;34m(\u001b[0m\u001b[0mparam_names\u001b[0m\u001b[0;34m,\u001b[0m \u001b[0mgrid_params\u001b[0m\u001b[0;34m)\u001b[0m\u001b[0;34m)\u001b[0m\u001b[0;34m\u001b[0m\u001b[0;34m\u001b[0m\u001b[0m\n\u001b[0;32m----> 6\u001b[0;31m       \u001b[0mparams\u001b[0m \u001b[0;34m=\u001b[0m \u001b[0mbuild_model\u001b[0m\u001b[0;34m(\u001b[0m\u001b[0mlfm_config\u001b[0m\u001b[0;34m,\u001b[0m \u001b[0mdata\u001b[0m\u001b[0;34m,\u001b[0m \u001b[0mdescription\u001b[0m\u001b[0;34m)\u001b[0m\u001b[0;34m\u001b[0m\u001b[0;34m\u001b[0m\u001b[0m\n\u001b[0m\u001b[1;32m      7\u001b[0m       \u001b[0mtest_scores\u001b[0m \u001b[0;34m=\u001b[0m \u001b[0mmodel_scoring\u001b[0m\u001b[0;34m(\u001b[0m\u001b[0mparams\u001b[0m\u001b[0;34m,\u001b[0m \u001b[0mtestset\u001b[0m\u001b[0;34m,\u001b[0m \u001b[0mdescription\u001b[0m\u001b[0;34m)\u001b[0m\u001b[0;34m\u001b[0m\u001b[0;34m\u001b[0m\u001b[0m\n\u001b[1;32m      8\u001b[0m       \u001b[0mrecoms\u001b[0m \u001b[0;34m=\u001b[0m \u001b[0mmodel_recom_func\u001b[0m\u001b[0;34m(\u001b[0m\u001b[0mtest_scores\u001b[0m\u001b[0;34m)\u001b[0m\u001b[0;34m\u001b[0m\u001b[0;34m\u001b[0m\u001b[0m\n",
            "\u001b[0;32m<ipython-input-28-3b03727c3713>\u001b[0m in \u001b[0;36mbuild_model\u001b[0;34m(model_config, trainset, trainset_description)\u001b[0m\n\u001b[1;32m     12\u001b[0m     \u001b[0;32mfor\u001b[0m \u001b[0mepoch\u001b[0m \u001b[0;32min\u001b[0m \u001b[0mtqdm\u001b[0m\u001b[0;34m(\u001b[0m\u001b[0mrange\u001b[0m\u001b[0;34m(\u001b[0m\u001b[0mn_epochs\u001b[0m\u001b[0;34m)\u001b[0m\u001b[0;34m)\u001b[0m\u001b[0;34m:\u001b[0m\u001b[0;34m\u001b[0m\u001b[0;34m\u001b[0m\u001b[0m\n\u001b[1;32m     13\u001b[0m        \u001b[0;31m# in each epoch update global model and then update local models\u001b[0m\u001b[0;34m\u001b[0m\u001b[0;34m\u001b[0m\u001b[0m\n\u001b[0;32m---> 14\u001b[0;31m        \u001b[0mupdate_global_model\u001b[0m\u001b[0;34m(\u001b[0m\u001b[0mtrain_matrix\u001b[0m\u001b[0;34m,\u001b[0m \u001b[0muser_factors\u001b[0m\u001b[0;34m,\u001b[0m \u001b[0mitem_factors\u001b[0m\u001b[0;34m,\u001b[0m \u001b[0mconfig\u001b[0m\u001b[0;34m[\u001b[0m\u001b[0;34m'regularization'\u001b[0m\u001b[0;34m]\u001b[0m\u001b[0;34m,\u001b[0m \u001b[0mconfig\u001b[0m\u001b[0;34m[\u001b[0m\u001b[0;34m'gain'\u001b[0m\u001b[0;34m]\u001b[0m\u001b[0;34m,\u001b[0m \u001b[0mconfig\u001b[0m\u001b[0;34m[\u001b[0m\u001b[0;34m'alpha'\u001b[0m\u001b[0;34m]\u001b[0m\u001b[0;34m,\u001b[0m \u001b[0mconfig\u001b[0m\u001b[0;34m[\u001b[0m\u001b[0;34m'n_iter'\u001b[0m\u001b[0;34m]\u001b[0m\u001b[0;34m)\u001b[0m\u001b[0;34m\u001b[0m\u001b[0;34m\u001b[0m\u001b[0m\n\u001b[0m\u001b[1;32m     15\u001b[0m        \u001b[0mupdate_local_models\u001b[0m\u001b[0;34m(\u001b[0m\u001b[0mtrain_matrix\u001b[0m\u001b[0;34m,\u001b[0m \u001b[0muser_factors\u001b[0m\u001b[0;34m,\u001b[0m \u001b[0mitem_factors\u001b[0m\u001b[0;34m,\u001b[0m \u001b[0mconfig\u001b[0m\u001b[0;34m[\u001b[0m\u001b[0;34m'regularization'\u001b[0m\u001b[0;34m]\u001b[0m\u001b[0;34m,\u001b[0m \u001b[0mconfig\u001b[0m\u001b[0;34m[\u001b[0m\u001b[0;34m'alpha'\u001b[0m\u001b[0;34m]\u001b[0m\u001b[0;34m)\u001b[0m\u001b[0;34m\u001b[0m\u001b[0;34m\u001b[0m\u001b[0m\n\u001b[1;32m     16\u001b[0m \u001b[0;34m\u001b[0m\u001b[0m\n",
            "\u001b[0;32m<ipython-input-23-23f5379cd4f4>\u001b[0m in \u001b[0;36mupdate_global_model\u001b[0;34m(matrix, X, Y, regularization, gain, alpha, n_iter)\u001b[0m\n\u001b[1;32m      1\u001b[0m \u001b[0;32mdef\u001b[0m \u001b[0mupdate_global_model\u001b[0m\u001b[0;34m(\u001b[0m\u001b[0mmatrix\u001b[0m\u001b[0;34m,\u001b[0m \u001b[0mX\u001b[0m\u001b[0;34m,\u001b[0m \u001b[0mY\u001b[0m\u001b[0;34m,\u001b[0m \u001b[0mregularization\u001b[0m\u001b[0;34m,\u001b[0m \u001b[0mgain\u001b[0m\u001b[0;34m,\u001b[0m \u001b[0malpha\u001b[0m\u001b[0;34m,\u001b[0m \u001b[0mn_iter\u001b[0m\u001b[0;34m)\u001b[0m\u001b[0;34m:\u001b[0m\u001b[0;34m\u001b[0m\u001b[0;34m\u001b[0m\u001b[0m\n\u001b[1;32m      2\u001b[0m     \u001b[0;32mfor\u001b[0m \u001b[0m_\u001b[0m \u001b[0;32min\u001b[0m \u001b[0mrange\u001b[0m\u001b[0;34m(\u001b[0m\u001b[0mn_iter\u001b[0m\u001b[0;34m)\u001b[0m\u001b[0;34m:\u001b[0m\u001b[0;34m\u001b[0m\u001b[0;34m\u001b[0m\u001b[0m\n\u001b[0;32m----> 3\u001b[0;31m         \u001b[0mgrad\u001b[0m \u001b[0;34m=\u001b[0m \u001b[0mitem_factor_update\u001b[0m\u001b[0;34m(\u001b[0m\u001b[0mmatrix\u001b[0m\u001b[0;34m,\u001b[0m \u001b[0mX\u001b[0m\u001b[0;34m,\u001b[0m \u001b[0mY\u001b[0m\u001b[0;34m,\u001b[0m \u001b[0mregularization\u001b[0m\u001b[0;34m,\u001b[0m \u001b[0malpha\u001b[0m\u001b[0;34m,\u001b[0m \u001b[0mn_iter\u001b[0m\u001b[0;34m)\u001b[0m\u001b[0;34m\u001b[0m\u001b[0;34m\u001b[0m\u001b[0m\n\u001b[0m\u001b[1;32m      4\u001b[0m         \u001b[0mY\u001b[0m \u001b[0;34m-=\u001b[0m \u001b[0mgain\u001b[0m\u001b[0;34m*\u001b[0m\u001b[0mgrad\u001b[0m \u001b[0;31m# update Y\u001b[0m\u001b[0;34m\u001b[0m\u001b[0;34m\u001b[0m\u001b[0m\n\u001b[1;32m      5\u001b[0m \u001b[0;34m\u001b[0m\u001b[0m\n",
            "\u001b[0;32m<ipython-input-23-23f5379cd4f4>\u001b[0m in \u001b[0;36mitem_factor_update\u001b[0;34m(matrix, X, Y, regularization, alpha, n_iter)\u001b[0m\n\u001b[1;32m     12\u001b[0m     \u001b[0mgrad\u001b[0m \u001b[0;34m=\u001b[0m \u001b[0;36m2\u001b[0m \u001b[0;34m*\u001b[0m \u001b[0mregularization\u001b[0m \u001b[0;34m*\u001b[0m \u001b[0mY\u001b[0m \u001b[0;31m# initialize gradient as a regularization term\u001b[0m\u001b[0;34m\u001b[0m\u001b[0;34m\u001b[0m\u001b[0m\n\u001b[1;32m     13\u001b[0m     \u001b[0;32mfor\u001b[0m \u001b[0mu\u001b[0m \u001b[0;32min\u001b[0m \u001b[0mrange\u001b[0m\u001b[0;34m(\u001b[0m\u001b[0mn_users\u001b[0m\u001b[0;34m)\u001b[0m\u001b[0;34m:\u001b[0m\u001b[0;34m\u001b[0m\u001b[0;34m\u001b[0m\u001b[0m\n\u001b[0;32m---> 14\u001b[0;31m         \u001b[0mgrad\u001b[0m \u001b[0;34m-=\u001b[0m \u001b[0;36m2\u001b[0m\u001b[0;34m*\u001b[0m\u001b[0mfetch_neg_client_grad\u001b[0m\u001b[0;34m(\u001b[0m\u001b[0mmatrix\u001b[0m\u001b[0;34m,\u001b[0m \u001b[0mX\u001b[0m\u001b[0;34m,\u001b[0m \u001b[0mY\u001b[0m\u001b[0;34m,\u001b[0m \u001b[0mu\u001b[0m\u001b[0;34m,\u001b[0m \u001b[0malpha\u001b[0m\u001b[0;34m)\u001b[0m \u001b[0;31m# add calculated gradient for a user\u001b[0m\u001b[0;34m\u001b[0m\u001b[0;34m\u001b[0m\u001b[0m\n\u001b[0m\u001b[1;32m     15\u001b[0m     \u001b[0;32mreturn\u001b[0m \u001b[0mgrad\u001b[0m\u001b[0;34m\u001b[0m\u001b[0;34m\u001b[0m\u001b[0m\n\u001b[1;32m     16\u001b[0m \u001b[0;34m\u001b[0m\u001b[0m\n",
            "\u001b[0;32m<ipython-input-23-23f5379cd4f4>\u001b[0m in \u001b[0;36mfetch_neg_client_grad\u001b[0;34m(matrix, X, Y, u, alpha)\u001b[0m\n\u001b[1;32m     24\u001b[0m     \u001b[0mindptr\u001b[0m \u001b[0;34m=\u001b[0m  \u001b[0mmatrix\u001b[0m\u001b[0;34m.\u001b[0m\u001b[0mindptr\u001b[0m \u001b[0;31m# get indptr from sparse matrix\u001b[0m\u001b[0;34m\u001b[0m\u001b[0;34m\u001b[0m\u001b[0m\n\u001b[1;32m     25\u001b[0m     \u001b[0minds\u001b[0m \u001b[0;34m=\u001b[0m \u001b[0mmatrix\u001b[0m\u001b[0;34m.\u001b[0m\u001b[0mindices\u001b[0m \u001b[0;31m# get indices from sparse matrix\u001b[0m\u001b[0;34m\u001b[0m\u001b[0;34m\u001b[0m\u001b[0m\n\u001b[0;32m---> 26\u001b[0;31m     \u001b[0mr\u001b[0m \u001b[0;34m=\u001b[0m \u001b[0mmatrix\u001b[0m\u001b[0;34m[\u001b[0m\u001b[0mu\u001b[0m\u001b[0;34m]\u001b[0m \u001b[0;31m# get ratings\u001b[0m\u001b[0;34m\u001b[0m\u001b[0;34m\u001b[0m\u001b[0m\n\u001b[0m\u001b[1;32m     27\u001b[0m     \u001b[0midx\u001b[0m \u001b[0;34m=\u001b[0m \u001b[0minds\u001b[0m\u001b[0;34m[\u001b[0m\u001b[0mindptr\u001b[0m\u001b[0;34m[\u001b[0m\u001b[0mu\u001b[0m\u001b[0;34m]\u001b[0m\u001b[0;34m:\u001b[0m\u001b[0mindptr\u001b[0m\u001b[0;34m[\u001b[0m\u001b[0mu\u001b[0m\u001b[0;34m+\u001b[0m\u001b[0;36m1\u001b[0m\u001b[0;34m]\u001b[0m\u001b[0;34m]\u001b[0m\u001b[0;34m\u001b[0m\u001b[0;34m\u001b[0m\u001b[0m\n\u001b[1;32m     28\u001b[0m \u001b[0;34m\u001b[0m\u001b[0m\n",
            "\u001b[0;32m/usr/local/lib/python3.9/dist-packages/scipy/sparse/_index.py\u001b[0m in \u001b[0;36m__getitem__\u001b[0;34m(self, key)\u001b[0m\n\u001b[1;32m     53\u001b[0m             \u001b[0;32melif\u001b[0m \u001b[0misinstance\u001b[0m\u001b[0;34m(\u001b[0m\u001b[0mcol\u001b[0m\u001b[0;34m,\u001b[0m \u001b[0mslice\u001b[0m\u001b[0;34m)\u001b[0m\u001b[0;34m:\u001b[0m\u001b[0;34m\u001b[0m\u001b[0;34m\u001b[0m\u001b[0m\n\u001b[1;32m     54\u001b[0m                 \u001b[0mself\u001b[0m\u001b[0;34m.\u001b[0m\u001b[0m_raise_on_1d_array_slice\u001b[0m\u001b[0;34m(\u001b[0m\u001b[0;34m)\u001b[0m\u001b[0;34m\u001b[0m\u001b[0;34m\u001b[0m\u001b[0m\n\u001b[0;32m---> 55\u001b[0;31m                 \u001b[0;32mreturn\u001b[0m \u001b[0mself\u001b[0m\u001b[0;34m.\u001b[0m\u001b[0m_get_intXslice\u001b[0m\u001b[0;34m(\u001b[0m\u001b[0mrow\u001b[0m\u001b[0;34m,\u001b[0m \u001b[0mcol\u001b[0m\u001b[0;34m)\u001b[0m\u001b[0;34m\u001b[0m\u001b[0;34m\u001b[0m\u001b[0m\n\u001b[0m\u001b[1;32m     56\u001b[0m             \u001b[0;32melif\u001b[0m \u001b[0mcol\u001b[0m\u001b[0;34m.\u001b[0m\u001b[0mndim\u001b[0m \u001b[0;34m==\u001b[0m \u001b[0;36m1\u001b[0m\u001b[0;34m:\u001b[0m\u001b[0;34m\u001b[0m\u001b[0;34m\u001b[0m\u001b[0m\n\u001b[1;32m     57\u001b[0m                 \u001b[0mself\u001b[0m\u001b[0;34m.\u001b[0m\u001b[0m_raise_on_1d_array_slice\u001b[0m\u001b[0;34m(\u001b[0m\u001b[0;34m)\u001b[0m\u001b[0;34m\u001b[0m\u001b[0;34m\u001b[0m\u001b[0m\n",
            "\u001b[0;32m/usr/local/lib/python3.9/dist-packages/scipy/sparse/_csr.py\u001b[0m in \u001b[0;36m_get_intXslice\u001b[0;34m(self, row, col)\u001b[0m\n\u001b[1;32m    282\u001b[0m     \u001b[0;32mdef\u001b[0m \u001b[0m_get_intXslice\u001b[0m\u001b[0;34m(\u001b[0m\u001b[0mself\u001b[0m\u001b[0;34m,\u001b[0m \u001b[0mrow\u001b[0m\u001b[0;34m,\u001b[0m \u001b[0mcol\u001b[0m\u001b[0;34m)\u001b[0m\u001b[0;34m:\u001b[0m\u001b[0;34m\u001b[0m\u001b[0;34m\u001b[0m\u001b[0m\n\u001b[1;32m    283\u001b[0m         \u001b[0;32mif\u001b[0m \u001b[0mcol\u001b[0m\u001b[0;34m.\u001b[0m\u001b[0mstep\u001b[0m \u001b[0;32min\u001b[0m \u001b[0;34m(\u001b[0m\u001b[0;36m1\u001b[0m\u001b[0;34m,\u001b[0m \u001b[0;32mNone\u001b[0m\u001b[0;34m)\u001b[0m\u001b[0;34m:\u001b[0m\u001b[0;34m\u001b[0m\u001b[0;34m\u001b[0m\u001b[0m\n\u001b[0;32m--> 284\u001b[0;31m             \u001b[0;32mreturn\u001b[0m \u001b[0mself\u001b[0m\u001b[0;34m.\u001b[0m\u001b[0m_get_submatrix\u001b[0m\u001b[0;34m(\u001b[0m\u001b[0mrow\u001b[0m\u001b[0;34m,\u001b[0m \u001b[0mcol\u001b[0m\u001b[0;34m,\u001b[0m \u001b[0mcopy\u001b[0m\u001b[0;34m=\u001b[0m\u001b[0;32mTrue\u001b[0m\u001b[0;34m)\u001b[0m\u001b[0;34m\u001b[0m\u001b[0;34m\u001b[0m\u001b[0m\n\u001b[0m\u001b[1;32m    285\u001b[0m         \u001b[0;31m# TODO: uncomment this once it's faster:\u001b[0m\u001b[0;34m\u001b[0m\u001b[0;34m\u001b[0m\u001b[0m\n\u001b[1;32m    286\u001b[0m         \u001b[0;31m# return self.getrow(row)._minor_slice(col)\u001b[0m\u001b[0;34m\u001b[0m\u001b[0;34m\u001b[0m\u001b[0m\n",
            "\u001b[0;32m/usr/local/lib/python3.9/dist-packages/scipy/sparse/_compressed.py\u001b[0m in \u001b[0;36m_get_submatrix\u001b[0;34m(self, major, minor, copy)\u001b[0m\n\u001b[1;32m    812\u001b[0m \u001b[0;34m\u001b[0m\u001b[0m\n\u001b[1;32m    813\u001b[0m         \u001b[0mshape\u001b[0m \u001b[0;34m=\u001b[0m \u001b[0mself\u001b[0m\u001b[0;34m.\u001b[0m\u001b[0m_swap\u001b[0m\u001b[0;34m(\u001b[0m\u001b[0;34m(\u001b[0m\u001b[0mi1\u001b[0m \u001b[0;34m-\u001b[0m \u001b[0mi0\u001b[0m\u001b[0;34m,\u001b[0m \u001b[0mj1\u001b[0m \u001b[0;34m-\u001b[0m \u001b[0mj0\u001b[0m\u001b[0;34m)\u001b[0m\u001b[0;34m)\u001b[0m\u001b[0;34m\u001b[0m\u001b[0;34m\u001b[0m\u001b[0m\n\u001b[0;32m--> 814\u001b[0;31m         return self.__class__((data, indices, indptr), shape=shape,\n\u001b[0m\u001b[1;32m    815\u001b[0m                               dtype=self.dtype, copy=False)\n\u001b[1;32m    816\u001b[0m \u001b[0;34m\u001b[0m\u001b[0m\n",
            "\u001b[0;32m/usr/local/lib/python3.9/dist-packages/scipy/sparse/_compressed.py\u001b[0m in \u001b[0;36m__init__\u001b[0;34m(self, arg1, shape, dtype, copy)\u001b[0m\n\u001b[1;32m     63\u001b[0m                     \u001b[0;32mif\u001b[0m \u001b[0mshape\u001b[0m \u001b[0;32mis\u001b[0m \u001b[0;32mnot\u001b[0m \u001b[0;32mNone\u001b[0m\u001b[0;34m:\u001b[0m\u001b[0;34m\u001b[0m\u001b[0;34m\u001b[0m\u001b[0m\n\u001b[1;32m     64\u001b[0m                         \u001b[0mmaxval\u001b[0m \u001b[0;34m=\u001b[0m \u001b[0mmax\u001b[0m\u001b[0;34m(\u001b[0m\u001b[0mshape\u001b[0m\u001b[0;34m)\u001b[0m\u001b[0;34m\u001b[0m\u001b[0;34m\u001b[0m\u001b[0m\n\u001b[0;32m---> 65\u001b[0;31m                     idx_dtype = get_index_dtype((indices, indptr),\n\u001b[0m\u001b[1;32m     66\u001b[0m                                                 \u001b[0mmaxval\u001b[0m\u001b[0;34m=\u001b[0m\u001b[0mmaxval\u001b[0m\u001b[0;34m,\u001b[0m\u001b[0;34m\u001b[0m\u001b[0;34m\u001b[0m\u001b[0m\n\u001b[1;32m     67\u001b[0m                                                 check_contents=True)\n",
            "\u001b[0;32m/usr/local/lib/python3.9/dist-packages/scipy/sparse/_sputils.py\u001b[0m in \u001b[0;36mget_index_dtype\u001b[0;34m(arrays, maxval, check_contents)\u001b[0m\n\u001b[1;32m    182\u001b[0m     \u001b[0;32mfor\u001b[0m \u001b[0marr\u001b[0m \u001b[0;32min\u001b[0m \u001b[0marrays\u001b[0m\u001b[0;34m:\u001b[0m\u001b[0;34m\u001b[0m\u001b[0;34m\u001b[0m\u001b[0m\n\u001b[1;32m    183\u001b[0m         \u001b[0marr\u001b[0m \u001b[0;34m=\u001b[0m \u001b[0mnp\u001b[0m\u001b[0;34m.\u001b[0m\u001b[0masarray\u001b[0m\u001b[0;34m(\u001b[0m\u001b[0marr\u001b[0m\u001b[0;34m)\u001b[0m\u001b[0;34m\u001b[0m\u001b[0;34m\u001b[0m\u001b[0m\n\u001b[0;32m--> 184\u001b[0;31m         \u001b[0;32mif\u001b[0m \u001b[0;32mnot\u001b[0m \u001b[0mnp\u001b[0m\u001b[0;34m.\u001b[0m\u001b[0mcan_cast\u001b[0m\u001b[0;34m(\u001b[0m\u001b[0marr\u001b[0m\u001b[0;34m.\u001b[0m\u001b[0mdtype\u001b[0m\u001b[0;34m,\u001b[0m \u001b[0mnp\u001b[0m\u001b[0;34m.\u001b[0m\u001b[0mint32\u001b[0m\u001b[0;34m)\u001b[0m\u001b[0;34m:\u001b[0m\u001b[0;34m\u001b[0m\u001b[0;34m\u001b[0m\u001b[0m\n\u001b[0m\u001b[1;32m    185\u001b[0m             \u001b[0;32mif\u001b[0m \u001b[0mcheck_contents\u001b[0m\u001b[0;34m:\u001b[0m\u001b[0;34m\u001b[0m\u001b[0;34m\u001b[0m\u001b[0m\n\u001b[1;32m    186\u001b[0m                 \u001b[0;32mif\u001b[0m \u001b[0marr\u001b[0m\u001b[0;34m.\u001b[0m\u001b[0msize\u001b[0m \u001b[0;34m==\u001b[0m \u001b[0;36m0\u001b[0m\u001b[0;34m:\u001b[0m\u001b[0;34m\u001b[0m\u001b[0;34m\u001b[0m\u001b[0m\n",
            "\u001b[0;32m/usr/local/lib/python3.9/dist-packages/numpy/core/overrides.py\u001b[0m in \u001b[0;36mcan_cast\u001b[0;34m(*args, **kwargs)\u001b[0m\n",
            "\u001b[0;31mKeyboardInterrupt\u001b[0m: "
          ]
        }
      ],
      "source": [
        "#best_hr, best_params, lfm_config = hp_selection(train_data, data_description, param_grid, param_names, testset, test_data)"
      ]
    },
    {
      "cell_type": "code",
      "source": [
        "best_params"
      ],
      "metadata": {
        "colab": {
          "base_uri": "https://localhost:8080/"
        },
        "id": "jNWOtHXPmd8W",
        "outputId": "b1f867df-f4d5-403e-e2fd-ba33f08e5cc2"
      },
      "execution_count": 39,
      "outputs": [
        {
          "output_type": "execute_result",
          "data": {
            "text/plain": [
              "(array([[-1.20087870e-03,  1.48023368e-05, -3.78558381e-04, ...,\n",
              "         -1.26921977e-03, -8.12985587e-04, -1.18337476e-03],\n",
              "        [ 3.34010159e-04, -9.71990180e-04, -8.11267515e-07, ...,\n",
              "         -3.12541767e-04,  1.64420257e-03, -3.51907267e-03],\n",
              "        [ 1.49748335e-03,  8.78167362e-05,  7.63513997e-04, ...,\n",
              "          1.52577562e-03,  1.78686061e-04, -2.81302209e-03],\n",
              "        ...,\n",
              "        [-8.40038425e-05, -4.93033748e-04,  3.38838523e-04, ...,\n",
              "          6.70303406e-05, -4.69679693e-04, -1.88766888e-03],\n",
              "        [-6.43648068e-04, -2.50218558e-03, -1.88682175e-03, ...,\n",
              "         -1.31437139e-03, -1.16727960e-03, -1.10971811e-03],\n",
              "        [-7.95848695e-04, -4.02762175e-04,  6.33086865e-04, ...,\n",
              "         -1.01782639e-03,  2.19294195e-03, -4.16976448e-03]]),\n",
              " array([[ 3.17710273e+04, -3.09446719e+04, -1.68438340e+04, ...,\n",
              "         -6.40801134e+04,  1.24659632e+04,  3.34436942e+02],\n",
              "        [-8.94558774e-01,  8.92656668e-01,  5.49736167e-01, ...,\n",
              "          1.54858192e+00, -3.39566285e-01,  4.46922809e-02],\n",
              "        [-3.29270283e-02,  3.52395262e-02,  2.34490243e-02, ...,\n",
              "          6.78901885e-02, -1.61013745e-02,  1.76050000e-03],\n",
              "        ...,\n",
              "        [-3.00167086e-04,  3.23899104e-04,  2.16800752e-04, ...,\n",
              "          6.04175983e-04, -1.62921865e-04,  2.10785939e-05],\n",
              "        [-5.39909070e-04,  5.85507474e-04,  3.91799219e-04, ...,\n",
              "          1.09242281e-03, -2.94793813e-04,  3.61677808e-05],\n",
              "        [-2.56474379e-02,  2.89195599e-02,  2.12565289e-02, ...,\n",
              "          5.87076968e-02, -1.39677762e-02,  2.12087343e-04]]))"
            ]
          },
          "metadata": {},
          "execution_count": 39
        }
      ]
    },
    {
      "cell_type": "code",
      "source": [
        "best_hr"
      ],
      "metadata": {
        "colab": {
          "base_uri": "https://localhost:8080/"
        },
        "id": "bptBceF_mgeD",
        "outputId": "762f97c4-0e5f-4233-e99e-6a2edd13f2dc"
      },
      "execution_count": 40,
      "outputs": [
        {
          "output_type": "execute_result",
          "data": {
            "text/plain": [
              "0.0014905597880092746"
            ]
          },
          "metadata": {},
          "execution_count": 40
        }
      ]
    },
    {
      "cell_type": "code",
      "source": [
        "lfm_config"
      ],
      "metadata": {
        "colab": {
          "base_uri": "https://localhost:8080/"
        },
        "id": "S6dGPrwlqJzS",
        "outputId": "92c03ef5-ff55-405d-cb36-49b98a02ded1"
      },
      "execution_count": 41,
      "outputs": [
        {
          "output_type": "execute_result",
          "data": {
            "text/plain": [
              "{'n_factors': 10,\n",
              " 'regularization': 4,\n",
              " 'gain': 0.00031622776601683794,\n",
              " 'alpha': 4,\n",
              " 'n_epochs': 20,\n",
              " 'n_iter': 12}"
            ]
          },
          "metadata": {},
          "execution_count": 41
        }
      ]
    },
    {
      "cell_type": "code",
      "execution_count": 42,
      "metadata": {
        "id": "awIFVI1xcV--",
        "colab": {
          "base_uri": "https://localhost:8080/"
        },
        "outputId": "0e076813-cb7d-431b-f72d-cbcfd6c2e5ed"
      },
      "outputs": [
        {
          "output_type": "stream",
          "name": "stdout",
          "text": [
            "HR@5 = 0.0015\n",
            "MRR@5 = 0.0013\n"
          ]
        }
      ],
      "source": [
        "# Train the model with the best hyper-parameters and report HR and MRR on test dataset.\n",
        "test_scores = model_scoring(best_params, testset, data_description)\n",
        "recoms = model_recom_func(test_scores) # get recommended items\n",
        "hr, mrr = evaluate_func(recoms, test_data, data_description)\n",
        "print(f'HR@{topn} = {hr:.4f}')\n",
        "print(f'MRR@{topn} = {mrr:.4f}')"
      ]
    },
    {
      "cell_type": "markdown",
      "metadata": {
        "id": "wknmnyX8dddN"
      },
      "source": [
        "# 5. Analysis (5 pts) \n",
        "\n",
        "Examine how the loss function, $||X||$ and $||Y||$ change during the training. Complete the function to obtain the history of losses values, $||X||$ and $||Y||$ for every epoch. Use best hyper-parameters for model config. Plot the graphs and discuss the results."
      ]
    },
    {
      "cell_type": "code",
      "source": [
        "def get_loss(X, Y, regularization, matrix, alpha):\n",
        "    for u in range(len(X)):\n",
        "        xu = X[u]\n",
        "        matr_u = matrix[u]\n",
        "        pu = (matr_u > 0).T * 1\n",
        "        Cu = diags(1 + alpha * matr_u.A.ravel())\n",
        "        part_sum = np.sum(np.sum(Cu @ np.power(pu - Y @ xu.reshape(-1, 1), 2)))\n",
        "    \n",
        "    J = np.sum(part_sum) + regularization * (np.sum(np.linalg.norm(X, axis=1)**2) + np.sum(np.linalg.norm(Y, axis=1)**2))\n",
        "    return J\n",
        "\n",
        "def model_analysis(model_config, trainset, trainset_description):\n",
        "\n",
        "    \n",
        "    train_matrix = matrix_from_observations(trainset, userid='userid', itemid='movieid', feedback='rating') # get sparse matrix\n",
        "    # matrix_from_observations_(trainset,\n",
        "    #                                         trainset_description,\n",
        "    #                                         rebase_users=False) # get sparse matrix\n",
        "\n",
        "    n_users = trainset_description['n_users']\n",
        "    n_items = trainset_description['n_items']\n",
        "\n",
        "    random_state = np.random.RandomState(seed)\n",
        "    user_factors = random_state.normal(0, 0.01, size=(n_users, n_factors))\n",
        "    item_factors = random_state.normal(0, 0.01, size=(n_items, n_factors))\n",
        "    \n",
        "    X_norms = []\n",
        "    Y_norms = []\n",
        "    losses = []\n",
        "\n",
        "    for epoch in tqdm(range(model_config[\"n_epochs\"])):\n",
        "        # in each epoch update global model and then update local models\n",
        "        update_global_model(train_matrix, user_factors, item_factors,\n",
        "                                model_config[\"regularization\"],\n",
        "                                model_config[\"gain\"],\n",
        "                                model_config[\"alpha\"],\n",
        "                                model_config[\"n_iter\"])\n",
        "\n",
        "        update_local_models(train_matrix, user_factors, item_factors,\n",
        "                                model_config[\"regularization\"],\n",
        "                                model_config[\"alpha\"])\n",
        "        \n",
        "        loss = get_loss(user_factors, item_factors, model_config[\"regularization\"], train_matrix, model_config[\"alpha\"])\n",
        "        \n",
        "\n",
        "        X_norms.append(np.linalg.norm(user_factors))\n",
        "        Y_norms.append(np.linalg.norm(item_factors))\n",
        "        \n",
        "        losses.append(loss)\n",
        "    \n",
        "    return X_norms, Y_norms, losses"
      ],
      "metadata": {
        "id": "PixuRCx_IX0w"
      },
      "execution_count": 43,
      "outputs": []
    },
    {
      "cell_type": "code",
      "source": [
        "X_norms, Y_norms, losses = model_analysis(lfm_config, train_data, data_description)"
      ],
      "metadata": {
        "id": "pwVRCq9Lc8cn",
        "colab": {
          "base_uri": "https://localhost:8080/"
        },
        "outputId": "f4122ea0-e84e-4dbc-f677-2e3805171e91"
      },
      "execution_count": 44,
      "outputs": [
        {
          "output_type": "stream",
          "name": "stderr",
          "text": [
            "100%|██████████| 20/20 [1:01:09<00:00, 183.47s/it]\n"
          ]
        }
      ]
    },
    {
      "cell_type": "code",
      "source": [
        "# Plot the graphs and discuss the results.\n",
        "plt.plot(range(lfm_config['n_epochs']), losses)"
      ],
      "metadata": {
        "id": "cxV6mSMyDFZG",
        "colab": {
          "base_uri": "https://localhost:8080/",
          "height": 294
        },
        "outputId": "35dc2c6a-e0b3-44a4-d3f2-1375bd605715"
      },
      "execution_count": 45,
      "outputs": [
        {
          "output_type": "execute_result",
          "data": {
            "text/plain": [
              "[<matplotlib.lines.Line2D at 0x7fba96c7c2e0>]"
            ]
          },
          "metadata": {},
          "execution_count": 45
        },
        {
          "output_type": "display_data",
          "data": {
            "text/plain": [
              "<Figure size 432x288 with 1 Axes>"
            ],
            "image/png": "[encoded data removed]"
          },
          "metadata": {
            "needs_background": "light"
          }
        }
      ]
    },
    {
      "cell_type": "code",
      "source": [
        "plt.plot(range(lfm_config['n_epochs']), X_norms)"
      ],
      "metadata": {
        "id": "-lsHe7xy4eM4",
        "colab": {
          "base_uri": "https://localhost:8080/",
          "height": 283
        },
        "outputId": "323302de-1ae7-4e1f-bf7f-dbe8ad734c3e"
      },
      "execution_count": 46,
      "outputs": [
        {
          "output_type": "execute_result",
          "data": {
            "text/plain": [
              "[<matplotlib.lines.Line2D at 0x7fba96b724f0>]"
            ]
          },
          "metadata": {},
          "execution_count": 46
        },
        {
          "output_type": "display_data",
          "data": {
            "text/plain": [
              "<Figure size 432x288 with 1 Axes>"
            ],
            "image/png": "[encoded data removed]"
          },
          "metadata": {
            "needs_background": "light"
          }
        }
      ]
    },
    {
      "cell_type": "code",
      "source": [
        "plt.plot(range(lfm_config['n_epochs']), Y_norms)"
      ],
      "metadata": {
        "id": "1IQzLrSC4he3",
        "colab": {
          "base_uri": "https://localhost:8080/",
          "height": 294
        },
        "outputId": "ca4644d1-1071-498e-bc50-382f4d4a0c23"
      },
      "execution_count": 47,
      "outputs": [
        {
          "output_type": "execute_result",
          "data": {
            "text/plain": [
              "[<matplotlib.lines.Line2D at 0x7fba96ae3250>]"
            ]
          },
          "metadata": {},
          "execution_count": 47
        },
        {
          "output_type": "display_data",
          "data": {
            "text/plain": [
              "<Figure size 432x288 with 1 Axes>"
            ],
            "image/png": "[encoded data removed]"
          },
          "metadata": {
            "needs_background": "light"
          }
        }
      ]
    },
    {
      "cell_type": "markdown",
      "source": [
        "What is the time complexity of the federated collaborative filterng with gradient descent? "
      ],
      "metadata": {
        "id": "18cbYM8m3FR9"
      }
    },
    {
      "cell_type": "code",
      "source": [],
      "metadata": {
        "id": "PkfLyJ0edHNA"
      },
      "execution_count": null,
      "outputs": []
    }
  ],
  "metadata": {
    "colab": {
      "provenance": [],
      "machine_shape": "hm"
    },
    "interpreter": {
      "hash": "1ba68f285e1c31cfa79ad3009fb16746741280f775149535e5b791f214db1c3e"
    },
    "kernelspec": {
      "display_name": "Python 3.9.7 64-bit ('flrec': conda)",
      "name": "python3"
    },
    "language_info": {
      "name": "python",
      "version": "3.9.7"
    },
    "gpuClass": "standard"
  },
  "nbformat": 4,
  "nbformat_minor": 0
}