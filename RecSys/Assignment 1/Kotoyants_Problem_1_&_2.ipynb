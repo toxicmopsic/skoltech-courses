{
  "nbformat": 4,
  "nbformat_minor": 0,
  "metadata": {
    "colab": {
      "provenance": []
    },
    "kernelspec": {
      "name": "python3",
      "display_name": "Python 3"
    },
    "language_info": {
      "name": "python"
    }
  },
  "cells": [
    {
      "cell_type": "markdown",
      "source": [
        "## Problem 1\n",
        "\n",
        "It is often stated, that pure content-based recommendation models provide very low level of personalization to users.\n",
        "\n",
        "Prove this claim using a standard regression-based formulation for the case when a single global model is learned in the form:\n",
        "$$\n",
        "r \\approx \\theta^{T} x+\\epsilon\n",
        "$$\n",
        "where vector $x$ encodes some features of both users and items (e.g., user attributes and item characteristics), and $\\theta$ are the corresponding learnable weights of the regression model. Recall that personalization task is formulated as the ranking problem of the top-$n$ best-matching items:\n",
        "$$\n",
        "\\operatorname{toprec}(u, n)=\\arg \\max _{i}^{n} r_{u i}\n",
        "$$\n",
        "where $r_{u i}$ is the relevance score assigned by the model to item $i$ for user $u$."
      ],
      "metadata": {
        "id": "VgZlldxQZ3Vd"
      }
    },
    {
      "cell_type": "markdown",
      "source": [
        "$$\\arg \\max _{i}^{n} r_{u i} = \\arg \\max _{i}^{n} (\\theta^{T} x + \\epsilon)$$\n",
        "\n",
        "Let's clarify what we have:\n",
        "\n",
        "$\\theta^T$ - some learnable weights for both user and item features represented like:\n",
        "\n",
        "\n",
        "$$\\theta^T = (\\theta^T_{U}, \\theta^T_{I})\\text{, where $U$ stands for user and $I$ for item correspondigly.}$$\n",
        "\n",
        "$r_{ui}$ - predicted rating of item $i$ for user $u$:\n",
        "\n",
        "Thus, $r_{ui} \\approx \\theta^{T} x_{ui} + \\epsilon = \n",
        "(\\theta^T_{U}, \\theta^T_{I}) \\cdot \n",
        "\\left(\\begin{matrix}\n",
        "    x_u \\\\\n",
        "    y_i \\\\    \n",
        "\\end{matrix}\\right) = b_u + \\theta^T_{U}x_u + b_i + \\theta^T_{I}y_i\n",
        "$\n",
        "\n",
        "According to our model our predictions for items $i$ and $j$ will be ranked as follows:\n",
        "\n",
        "$\\Rightarrow \\Delta r = r_{ui} - r_{uj} = \\underbrace{b_u - b_u}_0 + \\underbrace{\\theta^T_{U}x_u - \\theta^T_{U}x_u}_{\\text 0} + \\underbrace{b_i - b_j}_0 + \\theta^T_{I}y_i - \\theta^T_{I}y_j =$\n",
        "\n",
        "$= \\theta^T_{I}(y_i - y_j)$\n",
        "\n",
        "Well, now we can see, that our ranking approach doesn't really rely on user preferences.\n"
      ],
      "metadata": {
        "id": "TywibRQsZ_vb"
      }
    },
    {
      "cell_type": "markdown",
      "source": [
        "## Problem 2\n",
        "\n",
        "You’re given the matrix of interactions between 3 users and 6 items:\n",
        "\n",
        "$\n",
        "  M=\n",
        "  \\left[ {\\begin{array}{cc}\n",
        "   1 & 0 & 0 & 1 & 0 & 0\\\\\n",
        "   0 & 0 & 1 & 0 & 0 & 1\\\\\n",
        "   0 & 1 & 0 & 0 & 1 & 0\\\\\n",
        "  \\end{array} } \\right]\n",
        " $\n",
        "\n",
        "Is it possible to build a personalized recommendation model with this data?\n",
        "Explain your answer."
      ],
      "metadata": {
        "id": "S0CdGauhZ_1f"
      }
    },
    {
      "cell_type": "markdown",
      "source": [
        "I suppose it's not possible, because there are no overlaps between users and items. "
      ],
      "metadata": {
        "id": "Zi-ICj0jb_yh"
      }
    }
  ]
}